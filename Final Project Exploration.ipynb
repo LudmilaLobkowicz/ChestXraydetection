{
 "cells": [
  {
   "cell_type": "markdown",
   "id": "planned-exhibit",
   "metadata": {},
   "source": [
    "# XRAY Project\n"
   ]
  },
  {
   "cell_type": "markdown",
   "id": "curious-faculty",
   "metadata": {},
   "source": [
    "## Exploration"
   ]
  },
  {
   "cell_type": "markdown",
   "id": "sustainable-statement",
   "metadata": {
    "ExecuteTime": {
     "end_time": "2021-03-02T16:06:40.354223Z",
     "start_time": "2021-03-02T16:06:40.337073Z"
    }
   },
   "source": [
    "### viral_pneumonia"
   ]
  },
  {
   "cell_type": "code",
   "execution_count": 3,
   "id": "frozen-royal",
   "metadata": {
    "ExecuteTime": {
     "end_time": "2021-03-03T09:32:53.228296Z",
     "start_time": "2021-03-03T09:32:42.950047Z"
    }
   },
   "outputs": [],
   "source": [
    "import os\n",
    "import numpy as np\n",
    "import pandas as pd\n",
    "from matplotlib.pyplot import imread\n",
    "import matplotlib.pyplot as plt\n",
    "from PIL import Image\n",
    "import PIL\n",
    "import tensorflow as tf\n",
    "import seaborn as sns\n",
    "from tensorflow.keras.utils import to_categorical\n",
    "from tqdm import tqdm"
   ]
  },
  {
   "cell_type": "code",
   "execution_count": 4,
   "id": "insured-correlation",
   "metadata": {
    "ExecuteTime": {
     "end_time": "2021-03-03T09:32:57.160717Z",
     "start_time": "2021-03-03T09:32:57.152873Z"
    }
   },
   "outputs": [],
   "source": [
    "labels=['viral_pneumonia']\n",
    "# , 'covid-19', 'bacterial_pneumonia', 'normal']\n",
    "\n",
    "def load_data():    \n",
    "    X, y = [], []\n",
    "    \n",
    "    for label in labels:\n",
    "        path=os.path.join('raw_data', label)\n",
    "        files=os.listdir(path)\n",
    "        print(label)\n",
    "        \n",
    "        for file_name in files:\n",
    "            file_path = os.path.join(path, file_name)\n",
    "            image = Image.open(file_path)\n",
    "            image = image.resize((256, 256))\n",
    "            \n",
    "#             if image.ndim == 2:\n",
    "#                 tf.expand_dims(image, -1)\n",
    "            \n",
    "            X.append(np.array(image))\n",
    "            y.append(label)   \n",
    "\n",
    "    c = list(zip(X, y))\n",
    "    np.random.shuffle(c)\n",
    "    X, y = zip(*c)\n",
    "    return X, np.array(y)\n",
    "\n",
    "#     return np.array(X), np.array(y)\n"
   ]
  },
  {
   "cell_type": "code",
   "execution_count": 5,
   "id": "helpful-stress",
   "metadata": {
    "ExecuteTime": {
     "end_time": "2021-03-03T09:33:42.918033Z",
     "start_time": "2021-03-03T09:33:01.883908Z"
    }
   },
   "outputs": [
    {
     "name": "stdout",
     "output_type": "stream",
     "text": [
      "viral_pneumonia\n"
     ]
    }
   ],
   "source": [
    "X_viral, y_viral = load_data();"
   ]
  },
  {
   "cell_type": "code",
   "execution_count": 6,
   "id": "color-story",
   "metadata": {
    "ExecuteTime": {
     "end_time": "2021-03-03T09:39:06.588555Z",
     "start_time": "2021-03-03T09:39:06.560609Z"
    }
   },
   "outputs": [],
   "source": [
    "dim=[image.ndim for image in X_viral]"
   ]
  },
  {
   "cell_type": "code",
   "execution_count": 10,
   "id": "animal-saturday",
   "metadata": {
    "ExecuteTime": {
     "end_time": "2021-03-03T09:40:08.980283Z",
     "start_time": "2021-03-03T09:40:08.965931Z"
    }
   },
   "outputs": [],
   "source": [
    "X_viral_clean=[]\n",
    "\n",
    "for image in X_viral:\n",
    "    if image.ndim ==2:\n",
    "        X_viral_clean.append(image)"
   ]
  },
  {
   "cell_type": "code",
   "execution_count": 22,
   "id": "banner-insider",
   "metadata": {
    "ExecuteTime": {
     "end_time": "2021-03-03T10:02:32.044037Z",
     "start_time": "2021-03-03T10:02:32.014054Z"
    }
   },
   "outputs": [
    {
     "name": "stdout",
     "output_type": "stream",
     "text": [
      "1297\n"
     ]
    },
    {
     "data": {
      "text/plain": [
       "[2,\n",
       " 2,\n",
       " 2,\n",
       " 2,\n",
       " 2,\n",
       " 2,\n",
       " 2,\n",
       " 2,\n",
       " 2,\n",
       " 2,\n",
       " 2,\n",
       " 2,\n",
       " 2,\n",
       " 2,\n",
       " 2,\n",
       " 2,\n",
       " 2,\n",
       " 2,\n",
       " 2,\n",
       " 2,\n",
       " 2,\n",
       " 2,\n",
       " 2,\n",
       " 2,\n",
       " 2,\n",
       " 2,\n",
       " 2,\n",
       " 2,\n",
       " 2,\n",
       " 2,\n",
       " 2,\n",
       " 2,\n",
       " 2,\n",
       " 2,\n",
       " 2,\n",
       " 2,\n",
       " 2,\n",
       " 2,\n",
       " 2,\n",
       " 2,\n",
       " 2,\n",
       " 2,\n",
       " 2,\n",
       " 2,\n",
       " 2,\n",
       " 2,\n",
       " 2,\n",
       " 2,\n",
       " 2,\n",
       " 2,\n",
       " 2,\n",
       " 2,\n",
       " 2,\n",
       " 2,\n",
       " 2,\n",
       " 2,\n",
       " 2,\n",
       " 2,\n",
       " 2,\n",
       " 2,\n",
       " 2,\n",
       " 2,\n",
       " 2,\n",
       " 2,\n",
       " 2,\n",
       " 2,\n",
       " 2,\n",
       " 2,\n",
       " 2,\n",
       " 2,\n",
       " 2,\n",
       " 2,\n",
       " 2,\n",
       " 2,\n",
       " 2,\n",
       " 2,\n",
       " 2,\n",
       " 2,\n",
       " 2,\n",
       " 2,\n",
       " 2,\n",
       " 2,\n",
       " 2,\n",
       " 2,\n",
       " 2,\n",
       " 2,\n",
       " 2,\n",
       " 2,\n",
       " 2,\n",
       " 2,\n",
       " 2,\n",
       " 2,\n",
       " 2,\n",
       " 2,\n",
       " 2,\n",
       " 2,\n",
       " 2,\n",
       " 2,\n",
       " 2,\n",
       " 2,\n",
       " 2,\n",
       " 2,\n",
       " 2,\n",
       " 2,\n",
       " 2,\n",
       " 2,\n",
       " 2,\n",
       " 2,\n",
       " 2,\n",
       " 2,\n",
       " 2,\n",
       " 2,\n",
       " 2,\n",
       " 2,\n",
       " 2,\n",
       " 2,\n",
       " 2,\n",
       " 2,\n",
       " 2,\n",
       " 2,\n",
       " 2,\n",
       " 2,\n",
       " 2,\n",
       " 2,\n",
       " 2,\n",
       " 2,\n",
       " 2,\n",
       " 2,\n",
       " 2,\n",
       " 2,\n",
       " 2,\n",
       " 2,\n",
       " 2,\n",
       " 2,\n",
       " 2,\n",
       " 2,\n",
       " 2,\n",
       " 2,\n",
       " 2,\n",
       " 2,\n",
       " 2,\n",
       " 2,\n",
       " 2,\n",
       " 2,\n",
       " 2,\n",
       " 2,\n",
       " 2,\n",
       " 2,\n",
       " 2,\n",
       " 2,\n",
       " 2,\n",
       " 2,\n",
       " 2,\n",
       " 2,\n",
       " 2,\n",
       " 2,\n",
       " 2,\n",
       " 2,\n",
       " 2,\n",
       " 2,\n",
       " 2,\n",
       " 2,\n",
       " 2,\n",
       " 2,\n",
       " 2,\n",
       " 2,\n",
       " 2,\n",
       " 2,\n",
       " 2,\n",
       " 2,\n",
       " 2,\n",
       " 2,\n",
       " 2,\n",
       " 2,\n",
       " 2,\n",
       " 2,\n",
       " 2,\n",
       " 2,\n",
       " 2,\n",
       " 2,\n",
       " 2,\n",
       " 2,\n",
       " 2,\n",
       " 2,\n",
       " 2,\n",
       " 2,\n",
       " 2,\n",
       " 2,\n",
       " 2,\n",
       " 2,\n",
       " 2,\n",
       " 2,\n",
       " 2,\n",
       " 2,\n",
       " 2,\n",
       " 2,\n",
       " 2,\n",
       " 2,\n",
       " 2,\n",
       " 2,\n",
       " 2,\n",
       " 2,\n",
       " 2,\n",
       " 2,\n",
       " 2,\n",
       " 2,\n",
       " 2,\n",
       " 2,\n",
       " 2,\n",
       " 2,\n",
       " 2,\n",
       " 2,\n",
       " 2,\n",
       " 2,\n",
       " 2,\n",
       " 2,\n",
       " 2,\n",
       " 2,\n",
       " 2,\n",
       " 2,\n",
       " 2,\n",
       " 2,\n",
       " 2,\n",
       " 2,\n",
       " 2,\n",
       " 2,\n",
       " 2,\n",
       " 2,\n",
       " 2,\n",
       " 2,\n",
       " 2,\n",
       " 2,\n",
       " 2,\n",
       " 2,\n",
       " 2,\n",
       " 2,\n",
       " 2,\n",
       " 2,\n",
       " 2,\n",
       " 2,\n",
       " 2,\n",
       " 2,\n",
       " 2,\n",
       " 2,\n",
       " 2,\n",
       " 2,\n",
       " 2,\n",
       " 2,\n",
       " 2,\n",
       " 2,\n",
       " 2,\n",
       " 2,\n",
       " 2,\n",
       " 2,\n",
       " 2,\n",
       " 2,\n",
       " 2,\n",
       " 2,\n",
       " 2,\n",
       " 2,\n",
       " 2,\n",
       " 2,\n",
       " 2,\n",
       " 2,\n",
       " 2,\n",
       " 2,\n",
       " 2,\n",
       " 2,\n",
       " 2,\n",
       " 2,\n",
       " 2,\n",
       " 2,\n",
       " 2,\n",
       " 2,\n",
       " 2,\n",
       " 2,\n",
       " 2,\n",
       " 2,\n",
       " 2,\n",
       " 2,\n",
       " 2,\n",
       " 2,\n",
       " 2,\n",
       " 2,\n",
       " 2,\n",
       " 2,\n",
       " 2,\n",
       " 2,\n",
       " 2,\n",
       " 2,\n",
       " 2,\n",
       " 2,\n",
       " 2,\n",
       " 2,\n",
       " 2,\n",
       " 2,\n",
       " 2,\n",
       " 2,\n",
       " 2,\n",
       " 2,\n",
       " 2,\n",
       " 2,\n",
       " 2,\n",
       " 2,\n",
       " 2,\n",
       " 2,\n",
       " 2,\n",
       " 2,\n",
       " 2,\n",
       " 2,\n",
       " 2,\n",
       " 2,\n",
       " 2,\n",
       " 2,\n",
       " 2,\n",
       " 2,\n",
       " 2,\n",
       " 2,\n",
       " 2,\n",
       " 2,\n",
       " 2,\n",
       " 2,\n",
       " 2,\n",
       " 2,\n",
       " 2,\n",
       " 2,\n",
       " 2,\n",
       " 2,\n",
       " 2,\n",
       " 2,\n",
       " 2,\n",
       " 2,\n",
       " 2,\n",
       " 2,\n",
       " 2,\n",
       " 2,\n",
       " 2,\n",
       " 2,\n",
       " 2,\n",
       " 2,\n",
       " 2,\n",
       " 2,\n",
       " 2,\n",
       " 2,\n",
       " 2,\n",
       " 2,\n",
       " 2,\n",
       " 2,\n",
       " 2,\n",
       " 2,\n",
       " 2,\n",
       " 2,\n",
       " 2,\n",
       " 2,\n",
       " 2,\n",
       " 2,\n",
       " 2,\n",
       " 2,\n",
       " 2,\n",
       " 2,\n",
       " 2,\n",
       " 2,\n",
       " 2,\n",
       " 2,\n",
       " 2,\n",
       " 2,\n",
       " 2,\n",
       " 2,\n",
       " 2,\n",
       " 2,\n",
       " 2,\n",
       " 2,\n",
       " 2,\n",
       " 2,\n",
       " 2,\n",
       " 2,\n",
       " 2,\n",
       " 2,\n",
       " 2,\n",
       " 2,\n",
       " 2,\n",
       " 2,\n",
       " 2,\n",
       " 2,\n",
       " 2,\n",
       " 2,\n",
       " 2,\n",
       " 2,\n",
       " 2,\n",
       " 2,\n",
       " 2,\n",
       " 2,\n",
       " 2,\n",
       " 2,\n",
       " 2,\n",
       " 2,\n",
       " 2,\n",
       " 2,\n",
       " 2,\n",
       " 2,\n",
       " 2,\n",
       " 2,\n",
       " 2,\n",
       " 2,\n",
       " 2,\n",
       " 2,\n",
       " 2,\n",
       " 2,\n",
       " 2,\n",
       " 2,\n",
       " 2,\n",
       " 2,\n",
       " 2,\n",
       " 2,\n",
       " 2,\n",
       " 2,\n",
       " 2,\n",
       " 2,\n",
       " 2,\n",
       " 2,\n",
       " 2,\n",
       " 2,\n",
       " 2,\n",
       " 2,\n",
       " 2,\n",
       " 2,\n",
       " 2,\n",
       " 2,\n",
       " 2,\n",
       " 2,\n",
       " 2,\n",
       " 2,\n",
       " 2,\n",
       " 2,\n",
       " 2,\n",
       " 2,\n",
       " 2,\n",
       " 2,\n",
       " 2,\n",
       " 2,\n",
       " 2,\n",
       " 2,\n",
       " 2,\n",
       " 2,\n",
       " 2,\n",
       " 2,\n",
       " 2,\n",
       " 2,\n",
       " 2,\n",
       " 2,\n",
       " 2,\n",
       " 2,\n",
       " 2,\n",
       " 2,\n",
       " 2,\n",
       " 2,\n",
       " 2,\n",
       " 2,\n",
       " 2,\n",
       " 2,\n",
       " 2,\n",
       " 2,\n",
       " 2,\n",
       " 2,\n",
       " 2,\n",
       " 2,\n",
       " 2,\n",
       " 2,\n",
       " 2,\n",
       " 2,\n",
       " 2,\n",
       " 2,\n",
       " 2,\n",
       " 2,\n",
       " 2,\n",
       " 2,\n",
       " 2,\n",
       " 2,\n",
       " 2,\n",
       " 2,\n",
       " 2,\n",
       " 2,\n",
       " 2,\n",
       " 2,\n",
       " 2,\n",
       " 2,\n",
       " 2,\n",
       " 2,\n",
       " 2,\n",
       " 2,\n",
       " 2,\n",
       " 2,\n",
       " 2,\n",
       " 2,\n",
       " 2,\n",
       " 2,\n",
       " 2,\n",
       " 2,\n",
       " 2,\n",
       " 2,\n",
       " 2,\n",
       " 2,\n",
       " 2,\n",
       " 2,\n",
       " 2,\n",
       " 2,\n",
       " 2,\n",
       " 2,\n",
       " 2,\n",
       " 2,\n",
       " 2,\n",
       " 2,\n",
       " 2,\n",
       " 2,\n",
       " 2,\n",
       " 2,\n",
       " 2,\n",
       " 2,\n",
       " 2,\n",
       " 2,\n",
       " 2,\n",
       " 2,\n",
       " 2,\n",
       " 2,\n",
       " 2,\n",
       " 2,\n",
       " 2,\n",
       " 2,\n",
       " 2,\n",
       " 2,\n",
       " 2,\n",
       " 2,\n",
       " 2,\n",
       " 2,\n",
       " 2,\n",
       " 2,\n",
       " 2,\n",
       " 2,\n",
       " 2,\n",
       " 2,\n",
       " 2,\n",
       " 2,\n",
       " 2,\n",
       " 2,\n",
       " 2,\n",
       " 2,\n",
       " 2,\n",
       " 2,\n",
       " 2,\n",
       " 2,\n",
       " 2,\n",
       " 2,\n",
       " 2,\n",
       " 2,\n",
       " 2,\n",
       " 2,\n",
       " 2,\n",
       " 2,\n",
       " 2,\n",
       " 2,\n",
       " 2,\n",
       " 2,\n",
       " 2,\n",
       " 2,\n",
       " 2,\n",
       " 2,\n",
       " 2,\n",
       " 2,\n",
       " 2,\n",
       " 2,\n",
       " 2,\n",
       " 2,\n",
       " 2,\n",
       " 2,\n",
       " 2,\n",
       " 2,\n",
       " 2,\n",
       " 2,\n",
       " 2,\n",
       " 2,\n",
       " 2,\n",
       " 2,\n",
       " 2,\n",
       " 2,\n",
       " 2,\n",
       " 2,\n",
       " 2,\n",
       " 2,\n",
       " 2,\n",
       " 2,\n",
       " 2,\n",
       " 2,\n",
       " 2,\n",
       " 2,\n",
       " 2,\n",
       " 2,\n",
       " 2,\n",
       " 2,\n",
       " 2,\n",
       " 2,\n",
       " 2,\n",
       " 2,\n",
       " 2,\n",
       " 2,\n",
       " 2,\n",
       " 2,\n",
       " 2,\n",
       " 2,\n",
       " 2,\n",
       " 2,\n",
       " 2,\n",
       " 2,\n",
       " 2,\n",
       " 2,\n",
       " 2,\n",
       " 2,\n",
       " 2,\n",
       " 2,\n",
       " 2,\n",
       " 2,\n",
       " 2,\n",
       " 2,\n",
       " 2,\n",
       " 2,\n",
       " 2,\n",
       " 2,\n",
       " 2,\n",
       " 2,\n",
       " 2,\n",
       " 2,\n",
       " 2,\n",
       " 2,\n",
       " 2,\n",
       " 2,\n",
       " 2,\n",
       " 2,\n",
       " 2,\n",
       " 2,\n",
       " 2,\n",
       " 2,\n",
       " 2,\n",
       " 2,\n",
       " 2,\n",
       " 2,\n",
       " 2,\n",
       " 2,\n",
       " 2,\n",
       " 2,\n",
       " 2,\n",
       " 2,\n",
       " 2,\n",
       " 2,\n",
       " 2,\n",
       " 2,\n",
       " 2,\n",
       " 2,\n",
       " 2,\n",
       " 2,\n",
       " 2,\n",
       " 2,\n",
       " 2,\n",
       " 2,\n",
       " 2,\n",
       " 2,\n",
       " 2,\n",
       " 2,\n",
       " 2,\n",
       " 2,\n",
       " 2,\n",
       " 2,\n",
       " 2,\n",
       " 2,\n",
       " 2,\n",
       " 2,\n",
       " 2,\n",
       " 2,\n",
       " 2,\n",
       " 2,\n",
       " 2,\n",
       " 2,\n",
       " 2,\n",
       " 2,\n",
       " 2,\n",
       " 2,\n",
       " 2,\n",
       " 2,\n",
       " 2,\n",
       " 2,\n",
       " 2,\n",
       " 2,\n",
       " 2,\n",
       " 2,\n",
       " 2,\n",
       " 2,\n",
       " 2,\n",
       " 2,\n",
       " 2,\n",
       " 2,\n",
       " 2,\n",
       " 2,\n",
       " 2,\n",
       " 2,\n",
       " 2,\n",
       " 2,\n",
       " 2,\n",
       " 2,\n",
       " 2,\n",
       " 2,\n",
       " 2,\n",
       " 2,\n",
       " 2,\n",
       " 2,\n",
       " 2,\n",
       " 2,\n",
       " 2,\n",
       " 2,\n",
       " 2,\n",
       " 2,\n",
       " 2,\n",
       " 2,\n",
       " 2,\n",
       " 2,\n",
       " 2,\n",
       " 2,\n",
       " 2,\n",
       " 2,\n",
       " 2,\n",
       " 2,\n",
       " 2,\n",
       " 2,\n",
       " 2,\n",
       " 2,\n",
       " 2,\n",
       " 2,\n",
       " 2,\n",
       " 2,\n",
       " 2,\n",
       " 2,\n",
       " 2,\n",
       " 2,\n",
       " 2,\n",
       " 2,\n",
       " 2,\n",
       " 2,\n",
       " 2,\n",
       " 2,\n",
       " 2,\n",
       " 2,\n",
       " 2,\n",
       " 2,\n",
       " 2,\n",
       " 2,\n",
       " 2,\n",
       " 2,\n",
       " 2,\n",
       " 2,\n",
       " 2,\n",
       " 2,\n",
       " 2,\n",
       " 2,\n",
       " 2,\n",
       " 2,\n",
       " 2,\n",
       " 2,\n",
       " 2,\n",
       " 2,\n",
       " 2,\n",
       " 2,\n",
       " 2,\n",
       " 2,\n",
       " 2,\n",
       " 2,\n",
       " 2,\n",
       " 2,\n",
       " 2,\n",
       " 2,\n",
       " 2,\n",
       " 2,\n",
       " 2,\n",
       " 2,\n",
       " 2,\n",
       " 2,\n",
       " 2,\n",
       " 2,\n",
       " 2,\n",
       " 2,\n",
       " 2,\n",
       " 2,\n",
       " 2,\n",
       " 2,\n",
       " 2,\n",
       " 2,\n",
       " 2,\n",
       " 2,\n",
       " 2,\n",
       " 2,\n",
       " 2,\n",
       " 2,\n",
       " 2,\n",
       " 2,\n",
       " 2,\n",
       " 2,\n",
       " 2,\n",
       " 2,\n",
       " 2,\n",
       " 2,\n",
       " 2,\n",
       " 2,\n",
       " 2,\n",
       " 2,\n",
       " 2,\n",
       " 2,\n",
       " 2,\n",
       " 2,\n",
       " 2,\n",
       " 2,\n",
       " 2,\n",
       " 2,\n",
       " 2,\n",
       " 2,\n",
       " 2,\n",
       " 2,\n",
       " 2,\n",
       " 2,\n",
       " 2,\n",
       " 2,\n",
       " 2,\n",
       " 2,\n",
       " 2,\n",
       " 2,\n",
       " 2,\n",
       " 2,\n",
       " 2,\n",
       " 2,\n",
       " 2,\n",
       " 2,\n",
       " 2,\n",
       " 2,\n",
       " 2,\n",
       " 2,\n",
       " 2,\n",
       " 2,\n",
       " 2,\n",
       " 2,\n",
       " 2,\n",
       " 2,\n",
       " 2,\n",
       " 2,\n",
       " 2,\n",
       " 2,\n",
       " 2,\n",
       " 2,\n",
       " 2,\n",
       " 2,\n",
       " 2,\n",
       " 2,\n",
       " 2,\n",
       " 2,\n",
       " 2,\n",
       " 2,\n",
       " 2,\n",
       " 2,\n",
       " 2,\n",
       " 2,\n",
       " 2,\n",
       " 2,\n",
       " 2,\n",
       " 2,\n",
       " 2,\n",
       " 2,\n",
       " 2,\n",
       " 2,\n",
       " 2,\n",
       " 2,\n",
       " 2,\n",
       " 2,\n",
       " 2,\n",
       " 2,\n",
       " 2,\n",
       " 2,\n",
       " 2,\n",
       " 2,\n",
       " 2,\n",
       " 2,\n",
       " 2,\n",
       " 2,\n",
       " 2,\n",
       " 2,\n",
       " 2,\n",
       " 2,\n",
       " 2,\n",
       " 2,\n",
       " 2,\n",
       " 2,\n",
       " 2,\n",
       " 2,\n",
       " 2,\n",
       " 2,\n",
       " 2,\n",
       " 2,\n",
       " 2,\n",
       " 2,\n",
       " 2,\n",
       " 2,\n",
       " 2,\n",
       " 2,\n",
       " 2,\n",
       " 2,\n",
       " 2,\n",
       " 2,\n",
       " 2,\n",
       " 2,\n",
       " 2,\n",
       " 2,\n",
       " 2,\n",
       " 2,\n",
       " 2,\n",
       " 2,\n",
       " 2,\n",
       " 2,\n",
       " 2,\n",
       " 2,\n",
       " 2,\n",
       " 2,\n",
       " 2,\n",
       " 2,\n",
       " 2,\n",
       " 2,\n",
       " 2,\n",
       " 2,\n",
       " 2,\n",
       " 2,\n",
       " 2,\n",
       " 2,\n",
       " 2,\n",
       " 2,\n",
       " 2,\n",
       " 2,\n",
       " 2,\n",
       " 2,\n",
       " 2,\n",
       " 2,\n",
       " 2,\n",
       " 2,\n",
       " 2,\n",
       " 2,\n",
       " 2,\n",
       " 2,\n",
       " 2,\n",
       " 2,\n",
       " 2,\n",
       " 2,\n",
       " 2,\n",
       " 2,\n",
       " 2,\n",
       " 2,\n",
       " 2,\n",
       " 2,\n",
       " 2,\n",
       " 2,\n",
       " 2,\n",
       " 2,\n",
       " 2,\n",
       " 2,\n",
       " 2,\n",
       " 2,\n",
       " 2,\n",
       " 2,\n",
       " 2,\n",
       " 2,\n",
       " 2,\n",
       " 2,\n",
       " 2,\n",
       " 2,\n",
       " 2,\n",
       " 2,\n",
       " 2,\n",
       " 2,\n",
       " 2,\n",
       " 2,\n",
       " 2,\n",
       " 2,\n",
       " 2,\n",
       " 2,\n",
       " 2,\n",
       " 2,\n",
       " 2,\n",
       " 2,\n",
       " 2,\n",
       " 2,\n",
       " 2,\n",
       " 2,\n",
       " 2,\n",
       " 2,\n",
       " 2,\n",
       " 2,\n",
       " 2,\n",
       " 2,\n",
       " 2,\n",
       " 2,\n",
       " ...]"
      ]
     },
     "execution_count": 22,
     "metadata": {},
     "output_type": "execute_result"
    }
   ],
   "source": [
    "print(len(X_viral_clean))\n",
    "[image.ndim for image in X_viral_clean]"
   ]
  },
  {
   "cell_type": "code",
   "execution_count": 9,
   "id": "occupational-heather",
   "metadata": {
    "ExecuteTime": {
     "end_time": "2021-03-03T09:39:28.539862Z",
     "start_time": "2021-03-03T09:39:28.341728Z"
    }
   },
   "outputs": [],
   "source": [
    "X_viral_clean=np.array(X_viral_clean)"
   ]
  },
  {
   "cell_type": "code",
   "execution_count": 11,
   "id": "funded-commerce",
   "metadata": {
    "ExecuteTime": {
     "end_time": "2021-03-03T09:58:08.460618Z",
     "start_time": "2021-03-03T09:57:18.815236Z"
    }
   },
   "outputs": [
    {
     "name": "stderr",
     "output_type": "stream",
     "text": [
      "/Users/macbookair/.pyenv/versions/3.8.6/envs/lewagon/lib/python3.8/site-packages/seaborn/_decorators.py:36: FutureWarning: Pass the following variables as keyword args: x, y. From version 0.12, the only valid positional argument will be `data`, and passing other arguments without an explicit keyword will result in an error or misinterpretation.\n",
      "  warnings.warn(\n"
     ]
    },
    {
     "data": {
      "text/plain": [
       "<AxesSubplot:>"
      ]
     },
     "execution_count": 11,
     "metadata": {},
     "output_type": "execute_result"
    },
    {
     "data": {
      "image/png": "[encoded data removed]",
      "text/plain": [
       "<Figure size 432x288 with 1 Axes>"
      ]
     },
     "metadata": {
      "needs_background": "light"
     },
     "output_type": "display_data"
    }
   ],
   "source": [
    "sns.barplot([i for i in range(len(dim))],dim)"
   ]
  },
  {
   "cell_type": "code",
   "execution_count": 12,
   "id": "marked-shelter",
   "metadata": {
    "ExecuteTime": {
     "end_time": "2021-03-03T09:58:16.470006Z",
     "start_time": "2021-03-03T09:58:16.459544Z"
    },
    "scrolled": true
   },
   "outputs": [
    {
     "name": "stdout",
     "output_type": "stream",
     "text": [
      "215\n",
      "1512\n"
     ]
    },
    {
     "data": {
      "text/plain": [
       "14.219576719576722"
      ]
     },
     "execution_count": 12,
     "metadata": {},
     "output_type": "execute_result"
    }
   ],
   "source": [
    "count=0\n",
    "   \n",
    "for i in dim:\n",
    "    if i ==3:\n",
    "        count+=1\n",
    "print(count)\n",
    "print(len(dim))\n",
    "count/len(dim)*100"
   ]
  },
  {
   "cell_type": "code",
   "execution_count": 13,
   "id": "atlantic-prerequisite",
   "metadata": {
    "ExecuteTime": {
     "end_time": "2021-03-03T09:58:20.163361Z",
     "start_time": "2021-03-03T09:58:19.669729Z"
    }
   },
   "outputs": [
    {
     "data": {
      "text/plain": [
       "(array([1297.,    0.,    0.,    0.,    0.,    0.,    0.,    0.,    0.,\n",
       "         215.]),\n",
       " array([ 65536. ,  78643.2,  91750.4, 104857.6, 117964.8, 131072. ,\n",
       "        144179.2, 157286.4, 170393.6, 183500.8, 196608. ]),\n",
       " <BarContainer object of 10 artists>)"
      ]
     },
     "execution_count": 13,
     "metadata": {},
     "output_type": "execute_result"
    },
    {
     "data": {
      "image/png": "[encoded data removed]",
      "text/plain": [
       "<Figure size 432x288 with 1 Axes>"
      ]
     },
     "metadata": {
      "needs_background": "light"
     },
     "output_type": "display_data"
    }
   ],
   "source": [
    "# hist plot for sizes\n",
    "size=[image.size for image in X_viral]\n",
    "\n",
    "plt.hist(size)"
   ]
  },
  {
   "cell_type": "code",
   "execution_count": 14,
   "id": "enclosed-senator",
   "metadata": {
    "ExecuteTime": {
     "end_time": "2021-03-03T09:58:22.583442Z",
     "start_time": "2021-03-03T09:58:22.573127Z"
    }
   },
   "outputs": [
    {
     "name": "stdout",
     "output_type": "stream",
     "text": [
      "1297\n",
      "215\n"
     ]
    },
    {
     "data": {
      "text/plain": [
       "196608"
      ]
     },
     "execution_count": 14,
     "metadata": {},
     "output_type": "execute_result"
    }
   ],
   "source": [
    "count=0\n",
    "index=0\n",
    "index_list=[]\n",
    "\n",
    "for i in size:\n",
    "    if i== 65536:\n",
    "        count+=1\n",
    "        index+=1\n",
    "        \n",
    "    else:\n",
    "        index+=1\n",
    "        index_list.append(i)\n",
    "        \n",
    "\n",
    "print(count)\n",
    "print(len(index_list))\n",
    "index_list[0]\n"
   ]
  },
  {
   "cell_type": "code",
   "execution_count": null,
   "id": "judicial-nurse",
   "metadata": {
    "ExecuteTime": {
     "start_time": "2021-03-02T17:11:37.449Z"
    }
   },
   "outputs": [],
   "source": [
    "#individual pic\n",
    "path=os.path.join('raw_data', 'normal')\n",
    "files=os.listdir(path)\n",
    "count=0\n",
    "index=0\n",
    "for file_name in files:\n",
    "    file_path = os.path.join(path, file_name)\n",
    "    image = Image.open(file_path)\n",
    "    print(image.size)\n",
    "#    image = image.resize((256, 256))\n",
    "#    if len(image.size) != 2:\n",
    "#         count+=1\n",
    "#         print(index)\n",
    "#     index+=1\n",
    "\n",
    "count"
   ]
  },
  {
   "cell_type": "markdown",
   "id": "serious-guinea",
   "metadata": {
    "ExecuteTime": {
     "end_time": "2021-03-02T15:20:47.289390Z",
     "start_time": "2021-03-02T15:20:47.256925Z"
    }
   },
   "source": [
    "### covid-19"
   ]
  },
  {
   "cell_type": "code",
   "execution_count": 15,
   "id": "fifty-example",
   "metadata": {
    "ExecuteTime": {
     "end_time": "2021-03-03T09:58:47.952689Z",
     "start_time": "2021-03-03T09:58:29.513724Z"
    }
   },
   "outputs": [
    {
     "name": "stdout",
     "output_type": "stream",
     "text": [
      "covid-19\n"
     ]
    }
   ],
   "source": [
    "labels=['covid-19']\n",
    "X_covid, y_covid = load_data();"
   ]
  },
  {
   "cell_type": "code",
   "execution_count": 16,
   "id": "first-executive",
   "metadata": {
    "ExecuteTime": {
     "end_time": "2021-03-03T10:00:05.494379Z",
     "start_time": "2021-03-03T09:59:42.928901Z"
    }
   },
   "outputs": [
    {
     "name": "stderr",
     "output_type": "stream",
     "text": [
      "/Users/macbookair/.pyenv/versions/3.8.6/envs/lewagon/lib/python3.8/site-packages/seaborn/_decorators.py:36: FutureWarning: Pass the following variables as keyword args: x, y. From version 0.12, the only valid positional argument will be `data`, and passing other arguments without an explicit keyword will result in an error or misinterpretation.\n",
      "  warnings.warn(\n"
     ]
    },
    {
     "data": {
      "text/plain": [
       "<AxesSubplot:>"
      ]
     },
     "execution_count": 16,
     "metadata": {},
     "output_type": "execute_result"
    },
    {
     "data": {
      "image/png": "[encoded data removed]",
      "text/plain": [
       "<Figure size 432x288 with 1 Axes>"
      ]
     },
     "metadata": {
      "needs_background": "light"
     },
     "output_type": "display_data"
    }
   ],
   "source": [
    "#, 'bacterial_pneumonia', 'normal']\n",
    "dim_covid=[image.ndim for image in X_covid]\n",
    "sns.barplot([i for i in range(len(dim_covid))],dim_covid)"
   ]
  },
  {
   "cell_type": "code",
   "execution_count": 19,
   "id": "tropical-nitrogen",
   "metadata": {
    "ExecuteTime": {
     "end_time": "2021-03-03T10:01:21.471090Z",
     "start_time": "2021-03-03T10:01:21.447531Z"
    }
   },
   "outputs": [],
   "source": [
    "X_covid_clean=[]\n",
    "\n",
    "for image in X_covid:\n",
    "    if image.ndim ==2:\n",
    "        X_covid_clean.append(image)\n",
    "# X_covid_clean=np.array(X_covid_clean)\n"
   ]
  },
  {
   "cell_type": "code",
   "execution_count": 23,
   "id": "piano-twenty",
   "metadata": {
    "ExecuteTime": {
     "end_time": "2021-03-03T10:02:59.903552Z",
     "start_time": "2021-03-03T10:02:59.889383Z"
    }
   },
   "outputs": [
    {
     "data": {
      "text/plain": [
       "827"
      ]
     },
     "execution_count": 23,
     "metadata": {},
     "output_type": "execute_result"
    }
   ],
   "source": [
    "len(X_covid_clean)"
   ]
  },
  {
   "cell_type": "code",
   "execution_count": 24,
   "id": "valuable-decrease",
   "metadata": {
    "ExecuteTime": {
     "end_time": "2021-03-03T10:03:16.673645Z",
     "start_time": "2021-03-03T10:03:16.661433Z"
    }
   },
   "outputs": [
    {
     "data": {
      "text/plain": [
       "list"
      ]
     },
     "execution_count": 24,
     "metadata": {},
     "output_type": "execute_result"
    }
   ],
   "source": [
    "type(X_covid_clean)"
   ]
  },
  {
   "cell_type": "code",
   "execution_count": 27,
   "id": "spoken-madagascar",
   "metadata": {
    "ExecuteTime": {
     "end_time": "2021-03-03T10:03:46.240964Z",
     "start_time": "2021-03-03T10:03:45.952385Z"
    }
   },
   "outputs": [
    {
     "data": {
      "text/plain": [
       "(array([827.,   0.,   0.,   0.,   0.,   0., 145.,   0.,   0.,   8.]),\n",
       " array([ 65536. ,  85196.8, 104857.6, 124518.4, 144179.2, 163840. ,\n",
       "        183500.8, 203161.6, 222822.4, 242483.2, 262144. ]),\n",
       " <BarContainer object of 10 artists>)"
      ]
     },
     "execution_count": 27,
     "metadata": {},
     "output_type": "execute_result"
    },
    {
     "data": {
      "image/png": "[encoded data removed]",
      "text/plain": [
       "<Figure size 432x288 with 1 Axes>"
      ]
     },
     "metadata": {
      "needs_background": "light"
     },
     "output_type": "display_data"
    }
   ],
   "source": [
    "# hist plot for sizes\n",
    "size=[image.size for image in X_covid]\n",
    "\n",
    "plt.hist(size)"
   ]
  },
  {
   "cell_type": "code",
   "execution_count": 152,
   "id": "subsequent-drink",
   "metadata": {
    "ExecuteTime": {
     "end_time": "2021-03-02T16:23:51.984880Z",
     "start_time": "2021-03-02T16:23:51.961830Z"
    }
   },
   "outputs": [
    {
     "name": "stdout",
     "output_type": "stream",
     "text": [
      "827\n",
      "153\n"
     ]
    },
    {
     "data": {
      "text/plain": [
       "196608"
      ]
     },
     "execution_count": 152,
     "metadata": {},
     "output_type": "execute_result"
    }
   ],
   "source": [
    "count=0\n",
    "index=0\n",
    "index_list=[]\n",
    "\n",
    "for i in size:\n",
    "    if i== 65536:\n",
    "        count+=1\n",
    "        index+=1\n",
    "    else:\n",
    "        index+=1\n",
    "        index_list.append(i)\n",
    "\n",
    "print(count)\n",
    "print(len(index_list))\n",
    "index_list[0]\n",
    "\n"
   ]
  },
  {
   "cell_type": "markdown",
   "id": "descending-fishing",
   "metadata": {
    "ExecuteTime": {
     "end_time": "2021-03-02T16:18:07.762558Z",
     "start_time": "2021-03-02T16:18:07.754557Z"
    },
    "heading_collapsed": true
   },
   "source": [
    "### bacterial_pneumonia"
   ]
  },
  {
   "cell_type": "code",
   "execution_count": 154,
   "id": "partial-canadian",
   "metadata": {
    "ExecuteTime": {
     "end_time": "2021-03-02T16:27:30.625050Z",
     "start_time": "2021-03-02T16:26:40.647910Z"
    },
    "hidden": true
   },
   "outputs": [
    {
     "name": "stdout",
     "output_type": "stream",
     "text": [
      "bacterial_pneumonia\n"
     ]
    }
   ],
   "source": [
    "labels=['bacterial_pneumonia']\n",
    "X_bact, y_bact = load_data();"
   ]
  },
  {
   "cell_type": "code",
   "execution_count": 156,
   "id": "laughing-protocol",
   "metadata": {
    "ExecuteTime": {
     "end_time": "2021-03-02T16:38:20.435846Z",
     "start_time": "2021-03-02T16:30:27.573253Z"
    },
    "hidden": true
   },
   "outputs": [
    {
     "name": "stderr",
     "output_type": "stream",
     "text": [
      "/Users/macbookair/.pyenv/versions/3.8.6/envs/lewagon/lib/python3.8/site-packages/seaborn/_decorators.py:36: FutureWarning: Pass the following variables as keyword args: x, y. From version 0.12, the only valid positional argument will be `data`, and passing other arguments without an explicit keyword will result in an error or misinterpretation.\n",
      "  warnings.warn(\n"
     ]
    },
    {
     "data": {
      "text/plain": [
       "<AxesSubplot:>"
      ]
     },
     "execution_count": 156,
     "metadata": {},
     "output_type": "execute_result"
    },
    {
     "data": {
      "image/png": "[encoded data removed]",
      "text/plain": [
       "<Figure size 432x288 with 1 Axes>"
      ]
     },
     "metadata": {
      "needs_background": "light"
     },
     "output_type": "display_data"
    }
   ],
   "source": [
    "dim_bact=[image.ndim for image in X_bact]\n",
    "sns.barplot([i for i in range(len(dim_bact))],dim_bact)"
   ]
  },
  {
   "cell_type": "code",
   "execution_count": 157,
   "id": "binding-ranch",
   "metadata": {
    "ExecuteTime": {
     "end_time": "2021-03-02T16:38:58.410030Z",
     "start_time": "2021-03-02T16:38:58.279730Z"
    },
    "hidden": true
   },
   "outputs": [
    {
     "name": "stdout",
     "output_type": "stream",
     "text": [
      "412\n",
      "2727\n"
     ]
    },
    {
     "data": {
      "text/plain": [
       "15.108177484415108"
      ]
     },
     "execution_count": 157,
     "metadata": {},
     "output_type": "execute_result"
    }
   ],
   "source": [
    "count=0\n",
    "   \n",
    "for i in dim_bact:\n",
    "    if i ==3:\n",
    "        count+=1\n",
    "print(count)\n",
    "print(len(dim_bact))\n",
    "count/len(dim_bact)*100"
   ]
  },
  {
   "cell_type": "code",
   "execution_count": 158,
   "id": "established-mileage",
   "metadata": {
    "ExecuteTime": {
     "end_time": "2021-03-02T16:39:11.123841Z",
     "start_time": "2021-03-02T16:39:06.610806Z"
    },
    "hidden": true
   },
   "outputs": [
    {
     "data": {
      "text/plain": [
       "(array([2315.,    0.,    0.,    0.,    0.,    0.,    0.,    0.,    0.,\n",
       "         412.]),\n",
       " array([ 65536. ,  78643.2,  91750.4, 104857.6, 117964.8, 131072. ,\n",
       "        144179.2, 157286.4, 170393.6, 183500.8, 196608. ]),\n",
       " <BarContainer object of 10 artists>)"
      ]
     },
     "execution_count": 158,
     "metadata": {},
     "output_type": "execute_result"
    },
    {
     "data": {
      "image/png": "[encoded data removed]",
      "text/plain": [
       "<Figure size 432x288 with 1 Axes>"
      ]
     },
     "metadata": {
      "needs_background": "light"
     },
     "output_type": "display_data"
    }
   ],
   "source": [
    "size=[image.size for image in X_bact]\n",
    "\n",
    "plt.hist(size)"
   ]
  },
  {
   "cell_type": "code",
   "execution_count": 159,
   "id": "fundamental-lounge",
   "metadata": {
    "ExecuteTime": {
     "end_time": "2021-03-02T16:39:38.784096Z",
     "start_time": "2021-03-02T16:39:38.630527Z"
    },
    "hidden": true
   },
   "outputs": [
    {
     "name": "stdout",
     "output_type": "stream",
     "text": [
      "2315\n",
      "412\n"
     ]
    },
    {
     "data": {
      "text/plain": [
       "196608"
      ]
     },
     "execution_count": 159,
     "metadata": {},
     "output_type": "execute_result"
    }
   ],
   "source": [
    "count=0\n",
    "index=0\n",
    "index_list=[]\n",
    "\n",
    "for i in size:\n",
    "    if i== 65536:\n",
    "        count+=1\n",
    "        index+=1\n",
    "    else:\n",
    "        index+=1\n",
    "        index_list.append(i)\n",
    "\n",
    "print(count)\n",
    "print(len(index_list))\n",
    "index_list[0]"
   ]
  },
  {
   "cell_type": "code",
   "execution_count": null,
   "id": "spectacular-junction",
   "metadata": {
    "hidden": true
   },
   "outputs": [],
   "source": []
  },
  {
   "cell_type": "markdown",
   "id": "conservative-warning",
   "metadata": {},
   "source": [
    "### normal"
   ]
  },
  {
   "cell_type": "code",
   "execution_count": 161,
   "id": "treated-roommate",
   "metadata": {
    "ExecuteTime": {
     "end_time": "2021-03-02T16:42:05.387142Z",
     "start_time": "2021-03-02T16:41:10.401650Z"
    }
   },
   "outputs": [
    {
     "name": "stdout",
     "output_type": "stream",
     "text": [
      "normal\n"
     ]
    }
   ],
   "source": [
    "labels=['normal'] \n",
    "X_norm, y_norm = load_data();"
   ]
  },
  {
   "cell_type": "code",
   "execution_count": 162,
   "id": "backed-dominican",
   "metadata": {
    "ExecuteTime": {
     "end_time": "2021-03-02T16:42:50.135929Z",
     "start_time": "2021-03-02T16:42:08.691393Z"
    }
   },
   "outputs": [
    {
     "name": "stderr",
     "output_type": "stream",
     "text": [
      "/Users/macbookair/.pyenv/versions/3.8.6/envs/lewagon/lib/python3.8/site-packages/seaborn/_decorators.py:36: FutureWarning: Pass the following variables as keyword args: x, y. From version 0.12, the only valid positional argument will be `data`, and passing other arguments without an explicit keyword will result in an error or misinterpretation.\n",
      "  warnings.warn(\n"
     ]
    },
    {
     "data": {
      "text/plain": [
       "<AxesSubplot:>"
      ]
     },
     "execution_count": 162,
     "metadata": {},
     "output_type": "execute_result"
    },
    {
     "data": {
      "image/png": "[encoded data removed]",
      "text/plain": [
       "<Figure size 432x288 with 1 Axes>"
      ]
     },
     "metadata": {
      "needs_background": "light"
     },
     "output_type": "display_data"
    }
   ],
   "source": [
    "dim_norm=[image.ndim for image in X_norm]\n",
    "sns.barplot([i for i in range(len(dim_norm))],dim_norm)"
   ]
  },
  {
   "cell_type": "code",
   "execution_count": 163,
   "id": "bearing-stanley",
   "metadata": {
    "ExecuteTime": {
     "end_time": "2021-03-02T16:42:53.298483Z",
     "start_time": "2021-03-02T16:42:53.289083Z"
    }
   },
   "outputs": [
    {
     "name": "stdout",
     "output_type": "stream",
     "text": [
      "48\n",
      "1443\n"
     ]
    },
    {
     "data": {
      "text/plain": [
       "3.3264033264033266"
      ]
     },
     "execution_count": 163,
     "metadata": {},
     "output_type": "execute_result"
    }
   ],
   "source": [
    "count=0\n",
    " \n",
    "for i in dim_norm:\n",
    "    if i ==3:\n",
    "        count+=1\n",
    "print(count)\n",
    "print(len(dim_norm))\n",
    "count/len(dim_norm)*100"
   ]
  },
  {
   "cell_type": "code",
   "execution_count": 164,
   "id": "moral-scholar",
   "metadata": {
    "ExecuteTime": {
     "end_time": "2021-03-02T16:42:55.504441Z",
     "start_time": "2021-03-02T16:42:55.185441Z"
    }
   },
   "outputs": [
    {
     "data": {
      "text/plain": [
       "(array([1395.,    0.,    0.,    0.,    0.,    0.,    0.,    0.,    0.,\n",
       "          48.]),\n",
       " array([ 65536. ,  78643.2,  91750.4, 104857.6, 117964.8, 131072. ,\n",
       "        144179.2, 157286.4, 170393.6, 183500.8, 196608. ]),\n",
       " <BarContainer object of 10 artists>)"
      ]
     },
     "execution_count": 164,
     "metadata": {},
     "output_type": "execute_result"
    },
    {
     "data": {
      "image/png": "[encoded data removed]",
      "text/plain": [
       "<Figure size 432x288 with 1 Axes>"
      ]
     },
     "metadata": {
      "needs_background": "light"
     },
     "output_type": "display_data"
    }
   ],
   "source": [
    "size=[image.size for image in X_norm]\n",
    "\n",
    "plt.hist(size)"
   ]
  },
  {
   "cell_type": "code",
   "execution_count": 165,
   "id": "catholic-postage",
   "metadata": {
    "ExecuteTime": {
     "end_time": "2021-03-02T16:43:23.309280Z",
     "start_time": "2021-03-02T16:43:23.295200Z"
    }
   },
   "outputs": [
    {
     "name": "stdout",
     "output_type": "stream",
     "text": [
      "1395\n",
      "48\n"
     ]
    },
    {
     "data": {
      "text/plain": [
       "196608"
      ]
     },
     "execution_count": 165,
     "metadata": {},
     "output_type": "execute_result"
    }
   ],
   "source": [
    "count=0\n",
    "index=0\n",
    "index_list=[]\n",
    "\n",
    "for i in size:\n",
    "    if i== 65536:\n",
    "        count+=1\n",
    "        index+=1\n",
    "    else:\n",
    "        index+=1\n",
    "        index_list.append(i)\n",
    "\n",
    "print(count)\n",
    "print(len(index_list))\n",
    "index_list[0]"
   ]
  },
  {
   "cell_type": "code",
   "execution_count": 30,
   "id": "suitable-productivity",
   "metadata": {
    "ExecuteTime": {
     "end_time": "2021-03-03T10:31:32.185534Z",
     "start_time": "2021-03-03T10:31:32.159740Z"
    }
   },
   "outputs": [
    {
     "ename": "NameError",
     "evalue": "name 'X' is not defined",
     "output_type": "error",
     "traceback": [
      "\u001b[0;31m---------------------------------------------------------------------------\u001b[0m",
      "\u001b[0;31mNameError\u001b[0m                                 Traceback (most recent call last)",
      "\u001b[0;32m<ipython-input-30-ac550ad6c209>\u001b[0m in \u001b[0;36m<module>\u001b[0;34m\u001b[0m\n\u001b[0;32m----> 1\u001b[0;31m \u001b[0mplt\u001b[0m\u001b[0;34m.\u001b[0m\u001b[0mimshow\u001b[0m\u001b[0;34m(\u001b[0m\u001b[0mX\u001b[0m\u001b[0;34m[\u001b[0m\u001b[0;36m300\u001b[0m\u001b[0;34m]\u001b[0m\u001b[0;34m,\u001b[0m\u001b[0mcmap\u001b[0m\u001b[0;34m=\u001b[0m\u001b[0;34m'gray'\u001b[0m\u001b[0;34m)\u001b[0m\u001b[0;34m\u001b[0m\u001b[0;34m\u001b[0m\u001b[0m\n\u001b[0m\u001b[1;32m      2\u001b[0m \u001b[0mplt\u001b[0m\u001b[0;34m.\u001b[0m\u001b[0mtitle\u001b[0m\u001b[0;34m(\u001b[0m\u001b[0my\u001b[0m\u001b[0;34m[\u001b[0m\u001b[0;36m300\u001b[0m\u001b[0;34m]\u001b[0m\u001b[0;34m)\u001b[0m\u001b[0;34m\u001b[0m\u001b[0;34m\u001b[0m\u001b[0m\n",
      "\u001b[0;31mNameError\u001b[0m: name 'X' is not defined"
     ]
    }
   ],
   "source": [
    "plt.imshow(X[300],cmap='gray')\n",
    "plt.title(y[300])"
   ]
  },
  {
   "cell_type": "code",
   "execution_count": null,
   "id": "dental-childhood",
   "metadata": {},
   "outputs": [],
   "source": []
  },
  {
   "cell_type": "markdown",
   "id": "voluntary-independence",
   "metadata": {
    "ExecuteTime": {
     "end_time": "2021-03-02T16:54:24.277747Z",
     "start_time": "2021-03-02T16:54:24.274434Z"
    }
   },
   "source": [
    "### concatenate"
   ]
  },
  {
   "cell_type": "code",
   "execution_count": null,
   "id": "contained-belarus",
   "metadata": {},
   "outputs": [],
   "source": []
  },
  {
   "cell_type": "markdown",
   "id": "serious-bankruptcy",
   "metadata": {},
   "source": [
    "### pickle load"
   ]
  },
  {
   "cell_type": "code",
   "execution_count": null,
   "id": "essential-headquarters",
   "metadata": {},
   "outputs": [],
   "source": []
  }
 ],
 "metadata": {
  "kernelspec": {
   "display_name": "Python 3",
   "language": "python",
   "name": "python3"
  },
  "language_info": {
   "codemirror_mode": {
    "name": "ipython",
    "version": 3
   },
   "file_extension": ".py",
   "mimetype": "text/x-python",
   "name": "python",
   "nbconvert_exporter": "python",
   "pygments_lexer": "ipython3",
   "version": "3.8.6"
  },
  "toc": {
   "base_numbering": 1,
   "nav_menu": {},
   "number_sections": true,
   "sideBar": true,
   "skip_h1_title": false,
   "title_cell": "Table of Contents",
   "title_sidebar": "Contents",
   "toc_cell": false,
   "toc_position": {},
   "toc_section_display": true,
   "toc_window_display": false
  }
 },
 "nbformat": 4,
 "nbformat_minor": 5
}
