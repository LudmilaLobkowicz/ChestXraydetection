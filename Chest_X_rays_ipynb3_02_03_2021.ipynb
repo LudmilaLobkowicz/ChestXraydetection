{
  "nbformat": 4,
  "nbformat_minor": 0,
  "metadata": {
    "colab": {
      "name": "Chest X-rays.ipynb3_02.03.2021",
      "provenance": [],
      "collapsed_sections": []
    },
    "kernelspec": {
      "display_name": "Python 3",
      "language": "python",
      "name": "python3"
    },
    "language_info": {
      "codemirror_mode": {
        "name": "ipython",
        "version": 3
      },
      "file_extension": ".py",
      "mimetype": "text/x-python",
      "name": "python",
      "nbconvert_exporter": "python",
      "pygments_lexer": "ipython3",
      "version": "3.8.6"
    },
    "toc": {
      "base_numbering": 1,
      "nav_menu": {},
      "number_sections": true,
      "sideBar": true,
      "skip_h1_title": false,
      "title_cell": "Table of Contents",
      "title_sidebar": "Contents",
      "toc_cell": false,
      "toc_position": {},
      "toc_section_display": true,
      "toc_window_display": false
    },
    "accelerator": "GPU"
  },
  "cells": [
    {
      "cell_type": "markdown",
      "metadata": {
        "id": "-C5WmpZBRl7F"
      },
      "source": [
        "# X-ray challenge"
      ]
    },
    {
      "cell_type": "code",
      "metadata": {
        "colab": {
          "base_uri": "https://localhost:8080/"
        },
        "id": "aUp_4Rek728C",
        "outputId": "d827b1e7-fe29-40cf-ea79-9848371fcbbf"
      },
      "source": [
        "from google.colab import drive\n",
        "drive.mount('/content/drive')"
      ],
      "execution_count": 1,
      "outputs": [
        {
          "output_type": "stream",
          "text": [
            "Drive already mounted at /content/drive; to attempt to forcibly remount, call drive.mount(\"/content/drive\", force_remount=True).\n"
          ],
          "name": "stdout"
        }
      ]
    },
    {
      "cell_type": "code",
      "metadata": {
        "colab": {
          "base_uri": "https://localhost:8080/"
        },
        "id": "iarICb7msMwo",
        "outputId": "6ff986c7-ffef-4b5d-8958-1c05030fb764"
      },
      "source": [
        "%cd ./drive/MyDrive/raw_data\n",
        "\n"
      ],
      "execution_count": 2,
      "outputs": [
        {
          "output_type": "stream",
          "text": [
            "/content/drive/MyDrive/raw_data\n"
          ],
          "name": "stdout"
        }
      ]
    },
    {
      "cell_type": "code",
      "metadata": {
        "colab": {
          "base_uri": "https://localhost:8080/"
        },
        "id": "rxKOj1-csY4R",
        "outputId": "a46de084-28b6-4082-ffc6-7951b5a2a52c"
      },
      "source": [
        "%ls\n"
      ],
      "execution_count": 3,
      "outputs": [
        {
          "output_type": "stream",
          "text": [
            "\u001b[0m\u001b[01;34mbacterial_pneumonia\u001b[0m/  \u001b[01;34mcovid-19\u001b[0m/  \u001b[01;34mnormal\u001b[0m/  \u001b[01;34mviral_pneumonia\u001b[0m/\n"
          ],
          "name": "stdout"
        }
      ]
    },
    {
      "cell_type": "code",
      "metadata": {
        "id": "WvcxiALQdOML"
      },
      "source": [
        "import numpy as np\n",
        "import os\n",
        "import PIL\n",
        "import PIL.Image\n",
        "import tensorflow as tf\n",
        "import tensorflow_datasets as tfds\n",
        "from matplotlib.pyplot import imread\n",
        "import pathlib"
      ],
      "execution_count": 4,
      "outputs": []
    },
    {
      "cell_type": "code",
      "metadata": {
        "colab": {
          "base_uri": "https://localhost:8080/"
        },
        "id": "DF3ML0Kd1N9n",
        "outputId": "9a89985a-8f74-41e2-fdb4-5e3a43dce08f"
      },
      "source": [
        "print(tf.__version__)"
      ],
      "execution_count": 5,
      "outputs": [
        {
          "output_type": "stream",
          "text": [
            "2.4.1\n"
          ],
          "name": "stdout"
        }
      ]
    },
    {
      "cell_type": "code",
      "metadata": {
        "id": "Wf4GWpcQ4F1l"
      },
      "source": [
        "\n",
        "#data_dir = pathlib.Path(dataset_path)"
      ],
      "execution_count": 6,
      "outputs": []
    },
    {
      "cell_type": "code",
      "metadata": {
        "id": "XLxqQIcrT1JD"
      },
      "source": [
        "dataset_path = \"/content/drive/MyDrive/trainset \""
      ],
      "execution_count": 7,
      "outputs": []
    },
    {
      "cell_type": "code",
      "metadata": {
        "colab": {
          "base_uri": "https://localhost:8080/"
        },
        "id": "c2d_dQen1SVN",
        "outputId": "1a7280e4-778a-43bd-820a-bb36979dca85"
      },
      "source": [
        "train_ds = tf.keras.preprocessing.image_dataset_from_directory(\n",
        "  dataset_path,\n",
        "  validation_split=0.2,\n",
        "  subset=\"training\",\n",
        "  seed=123,\n",
        "  image_size=(224, 224), # TRANFER LEARNING MODEL VGG16 DEMAND S SIZE OF 224, 224 \n",
        "  batch_size=32)"
      ],
      "execution_count": 8,
      "outputs": [
        {
          "output_type": "stream",
          "text": [
            "Found 5316 files belonging to 4 classes.\n",
            "Using 4253 files for training.\n"
          ],
          "name": "stdout"
        }
      ]
    },
    {
      "cell_type": "code",
      "metadata": {
        "id": "03k-PAbWMbUY",
        "colab": {
          "base_uri": "https://localhost:8080/"
        },
        "outputId": "b50f4581-0433-4dd4-b4e5-f5a407eaff8c"
      },
      "source": [
        "train_ds"
      ],
      "execution_count": 9,
      "outputs": [
        {
          "output_type": "execute_result",
          "data": {
            "text/plain": [
              "<BatchDataset shapes: ((None, 224, 224, 3), (None,)), types: (tf.float32, tf.int32)>"
            ]
          },
          "metadata": {
            "tags": []
          },
          "execution_count": 9
        }
      ]
    },
    {
      "cell_type": "code",
      "metadata": {
        "id": "Tr1cgl1Qrr8l",
        "colab": {
          "base_uri": "https://localhost:8080/"
        },
        "outputId": "78250dda-3397-4daf-ceda-5ce9d4682fab"
      },
      "source": [
        "val_ds = tf.keras.preprocessing.image_dataset_from_directory(\n",
        "  dataset_path,\n",
        "  validation_split=0.2,\n",
        "  subset=\"validation\",\n",
        "  seed=123,\n",
        "  image_size=(224, 224),\n",
        "  batch_size=32)"
      ],
      "execution_count": 10,
      "outputs": [
        {
          "output_type": "stream",
          "text": [
            "Found 5316 files belonging to 4 classes.\n",
            "Using 1063 files for validation.\n"
          ],
          "name": "stdout"
        }
      ]
    },
    {
      "cell_type": "code",
      "metadata": {
        "id": "KkuW-GN6S4Aq",
        "colab": {
          "base_uri": "https://localhost:8080/"
        },
        "outputId": "5672ddec-bef5-4e34-f8ab-497148652c71"
      },
      "source": [
        "val_ds"
      ],
      "execution_count": 11,
      "outputs": [
        {
          "output_type": "execute_result",
          "data": {
            "text/plain": [
              "<BatchDataset shapes: ((None, 224, 224, 3), (None,)), types: (tf.float32, tf.int32)>"
            ]
          },
          "metadata": {
            "tags": []
          },
          "execution_count": 11
        }
      ]
    },
    {
      "cell_type": "code",
      "metadata": {
        "id": "FA6312cPti73",
        "colab": {
          "base_uri": "https://localhost:8080/"
        },
        "outputId": "a5626692-a0f8-4dd5-9c6f-49e5890cdc01"
      },
      "source": [
        "class_names = train_ds.class_names\n",
        "print(class_names)"
      ],
      "execution_count": 12,
      "outputs": [
        {
          "output_type": "stream",
          "text": [
            "['bacterial_pneumonia', 'covid-19', 'normal', 'viral_pneumonia']\n"
          ],
          "name": "stdout"
        }
      ]
    },
    {
      "cell_type": "code",
      "metadata": {
        "id": "qnLxnmsy6EQk",
        "colab": {
          "base_uri": "https://localhost:8080/"
        },
        "outputId": "b5faf14f-ad87-4308-9271-c5ae555c6d4a"
      },
      "source": [
        "for image_batch, labels_batch in train_ds:\n",
        "  print(image_batch.shape)\n",
        "  print(labels_batch.shape)\n",
        "  break\n"
      ],
      "execution_count": 13,
      "outputs": [
        {
          "output_type": "stream",
          "text": [
            "(32, 224, 224, 3)\n",
            "(32,)\n"
          ],
          "name": "stdout"
        }
      ]
    },
    {
      "cell_type": "code",
      "metadata": {
        "id": "N5F44Nwou_YA",
        "colab": {
          "base_uri": "https://localhost:8080/"
        },
        "outputId": "9c384cf6-274f-47df-975e-ef617ebd3590"
      },
      "source": [
        "train_ds"
      ],
      "execution_count": 14,
      "outputs": [
        {
          "output_type": "execute_result",
          "data": {
            "text/plain": [
              "<BatchDataset shapes: ((None, 224, 224, 3), (None,)), types: (tf.float32, tf.int32)>"
            ]
          },
          "metadata": {
            "tags": []
          },
          "execution_count": 14
        }
      ]
    },
    {
      "cell_type": "code",
      "metadata": {
        "id": "LU-g7Re1vEAS",
        "colab": {
          "base_uri": "https://localhost:8080/"
        },
        "outputId": "a0b28007-4042-41af-b2b3-88a0cfd3e029"
      },
      "source": [
        "val_ds"
      ],
      "execution_count": 15,
      "outputs": [
        {
          "output_type": "execute_result",
          "data": {
            "text/plain": [
              "<BatchDataset shapes: ((None, 224, 224, 3), (None,)), types: (tf.float32, tf.int32)>"
            ]
          },
          "metadata": {
            "tags": []
          },
          "execution_count": 15
        }
      ]
    },
    {
      "cell_type": "code",
      "metadata": {
        "id": "pPV6ZC4K6Mj8"
      },
      "source": [
        "from tensorflow.keras import layers\n",
        "\n",
        "normalization_layer = tf.keras.layers.experimental.preprocessing.Rescaling(1./255)"
      ],
      "execution_count": 16,
      "outputs": []
    },
    {
      "cell_type": "code",
      "metadata": {
        "id": "IdROctVz666U",
        "colab": {
          "base_uri": "https://localhost:8080/"
        },
        "outputId": "1e11fe16-27f0-4bba-872d-8f0e944ecc63"
      },
      "source": [
        "normalized_train_ds = train_ds.map(lambda x, y: (normalization_layer(x), y))\n",
        "image_batch, labels_batch = next(iter(normalized_train_ds))\n",
        "first_image = image_batch[0]\n",
        "# Notice the pixels values are now in `[0,1]`.\n",
        "print(np.min(first_image), np.max(first_image)) \n"
      ],
      "execution_count": 17,
      "outputs": [
        {
          "output_type": "stream",
          "text": [
            "0.0014705884 0.99819684\n"
          ],
          "name": "stdout"
        }
      ]
    },
    {
      "cell_type": "code",
      "metadata": {
        "id": "mbtVe_kVaHEF",
        "colab": {
          "base_uri": "https://localhost:8080/"
        },
        "outputId": "ac243202-9a52-41d1-ccc3-51d6a2e39678"
      },
      "source": [
        "normalized_train_ds"
      ],
      "execution_count": 18,
      "outputs": [
        {
          "output_type": "execute_result",
          "data": {
            "text/plain": [
              "<MapDataset shapes: ((None, 224, 224, 3), (None,)), types: (tf.float32, tf.int32)>"
            ]
          },
          "metadata": {
            "tags": []
          },
          "execution_count": 18
        }
      ]
    },
    {
      "cell_type": "code",
      "metadata": {
        "id": "M0ueiRUOaNRm",
        "colab": {
          "base_uri": "https://localhost:8080/"
        },
        "outputId": "8aad0b19-4b20-43d0-f117-940af95d6f01"
      },
      "source": [
        "normalized_val_ds = val_ds.map(lambda x, y: (normalization_layer(x), y))\n",
        "image_batch_val, labels_batch_val = next(iter(normalized_val_ds))\n",
        "first_image_val = image_batch_val[0]\n",
        "# Notice the pixels values are now in `[0,1]`.\n",
        "print(np.min(first_image_val), np.max(first_image_val)) "
      ],
      "execution_count": 19,
      "outputs": [
        {
          "output_type": "stream",
          "text": [
            "0.00027508952 0.99957985\n"
          ],
          "name": "stdout"
        }
      ]
    },
    {
      "cell_type": "code",
      "metadata": {
        "id": "fE6_OmBFFZil"
      },
      "source": [
        "#AUTOTUNE = tf.data.AUTOTUNE\n",
        "\n",
        "#train_ds = train_ds.cache().prefetch(buffer_size=AUTOTUNE)\n",
        "#val_ds = val_ds.cache().prefetch(buffer_size=AUTOTUNE)"
      ],
      "execution_count": 20,
      "outputs": []
    },
    {
      "cell_type": "code",
      "metadata": {
        "id": "7UQYRwHdEP8c"
      },
      "source": [
        "from tensorflow.keras.applications.vgg16 import VGG16\n",
        "\n",
        "def load_model():\n",
        "   model = VGG16(weights=\"imagenet\", include_top=False, input_shape=X_train[0].shape) \n",
        "   return model"
      ],
      "execution_count": 21,
      "outputs": []
    },
    {
      "cell_type": "code",
      "metadata": {
        "id": "Ih5cuYwBFsJp"
      },
      "source": [
        "num_classes = 4\n",
        "\n",
        "model = tf.keras.Sequential([\n",
        "  layers.experimental.preprocessing.Rescaling(1./255),\n",
        "  layers.Conv2D(32, 3, activation='relu'),\n",
        "  layers.MaxPooling2D(),\n",
        "  layers.Conv2D(32, 3, activation='relu'),\n",
        "  layers.MaxPooling2D(),\n",
        "  layers.Conv2D(32, 3, activation='relu'),\n",
        "  layers.MaxPooling2D(),\n",
        "  layers.Flatten(),\n",
        "  layers.Dense(128, activation='relu'),\n",
        "  layers.Dense(num_classes)\n",
        "])"
      ],
      "execution_count": 22,
      "outputs": []
    },
    {
      "cell_type": "code",
      "metadata": {
        "id": "z0NmR5kgnjnY"
      },
      "source": [
        "model.compile(\n",
        "  optimizer='adam',\n",
        "  loss= tf.losses.SparseCategoricalCrossentropy(from_logits=True),\n",
        "  metrics=['accuracy'])"
      ],
      "execution_count": 23,
      "outputs": []
    },
    {
      "cell_type": "code",
      "metadata": {
        "id": "A7bEvAW8qnD5"
      },
      "source": [
        "from tensorflow.keras import callbacks\n",
        "\n",
        "es = callbacks.EarlyStopping(patience=20, restore_best_weights=True)"
      ],
      "execution_count": 24,
      "outputs": []
    },
    {
      "cell_type": "code",
      "metadata": {
        "id": "pKTeGpUnnnk0",
        "colab": {
          "base_uri": "https://localhost:8080/"
        },
        "outputId": "a7ffb673-4769-4955-9131-14be6eb9a9d3"
      },
      "source": [
        "history = model.fit(normalized_train_ds,\n",
        "          batch_size=32,\n",
        "          epochs=100,\n",
        "          validation_data=normalized_val_ds,\n",
        "          callbacks=[es])"
      ],
      "execution_count": 25,
      "outputs": [
        {
          "output_type": "stream",
          "text": [
            "Epoch 1/100\n",
            "133/133 [==============================] - 1084s 8s/step - loss: 1.3382 - accuracy: 0.3819 - val_loss: 1.3513 - val_accuracy: 0.3857\n",
            "Epoch 2/100\n",
            "133/133 [==============================] - 64s 460ms/step - loss: 1.2687 - accuracy: 0.4287 - val_loss: 0.7200 - val_accuracy: 0.7065\n",
            "Epoch 3/100\n",
            "133/133 [==============================] - 62s 450ms/step - loss: 0.6516 - accuracy: 0.7304 - val_loss: 0.6282 - val_accuracy: 0.7394\n",
            "Epoch 4/100\n",
            "133/133 [==============================] - 61s 441ms/step - loss: 0.5834 - accuracy: 0.7645 - val_loss: 0.6359 - val_accuracy: 0.7366\n",
            "Epoch 5/100\n",
            "133/133 [==============================] - 62s 448ms/step - loss: 0.5366 - accuracy: 0.7763 - val_loss: 0.5779 - val_accuracy: 0.7686\n",
            "Epoch 6/100\n",
            "133/133 [==============================] - 60s 438ms/step - loss: 0.5366 - accuracy: 0.7645 - val_loss: 0.5656 - val_accuracy: 0.7742\n",
            "Epoch 7/100\n",
            "133/133 [==============================] - 61s 441ms/step - loss: 0.5116 - accuracy: 0.7774 - val_loss: 0.5812 - val_accuracy: 0.7488\n",
            "Epoch 8/100\n",
            "133/133 [==============================] - 63s 454ms/step - loss: 0.4982 - accuracy: 0.7921 - val_loss: 0.5651 - val_accuracy: 0.7676\n",
            "Epoch 9/100\n",
            "133/133 [==============================] - 61s 443ms/step - loss: 0.4930 - accuracy: 0.7947 - val_loss: 0.5346 - val_accuracy: 0.7874\n",
            "Epoch 10/100\n",
            "133/133 [==============================] - 61s 444ms/step - loss: 0.4809 - accuracy: 0.7982 - val_loss: 0.5509 - val_accuracy: 0.7742\n",
            "Epoch 11/100\n",
            "133/133 [==============================] - 63s 460ms/step - loss: 0.4606 - accuracy: 0.8049 - val_loss: 0.6091 - val_accuracy: 0.7413\n",
            "Epoch 12/100\n",
            "133/133 [==============================] - 62s 450ms/step - loss: 0.4744 - accuracy: 0.8010 - val_loss: 0.5391 - val_accuracy: 0.7855\n",
            "Epoch 13/100\n",
            "133/133 [==============================] - 64s 464ms/step - loss: 0.4491 - accuracy: 0.8085 - val_loss: 0.5674 - val_accuracy: 0.7846\n",
            "Epoch 14/100\n",
            "133/133 [==============================] - 64s 464ms/step - loss: 0.4536 - accuracy: 0.8112 - val_loss: 0.5395 - val_accuracy: 0.7987\n",
            "Epoch 15/100\n",
            "133/133 [==============================] - 62s 445ms/step - loss: 0.4495 - accuracy: 0.8070 - val_loss: 0.5486 - val_accuracy: 0.7855\n",
            "Epoch 16/100\n",
            "133/133 [==============================] - 61s 443ms/step - loss: 0.4316 - accuracy: 0.8177 - val_loss: 0.5193 - val_accuracy: 0.7968\n",
            "Epoch 17/100\n",
            "133/133 [==============================] - 63s 453ms/step - loss: 0.4255 - accuracy: 0.8161 - val_loss: 0.5668 - val_accuracy: 0.7780\n",
            "Epoch 18/100\n",
            "133/133 [==============================] - 62s 450ms/step - loss: 0.4307 - accuracy: 0.8157 - val_loss: 0.6195 - val_accuracy: 0.7629\n",
            "Epoch 19/100\n",
            "133/133 [==============================] - 62s 446ms/step - loss: 0.4365 - accuracy: 0.8150 - val_loss: 0.5691 - val_accuracy: 0.7761\n",
            "Epoch 20/100\n",
            "133/133 [==============================] - 63s 457ms/step - loss: 0.4178 - accuracy: 0.8213 - val_loss: 0.5775 - val_accuracy: 0.7676\n",
            "Epoch 21/100\n",
            "133/133 [==============================] - 61s 444ms/step - loss: 0.4026 - accuracy: 0.8273 - val_loss: 0.5345 - val_accuracy: 0.7959\n",
            "Epoch 22/100\n",
            "133/133 [==============================] - 61s 444ms/step - loss: 0.3952 - accuracy: 0.8288 - val_loss: 0.5628 - val_accuracy: 0.7846\n",
            "Epoch 23/100\n",
            "133/133 [==============================] - 62s 449ms/step - loss: 0.3941 - accuracy: 0.8309 - val_loss: 0.5460 - val_accuracy: 0.7996\n",
            "Epoch 24/100\n",
            "133/133 [==============================] - 62s 446ms/step - loss: 0.3793 - accuracy: 0.8378 - val_loss: 0.5652 - val_accuracy: 0.7930\n",
            "Epoch 25/100\n",
            "133/133 [==============================] - 61s 443ms/step - loss: 0.3635 - accuracy: 0.8405 - val_loss: 0.5851 - val_accuracy: 0.7733\n",
            "Epoch 26/100\n",
            "133/133 [==============================] - 62s 449ms/step - loss: 0.3990 - accuracy: 0.8341 - val_loss: 0.5602 - val_accuracy: 0.7959\n",
            "Epoch 27/100\n",
            "133/133 [==============================] - 62s 448ms/step - loss: 0.3652 - accuracy: 0.8428 - val_loss: 0.5490 - val_accuracy: 0.7865\n",
            "Epoch 28/100\n",
            "133/133 [==============================] - 62s 445ms/step - loss: 0.3759 - accuracy: 0.8333 - val_loss: 0.5661 - val_accuracy: 0.8043\n",
            "Epoch 29/100\n",
            "133/133 [==============================] - 62s 452ms/step - loss: 0.3464 - accuracy: 0.8513 - val_loss: 0.5592 - val_accuracy: 0.7987\n",
            "Epoch 30/100\n",
            "133/133 [==============================] - 61s 441ms/step - loss: 0.3445 - accuracy: 0.8533 - val_loss: 0.5926 - val_accuracy: 0.7912\n",
            "Epoch 31/100\n",
            "133/133 [==============================] - 61s 442ms/step - loss: 0.3411 - accuracy: 0.8539 - val_loss: 0.6075 - val_accuracy: 0.7874\n",
            "Epoch 32/100\n",
            "133/133 [==============================] - 63s 452ms/step - loss: 0.3232 - accuracy: 0.8601 - val_loss: 0.5898 - val_accuracy: 0.7921\n",
            "Epoch 33/100\n",
            "133/133 [==============================] - 62s 446ms/step - loss: 0.3191 - accuracy: 0.8621 - val_loss: 0.6365 - val_accuracy: 0.7770\n",
            "Epoch 34/100\n",
            "133/133 [==============================] - 61s 443ms/step - loss: 0.3107 - accuracy: 0.8613 - val_loss: 0.6899 - val_accuracy: 0.7639\n",
            "Epoch 35/100\n",
            "133/133 [==============================] - 63s 454ms/step - loss: 0.3218 - accuracy: 0.8647 - val_loss: 0.6363 - val_accuracy: 0.7808\n",
            "Epoch 36/100\n",
            "133/133 [==============================] - 62s 446ms/step - loss: 0.2952 - accuracy: 0.8699 - val_loss: 0.6563 - val_accuracy: 0.7827\n"
          ],
          "name": "stdout"
        }
      ]
    },
    {
      "cell_type": "code",
      "metadata": {
        "id": "hcZsSx4EN8HR"
      },
      "source": [
        "def plot_history(history, title='', axs=None, exp_name=\"\"):\n",
        "    if axs is not None:\n",
        "        ax1, ax2 = axs\n",
        "    else:\n",
        "        f, (ax1, ax2) = plt.subplots(1, 2, figsize=(12, 4))\n",
        "    \n",
        "    if len(exp_name) > 0 and exp_name[0] != '_':\n",
        "        exp_name = '_' + exp_name\n",
        "    ax1.plot(history.history['loss'], label='train' + exp_name)\n",
        "    ax1.plot(history.history['val_loss'], label='val' + exp_name)\n",
        "    ax1.set_ylim(0., 2.2)\n",
        "    ax1.set_title('loss')\n",
        "    ax1.legend()\n",
        "\n",
        "    ax2.plot(history.history['accuracy'], label='train accuracy'  + exp_name)\n",
        "    ax2.plot(history.history['val_accuracy'], label='val accuracy'  + exp_name)\n",
        "    ax2.set_ylim(0.25, 1.)\n",
        "    ax2.set_title('Accuracy')\n",
        "    ax2.legend()\n",
        "    return (ax1, ax2)"
      ],
      "execution_count": 28,
      "outputs": []
    },
    {
      "cell_type": "code",
      "metadata": {
        "id": "RVxc0PgnN-9R",
        "colab": {
          "base_uri": "https://localhost:8080/",
          "height": 281
        },
        "outputId": "5b6e28d2-ec84-4245-e955-4a0a0334d686"
      },
      "source": [
        "import matplotlib.pyplot as plt\n",
        "\n",
        "plot_history(history)\n",
        "plt.show()"
      ],
      "execution_count": 30,
      "outputs": [
        {
          "output_type": "display_data",
          "data": {
            "image/png": "[encoded data removed]",
            "text/plain": [
              "<Figure size 864x288 with 2 Axes>"
            ]
          },
          "metadata": {
            "tags": [],
            "needs_background": "light"
          }
        }
      ]
    },
    {
      "cell_type": "code",
      "metadata": {
        "id": "in5ykHu0R48C",
        "colab": {
          "base_uri": "https://localhost:8080/"
        },
        "outputId": "2374d4be-a38b-41f5-df17-87c8e1ae24ea"
      },
      "source": [
        "from tensorflow.keras import models\n",
        "\n",
        "# Let's say that you have a `model`\n",
        "# You can save it :\n",
        "models.save_model(model, '/content/drive/MyDrive/models/my_model')"
      ],
      "execution_count": 31,
      "outputs": [
        {
          "output_type": "stream",
          "text": [
            "INFO:tensorflow:Assets written to: /content/drive/MyDrive/models/my_model/assets\n"
          ],
          "name": "stdout"
        }
      ]
    },
    {
      "cell_type": "code",
      "metadata": {
        "id": "Nkoh1GI5YttW"
      },
      "source": [
        "# and you can load it somewhere else :\n",
        "#loaded_model = models.load_model('my_model')"
      ],
      "execution_count": null,
      "outputs": []
    },
    {
      "cell_type": "code",
      "metadata": {
        "id": "wY8oTWwLRQud"
      },
      "source": [
        "#res = model.evaluate(X_test, y_test, verbose=0)\n",
        "\n",
        "#print(f'The accuracy is of {res[1]*100:.3f}% compared to a chance level of {1./len(labels)*100} %')"
      ],
      "execution_count": null,
      "outputs": []
    }
  ]
}