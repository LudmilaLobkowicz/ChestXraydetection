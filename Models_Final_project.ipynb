{
 "cells": [
  {
   "cell_type": "markdown",
   "id": "successful-fossil",
   "metadata": {},
   "source": [
    "# Models"
   ]
  },
  {
   "cell_type": "markdown",
   "id": "ideal-import",
   "metadata": {
    "ExecuteTime": {
     "end_time": "2021-03-04T13:12:51.382520Z",
     "start_time": "2021-03-04T13:12:51.303955Z"
    },
    "heading_collapsed": true
   },
   "source": [
    "## Params Table"
   ]
  },
  {
   "cell_type": "code",
   "execution_count": null,
   "id": "atmospheric-season",
   "metadata": {
    "ExecuteTime": {
     "end_time": "2021-03-05T12:04:04.801467Z",
     "start_time": "2021-03-05T12:04:04.729921Z"
    },
    "hidden": true
   },
   "outputs": [],
   "source": [
    "from IPython.display import HTML, display\n",
    "import tabulate\n",
    "\n",
    "table = [[\"Params\",\"Conv\",\"MaxPool\",\"Flatten\",\"Dense\", \"Dropout\", \"Final Dense\", \"Accuracy\",\"M.F1\",\"AUC\",\"Conf Matrix\"],\n",
    "         [\"Model_1\",\"3(32,3)\",3,1,\"1(128)\",0,1,0.8],\n",
    "         [\"Model_2\",3,3,1,1,0,1,0.8, 0.5],\n",
    "         [\"Model_3\",\"3p\",3,1,\"2(120 & 60)\",0.5,1,0.8],\n",
    "         [\"Model_4\",\"2p\",2,1,\"2(120 & 60)\",0.5,1,0.8],\n",
    "         [\"New_L\",2,2,1,2,1,1,0.8, 0.5],\n",
    "         [\"New_D\",2,2,1,2,1,1,0.8, 0.5],\n",
    "         [\"New_S\",2,2,1,2,1,1,0.8, 0.5]]\n",
    "\n",
    "display(HTML(tabulate.tabulate(table, tablefmt='html')))"
   ]
  },
  {
   "cell_type": "code",
   "execution_count": null,
   "id": "trying-efficiency",
   "metadata": {
    "ExecuteTime": {
     "end_time": "2021-03-05T12:04:04.822770Z",
     "start_time": "2021-03-05T12:04:04.807503Z"
    },
    "hidden": true
   },
   "outputs": [],
   "source": [
    " model = models.Sequential()\n",
    "    model.add(layers.Conv2D(32, (3, 3), padding='same', input_shape=(256, 256, 3), activation='relu'))\n",
    "    model.add(layers.MaxPooling2D(pool_size=(2, 2)))\n",
    "\n",
    "    model.add(layers.Conv2D(64, (2, 2), padding='same', activation='relu'))\n",
    "    model.add(layers.MaxPooling2D(pool_size=(2, 2)))\n",
    "\n",
    "    model.add(layers.Flatten())\n",
    "    model.add(layers.Dense(120, activation='relu'))\n",
    "    model.add(layers.Dense(60, activation='relu'))\n",
    "    model.add(layers.Dropout(0.5))\n",
    "    model.add(layers.Dense(4, activation='softmax'))"
   ]
  },
  {
   "cell_type": "markdown",
   "id": "ranging-watson",
   "metadata": {},
   "source": [
    "## Prep Data"
   ]
  },
  {
   "cell_type": "markdown",
   "id": "atomic-country",
   "metadata": {
    "ExecuteTime": {
     "end_time": "2021-03-04T13:26:38.180353Z",
     "start_time": "2021-03-04T13:26:38.130052Z"
    }
   },
   "source": [
    "### Load Variables"
   ]
  },
  {
   "cell_type": "code",
   "execution_count": null,
   "id": "complicated-quarterly",
   "metadata": {
    "ExecuteTime": {
     "end_time": "2021-03-05T12:04:04.867683Z",
     "start_time": "2021-03-05T12:04:04.729Z"
    }
   },
   "outputs": [],
   "source": [
    "# pickle.dumps(, protocol=None, *, fix_imports=True, buffer_callback=None)"
   ]
  },
  {
   "cell_type": "code",
   "execution_count": null,
   "id": "communist-russia",
   "metadata": {
    "ExecuteTime": {
     "end_time": "2021-03-05T16:59:05.294158Z",
     "start_time": "2021-03-05T16:59:05.284865Z"
    }
   },
   "outputs": [],
   "source": [
    "#import pickle\n",
    "#file = open('y_cat', 'rb')\n",
    "\n",
    "# dump information to that file\n",
    "#y_cat = pickle.load(file)\n",
    "\n",
    "# close the file\n",
    "#file.close()"
   ]
  },
  {
   "cell_type": "code",
   "execution_count": 1,
   "id": "later-karma",
   "metadata": {
    "ExecuteTime": {
     "end_time": "2021-03-05T16:59:26.165532Z",
     "start_time": "2021-03-05T16:59:19.893171Z"
    }
   },
   "outputs": [],
   "source": [
    "import os\n",
    "import numpy as np\n",
    "import pandas as pd\n",
    "from matplotlib.pyplot import imread\n",
    "import matplotlib.pyplot as plt\n",
    "\n",
    "from PIL import Image\n",
    "import PIL\n",
    "#import tensorflow as tf\n",
    "import seaborn as sns\n",
    "#from tensorflow.keras.utils import to_categorical\n",
    "from tqdm import tqdm"
   ]
  },
  {
   "cell_type": "code",
   "execution_count": 11,
   "metadata": {},
   "outputs": [],
   "source": [
    "labels = os.listdir('raw data')"
   ]
  },
  {
   "cell_type": "code",
   "execution_count": 12,
   "metadata": {},
   "outputs": [
    {
     "data": {
      "text/plain": [
       "['.DS_Store', 'viral_pneumonia', 'covid-19', 'bacterial_pneumonia', 'normal']"
      ]
     },
     "execution_count": 12,
     "metadata": {},
     "output_type": "execute_result"
    }
   ],
   "source": [
    "labels"
   ]
  },
  {
   "cell_type": "code",
   "execution_count": 18,
   "metadata": {},
   "outputs": [],
   "source": [
    "labels = os.listdir('raw data/covid-19')"
   ]
  },
  {
   "cell_type": "code",
   "execution_count": 20,
   "metadata": {},
   "outputs": [],
   "source": [
    "labels.remove('.DS_Store')"
   ]
  },
  {
   "cell_type": "code",
   "execution_count": null,
   "metadata": {},
   "outputs": [],
   "source": []
  },
  {
   "cell_type": "code",
   "execution_count": null,
   "metadata": {},
   "outputs": [],
   "source": []
  },
  {
   "cell_type": "code",
   "execution_count": 14,
   "metadata": {},
   "outputs": [
    {
     "data": {
      "text/plain": [
       "['viral_pneumonia', 'covid-19', 'bacterial_pneumonia', 'normal']"
      ]
     },
     "execution_count": 14,
     "metadata": {},
     "output_type": "execute_result"
    }
   ],
   "source": [
    "labels"
   ]
  },
  {
   "cell_type": "code",
   "execution_count": 30,
   "metadata": {},
   "outputs": [],
   "source": [
    "Labels2 = os.listdir('raw data/covid-19')"
   ]
  },
  {
   "cell_type": "code",
   "execution_count": 32,
   "metadata": {},
   "outputs": [],
   "source": [
    "Labels2 = Labels2.remove('.DS_Store')"
   ]
  },
  {
   "cell_type": "code",
   "execution_count": 37,
   "metadata": {},
   "outputs": [],
   "source": [
    "! rm 'raw data/covid-19/.DS_Store'"
   ]
  },
  {
   "cell_type": "code",
   "execution_count": 41,
   "metadata": {},
   "outputs": [],
   "source": [
    "! rm 'raw data/bacterial_pneumonia/.DS_Store'"
   ]
  },
  {
   "cell_type": "code",
   "execution_count": 42,
   "metadata": {},
   "outputs": [
    {
     "name": "stdout",
     "output_type": "stream",
     "text": [
      "rm: raw data/normal/.DS_Store: No such file or directory\r\n"
     ]
    }
   ],
   "source": [
    "! rm 'raw data/normal/.DS_Store'"
   ]
  },
  {
   "cell_type": "code",
   "execution_count": 44,
   "metadata": {},
   "outputs": [
    {
     "name": "stdout",
     "output_type": "stream",
     "text": [
      "\u001b[1m\u001b[36m.\u001b[m\u001b[m                             person299_bacteria_1414.jpeg\r\n",
      "\u001b[1m\u001b[36m..\u001b[m\u001b[m                            person299_bacteria_1416.jpeg\r\n",
      "0 (2).jpeg                    person299_bacteria_1417.jpeg\r\n",
      "1 (2).jpeg                    person299_bacteria_1418.jpeg\r\n",
      "100 (2).jpeg                  person299_bacteria_1419.jpeg\r\n",
      "101 (2).jpeg                  person29_bacteria_144.jpeg\r\n",
      "102 (2).jpeg                  person2_bacteria_3.jpeg\r\n",
      "103 (2).jpeg                  person2_bacteria_4.jpeg\r\n",
      "104 (2).jpeg                  person300_bacteria_1421.jpeg\r\n",
      "105 (2).jpeg                  person300_bacteria_1422.jpeg\r\n",
      "106 (2).jpeg                  person300_bacteria_1423.jpeg\r\n",
      "107 (2).jpeg                  person301_bacteria_1424.jpeg\r\n",
      "108 (2).jpeg                  person301_bacteria_1427.jpeg\r\n",
      "109 (2).jpeg                  person301_bacteria_1428.jpeg\r\n",
      "11 (2).jpeg                   person301_bacteria_1429.jpeg\r\n",
      "110 (2).jpeg                  person302_bacteria_1430.jpeg\r\n",
      "111 (2).jpeg                  person303_bacteria_1431.jpeg\r\n",
      "112 (2).jpeg                  person305_bacteria_1435.jpeg\r\n",
      "113 (2).jpeg                  person305_bacteria_1436.jpeg\r\n",
      "114 (2).jpeg                  person305_bacteria_1437.jpeg\r\n",
      "115 (2).jpeg                  person306_bacteria_1439.jpeg\r\n",
      "116 (2).jpeg                  person306_bacteria_1440.jpeg\r\n",
      "117 (2).jpeg                  person307_bacteria_1441.jpeg\r\n",
      "118 (2).jpeg                  person307_bacteria_1442.jpeg\r\n",
      "119 (2).jpeg                  person308_bacteria_1443.jpeg\r\n",
      "12 (2).jpeg                   person308_bacteria_1445.jpeg\r\n",
      "120 (2).jpeg                  person309_bacteria_1447.jpeg\r\n",
      "121 (2).jpeg                  person309_bacteria_1449.jpeg\r\n",
      "122 (2).jpeg                  person30_bacteria_145.jpeg\r\n",
      "123 (2).jpeg                  person30_bacteria_146.jpeg\r\n",
      "124 (2).jpeg                  person30_bacteria_147.jpeg\r\n",
      "125 (2).jpeg                  person30_bacteria_148.jpeg\r\n",
      "126 (2).jpeg                  person30_bacteria_149.jpeg\r\n",
      "127 (2).jpeg                  person30_bacteria_150.jpeg\r\n",
      "128 (2).jpeg                  person30_bacteria_151.jpeg\r\n",
      "129 (2).jpeg                  person30_bacteria_152.jpeg\r\n",
      "13 (2).jpeg                   person30_bacteria_153.jpeg\r\n",
      "130 (2).jpeg                  person30_bacteria_154.jpeg\r\n",
      "131 (2).jpeg                  person30_bacteria_155.jpeg\r\n",
      "132 (2).jpeg                  person30_bacteria_157.jpeg\r\n",
      "133 (2).jpeg                  person30_bacteria_158.jpeg\r\n",
      "134 (2).jpeg                  person310_bacteria_1450.jpeg\r\n",
      "135 (2).jpeg                  person310_bacteria_1451.jpeg\r\n",
      "136 (2).jpeg                  person311_bacteria_1452.jpeg\r\n",
      "137 (2).jpeg                  person311_bacteria_1453.jpeg\r\n",
      "138 (2).jpeg                  person312_bacteria_1454.jpeg\r\n",
      "139 (2).jpeg                  person312_bacteria_1455.jpeg\r\n",
      "14 (2).jpeg                   person312_bacteria_1456.jpeg\r\n",
      "140 (2).jpeg                  person313_bacteria_1457.jpeg\r\n",
      "141 (2).jpeg                  person313_bacteria_1458.jpeg\r\n",
      "142 (2).jpeg                  person313_bacteria_1459.jpeg\r\n",
      "143 (2).jpeg                  person313_bacteria_1460.jpeg\r\n",
      "144 (2).jpeg                  person314_bacteria_1461.jpeg\r\n",
      "145 (2).jpeg                  person314_bacteria_1462.jpeg\r\n",
      "146 (2).jpeg                  person315_bacteria_1464.jpeg\r\n",
      "147 (2).jpeg                  person315_bacteria_1465.jpeg\r\n",
      "148 (2).jpeg                  person315_bacteria_1466.jpeg\r\n",
      "149 (2).jpeg                  person315_bacteria_1467.jpeg\r\n",
      "15 (2).jpeg                   person315_bacteria_1468.jpeg\r\n",
      "150 (2).jpeg                  person316_bacteria_1469.jpeg\r\n",
      "151 (2).jpeg                  person316_bacteria_1470.jpeg\r\n",
      "152 (2).jpeg                  person317_bacteria_1471.jpeg\r\n",
      "153 (2).jpeg                  person317_bacteria_1473.jpeg\r\n",
      "154 (2).jpeg                  person318_bacteria_1474.jpeg\r\n",
      "155 (2).jpeg                  person319_bacteria_1475.jpeg\r\n",
      "156 (2).jpeg                  person319_bacteria_1476.jpeg\r\n",
      "157 (2).jpeg                  person319_bacteria_1477.jpeg\r\n",
      "158 (2).jpeg                  person319_bacteria_1478.jpeg\r\n",
      "159 (2).jpeg                  person319_bacteria_1479.jpeg\r\n",
      "16 (2).jpeg                   person319_bacteria_1480.jpeg\r\n",
      "160 (2).jpeg                  person31_bacteria_160.jpeg\r\n",
      "161 (2).jpeg                  person31_bacteria_161.jpeg\r\n",
      "162 (2).jpeg                  person31_bacteria_162.jpeg\r\n",
      "163 (2).jpeg                  person31_bacteria_163.jpeg\r\n",
      "164 (2).jpeg                  person31_bacteria_164.jpeg\r\n",
      "165 (2).jpeg                  person321_bacteria_1483.jpeg\r\n",
      "166 (2).jpeg                  person321_bacteria_1484.jpeg\r\n",
      "167 (2).jpeg                  person321_bacteria_1485.jpeg\r\n",
      "168 (2).jpeg                  person321_bacteria_1486.jpeg\r\n",
      "169 (2).jpeg                  person321_bacteria_1487.jpeg\r\n",
      "17 (2).jpeg                   person321_bacteria_1488.jpeg\r\n",
      "170 (2).jpeg                  person321_bacteria_1489.jpeg\r\n",
      "171 (2).jpeg                  person322_bacteria_1494.jpeg\r\n",
      "172 (2).jpeg                  person325_bacteria_1497.jpeg\r\n",
      "173 (2).jpeg                  person325_bacteria_1498.jpeg\r\n",
      "174 (2).jpeg                  person325_bacteria_1500.jpeg\r\n",
      "175 (2).jpeg                  person325_bacteria_1501.jpeg\r\n",
      "176 (2).jpeg                  person325_bacteria_1502.jpeg\r\n",
      "177 (2).jpeg                  person326_bacteria_1503.jpeg\r\n",
      "178 (2).jpeg                  person326_bacteria_1504.jpeg\r\n",
      "179 (2).jpeg                  person326_bacteria_1505.jpeg\r\n",
      "18 (2).jpeg                   person326_bacteria_1506.jpeg\r\n",
      "180 (2).jpeg                  person326_bacteria_1507.jpeg\r\n",
      "181 (2).jpeg                  person327_bacteria_1508.jpeg\r\n",
      "182 (2).jpeg                  person327_bacteria_1509.jpeg\r\n",
      "183 (2).jpeg                  person328_bacteria_1510.jpeg\r\n",
      "184 (2).jpeg                  person328_bacteria_1511.jpeg\r\n",
      "185 (2).jpeg                  person328_bacteria_1512.jpeg\r\n",
      "186 (2).jpeg                  person328_bacteria_1513.jpeg\r\n",
      "187 (2).jpeg                  person328_bacteria_1514.jpeg\r\n",
      "188 (2).jpeg                  person328_bacteria_1515.jpeg\r\n",
      "189 (2).jpeg                  person32_bacteria_165.jpeg\r\n",
      "19 (2).jpeg                   person32_bacteria_166.jpeg\r\n",
      "190 (2).jpeg                  person331_bacteria_1526.jpeg\r\n",
      "191 (2).jpeg                  person331_bacteria_1527.jpeg\r\n",
      "192 (2).jpeg                  person331_bacteria_1528.jpeg\r\n",
      "193 (2).jpeg                  person331_bacteria_1529.jpeg\r\n",
      "194 (2).jpeg                  person331_bacteria_1530.jpeg\r\n",
      "195 (2).jpeg                  person332_bacteria_1531.jpeg\r\n",
      "196 (2).jpeg                  person332_bacteria_1533.jpeg\r\n",
      "197 (2).jpeg                  person332_bacteria_1534.jpeg\r\n",
      "198 (2).jpeg                  person332_bacteria_1535.jpeg\r\n",
      "199 (2).jpeg                  person332_bacteria_1536.jpeg\r\n",
      "2 (2).jpeg                    person332_bacteria_1537.jpeg\r\n",
      "20 (2).jpeg                   person332_bacteria_1538.jpeg\r\n",
      "200 (2).jpeg                  person333_bacteria_1539.jpeg\r\n",
      "201 (2).jpeg                  person333_bacteria_1540.jpeg\r\n",
      "202 (2).jpeg                  person334_bacteria_1541.jpeg\r\n",
      "203 (2).jpeg                  person334_bacteria_1542.jpeg\r\n",
      "204 (2).jpeg                  person334_bacteria_1544.jpeg\r\n",
      "205 (2).jpeg                  person334_bacteria_1545.jpeg\r\n",
      "206 (2).jpeg                  person336_bacteria_1548.jpeg\r\n",
      "207 (2).jpeg                  person336_bacteria_1549.jpeg\r\n",
      "208 (2).jpeg                  person336_bacteria_1550.jpeg\r\n",
      "209 (2).jpeg                  person336_bacteria_1551.jpeg\r\n",
      "21 (2).jpeg                   person336_bacteria_1552.jpeg\r\n",
      "210 (2).jpeg                  person336_bacteria_1553.jpeg\r\n",
      "211 (2).jpeg                  person337_bacteria_1554.jpeg\r\n",
      "212 (2).jpeg                  person337_bacteria_1557.jpeg\r\n",
      "213 (2).jpeg                  person337_bacteria_1558.jpeg\r\n",
      "214 (2).jpeg                  person337_bacteria_1560.jpeg\r\n",
      "215 (2).jpeg                  person337_bacteria_1561.jpeg\r\n",
      "216 (2).jpeg                  person337_bacteria_1562.jpeg\r\n",
      "217 (2).jpeg                  person337_bacteria_1563.jpeg\r\n",
      "218 (2).jpeg                  person337_bacteria_1564.jpeg\r\n",
      "219 (2).jpeg                  person337_bacteria_1565.jpeg\r\n",
      "22 (2).jpeg                   person337_bacteria_1566.jpeg\r\n",
      "220 (2).jpeg                  person338_bacteria_1567.jpeg\r\n",
      "221 (2).jpeg                  person338_bacteria_1568.jpeg\r\n",
      "222 (2).jpeg                  person339_bacteria_1572.jpeg\r\n",
      "223 (2).jpeg                  person339_bacteria_1573.jpeg\r\n",
      "224 (2).jpeg                  person339_bacteria_1574.jpeg\r\n",
      "225 (2).jpeg                  person33_bacteria_169.jpeg\r\n",
      "226 (2).jpeg                  person33_bacteria_172.jpeg\r\n",
      "227 (2).jpeg                  person33_bacteria_173.jpeg\r\n",
      "228 (2).jpeg                  person33_bacteria_174.jpeg\r\n",
      "229 (2).jpeg                  person33_bacteria_175.jpeg\r\n",
      "23 (2).jpeg                   person340_bacteria_1575.jpeg\r\n",
      "230 (2).jpeg                  person341_bacteria_1577.jpeg\r\n",
      "231 (2).jpeg                  person343_bacteria_1583.jpeg\r\n",
      "232 (2).jpeg                  person343_bacteria_1584.jpeg\r\n",
      "233 (2).jpeg                  person344_bacteria_1585.jpeg\r\n",
      "234 (2).jpeg                  person346_bacteria_1590.jpeg\r\n",
      "235 (2).jpeg                  person347_bacteria_1594.jpeg\r\n",
      "236 (2).jpeg                  person347_bacteria_1595.jpeg\r\n",
      "237 (2).jpeg                  person347_bacteria_1597.jpeg\r\n",
      "238 (2).jpeg                  person347_bacteria_1599.jpeg\r\n",
      "239 (2).jpeg                  person348_bacteria_1601.jpeg\r\n",
      "24 (2).jpeg                   person348_bacteria_1602.jpeg\r\n",
      "240 (2).jpeg                  person348_bacteria_1603.jpeg\r\n",
      "241 (2).jpeg                  person348_bacteria_1604.jpeg\r\n",
      "242 (2).jpeg                  person349_bacteria_1605.jpeg\r\n",
      "243 (2).jpeg                  person349_bacteria_1606.jpeg\r\n",
      "244 (2).jpeg                  person349_bacteria_1607.jpeg\r\n",
      "245 (2).jpeg                  person34_bacteria_176.jpeg\r\n",
      "246 (2).jpeg                  person351_bacteria_1617.jpeg\r\n",
      "247 (2).jpeg                  person351_bacteria_1619.jpeg\r\n",
      "248 (2).jpeg                  person351_bacteria_1620.jpeg\r\n",
      "249 (2).jpeg                  person351_bacteria_1621.jpeg\r\n",
      "25 (2).jpeg                   person351_bacteria_1622.jpeg\r\n",
      "250 (2).jpeg                  person351_bacteria_1623.jpeg\r\n",
      "251 (2).jpeg                  person351_bacteria_1624.jpeg\r\n",
      "252 (2).jpeg                  person352_bacteria_1625.jpeg\r\n",
      "253 (2).jpeg                  person353_bacteria_1626.jpeg\r\n",
      "254 (2).jpeg                  person353_bacteria_1628.jpeg\r\n",
      "255 (2).jpeg                  person354_bacteria_1632.jpeg\r\n",
      "257 (2).jpeg                  person354_bacteria_1633.jpeg\r\n",
      "258 (2).jpeg                  person354_bacteria_1634.jpeg\r\n",
      "259 (2).jpeg                  person354_bacteria_1635.jpeg\r\n",
      "26 (2).jpeg                   person355_bacteria_1637.jpeg\r\n",
      "260 (2).jpeg                  person356_bacteria_1638.jpeg\r\n",
      "261 (2).jpeg                  person357_bacteria_1639.jpeg\r\n",
      "262 (2).jpeg                  person357_bacteria_1640.jpeg\r\n",
      "263 (2).jpeg                  person359_bacteria_1642.jpeg\r\n",
      "264 (2).jpeg                  person359_bacteria_1643.jpeg\r\n",
      "265 (2).jpeg                  person359_bacteria_1644.jpeg\r\n",
      "266 (2).jpeg                  person359_bacteria_1645.jpeg\r\n",
      "267 (2).jpeg                  person359_bacteria_1646.jpeg\r\n",
      "268 (2).jpeg                  person35_bacteria_178.jpeg\r\n",
      "269 (2).jpeg                  person35_bacteria_180.jpeg\r\n",
      "27 (2).jpeg                   person35_bacteria_181.jpeg\r\n",
      "270 (2).jpeg                  person360_bacteria_1647.jpeg\r\n",
      "272 (2).jpeg                  person361_bacteria_1651.jpeg\r\n",
      "273 (2).jpeg                  person362_bacteria_1652.jpeg\r\n",
      "274 (2).jpeg                  person363_bacteria_1653.jpeg\r\n",
      "275 (2).jpeg                  person363_bacteria_1654.jpeg\r\n",
      "276 (2).jpeg                  person363_bacteria_1655.jpeg\r\n",
      "277 (2).jpeg                  person364_bacteria_1656.jpeg\r\n",
      "279 (2).jpeg                  person364_bacteria_1657.jpeg\r\n",
      "28 (2).jpeg                   person364_bacteria_1658.jpeg\r\n",
      "280 (2).jpeg                  person364_bacteria_1659.jpeg\r\n",
      "281 (2).jpeg                  person364_bacteria_1660.jpeg\r\n",
      "282 (2).jpeg                  person366_bacteria_1664.jpeg\r\n",
      "285 (2).jpeg                  person367_bacteria_1665.jpeg\r\n",
      "286 (2).jpeg                  person368_bacteria_1666.jpeg\r\n",
      "287 (2).jpeg                  person368_bacteria_1667.jpeg\r\n",
      "288 (2).jpeg                  person368_bacteria_1668.jpeg\r\n",
      "289 (2).jpeg                  person368_bacteria_1672.jpeg\r\n",
      "29 (2).jpeg                   person368_bacteria_1678.jpeg\r\n",
      "291 (2).jpeg                  person369_bacteria_1680.jpeg\r\n",
      "292 (2).jpeg                  person36_bacteria_182.jpeg\r\n",
      "293 (2).jpeg                  person36_bacteria_183.jpeg\r\n",
      "294 (2).jpeg                  person36_bacteria_184.jpeg\r\n",
      "295 (2).jpeg                  person36_bacteria_185.jpeg\r\n",
      "296 (2).jpeg                  person370_bacteria_1687.jpeg\r\n",
      "297 (2).jpeg                  person370_bacteria_1688.jpeg\r\n",
      "298 (2).jpeg                  person370_bacteria_1689.jpeg\r\n",
      "299 (2).jpeg                  person370_bacteria_1690.jpeg\r\n",
      "3 (2).jpeg                    person370_bacteria_1691.jpeg\r\n",
      "30 (2).jpeg                   person370_bacteria_1692.jpeg\r\n",
      "300 (2).jpeg                  person371_bacteria_1694.jpeg\r\n",
      "301 (2).jpeg                  person371_bacteria_1695.jpeg\r\n",
      "302 (2).jpeg                  person371_bacteria_1696.jpeg\r\n",
      "303 (2).jpeg                  person371_bacteria_1698.jpeg\r\n",
      "304 (2).jpeg                  person371_bacteria_1699.jpeg\r\n",
      "305 (2).jpeg                  person371_bacteria_1700.jpeg\r\n",
      "306 (2).jpeg                  person371_bacteria_1701.jpeg\r\n",
      "307 (2).jpeg                  person371_bacteria_1702.jpeg\r\n",
      "308 (2).jpeg                  person371_bacteria_1703.jpeg\r\n",
      "309 (2).jpeg                  person372_bacteria_1704.jpeg\r\n",
      "31 (2).jpeg                   person372_bacteria_1705.jpeg\r\n",
      "310 (2).jpeg                  person372_bacteria_1706.jpeg\r\n",
      "311 (2).jpeg                  person373_bacteria_1707.jpeg\r\n",
      "312 (2).jpeg                  person373_bacteria_1708.jpeg\r\n",
      "313 (2).jpeg                  person373_bacteria_1709.jpeg\r\n",
      "314 (2).jpeg                  person374_bacteria_1710.jpeg\r\n",
      "315 (2).jpeg                  person374_bacteria_1711.jpeg\r\n",
      "316 (2).jpeg                  person374_bacteria_1712.jpeg\r\n",
      "317 (2).jpeg                  person375_bacteria_1713.jpeg\r\n",
      "318 (2).jpeg                  person376_bacteria_1715.jpeg\r\n",
      "319 (2).jpeg                  person376_bacteria_1716.jpeg\r\n",
      "32 (2).jpeg                   person377_bacteria_1717.jpeg\r\n",
      "321 (2).jpeg                  person377_bacteria_1718.jpeg\r\n",
      "322 (2).jpeg                  person379_bacteria_1721.jpeg\r\n",
      "323 (2).jpeg                  person379_bacteria_1722.jpeg\r\n",
      "33 (2).jpeg                   person37_bacteria_186.jpeg\r\n",
      "34 (2).jpeg                   person37_bacteria_187.jpeg\r\n",
      "35 (2).jpeg                   person37_bacteria_188.jpeg\r\n",
      "36 (2).jpeg                   person37_bacteria_189.jpeg\r\n",
      "37 (2).jpeg                   person381_bacteria_1730.jpeg\r\n",
      "38 (2).jpeg                   person381_bacteria_1731.jpeg\r\n",
      "39 (2).jpeg                   person382_bacteria_1737.jpeg\r\n",
      "4 (2).jpeg                    person382_bacteria_1738.jpeg\r\n",
      "40 (2).jpeg                   person382_bacteria_1739.jpeg\r\n",
      "41 (2).jpeg                   person382_bacteria_1740.jpeg\r\n",
      "42 (2).jpeg                   person382_bacteria_1741.jpeg\r\n",
      "43 (2).jpeg                   person382_bacteria_1742.jpeg\r\n",
      "44 (2).jpeg                   person382_bacteria_1745.jpeg\r\n",
      "45 (2).jpeg                   person382_bacteria_1746.jpeg\r\n",
      "46 (2).jpeg                   person383_bacteria_1747.jpeg\r\n",
      "463.jpeg                      person383_bacteria_1748.jpeg\r\n",
      "467.jpeg                      person383_bacteria_1749.jpeg\r\n",
      "47 (2).jpeg                   person383_bacteria_1750.jpeg\r\n",
      "476.jpeg                      person383_bacteria_1751.jpeg\r\n",
      "478.jpeg                      person383_bacteria_1752.jpeg\r\n",
      "48 (2).jpeg                   person383_bacteria_1753.jpeg\r\n",
      "480.jpeg                      person383_bacteria_1754.jpeg\r\n",
      "481.jpeg                      person384_bacteria_1755.jpeg\r\n",
      "488.jpeg                      person385_bacteria_1765.jpeg\r\n",
      "489.jpeg                      person385_bacteria_1766.jpeg\r\n",
      "49 (2).jpeg                   person387_bacteria_1769.jpeg\r\n",
      "496.jpeg                      person387_bacteria_1770.jpeg\r\n",
      "5 (2).jpeg                    person387_bacteria_1772.jpeg\r\n",
      "50 (2).jpeg                   person389_bacteria_1778.jpeg\r\n",
      "500.jpeg                      person389_bacteria_1780.jpeg\r\n",
      "51 (2).jpeg                   person38_bacteria_190.jpeg\r\n",
      "512.jpeg                      person38_bacteria_191.jpeg\r\n",
      "517.jpeg                      person38_bacteria_192.jpeg\r\n",
      "518.jpeg                      person38_bacteria_193.jpeg\r\n",
      "52 (2).jpeg                   person38_bacteria_194.jpeg\r\n",
      "522.jpeg                      person38_bacteria_195.jpeg\r\n",
      "525.jpeg                      person38_bacteria_196.jpeg\r\n",
      "53 (2).jpeg                   person390_bacteria_1781.jpeg\r\n",
      "530.jpeg                      person391_bacteria_1782.jpeg\r\n",
      "535.jpeg                      person392_bacteria_1783.jpeg\r\n",
      "536.jpeg                      person392_bacteria_1784.jpeg\r\n",
      "537.jpeg                      person392_bacteria_1785.jpeg\r\n",
      "54 (2).jpeg                   person392_bacteria_1786.jpeg\r\n",
      "544.jpeg                      person392_bacteria_1787.jpeg\r\n",
      "546.jpeg                      person393_bacteria_1789.jpeg\r\n",
      "547.jpeg                      person394_bacteria_1791.jpeg\r\n",
      "55 (2).jpeg                   person394_bacteria_1792.jpeg\r\n",
      "552.jpeg                      person395_bacteria_1794.jpeg\r\n",
      "56 (2).jpeg                   person395_bacteria_1795.jpeg\r\n",
      "563.jpeg                      person396_bacteria_1796.jpeg\r\n",
      "569.jpeg                      person397_bacteria_1797.jpeg\r\n",
      "57 (2).jpeg                   person398_bacteria_1799.jpeg\r\n",
      "570.jpeg                      person398_bacteria_1801.jpeg\r\n",
      "574.jpeg                      person399_bacteria_1804.jpeg\r\n",
      "58 (2).jpeg                   person399_bacteria_1805.jpeg\r\n",
      "59 (2).jpeg                   person399_bacteria_1806.jpeg\r\n",
      "6 (2).jpeg                    person39_bacteria_198.jpeg\r\n",
      "60 (2).jpeg                   person39_bacteria_200.jpeg\r\n",
      "61 (2).jpeg                   person3_bacteria_10.jpeg\r\n",
      "62 (2).jpeg                   person3_bacteria_11.jpeg\r\n",
      "63 (2).jpeg                   person3_bacteria_12.jpeg\r\n",
      "64 (2).jpeg                   person3_bacteria_13.jpeg\r\n",
      "65 (2).jpeg                   person400_bacteria_1807.jpeg\r\n",
      "66 (2).jpeg                   person401_bacteria_1808.jpeg\r\n",
      "67 (2).jpeg                   person402_bacteria_1809.jpeg\r\n",
      "68 (2).jpeg                   person402_bacteria_1810.jpeg\r\n",
      "69 (2).jpeg                   person402_bacteria_1811.jpeg\r\n",
      "7 (2).jpeg                    person402_bacteria_1812.jpeg\r\n",
      "70 (2).jpeg                   person402_bacteria_1813.jpeg\r\n",
      "71 (2).jpeg                   person403_bacteria_1814.jpeg\r\n",
      "72 (2).jpeg                   person405_bacteria_1817.jpeg\r\n",
      "73 (2).jpeg                   person406_bacteria_1818.jpeg\r\n",
      "74 (2).jpeg                   person406_bacteria_1819.jpeg\r\n",
      "75 (2).jpeg                   person406_bacteria_1820.jpeg\r\n",
      "76 (2).jpeg                   person407_bacteria_1822.jpeg\r\n",
      "77 (2).jpeg                   person408_bacteria_1823.jpeg\r\n",
      "78 (2).jpeg                   person409_bacteria_1824.jpeg\r\n",
      "79 (2).jpeg                   person40_bacteria_202.jpeg\r\n",
      "8 (2).jpeg                    person40_bacteria_203.jpeg\r\n",
      "80 (2).jpeg                   person40_bacteria_204.jpeg\r\n",
      "81 (2).jpeg                   person40_bacteria_205.jpeg\r\n",
      "82 (2).jpeg                   person410_bacteria_1825.jpeg\r\n",
      "83 (2).jpeg                   person411_bacteria_1826.jpeg\r\n",
      "84 (2).jpeg                   person412_bacteria_1827.jpeg\r\n",
      "85 (2).jpeg                   person413_bacteria_1828.jpeg\r\n",
      "86 (2).jpeg                   person413_bacteria_1829.jpeg\r\n",
      "87 (2).jpeg                   person413_bacteria_1830.jpeg\r\n",
      "88 (2).jpeg                   person413_bacteria_1831.jpeg\r\n",
      "89 (2).jpeg                   person413_bacteria_1832.jpeg\r\n",
      "9 (2).jpeg                    person413_bacteria_1833.jpeg\r\n",
      "90 (2).jpeg                   person413_bacteria_1834.jpeg\r\n",
      "91 (2).jpeg                   person414_bacteria_1835.jpeg\r\n",
      "92 (2).jpeg                   person415_bacteria_1837.jpeg\r\n",
      "93 (2).jpeg                   person415_bacteria_1838.jpeg\r\n",
      "94 (2).jpeg                   person415_bacteria_1839.jpeg\r\n",
      "95 (2).jpeg                   person416_bacteria_1840.jpeg\r\n",
      "96 (2).jpeg                   person417_bacteria_1841.jpeg\r\n",
      "97 (2).jpeg                   person417_bacteria_1842.jpeg\r\n",
      "98 (2).jpeg                   person418_bacteria_1843.jpeg\r\n",
      "99 (2).jpeg                   person419_bacteria_1844.jpeg\r\n",
      "person100_bacteria_475.jpeg   person419_bacteria_1845.jpeg\r\n",
      "person100_bacteria_477.jpeg   person41_bacteria_206.jpeg\r\n",
      "person100_bacteria_478.jpeg   person41_bacteria_207.jpeg\r\n",
      "person100_bacteria_479.jpeg   person41_bacteria_208.jpeg\r\n",
      "person100_bacteria_480.jpeg   person41_bacteria_209.jpeg\r\n",
      "person100_bacteria_481.jpeg   person41_bacteria_210.jpeg\r\n",
      "person100_bacteria_482.jpeg   person41_bacteria_211.jpeg\r\n",
      "person101_bacteria_483.jpeg   person420_bacteria_1847.jpeg\r\n",
      "person101_bacteria_484.jpeg   person420_bacteria_1848.jpeg\r\n",
      "person101_bacteria_485.jpeg   person420_bacteria_1849.jpeg\r\n",
      "person101_bacteria_486.jpeg   person420_bacteria_1850.jpeg\r\n",
      "person102_bacteria_487.jpeg   person420_bacteria_1851.jpeg\r\n",
      "person103_bacteria_488.jpeg   person421_bacteria_1852.jpeg\r\n",
      "person103_bacteria_489.jpeg   person422_bacteria_1853.jpeg\r\n",
      "person104_bacteria_491.jpeg   person423_bacteria_1854.jpeg\r\n",
      "person104_bacteria_492.jpeg   person423_bacteria_1855.jpeg\r\n",
      "person108_bacteria_504.jpeg   person423_bacteria_1856.jpeg\r\n",
      "person108_bacteria_506.jpeg   person423_bacteria_1857.jpeg\r\n",
      "person108_bacteria_507.jpeg   person423_bacteria_1858.jpeg\r\n",
      "person108_bacteria_511.jpeg   person424_bacteria_1859.jpeg\r\n",
      "person109_bacteria_512.jpeg   person425_bacteria_1860.jpeg\r\n",
      "person109_bacteria_513.jpeg   person426_bacteria_1861.jpeg\r\n",
      "person109_bacteria_517.jpeg   person426_bacteria_1862.jpeg\r\n",
      "person109_bacteria_519.jpeg   person426_bacteria_1863.jpeg\r\n",
      "person109_bacteria_522.jpeg   person427_bacteria_1864.jpeg\r\n",
      "person109_bacteria_523.jpeg   person427_bacteria_1865.jpeg\r\n",
      "person109_bacteria_526.jpeg   person427_bacteria_1866.jpeg\r\n",
      "person109_bacteria_527.jpeg   person427_bacteria_1867.jpeg\r\n",
      "person109_bacteria_528.jpeg   person427_bacteria_1868.jpeg\r\n",
      "person110_bacteria_531.jpeg   person428_bacteria_1869.jpeg\r\n",
      "person111_bacteria_533.jpeg   person429_bacteria_1870.jpeg\r\n",
      "person111_bacteria_534.jpeg   person430_bacteria_1871.jpeg\r\n",
      "person111_bacteria_535.jpeg   person431_bacteria_1872.jpeg\r\n",
      "person111_bacteria_536.jpeg   person433_bacteria_1874.jpeg\r\n",
      "person111_bacteria_537.jpeg   person433_bacteria_1875.jpeg\r\n",
      "person112_bacteria_538.jpeg   person433_bacteria_1876.jpeg\r\n",
      "person112_bacteria_539.jpeg   person434_bacteria_1877.jpeg\r\n",
      "person113_bacteria_541.jpeg   person435_bacteria_1879.jpeg\r\n",
      "person113_bacteria_542.jpeg   person436_bacteria_1883.jpeg\r\n",
      "person114_bacteria_544.jpeg   person437_bacteria_1884.jpeg\r\n",
      "person114_bacteria_546.jpeg   person437_bacteria_1885.jpeg\r\n",
      "person117_bacteria_553.jpeg   person437_bacteria_1886.jpeg\r\n",
      "person117_bacteria_556.jpeg   person437_bacteria_1887.jpeg\r\n",
      "person117_bacteria_557.jpeg   person437_bacteria_1888.jpeg\r\n",
      "person118_bacteria_559.jpeg   person438_bacteria_1889.jpeg\r\n",
      "person118_bacteria_560.jpeg   person438_bacteria_1890.jpeg\r\n",
      "person119_bacteria_565.jpeg   person438_bacteria_1891.jpeg\r\n",
      "person119_bacteria_566.jpeg   person438_bacteria_1892.jpeg\r\n",
      "person119_bacteria_568.jpeg   person438_bacteria_1893.jpeg\r\n",
      "person120_bacteria_570.jpeg   person439_bacteria_1895.jpeg\r\n",
      "person120_bacteria_571.jpeg   person43_bacteria_213.jpeg\r\n",
      "person120_bacteria_572.jpeg   person43_bacteria_216.jpeg\r\n",
      "person121_bacteria_575.jpeg   person440_bacteria_1897.jpeg\r\n",
      "person121_bacteria_576.jpeg   person440_bacteria_1898.jpeg\r\n",
      "person121_bacteria_578.jpeg   person441_bacteria_1900.jpeg\r\n",
      "person121_bacteria_579.jpeg   person441_bacteria_1902.jpeg\r\n",
      "person121_bacteria_580.jpeg   person441_bacteria_1903.jpeg\r\n",
      "person122_bacteria_582.jpeg   person441_bacteria_1904.jpeg\r\n",
      "person122_bacteria_583.jpeg   person441_bacteria_1905.jpeg\r\n",
      "person122_bacteria_584.jpeg   person441_bacteria_1907.jpeg\r\n",
      "person122_bacteria_585.jpeg   person441_bacteria_1910.jpeg\r\n",
      "person122_bacteria_586.jpeg   person441_bacteria_1911.jpeg\r\n",
      "person123_bacteria_587.jpeg   person441_bacteria_1912.jpeg\r\n",
      "person124_bacteria_589.jpeg   person441_bacteria_1914.jpeg\r\n",
      "person124_bacteria_590.jpeg   person441_bacteria_1915.jpeg\r\n",
      "person124_bacteria_591.jpeg   person441_bacteria_1916.jpeg\r\n",
      "person124_bacteria_592.jpeg   person441_bacteria_1917.jpeg\r\n",
      "person125_bacteria_594.jpeg   person441_bacteria_1918.jpeg\r\n",
      "person125_bacteria_595.jpeg   person443_bacteria_1923.jpeg\r\n",
      "person126_bacteria_598.jpeg   person443_bacteria_1924.jpeg\r\n",
      "person126_bacteria_599.jpeg   person443_bacteria_1926.jpeg\r\n",
      "person126_bacteria_600.jpeg   person444_bacteria_1927.jpeg\r\n",
      "person127_bacteria_602.jpeg   person445_bacteria_1928.jpeg\r\n",
      "person127_bacteria_603.jpeg   person445_bacteria_1929.jpeg\r\n",
      "person127_bacteria_604.jpeg   person445_bacteria_1930.jpeg\r\n",
      "person128_bacteria_605.jpeg   person446_bacteria_1931.jpeg\r\n",
      "person128_bacteria_607.jpeg   person447_bacteria_1932.jpeg\r\n",
      "person128_bacteria_608.jpeg   person448_bacteria_1933.jpeg\r\n",
      "person1308_bacteria_3280.jpeg person448_bacteria_1934.jpeg\r\n",
      "person1309_bacteria_3294.jpeg person448_bacteria_1935.jpeg\r\n",
      "person130_bacteria_625.jpeg   person448_bacteria_1936.jpeg\r\n",
      "person130_bacteria_626.jpeg   person448_bacteria_1937.jpeg\r\n",
      "person130_bacteria_627.jpeg   person449_bacteria_1938.jpeg\r\n",
      "person130_bacteria_628.jpeg   person449_bacteria_1939.jpeg\r\n",
      "person1310_bacteria_3302.jpeg person449_bacteria_1940.jpeg\r\n",
      "person1310_bacteria_3304.jpeg person44_bacteria_218.jpeg\r\n",
      "person131_bacteria_629.jpeg   person44_bacteria_219.jpeg\r\n",
      "person1327_bacteria_3374.jpeg person450_bacteria_1941.jpeg\r\n",
      "person132_bacteria_632.jpeg   person451_bacteria_1942.jpeg\r\n",
      "person1333_bacteria_3383.jpeg person452_bacteria_1943.jpeg\r\n",
      "person1333_bacteria_3384.jpeg person454_bacteria_1945.jpeg\r\n",
      "person1333_bacteria_3385.jpeg person455_bacteria_1947.jpeg\r\n",
      "person1333_bacteria_3386.jpeg person456_bacteria_1948.jpeg\r\n",
      "person1338_bacteria_3394.jpeg person457_bacteria_1949.jpeg\r\n",
      "person1338_bacteria_3395.jpeg person458_bacteria_1950.jpeg\r\n",
      "person1338_bacteria_3397.jpeg person458_bacteria_1951.jpeg\r\n",
      "person1339_bacteria_3399.jpeg person458_bacteria_1952.jpeg\r\n",
      "person1339_bacteria_3402.jpeg person458_bacteria_1953.jpeg\r\n",
      "person133_bacteria_633.jpeg   person458_bacteria_1954.jpeg\r\n",
      "person133_bacteria_634.jpeg   person458_bacteria_1955.jpeg\r\n",
      "person133_bacteria_635.jpeg   person459_bacteria_1956.jpeg\r\n",
      "person133_bacteria_637.jpeg   person459_bacteria_1957.jpeg\r\n",
      "person133_bacteria_638.jpeg   person45_bacteria_220.jpeg\r\n",
      "person1340_bacteria_3405.jpeg person45_bacteria_221.jpeg\r\n",
      "person1341_bacteria_3406.jpeg person45_bacteria_222.jpeg\r\n",
      "person1342_bacteria_3407.jpeg person460_bacteria_1958.jpeg\r\n",
      "person1343_bacteria_3409.jpeg person461_bacteria_1960.jpeg\r\n",
      "person1343_bacteria_3411.jpeg person462_bacteria_1961.jpeg\r\n",
      "person1343_bacteria_3414.jpeg person462_bacteria_1963.jpeg\r\n",
      "person1343_bacteria_3415.jpeg person462_bacteria_1967.jpeg\r\n",
      "person1343_bacteria_3417.jpeg person462_bacteria_1968.jpeg\r\n",
      "person1343_bacteria_3418.jpeg person463_bacteria_1971.jpeg\r\n",
      "person1343_bacteria_3419.jpeg person464_bacteria_1974.jpeg\r\n",
      "person1344_bacteria_3421.jpeg person464_bacteria_1975.jpeg\r\n",
      "person1345_bacteria_3422.jpeg person465_bacteria_1976.jpeg\r\n",
      "person1345_bacteria_3424.jpeg person465_bacteria_1977.jpeg\r\n",
      "person1345_bacteria_3425.jpeg person465_bacteria_1979.jpeg\r\n",
      "person1345_bacteria_3426.jpeg person465_bacteria_1980.jpeg\r\n",
      "person1345_bacteria_3427.jpeg person465_bacteria_1981.jpeg\r\n",
      "person1345_bacteria_3428.jpeg person465_bacteria_1982.jpeg\r\n",
      "person1346_bacteria_3430.jpeg person466_bacteria_1983.jpeg\r\n",
      "person1349_bacteria_3434.jpeg person466_bacteria_1984.jpeg\r\n",
      "person1349_bacteria_3437.jpeg person466_bacteria_1986.jpeg\r\n",
      "person1349_bacteria_3438.jpeg person466_bacteria_1987.jpeg\r\n",
      "person1349_bacteria_3439.jpeg person467_bacteria_1988.jpeg\r\n",
      "person134_bacteria_641.jpeg   person467_bacteria_1989.jpeg\r\n",
      "person134_bacteria_642.jpeg   person468_bacteria_1990.jpeg\r\n",
      "person134_bacteria_644.jpeg   person468_bacteria_1991.jpeg\r\n",
      "person1351_bacteria_3441.jpeg person469_bacteria_1992.jpeg\r\n",
      "person1352_bacteria_3442.jpeg person469_bacteria_1993.jpeg\r\n",
      "person1352_bacteria_3443.jpeg person469_bacteria_1994.jpeg\r\n",
      "person1352_bacteria_3444.jpeg person469_bacteria_1995.jpeg\r\n",
      "person1352_bacteria_3445.jpeg person46_bacteria_224.jpeg\r\n",
      "person1353_bacteria_3446.jpeg person46_bacteria_225.jpeg\r\n",
      "person1354_bacteria_3448.jpeg person470_bacteria_1996.jpeg\r\n",
      "person1355_bacteria_3449.jpeg person470_bacteria_1998.jpeg\r\n",
      "person1355_bacteria_3452.jpeg person470_bacteria_1999.jpeg\r\n",
      "person1358_bacteria_3463.jpeg person470_bacteria_2000.jpeg\r\n",
      "person1358_bacteria_3465.jpeg person470_bacteria_2001.jpeg\r\n",
      "person135_bacteria_646.jpeg   person470_bacteria_2002.jpeg\r\n",
      "person135_bacteria_647.jpeg   person470_bacteria_2003.jpeg\r\n",
      "person1361_bacteria_3476.jpeg person471_bacteria_2004.jpeg\r\n",
      "person1361_bacteria_3477.jpeg person471_bacteria_2005.jpeg\r\n",
      "person1363_bacteria_3483.jpeg person471_bacteria_2006.jpeg\r\n",
      "person1363_bacteria_3484.jpeg person472_bacteria_2007.jpeg\r\n",
      "person1365_bacteria_3489.jpeg person472_bacteria_2008.jpeg\r\n",
      "person1366_bacteria_3490.jpeg person472_bacteria_2010.jpeg\r\n",
      "person136_bacteria_648.jpeg   person472_bacteria_2014.jpeg\r\n",
      "person136_bacteria_649.jpeg   person472_bacteria_2015.jpeg\r\n",
      "person136_bacteria_650.jpeg   person473_bacteria_2018.jpeg\r\n",
      "person136_bacteria_652.jpeg   person475_bacteria_2020.jpeg\r\n",
      "person136_bacteria_654.jpeg   person475_bacteria_2021.jpeg\r\n",
      "person1372_bacteria_3498.jpeg person475_bacteria_2022.jpeg\r\n",
      "person1372_bacteria_3499.jpeg person475_bacteria_2023.jpeg\r\n",
      "person1372_bacteria_3500.jpeg person475_bacteria_2024.jpeg\r\n",
      "person1372_bacteria_3502.jpeg person475_bacteria_2025.jpeg\r\n",
      "person1374_bacteria_3506.jpeg person476_bacteria_2026.jpeg\r\n",
      "person1374_bacteria_3507.jpeg person477_bacteria_2028.jpeg\r\n",
      "person1375_bacteria_3509.jpeg person477_bacteria_2029.jpeg\r\n",
      "person1375_bacteria_3510.jpeg person477_bacteria_2030.jpeg\r\n",
      "person1376_bacteria_3511.jpeg person477_bacteria_2031.jpeg\r\n",
      "person1377_bacteria_3512.jpeg person478_bacteria_2032.jpeg\r\n",
      "person1378_bacteria_3513.jpeg person478_bacteria_2035.jpeg\r\n",
      "person1379_bacteria_3514.jpeg person47_bacteria_229.jpeg\r\n",
      "person137_bacteria_655.jpeg   person480_bacteria_2038.jpeg\r\n",
      "person1380_bacteria_3515.jpeg person480_bacteria_2039.jpeg\r\n",
      "person1381_bacteria_3516.jpeg person480_bacteria_2040.jpeg\r\n",
      "person1381_bacteria_3517.jpeg person481_bacteria_2041.jpeg\r\n",
      "person1383_bacteria_3521.jpeg person481_bacteria_2042.jpeg\r\n",
      "person1384_bacteria_3522.jpeg person482_bacteria_2043.jpeg\r\n",
      "person1385_bacteria_3524.jpeg person482_bacteria_2044.jpeg\r\n",
      "person1388_bacteria_3529.jpeg person482_bacteria_2045.jpeg\r\n",
      "person1389_bacteria_3531.jpeg person483_bacteria_2046.jpeg\r\n",
      "person138_bacteria_659.jpeg   person485_bacteria_2049.jpeg\r\n",
      "person1390_bacteria_3534.jpeg person486_bacteria_2051.jpeg\r\n",
      "person1390_bacteria_3535.jpeg person486_bacteria_2052.jpeg\r\n",
      "person1391_bacteria_3536.jpeg person486_bacteria_2053.jpeg\r\n",
      "person1391_bacteria_3537.jpeg person486_bacteria_2054.jpeg\r\n",
      "person1392_bacteria_3538.jpeg person487_bacteria_2055.jpeg\r\n",
      "person1395_bacteria_3544.jpeg person487_bacteria_2056.jpeg\r\n",
      "person1396_bacteria_3545.jpeg person487_bacteria_2057.jpeg\r\n",
      "person1398_bacteria_3548.jpeg person487_bacteria_2058.jpeg\r\n",
      "person1399_bacteria_3549.jpeg person487_bacteria_2059.jpeg\r\n",
      "person139_bacteria_661.jpeg   person487_bacteria_2060.jpeg\r\n",
      "person139_bacteria_662.jpeg   person488_bacteria_2061.jpeg\r\n",
      "person139_bacteria_663.jpeg   person488_bacteria_2062.jpeg\r\n",
      "person139_bacteria_664.jpeg   person489_bacteria_2063.jpeg\r\n",
      "person139_bacteria_665.jpeg   person489_bacteria_2064.jpeg\r\n",
      "person139_bacteria_666.jpeg   person489_bacteria_2065.jpeg\r\n",
      "person13_bacteria_49.jpeg     person489_bacteria_2066.jpeg\r\n",
      "person13_bacteria_50.jpeg     person489_bacteria_2067.jpeg\r\n",
      "person1400_bacteria_3550.jpeg person48_bacteria_230.jpeg\r\n",
      "person1400_bacteria_3551.jpeg person48_bacteria_231.jpeg\r\n",
      "person1400_bacteria_3553.jpeg person48_bacteria_232.jpeg\r\n",
      "person1400_bacteria_3554.jpeg person48_bacteria_233.jpeg\r\n",
      "person1401_bacteria_3555.jpeg person490_bacteria_2068.jpeg\r\n",
      "person1403_bacteria_3557.jpeg person490_bacteria_2069.jpeg\r\n",
      "person1403_bacteria_3559.jpeg person490_bacteria_2070.jpeg\r\n",
      "person1404_bacteria_3561.jpeg person491_bacteria_2071.jpeg\r\n",
      "person1405_bacteria_3564.jpeg person491_bacteria_2073.jpeg\r\n",
      "person1405_bacteria_3566.jpeg person491_bacteria_2075.jpeg\r\n",
      "person1405_bacteria_3567.jpeg person491_bacteria_2080.jpeg\r\n",
      "person1405_bacteria_3571.jpeg person491_bacteria_2081.jpeg\r\n",
      "person1405_bacteria_3573.jpeg person491_bacteria_2082.jpeg\r\n",
      "person1406_bacteria_3574.jpeg person492_bacteria_2083.jpeg\r\n",
      "person1406_bacteria_3575.jpeg person492_bacteria_2084.jpeg\r\n",
      "person1408_bacteria_3579.jpeg person492_bacteria_2085.jpeg\r\n",
      "person1408_bacteria_3581.jpeg person493_bacteria_2086.jpeg\r\n",
      "person1409_bacteria_3583.jpeg person493_bacteria_2087.jpeg\r\n",
      "person1409_bacteria_3585.jpeg person494_bacteria_2088.jpeg\r\n",
      "person140_bacteria_667.jpeg   person494_bacteria_2089.jpeg\r\n",
      "person140_bacteria_668.jpeg   person494_bacteria_2090.jpeg\r\n",
      "person1411_bacteria_3591.jpeg person495_bacteria_2094.jpeg\r\n",
      "person1411_bacteria_3593.jpeg person496_bacteria_2095.jpeg\r\n",
      "person1411_bacteria_3598.jpeg person498_bacteria_2100.jpeg\r\n",
      "person1411_bacteria_3599.jpeg person498_bacteria_2101.jpeg\r\n",
      "person1411_bacteria_3601.jpeg person498_bacteria_2102.jpeg\r\n",
      "person1411_bacteria_3602.jpeg person499_bacteria_2103.jpeg\r\n",
      "person1411_bacteria_3603.jpeg person499_bacteria_2104.jpeg\r\n",
      "person1411_bacteria_3604.jpeg person49_bacteria_235.jpeg\r\n",
      "person1411_bacteria_3607.jpeg person49_bacteria_236.jpeg\r\n",
      "person1411_bacteria_3609.jpeg person49_bacteria_237.jpeg\r\n",
      "person1411_bacteria_3610.jpeg person4_bacteria_14.jpeg\r\n",
      "person1412_bacteria_3612.jpeg person500_bacteria_2105.jpeg\r\n",
      "person1413_bacteria_3613.jpeg person500_bacteria_2106.jpeg\r\n",
      "person1413_bacteria_3615.jpeg person500_bacteria_2107.jpeg\r\n",
      "person1413_bacteria_3617.jpeg person500_bacteria_2108.jpeg\r\n",
      "person1413_bacteria_3620.jpeg person500_bacteria_2109.jpeg\r\n",
      "person1414_bacteria_3627.jpeg person500_bacteria_2110.jpeg\r\n",
      "person1414_bacteria_3628.jpeg person500_bacteria_2111.jpeg\r\n",
      "person1415_bacteria_3629.jpeg person501_bacteria_2112.jpeg\r\n",
      "person1418_bacteria_3636.jpeg person501_bacteria_2113.jpeg\r\n",
      "person1418_bacteria_3637.jpeg person501_bacteria_2114.jpeg\r\n",
      "person1418_bacteria_3638.jpeg person501_bacteria_2115.jpeg\r\n",
      "person1418_bacteria_3639.jpeg person501_bacteria_2116.jpeg\r\n",
      "person1418_bacteria_3643.jpeg person502_bacteria_2117.jpeg\r\n",
      "person1419_bacteria_3645.jpeg person502_bacteria_2118.jpeg\r\n",
      "person141_bacteria_670.jpeg   person502_bacteria_2119.jpeg\r\n",
      "person141_bacteria_676.jpeg   person502_bacteria_2120.jpeg\r\n",
      "person141_bacteria_677.jpeg   person502_bacteria_2121.jpeg\r\n",
      "person141_bacteria_678.jpeg   person502_bacteria_2122.jpeg\r\n",
      "person141_bacteria_681.jpeg   person502_bacteria_2123.jpeg\r\n",
      "person1420_bacteria_3647.jpeg person503_bacteria_2125.jpeg\r\n",
      "person1422_bacteria_3649.jpeg person503_bacteria_2126.jpeg\r\n",
      "person1423_bacteria_3650.jpeg person504_bacteria_2127.jpeg\r\n",
      "person1424_bacteria_3651.jpeg person504_bacteria_2129.jpeg\r\n",
      "person1426_bacteria_3667.jpeg person504_bacteria_2130.jpeg\r\n",
      "person1426_bacteria_3668.jpeg person504_bacteria_2132.jpeg\r\n",
      "person1429_bacteria_3688.jpeg person504_bacteria_2133.jpeg\r\n",
      "person1429_bacteria_3690.jpeg person505_bacteria_2135.jpeg\r\n",
      "person1429_bacteria_3691.jpeg person506_bacteria_2136.jpeg\r\n",
      "person142_bacteria_682.jpeg   person506_bacteria_2138.jpeg\r\n",
      "person142_bacteria_683.jpeg   person507_bacteria_2139.jpeg\r\n",
      "person142_bacteria_684.jpeg   person507_bacteria_2140.jpeg\r\n",
      "person1430_bacteria_3693.jpeg person507_bacteria_2141.jpeg\r\n",
      "person1430_bacteria_3694.jpeg person508_bacteria_2142.jpeg\r\n",
      "person1430_bacteria_3696.jpeg person508_bacteria_2143.jpeg\r\n",
      "person1430_bacteria_3697.jpeg person508_bacteria_2144.jpeg\r\n",
      "person1431_bacteria_3698.jpeg person509_bacteria_2145.jpeg\r\n",
      "person1432_bacteria_3699.jpeg person509_bacteria_2146.jpeg\r\n",
      "person1433_bacteria_3701.jpeg person50_bacteria_238.jpeg\r\n",
      "person1433_bacteria_3704.jpeg person510_bacteria_2147.jpeg\r\n",
      "person1433_bacteria_3705.jpeg person510_bacteria_2148.jpeg\r\n",
      "person1436_bacteria_3711.jpeg person510_bacteria_2149.jpeg\r\n",
      "person1436_bacteria_3712.jpeg person510_bacteria_2150.jpeg\r\n",
      "person1438_bacteria_3715.jpeg person511_bacteria_2152.jpeg\r\n",
      "person1438_bacteria_3718.jpeg person511_bacteria_2153.jpeg\r\n",
      "person1438_bacteria_3721.jpeg person512_bacteria_2154.jpeg\r\n",
      "person1439_bacteria_3722.jpeg person512_bacteria_2155.jpeg\r\n",
      "person143_bacteria_687.jpeg   person514_bacteria_2184.jpeg\r\n",
      "person143_bacteria_688.jpeg   person515_bacteria_2185.jpeg\r\n",
      "person1440_bacteria_3723.jpeg person515_bacteria_2186.jpeg\r\n",
      "person1441_bacteria_3724.jpeg person515_bacteria_2187.jpeg\r\n",
      "person1442_bacteria_3726.jpeg person515_bacteria_2188.jpeg\r\n",
      "person1444_bacteria_3732.jpeg person515_bacteria_2189.jpeg\r\n",
      "person1445_bacteria_3734.jpeg person515_bacteria_2190.jpeg\r\n",
      "person1445_bacteria_3735.jpeg person516_bacteria_2191.jpeg\r\n",
      "person1446_bacteria_3737.jpeg person516_bacteria_2192.jpeg\r\n",
      "person1446_bacteria_3739.jpeg person517_bacteria_2196.jpeg\r\n",
      "person1446_bacteria_3740.jpeg person518_bacteria_2197.jpeg\r\n",
      "person1447_bacteria_3741.jpeg person518_bacteria_2198.jpeg\r\n",
      "person1449_bacteria_3743.jpeg person518_bacteria_2199.jpeg\r\n",
      "person1449_bacteria_3745.jpeg person518_bacteria_2200.jpeg\r\n",
      "person1449_bacteria_3746.jpeg person51_bacteria_239.jpeg\r\n",
      "person1449_bacteria_3747.jpeg person51_bacteria_240.jpeg\r\n",
      "person144_bacteria_690.jpeg   person51_bacteria_241.jpeg\r\n",
      "person1450_bacteria_3753.jpeg person51_bacteria_242.jpeg\r\n",
      "person1453_bacteria_3770.jpeg person51_bacteria_243.jpeg\r\n",
      "person1453_bacteria_3771.jpeg person51_bacteria_244.jpeg\r\n",
      "person1453_bacteria_3772.jpeg person51_bacteria_246.jpeg\r\n",
      "person1454_bacteria_3774.jpeg person51_bacteria_247.jpeg\r\n",
      "person1454_bacteria_3778.jpeg person51_bacteria_248.jpeg\r\n",
      "person1454_bacteria_3779.jpeg person520_bacteria_2203.jpeg\r\n",
      "person1454_bacteria_3780.jpeg person520_bacteria_2204.jpeg\r\n",
      "person1454_bacteria_3781.jpeg person520_bacteria_2205.jpeg\r\n",
      "person1454_bacteria_3782.jpeg person522_bacteria_2210.jpeg\r\n",
      "person1455_bacteria_3784.jpeg person522_bacteria_2211.jpeg\r\n",
      "person1459_bacteria_3796.jpeg person525_bacteria_2216.jpeg\r\n",
      "person1459_bacteria_3797.jpeg person525_bacteria_2217.jpeg\r\n",
      "person145_bacteria_696.jpeg   person525_bacteria_2218.jpeg\r\n",
      "person1460_bacteria_3801.jpeg person525_bacteria_2220.jpeg\r\n",
      "person1460_bacteria_3805.jpeg person526_bacteria_2221.jpeg\r\n",
      "person1463_bacteria_3808.jpeg person527_bacteria_2225.jpeg\r\n",
      "person1463_bacteria_3809.jpeg person527_bacteria_2226.jpeg\r\n",
      "person1463_bacteria_3811.jpeg person528_bacteria_2227.jpeg\r\n",
      "person1468_bacteria_3822.jpeg person529_bacteria_2228.jpeg\r\n",
      "person1469_bacteria_3824.jpeg person529_bacteria_2229.jpeg\r\n",
      "person1469_bacteria_3827.jpeg person529_bacteria_2230.jpeg\r\n",
      "person146_bacteria_700.jpeg   person52_bacteria_249.jpeg\r\n",
      "person146_bacteria_703.jpeg   person52_bacteria_251.jpeg\r\n",
      "person1470_bacteria_3829.jpeg person530_bacteria_2231.jpeg\r\n",
      "person1470_bacteria_3830.jpeg person530_bacteria_2233.jpeg\r\n",
      "person1471_bacteria_3831.jpeg person531_bacteria_2235.jpeg\r\n",
      "person1472_bacteria_3833.jpeg person531_bacteria_2236.jpeg\r\n",
      "person1472_bacteria_3834.jpeg person531_bacteria_2237.jpeg\r\n",
      "person1473_bacteria_3836.jpeg person531_bacteria_2238.jpeg\r\n",
      "person1474_bacteria_3837.jpeg person531_bacteria_2239.jpeg\r\n",
      "person1476_bacteria_3842.jpeg person531_bacteria_2240.jpeg\r\n",
      "person1476_bacteria_3843.jpeg person531_bacteria_2241.jpeg\r\n",
      "person1478_bacteria_3848.jpeg person531_bacteria_2242.jpeg\r\n",
      "person147_bacteria_705.jpeg   person533_bacteria_2245.jpeg\r\n",
      "person147_bacteria_706.jpeg   person533_bacteria_2250.jpeg\r\n",
      "person147_bacteria_707.jpeg   person534_bacteria_2251.jpeg\r\n",
      "person147_bacteria_711.jpeg   person534_bacteria_2252.jpeg\r\n",
      "person1480_bacteria_3858.jpeg person534_bacteria_2253.jpeg\r\n",
      "person1480_bacteria_3859.jpeg person534_bacteria_2254.jpeg\r\n",
      "person1481_bacteria_3863.jpeg person535_bacteria_2255.jpeg\r\n",
      "person1481_bacteria_3865.jpeg person535_bacteria_2256.jpeg\r\n",
      "person1481_bacteria_3867.jpeg person536_bacteria_2257.jpeg\r\n",
      "person1481_bacteria_3868.jpeg person536_bacteria_2258.jpeg\r\n",
      "person1482_bacteria_3870.jpeg person536_bacteria_2259.jpeg\r\n",
      "person1482_bacteria_3874.jpeg person536_bacteria_2260.jpeg\r\n",
      "person1483_bacteria_3876.jpeg person537_bacteria_2261.jpeg\r\n",
      "person1484_bacteria_3878.jpeg person537_bacteria_2262.jpeg\r\n",
      "person1486_bacteria_3881.jpeg person537_bacteria_2263.jpeg\r\n",
      "person1486_bacteria_3883.jpeg person537_bacteria_2264.jpeg\r\n",
      "person1486_bacteria_3884.jpeg person537_bacteria_2265.jpeg\r\n",
      "person1486_bacteria_3885.jpeg person537_bacteria_2266.jpeg\r\n",
      "person1488_bacteria_3887.jpeg person538_bacteria_2268.jpeg\r\n",
      "person1489_bacteria_3889.jpeg person539_bacteria_2269.jpeg\r\n",
      "person1490_bacteria_3891.jpeg person539_bacteria_2270.jpeg\r\n",
      "person1491_bacteria_3892.jpeg person53_bacteria_252.jpeg\r\n",
      "person1491_bacteria_3893.jpeg person53_bacteria_253.jpeg\r\n",
      "person1492_bacteria_3894.jpeg person53_bacteria_254.jpeg\r\n",
      "person1493_bacteria_3895.jpeg person53_bacteria_255.jpeg\r\n",
      "person1493_bacteria_3896.jpeg person540_bacteria_2271.jpeg\r\n",
      "person1493_bacteria_3897.jpeg person540_bacteria_2272.jpeg\r\n",
      "person1493_bacteria_3898.jpeg person540_bacteria_2273.jpeg\r\n",
      "person1493_bacteria_3899.jpeg person541_bacteria_2274.jpeg\r\n",
      "person1494_bacteria_3901.jpeg person541_bacteria_2275.jpeg\r\n",
      "person1496_bacteria_3905.jpeg person542_bacteria_2276.jpeg\r\n",
      "person1496_bacteria_3906.jpeg person543_bacteria_2279.jpeg\r\n",
      "person1496_bacteria_3907.jpeg person543_bacteria_2280.jpeg\r\n",
      "person1496_bacteria_3908.jpeg person543_bacteria_2281.jpeg\r\n",
      "person1496_bacteria_3910.jpeg person543_bacteria_2282.jpeg\r\n",
      "person1496_bacteria_3911.jpeg person543_bacteria_2283.jpeg\r\n",
      "person1497_bacteria_3912.jpeg person543_bacteria_2284.jpeg\r\n",
      "person1499_bacteria_3915.jpeg person544_bacteria_2286.jpeg\r\n",
      "person14_bacteria_51.jpeg     person545_bacteria_2287.jpeg\r\n",
      "person1500_bacteria_3916.jpeg person545_bacteria_2288.jpeg\r\n",
      "person1502_bacteria_3922.jpeg person545_bacteria_2289.jpeg\r\n",
      "person1502_bacteria_3923.jpeg person545_bacteria_2290.jpeg\r\n",
      "person1502_bacteria_3924.jpeg person547_bacteria_2292.jpeg\r\n",
      "person1502_bacteria_3925.jpeg person547_bacteria_2294.jpeg\r\n",
      "person1502_bacteria_3927.jpeg person547_bacteria_2296.jpeg\r\n",
      "person1502_bacteria_3928.jpeg person548_bacteria_2297.jpeg\r\n",
      "person1502_bacteria_3929.jpeg person548_bacteria_2298.jpeg\r\n",
      "person1504_bacteria_3931.jpeg person548_bacteria_2299.jpeg\r\n",
      "person1506_bacteria_3933.jpeg person548_bacteria_2300.jpeg\r\n",
      "person1507_bacteria_3935.jpeg person548_bacteria_2301.jpeg\r\n",
      "person1507_bacteria_3942.jpeg person548_bacteria_2302.jpeg\r\n",
      "person1507_bacteria_3943.jpeg person549_bacteria_2303.jpeg\r\n",
      "person1507_bacteria_3944.jpeg person549_bacteria_2304.jpeg\r\n",
      "person1507_bacteria_3945.jpeg person549_bacteria_2305.jpeg\r\n",
      "person1507_bacteria_3946.jpeg person549_bacteria_2306.jpeg\r\n",
      "person1507_bacteria_3947.jpeg person549_bacteria_2307.jpeg\r\n",
      "person1507_bacteria_3948.jpeg person54_bacteria_257.jpeg\r\n",
      "person1508_bacteria_3949.jpeg person54_bacteria_258.jpeg\r\n",
      "person1509_bacteria_3951.jpeg person550_bacteria_2308.jpeg\r\n",
      "person150_bacteria_715.jpeg   person550_bacteria_2309.jpeg\r\n",
      "person150_bacteria_716.jpeg   person551_bacteria_2310.jpeg\r\n",
      "person150_bacteria_717.jpeg   person551_bacteria_2311.jpeg\r\n",
      "person1511_bacteria_3955.jpeg person552_bacteria_2313.jpeg\r\n",
      "person1512_bacteria_3958.jpeg person552_bacteria_2315.jpeg\r\n",
      "person1513_bacteria_3962.jpeg person553_bacteria_2316.jpeg\r\n",
      "person1514_bacteria_3964.jpeg person553_bacteria_2317.jpeg\r\n",
      "person1517_bacteria_3968.jpeg person554_bacteria_2320.jpeg\r\n",
      "person1518_bacteria_3969.jpeg person554_bacteria_2321.jpeg\r\n",
      "person1519_bacteria_3970.jpeg person554_bacteria_2322.jpeg\r\n",
      "person151_bacteria_718.jpeg   person554_bacteria_2323.jpeg\r\n",
      "person1520_bacteria_3971.jpeg person555_bacteria_2325.jpeg\r\n",
      "person1522_bacteria_3977.jpeg person556_bacteria_2326.jpeg\r\n",
      "person1523_bacteria_3979.jpeg person557_bacteria_2327.jpeg\r\n",
      "person1523_bacteria_3980.jpeg person558_bacteria_2328.jpeg\r\n",
      "person1524_bacteria_3983.jpeg person559_bacteria_2329.jpeg\r\n",
      "person1524_bacteria_3984.jpeg person55_bacteria_260.jpeg\r\n",
      "person1525_bacteria_3985.jpeg person55_bacteria_261.jpeg\r\n",
      "person1526_bacteria_3986.jpeg person55_bacteria_262.jpeg\r\n",
      "person1527_bacteria_3988.jpeg person55_bacteria_263.jpeg\r\n",
      "person1527_bacteria_3989.jpeg person55_bacteria_264.jpeg\r\n",
      "person1527_bacteria_3990.jpeg person55_bacteria_265.jpeg\r\n",
      "person1528_bacteria_3991.jpeg person55_bacteria_266.jpeg\r\n",
      "person1528_bacteria_3996.jpeg person560_bacteria_2330.jpeg\r\n",
      "person152_bacteria_720.jpeg   person561_bacteria_2331.jpeg\r\n",
      "person152_bacteria_721.jpeg   person562_bacteria_2332.jpeg\r\n",
      "person152_bacteria_722.jpeg   person563_bacteria_2333.jpeg\r\n",
      "person152_bacteria_723.jpeg   person563_bacteria_2334.jpeg\r\n",
      "person1530_bacteria_4000.jpeg person563_bacteria_2335.jpeg\r\n",
      "person1531_bacteria_4003.jpeg person563_bacteria_2336.jpeg\r\n",
      "person1535_bacteria_4015.jpeg person563_bacteria_2337.jpeg\r\n",
      "person1535_bacteria_4016.jpeg person563_bacteria_2338.jpeg\r\n",
      "person1535_bacteria_4017.jpeg person563_bacteria_2339.jpeg\r\n",
      "person1536_bacteria_4018.jpeg person563_bacteria_2340.jpeg\r\n",
      "person1537_bacteria_4019.jpeg person564_bacteria_2342.jpeg\r\n",
      "person1537_bacteria_4020.jpeg person564_bacteria_2343.jpeg\r\n",
      "person1538_bacteria_4021.jpeg person564_bacteria_2344.jpeg\r\n",
      "person1539_bacteria_4022.jpeg person564_bacteria_2345.jpeg\r\n",
      "person153_bacteria_725.jpeg   person564_bacteria_2346.jpeg\r\n",
      "person153_bacteria_726.jpeg   person564_bacteria_2347.jpeg\r\n",
      "person1540_bacteria_4023.jpeg person565_bacteria_2348.jpeg\r\n",
      "person1542_bacteria_4029.jpeg person566_bacteria_2351.jpeg\r\n",
      "person1544_bacteria_4033.jpeg person567_bacteria_2352.jpeg\r\n",
      "person1544_bacteria_4035.jpeg person567_bacteria_2353.jpeg\r\n",
      "person1544_bacteria_4037.jpeg person567_bacteria_2354.jpeg\r\n",
      "person1544_bacteria_4038.jpeg person568_bacteria_2358.jpeg\r\n",
      "person1545_bacteria_4041.jpeg person568_bacteria_2359.jpeg\r\n",
      "person1545_bacteria_4042.jpeg person569_bacteria_2360.jpeg\r\n",
      "person1546_bacteria_4044.jpeg person569_bacteria_2362.jpeg\r\n",
      "person1546_bacteria_4045.jpeg person569_bacteria_2363.jpeg\r\n",
      "person1548_bacteria_4048.jpeg person569_bacteria_2364.jpeg\r\n",
      "person1549_bacteria_4050.jpeg person56_bacteria_267.jpeg\r\n",
      "person1550_bacteria_4051.jpeg person56_bacteria_268.jpeg\r\n",
      "person1551_bacteria_4053.jpeg person56_bacteria_269.jpeg\r\n",
      "person1551_bacteria_4054.jpeg person570_bacteria_2365.jpeg\r\n",
      "person1552_bacteria_4055.jpeg person571_bacteria_2367.jpeg\r\n",
      "person1554_bacteria_4057.jpeg person572_bacteria_2368.jpeg\r\n",
      "person1555_bacteria_4058.jpeg person573_bacteria_2369.jpeg\r\n",
      "person1555_bacteria_4059.jpeg person574_bacteria_2370.jpeg\r\n",
      "person1555_bacteria_4060.jpeg person574_bacteria_2371.jpeg\r\n",
      "person1556_bacteria_4061.jpeg person574_bacteria_2372.jpeg\r\n",
      "person1556_bacteria_4062.jpeg person574_bacteria_2373.jpeg\r\n",
      "person1557_bacteria_4063.jpeg person575_bacteria_2374.jpeg\r\n",
      "person1557_bacteria_4065.jpeg person576_bacteria_2375.jpeg\r\n",
      "person1558_bacteria_4066.jpeg person576_bacteria_2376.jpeg\r\n",
      "person1559_bacteria_4067.jpeg person577_bacteria_2378.jpeg\r\n",
      "person155_bacteria_729.jpeg   person578_bacteria_2379.jpeg\r\n",
      "person155_bacteria_730.jpeg   person579_bacteria_2381.jpeg\r\n",
      "person155_bacteria_731.jpeg   person579_bacteria_2382.jpeg\r\n",
      "person1561_bacteria_4077.jpeg person579_bacteria_2383.jpeg\r\n",
      "person1562_bacteria_4078.jpeg person579_bacteria_2384.jpeg\r\n",
      "person1562_bacteria_4081.jpeg person579_bacteria_2386.jpeg\r\n",
      "person1562_bacteria_4087.jpeg person57_bacteria_270.jpeg\r\n",
      "person1562_bacteria_4089.jpeg person57_bacteria_271.jpeg\r\n",
      "person1563_bacteria_4092.jpeg person580_bacteria_2387.jpeg\r\n",
      "person1564_bacteria_4094.jpeg person580_bacteria_2388.jpeg\r\n",
      "person1565_bacteria_4095.jpeg person580_bacteria_2389.jpeg\r\n",
      "person1566_bacteria_4099.jpeg person581_bacteria_2390.jpeg\r\n",
      "person1567_bacteria_4100.jpeg person581_bacteria_2392.jpeg\r\n",
      "person1571_bacteria_4108.jpeg person581_bacteria_2393.jpeg\r\n",
      "person1571_bacteria_4110.jpeg person581_bacteria_2394.jpeg\r\n",
      "person1575_bacteria_4119.jpeg person581_bacteria_2395.jpeg\r\n",
      "person1576_bacteria_4120.jpeg person581_bacteria_2400.jpeg\r\n",
      "person1576_bacteria_4121.jpeg person582_bacteria_2403.jpeg\r\n",
      "person1576_bacteria_4122.jpeg person582_bacteria_2404.jpeg\r\n",
      "person1576_bacteria_4124.jpeg person582_bacteria_2405.jpeg\r\n",
      "person1576_bacteria_4126.jpeg person583_bacteria_2406.jpeg\r\n",
      "person1576_bacteria_4127.jpeg person583_bacteria_2408.jpeg\r\n",
      "person1576_bacteria_4128.jpeg person583_bacteria_2409.jpeg\r\n",
      "person1576_bacteria_4129.jpeg person585_bacteria_2411.jpeg\r\n",
      "person1579_bacteria_4133.jpeg person585_bacteria_2412.jpeg\r\n",
      "person157_bacteria_735.jpeg   person585_bacteria_2413.jpeg\r\n",
      "person157_bacteria_739.jpeg   person585_bacteria_2414.jpeg\r\n",
      "person157_bacteria_740.jpeg   person585_bacteria_2415.jpeg\r\n",
      "person1581_bacteria_4135.jpeg person585_bacteria_2416.jpeg\r\n",
      "person1582_bacteria_4136.jpeg person586_bacteria_2417.jpeg\r\n",
      "person1582_bacteria_4137.jpeg person586_bacteria_2418.jpeg\r\n",
      "person1582_bacteria_4140.jpeg person586_bacteria_2420.jpeg\r\n",
      "person1582_bacteria_4142.jpeg person587_bacteria_2421.jpeg\r\n",
      "person1582_bacteria_4143.jpeg person588_bacteria_2422.jpeg\r\n",
      "person1583_bacteria_4144.jpeg person588_bacteria_2423.jpeg\r\n",
      "person1584_bacteria_4146.jpeg person589_bacteria_2424.jpeg\r\n",
      "person1584_bacteria_4148.jpeg person589_bacteria_2425.jpeg\r\n",
      "person1585_bacteria_4149.jpeg person58_bacteria_272.jpeg\r\n",
      "person1585_bacteria_4151.jpeg person58_bacteria_273.jpeg\r\n",
      "person1585_bacteria_4155.jpeg person58_bacteria_274.jpeg\r\n",
      "person1589_bacteria_4171.jpeg person58_bacteria_275.jpeg\r\n",
      "person1589_bacteria_4172.jpeg person58_bacteria_276.jpeg\r\n",
      "person158_bacteria_742.jpeg   person58_bacteria_277.jpeg\r\n",
      "person158_bacteria_743.jpeg   person58_bacteria_278.jpeg\r\n",
      "person158_bacteria_744.jpeg   person590_bacteria_2428.jpeg\r\n",
      "person158_bacteria_745.jpeg   person591_bacteria_2429.jpeg\r\n",
      "person1590_bacteria_4174.jpeg person592_bacteria_2431.jpeg\r\n",
      "person1590_bacteria_4175.jpeg person592_bacteria_2434.jpeg\r\n",
      "person1590_bacteria_4176.jpeg person593_bacteria_2435.jpeg\r\n",
      "person1591_bacteria_4177.jpeg person594_bacteria_2436.jpeg\r\n",
      "person1592_bacteria_4178.jpeg person595_bacteria_2438.jpeg\r\n",
      "person1594_bacteria_4182.jpeg person596_bacteria_2440.jpeg\r\n",
      "person1595_bacteria_4183.jpeg person596_bacteria_2441.jpeg\r\n",
      "person1596_bacteria_4184.jpeg person596_bacteria_2443.jpeg\r\n",
      "person1597_bacteria_4187.jpeg person596_bacteria_2444.jpeg\r\n",
      "person1597_bacteria_4188.jpeg person596_bacteria_2445.jpeg\r\n",
      "person1597_bacteria_4189.jpeg person596_bacteria_2446.jpeg\r\n",
      "person1597_bacteria_4190.jpeg person596_bacteria_2447.jpeg\r\n",
      "person1597_bacteria_4191.jpeg person596_bacteria_2449.jpeg\r\n",
      "person1597_bacteria_4192.jpeg person597_bacteria_2450.jpeg\r\n",
      "person1597_bacteria_4193.jpeg person597_bacteria_2451.jpeg\r\n",
      "person1597_bacteria_4194.jpeg person598_bacteria_2453.jpeg\r\n",
      "person1598_bacteria_4195.jpeg person598_bacteria_2454.jpeg\r\n",
      "person1598_bacteria_4197.jpeg person599_bacteria_2455.jpeg\r\n",
      "person1598_bacteria_4198.jpeg person59_bacteria_279.jpeg\r\n",
      "person1599_bacteria_4200.jpeg person59_bacteria_280.jpeg\r\n",
      "person1599_bacteria_4201.jpeg person59_bacteria_281.jpeg\r\n",
      "person159_bacteria_746.jpeg   person59_bacteria_282.jpeg\r\n",
      "person159_bacteria_747.jpeg   person59_bacteria_283.jpeg\r\n",
      "person15_bacteria_52.jpeg     person59_bacteria_284.jpeg\r\n",
      "person1600_bacteria_4202.jpeg person5_bacteria_15.jpeg\r\n",
      "person1601_bacteria_4209.jpeg person5_bacteria_16.jpeg\r\n",
      "person1601_bacteria_4212.jpeg person5_bacteria_17.jpeg\r\n",
      "person1602_bacteria_4218.jpeg person5_bacteria_19.jpeg\r\n",
      "person1605_bacteria_4226.jpeg person600_bacteria_2456.jpeg\r\n",
      "person1607_bacteria_4232.jpeg person600_bacteria_2457.jpeg\r\n",
      "person1608_bacteria_4235.jpeg person600_bacteria_2458.jpeg\r\n",
      "person1609_bacteria_4236.jpeg person601_bacteria_2459.jpeg\r\n",
      "person1609_bacteria_4237.jpeg person602_bacteria_2460.jpeg\r\n",
      "person1609_bacteria_4239.jpeg person603_bacteria_2461.jpeg\r\n",
      "person1610_bacteria_4240.jpeg person604_bacteria_2462.jpeg\r\n",
      "person1611_bacteria_4241.jpeg person604_bacteria_2463.jpeg\r\n",
      "person1614_bacteria_4248.jpeg person605_bacteria_2464.jpeg\r\n",
      "person1615_bacteria_4249.jpeg person605_bacteria_2465.jpeg\r\n",
      "person1616_bacteria_4251.jpeg person605_bacteria_2466.jpeg\r\n",
      "person1617_bacteria_4254.jpeg person605_bacteria_2467.jpeg\r\n",
      "person1617_bacteria_4255.jpeg person605_bacteria_2468.jpeg\r\n",
      "person1617_bacteria_4256.jpeg person606_bacteria_2469.jpeg\r\n",
      "person1618_bacteria_4258.jpeg person607_bacteria_2470.jpeg\r\n",
      "person1619_bacteria_4261.jpeg person608_bacteria_2471.jpeg\r\n",
      "person1619_bacteria_4262.jpeg person608_bacteria_2472.jpeg\r\n",
      "person1619_bacteria_4266.jpeg person608_bacteria_2473.jpeg\r\n",
      "person1619_bacteria_4268.jpeg person609_bacteria_2474.jpeg\r\n",
      "person1619_bacteria_4269.jpeg person60_bacteria_285.jpeg\r\n",
      "person1619_bacteria_4270.jpeg person60_bacteria_286.jpeg\r\n",
      "person1619_bacteria_4271.jpeg person60_bacteria_287.jpeg\r\n",
      "person161_bacteria_757.jpeg   person610_bacteria_2475.jpeg\r\n",
      "person161_bacteria_759.jpeg   person612_bacteria_2477.jpeg\r\n",
      "person161_bacteria_762.jpeg   person612_bacteria_2478.jpeg\r\n",
      "person1620_bacteria_4272.jpeg person613_bacteria_2479.jpeg\r\n",
      "person1625_bacteria_4290.jpeg person614_bacteria_2480.jpeg\r\n",
      "person1626_bacteria_4291.jpeg person614_bacteria_2481.jpeg\r\n",
      "person1628_bacteria_4293.jpeg person614_bacteria_2483.jpeg\r\n",
      "person1628_bacteria_4294.jpeg person616_bacteria_2487.jpeg\r\n",
      "person1628_bacteria_4295.jpeg person617_bacteria_2488.jpeg\r\n",
      "person1628_bacteria_4296.jpeg person618_bacteria_2489.jpeg\r\n",
      "person1628_bacteria_4298.jpeg person619_bacteria_2490.jpeg\r\n",
      "person1629_bacteria_4299.jpeg person619_bacteria_2491.jpeg\r\n",
      "person1630_bacteria_4303.jpeg person61_bacteria_288.jpeg\r\n",
      "person1630_bacteria_4304.jpeg person61_bacteria_289.jpeg\r\n",
      "person1634_bacteria_4326.jpeg person61_bacteria_290.jpeg\r\n",
      "person1634_bacteria_4331.jpeg person61_bacteria_291.jpeg\r\n",
      "person1634_bacteria_4334.jpeg person61_bacteria_292.jpeg\r\n",
      "person1635_bacteria_4335.jpeg person61_bacteria_293.jpeg\r\n",
      "person1636_bacteria_4337.jpeg person61_bacteria_294.jpeg\r\n",
      "person1636_bacteria_4338.jpeg person61_bacteria_295.jpeg\r\n",
      "person1638_bacteria_4340.jpeg person61_bacteria_296.jpeg\r\n",
      "person1638_bacteria_4341.jpeg person61_bacteria_297.jpeg\r\n",
      "person1638_bacteria_4342.jpeg person620_bacteria_2492.jpeg\r\n",
      "person1639_bacteria_4343.jpeg person622_bacteria_2494.jpeg\r\n",
      "person1639_bacteria_4344.jpeg person623_bacteria_2495.jpeg\r\n",
      "person1639_bacteria_4345.jpeg person623_bacteria_2496.jpeg\r\n",
      "person1639_bacteria_4347.jpeg person624_bacteria_2497.jpeg\r\n",
      "person1640_bacteria_4348.jpeg person625_bacteria_2499.jpeg\r\n",
      "person1641_bacteria_4350.jpeg person625_bacteria_2500.jpeg\r\n",
      "person1642_bacteria_4352.jpeg person626_bacteria_2502.jpeg\r\n",
      "person1642_bacteria_4353.jpeg person628_bacteria_2505.jpeg\r\n",
      "person1643_bacteria_4354.jpeg person629_bacteria_2506.jpeg\r\n",
      "person1644_bacteria_4356.jpeg person629_bacteria_2507.jpeg\r\n",
      "person1644_bacteria_4357.jpeg person629_bacteria_2508.jpeg\r\n",
      "person1644_bacteria_4358.jpeg person629_bacteria_2509.jpeg\r\n",
      "person1644_bacteria_4360.jpeg person629_bacteria_2510.jpeg\r\n",
      "person1644_bacteria_4361.jpeg person62_bacteria_298.jpeg\r\n",
      "person1644_bacteria_4362.jpeg person62_bacteria_299.jpeg\r\n",
      "person1645_bacteria_4363.jpeg person62_bacteria_300.jpeg\r\n",
      "person1646_bacteria_4368.jpeg person62_bacteria_301.jpeg\r\n",
      "person1647_bacteria_4372.jpeg person62_bacteria_302.jpeg\r\n",
      "person1648_bacteria_4373.jpeg person62_bacteria_303.jpeg\r\n",
      "person1648_bacteria_4375.jpeg person630_bacteria_2512.jpeg\r\n",
      "person1648_bacteria_4376.jpeg person630_bacteria_2513.jpeg\r\n",
      "person1649_bacteria_4377.jpeg person630_bacteria_2514.jpeg\r\n",
      "person1649_bacteria_4378.jpeg person630_bacteria_2515.jpeg\r\n",
      "person1649_bacteria_4379.jpeg person630_bacteria_2516.jpeg\r\n",
      "person1652_bacteria_4383.jpeg person632_bacteria_2520.jpeg\r\n",
      "person1657_bacteria_4398.jpeg person632_bacteria_2521.jpeg\r\n",
      "person1657_bacteria_4399.jpeg person633_bacteria_2522.jpeg\r\n",
      "person1657_bacteria_4400.jpeg person634_bacteria_2525.jpeg\r\n",
      "person1658_bacteria_4402.jpeg person635_bacteria_2526.jpeg\r\n",
      "person1660_bacteria_4404.jpeg person636_bacteria_2527.jpeg\r\n",
      "person1661_bacteria_4406.jpeg person637_bacteria_2528.jpeg\r\n",
      "person1663_bacteria_4411.jpeg person637_bacteria_2529.jpeg\r\n",
      "person1663_bacteria_4412.jpeg person63_bacteria_306.jpeg\r\n",
      "person1665_bacteria_4415.jpeg person640_bacteria_2532.jpeg\r\n",
      "person1666_bacteria_4416.jpeg person641_bacteria_2533.jpeg\r\n",
      "person1667_bacteria_4417.jpeg person643_bacteria_2534.jpeg\r\n",
      "person1667_bacteria_4418.jpeg person644_bacteria_2536.jpeg\r\n",
      "person1668_bacteria_4420.jpeg person645_bacteria_2537.jpeg\r\n",
      "person1668_bacteria_4421.jpeg person646_bacteria_2538.jpeg\r\n",
      "person1669_bacteria_4423.jpeg person647_bacteria_2539.jpeg\r\n",
      "person1669_bacteria_4424.jpeg person648_bacteria_2540.jpeg\r\n",
      "person1670_bacteria_4425.jpeg person649_bacteria_2541.jpeg\r\n",
      "person1670_bacteria_4427.jpeg person64_bacteria_310.jpeg\r\n",
      "person1670_bacteria_4428.jpeg person64_bacteria_312.jpeg\r\n",
      "person1670_bacteria_4429.jpeg person64_bacteria_316.jpeg\r\n",
      "person1670_bacteria_4430.jpeg person64_bacteria_317.jpeg\r\n",
      "person1670_bacteria_4431.jpeg person64_bacteria_318.jpeg\r\n",
      "person1671_bacteria_4432.jpeg person64_bacteria_319.jpeg\r\n",
      "person1673_bacteria_4434.jpeg person64_bacteria_320.jpeg\r\n",
      "person1674_bacteria_4437.jpeg person650_bacteria_2542.jpeg\r\n",
      "person1677_bacteria_4443.jpeg person651_bacteria_2543.jpeg\r\n",
      "person1679_bacteria_4450.jpeg person652_bacteria_2544.jpeg\r\n",
      "person1679_bacteria_4452.jpeg person653_bacteria_2545.jpeg\r\n",
      "person1679_bacteria_4453.jpeg person654_bacteria_2546.jpeg\r\n",
      "person1680_bacteria_4455.jpeg person655_bacteria_2547.jpeg\r\n",
      "person1682_bacteria_4459.jpeg person656_bacteria_2548.jpeg\r\n",
      "person1683_bacteria_4460.jpeg person657_bacteria_2549.jpeg\r\n",
      "person1684_bacteria_4463.jpeg person658_bacteria_2550.jpeg\r\n",
      "person1685_bacteria_4465.jpeg person659_bacteria_2551.jpeg\r\n",
      "person1686_bacteria_4466.jpeg person65_bacteria_322.jpeg\r\n",
      "person1687_bacteria_4468.jpeg person660_bacteria_2552.jpeg\r\n",
      "person1689_bacteria_4472.jpeg person661_bacteria_2553.jpeg\r\n",
      "person1689_bacteria_4473.jpeg person662_bacteria_2554.jpeg\r\n",
      "person1690_bacteria_4475.jpeg person663_bacteria_2555.jpeg\r\n",
      "person1691_bacteria_4479.jpeg person665_bacteria_2557.jpeg\r\n",
      "person1691_bacteria_4481.jpeg person666_bacteria_2558.jpeg\r\n",
      "person1695_bacteria_4492.jpeg person669_bacteria_2561.jpeg\r\n",
      "person1696_bacteria_4495.jpeg person669_bacteria_2562.jpeg\r\n",
      "person1697_bacteria_4496.jpeg person66_bacteria_323.jpeg\r\n",
      "person1698_bacteria_4497.jpeg person66_bacteria_324.jpeg\r\n",
      "person1699_bacteria_4498.jpeg person66_bacteria_325.jpeg\r\n",
      "person16_bacteria_53.jpeg     person66_bacteria_326.jpeg\r\n",
      "person16_bacteria_54.jpeg     person670_bacteria_2563.jpeg\r\n",
      "person16_bacteria_55.jpeg     person671_bacteria_2564.jpeg\r\n",
      "person1700_bacteria_4500.jpeg person672_bacteria_2565.jpeg\r\n",
      "person1700_bacteria_4502.jpeg person673_bacteria_2566.jpeg\r\n",
      "person1701_bacteria_4504.jpeg person674_bacteria_2568.jpeg\r\n",
      "person1702_bacteria_4508.jpeg person675_bacteria_2569.jpeg\r\n",
      "person1702_bacteria_4509.jpeg person677_bacteria_2571.jpeg\r\n",
      "person1702_bacteria_4510.jpeg person678_bacteria_2572.jpeg\r\n",
      "person1702_bacteria_4511.jpeg person67_bacteria_328.jpeg\r\n",
      "person1707_bacteria_4520.jpeg person67_bacteria_329.jpeg\r\n",
      "person1708_bacteria_4521.jpeg person67_bacteria_330.jpeg\r\n",
      "person1709_bacteria_4522.jpeg person67_bacteria_331.jpeg\r\n",
      "person1709_bacteria_4524.jpeg person67_bacteria_332.jpeg\r\n",
      "person1710_bacteria_4525.jpeg person67_bacteria_333.jpeg\r\n",
      "person1711_bacteria_4527.jpeg person67_bacteria_334.jpeg\r\n",
      "person1712_bacteria_4529.jpeg person680_bacteria_2575.jpeg\r\n",
      "person1713_bacteria_4530.jpeg person681_bacteria_2576.jpeg\r\n",
      "person1715_bacteria_4532.jpeg person683_bacteria_2578.jpeg\r\n",
      "person1717_bacteria_4534.jpeg person684_bacteria_2580.jpeg\r\n",
      "person1717_bacteria_4536.jpeg person685_bacteria_2581.jpeg\r\n",
      "person1718_bacteria_4538.jpeg person687_bacteria_2583.jpeg\r\n",
      "person1718_bacteria_4540.jpeg person688_bacteria_2584.jpeg\r\n",
      "person171_bacteria_826.jpeg   person689_bacteria_2585.jpeg\r\n",
      "person1720_bacteria_4545.jpeg person689_bacteria_2586.jpeg\r\n",
      "person1721_bacteria_4546.jpeg person68_bacteria_335.jpeg\r\n",
      "person1722_bacteria_4547.jpeg person68_bacteria_336.jpeg\r\n",
      "person1723_bacteria_4548.jpeg person68_bacteria_337.jpeg\r\n",
      "person1724_bacteria_4549.jpeg person690_bacteria_2587.jpeg\r\n",
      "person1725_bacteria_4550.jpeg person691_bacteria_2588.jpeg\r\n",
      "person1726_bacteria_4552.jpeg person692_bacteria_2589.jpeg\r\n",
      "person1729_bacteria_4557.jpeg person693_bacteria_2590.jpeg\r\n",
      "person172_bacteria_827.jpeg   person696_bacteria_2594.jpeg\r\n",
      "person1730_bacteria_4558.jpeg person699_bacteria_2598.jpeg\r\n",
      "person1730_bacteria_4559.jpeg person69_bacteria_338.jpeg\r\n",
      "person1731_bacteria_4563.jpeg person6_bacteria_22.jpeg\r\n",
      "person1733_bacteria_4566.jpeg person700_bacteria_2599.jpeg\r\n",
      "person1735_bacteria_4570.jpeg person701_bacteria_2600.jpeg\r\n",
      "person1737_bacteria_4573.jpeg person702_bacteria_2601.jpeg\r\n",
      "person1739_bacteria_4576.jpeg person703_bacteria_2602.jpeg\r\n",
      "person173_bacteria_830.jpeg   person704_bacteria_2603.jpeg\r\n",
      "person173_bacteria_831.jpeg   person707_bacteria_2606.jpeg\r\n",
      "person1740_bacteria_4579.jpeg person709_bacteria_2608.jpeg\r\n",
      "person1744_bacteria_4583.jpeg person70_bacteria_341.jpeg\r\n",
      "person1745_bacteria_4584.jpeg person70_bacteria_342.jpeg\r\n",
      "person1746_bacteria_4585.jpeg person70_bacteria_343.jpeg\r\n",
      "person1748_bacteria_4588.jpeg person70_bacteria_344.jpeg\r\n",
      "person1749_bacteria_4590.jpeg person70_bacteria_345.jpeg\r\n",
      "person174_bacteria_832.jpeg   person70_bacteria_346.jpeg\r\n",
      "person1753_bacteria_4594.jpeg person710_bacteria_2611.jpeg\r\n",
      "person1756_bacteria_4598.jpeg person711_bacteria_2612.jpeg\r\n",
      "person1757_bacteria_4599.jpeg person712_bacteria_2613.jpeg\r\n",
      "person1758_bacteria_4600.jpeg person713_bacteria_2614.jpeg\r\n",
      "person175_bacteria_833.jpeg   person714_bacteria_2615.jpeg\r\n",
      "person175_bacteria_834.jpeg   person716_bacteria_2617.jpeg\r\n",
      "person175_bacteria_835.jpeg   person717_bacteria_2618.jpeg\r\n",
      "person1760_bacteria_4602.jpeg person718_bacteria_2620.jpeg\r\n",
      "person1764_bacteria_4607.jpeg person719_bacteria_2621.jpeg\r\n",
      "person1765_bacteria_4608.jpeg person71_bacteria_347.jpeg\r\n",
      "person1770_bacteria_4613.jpeg person71_bacteria_348.jpeg\r\n",
      "person1771_bacteria_4615.jpeg person71_bacteria_349.jpeg\r\n",
      "person1777_bacteria_4622.jpeg person71_bacteria_350.jpeg\r\n",
      "person1779_bacteria_4626.jpeg person71_bacteria_351.jpeg\r\n",
      "person1784_bacteria_4631.jpeg person720_bacteria_2622.jpeg\r\n",
      "person1787_bacteria_4634.jpeg person721_bacteria_2623.jpeg\r\n",
      "person1790_bacteria_4638.jpeg person723_bacteria_2625.jpeg\r\n",
      "person1796_bacteria_4644.jpeg person724_bacteria_2626.jpeg\r\n",
      "person1799_bacteria_4647.jpeg person725_bacteria_2627.jpeg\r\n",
      "person17_bacteria_56.jpeg     person726_bacteria_2628.jpeg\r\n",
      "person1803_bacteria_4651.jpeg person727_bacteria_2629.jpeg\r\n",
      "person1803_bacteria_4652.jpeg person728_bacteria_2630.jpeg\r\n",
      "person1810_bacteria_4664.jpeg person72_bacteria_352.jpeg\r\n",
      "person1812_bacteria_4667.jpeg person72_bacteria_353.jpeg\r\n",
      "person1814_bacteria_4669.jpeg person72_bacteria_354.jpeg\r\n",
      "person1816_bacteria_4673.jpeg person730_bacteria_2632.jpeg\r\n",
      "person1816_bacteria_4674.jpeg person731_bacteria_2633.jpeg\r\n",
      "person1817_bacteria_4675.jpeg person732_bacteria_2634.jpeg\r\n",
      "person1818_bacteria_4676.jpeg person733_bacteria_2635.jpeg\r\n",
      "person1819_bacteria_4677.jpeg person734_bacteria_2637.jpeg\r\n",
      "person1823_bacteria_4682.jpeg person735_bacteria_2638.jpeg\r\n",
      "person1830_bacteria_4693.jpeg person736_bacteria_2639.jpeg\r\n",
      "person1835_bacteria_4699.jpeg person737_bacteria_2640.jpeg\r\n",
      "person1838_bacteria_4703.jpeg person738_bacteria_2641.jpeg\r\n",
      "person1839_bacteria_4705.jpeg person739_bacteria_2642.jpeg\r\n",
      "person1841_bacteria_4708.jpeg person73_bacteria_355.jpeg\r\n",
      "person1843_bacteria_4710.jpeg person73_bacteria_356.jpeg\r\n",
      "person1847_bacteria_4716.jpeg person73_bacteria_357.jpeg\r\n",
      "person1850_bacteria_4721.jpeg person73_bacteria_358.jpeg\r\n",
      "person1851_bacteria_4722.jpeg person73_bacteria_359.jpeg\r\n",
      "person1852_bacteria_4724.jpeg person73_bacteria_360.jpeg\r\n",
      "person1855_bacteria_4727.jpeg person740_bacteria_2643.jpeg\r\n",
      "person1857_bacteria_4729.jpeg person741_bacteria_2644.jpeg\r\n",
      "person1858_bacteria_4730.jpeg person743_bacteria_2646.jpeg\r\n",
      "person1859_bacteria_4731.jpeg person744_bacteria_2647.jpeg\r\n",
      "person1860_bacteria_4732.jpeg person745_bacteria_2648.jpeg\r\n",
      "person1863_bacteria_4735.jpeg person746_bacteria_2649.jpeg\r\n",
      "person1864_bacteria_4736.jpeg person747_bacteria_2650.jpeg\r\n",
      "person1865_bacteria_4737.jpeg person749_bacteria_2652.jpeg\r\n",
      "person1865_bacteria_4739.jpeg person74_bacteria_361.jpeg\r\n",
      "person1866_bacteria_4740.jpeg person74_bacteria_362.jpeg\r\n",
      "person1867_bacteria_4741.jpeg person74_bacteria_363.jpeg\r\n",
      "person1868_bacteria_4743.jpeg person750_bacteria_2653.jpeg\r\n",
      "person1869_bacteria_4745.jpeg person751_bacteria_2654.jpeg\r\n",
      "person1872_bacteria_4750.jpeg person753_bacteria_2656.jpeg\r\n",
      "person1872_bacteria_4751.jpeg person755_bacteria_2659.jpeg\r\n",
      "person1875_bacteria_4756.jpeg person756_bacteria_2660.jpeg\r\n",
      "person1876_bacteria_4760.jpeg person757_bacteria_2661.jpeg\r\n",
      "person1877_bacteria_4761.jpeg person758_bacteria_2662.jpeg\r\n",
      "person1879_bacteria_4764.jpeg person759_bacteria_2663.jpeg\r\n",
      "person1880_bacteria_4765.jpeg person75_bacteria_364.jpeg\r\n",
      "person1881_bacteria_4767.jpeg person75_bacteria_365.jpeg\r\n",
      "person1883_bacteria_4769.jpeg person75_bacteria_366.jpeg\r\n",
      "person1884_bacteria_4771.jpeg person75_bacteria_367.jpeg\r\n",
      "person1885_bacteria_4772.jpeg person75_bacteria_368.jpeg\r\n",
      "person1886_bacteria_4773.jpeg person75_bacteria_369.jpeg\r\n",
      "person1888_bacteria_4775.jpeg person760_bacteria_2664.jpeg\r\n",
      "person1893_bacteria_4781.jpeg person761_bacteria_2665.jpeg\r\n",
      "person1896_bacteria_4788.jpeg person763_bacteria_2667.jpeg\r\n",
      "person1897_bacteria_4789.jpeg person764_bacteria_2668.jpeg\r\n",
      "person18_bacteria_57.jpeg     person765_bacteria_2669.jpeg\r\n",
      "person1901_bacteria_4795.jpeg person766_bacteria_2670.jpeg\r\n",
      "person1903_bacteria_4797.jpeg person767_bacteria_2671.jpeg\r\n",
      "person1904_bacteria_4798.jpeg person768_bacteria_2672.jpeg\r\n",
      "person1905_bacteria_4801.jpeg person769_bacteria_2673.jpeg\r\n",
      "person1906_bacteria_4803.jpeg person76_bacteria_370.jpeg\r\n",
      "person1907_bacteria_4806.jpeg person76_bacteria_371.jpeg\r\n",
      "person1908_bacteria_4811.jpeg person76_bacteria_372.jpeg\r\n",
      "person1910_bacteria_4814.jpeg person770_bacteria_2674.jpeg\r\n",
      "person1912_bacteria_4816.jpeg person771_bacteria_2675.jpeg\r\n",
      "person1912_bacteria_4817.jpeg person774_bacteria_2678.jpeg\r\n",
      "person1916_bacteria_4821.jpeg person775_bacteria_2679.jpeg\r\n",
      "person1917_bacteria_4823.jpeg person776_bacteria_2680.jpeg\r\n",
      "person1918_bacteria_4825.jpeg person778_bacteria_2682.jpeg\r\n",
      "person1921_bacteria_4828.jpeg person779_bacteria_2683.jpeg\r\n",
      "person1922_bacteria_4830.jpeg person77_bacteria_374.jpeg\r\n",
      "person1923_bacteria_4831.jpeg person77_bacteria_375.jpeg\r\n",
      "person1924_bacteria_4832.jpeg person77_bacteria_376.jpeg\r\n",
      "person1924_bacteria_4833.jpeg person77_bacteria_377.jpeg\r\n",
      "person1926_bacteria_4835.jpeg person780_bacteria_2684.jpeg\r\n",
      "person1927_bacteria_4836.jpeg person782_bacteria_2686.jpeg\r\n",
      "person1927_bacteria_4837.jpeg person783_bacteria_2687.jpeg\r\n",
      "person1929_bacteria_4839.jpeg person785_bacteria_2689.jpeg\r\n",
      "person1930_bacteria_4841.jpeg person786_bacteria_2690.jpeg\r\n",
      "person1931_bacteria_4842.jpeg person787_bacteria_2691.jpeg\r\n",
      "person1932_bacteria_4843.jpeg person789_bacteria_2694.jpeg\r\n",
      "person1933_bacteria_4844.jpeg person78_bacteria_378.jpeg\r\n",
      "person1934_bacteria_4846.jpeg person78_bacteria_380.jpeg\r\n",
      "person1935_bacteria_4847.jpeg person78_bacteria_381.jpeg\r\n",
      "person1935_bacteria_4848.jpeg person78_bacteria_382.jpeg\r\n",
      "person1935_bacteria_4849.jpeg person78_bacteria_384.jpeg\r\n",
      "person1935_bacteria_4850.jpeg person78_bacteria_385.jpeg\r\n",
      "person1936_bacteria_4852.jpeg person78_bacteria_386.jpeg\r\n",
      "person1937_bacteria_4853.jpeg person78_bacteria_387.jpeg\r\n",
      "person1938_bacteria_4854.jpeg person794_bacteria_2700.jpeg\r\n",
      "person1940_bacteria_4859.jpeg person796_bacteria_2702.jpeg\r\n",
      "person1940_bacteria_4861.jpeg person799_bacteria_2705.jpeg\r\n",
      "person1940_bacteria_4862.jpeg person7_bacteria_24.jpeg\r\n",
      "person1941_bacteria_4863.jpeg person7_bacteria_25.jpeg\r\n",
      "person1942_bacteria_4865.jpeg person7_bacteria_28.jpeg\r\n",
      "person1943_bacteria_4868.jpeg person7_bacteria_29.jpeg\r\n",
      "person1944_bacteria_4869.jpeg person800_bacteria_2706.jpeg\r\n",
      "person1945_bacteria_4872.jpeg person802_bacteria_2708.jpeg\r\n",
      "person1946_bacteria_4874.jpeg person803_bacteria_2710.jpeg\r\n",
      "person1946_bacteria_4875.jpeg person804_bacteria_2711.jpeg\r\n",
      "person1947_bacteria_4876.jpeg person805_bacteria_2712.jpeg\r\n",
      "person1949_bacteria_4880.jpeg person808_bacteria_2716.jpeg\r\n",
      "person1950_bacteria_4881.jpeg person809_bacteria_2717.jpeg\r\n",
      "person1951_bacteria_4882.jpeg person809_bacteria_2718.jpeg\r\n",
      "person1952_bacteria_4883.jpeg person80_bacteria_389.jpeg\r\n",
      "person1954_bacteria_4886.jpeg person80_bacteria_390.jpeg\r\n",
      "person19_bacteria_58.jpeg     person80_bacteria_391.jpeg\r\n",
      "person19_bacteria_59.jpeg     person80_bacteria_393.jpeg\r\n",
      "person19_bacteria_60.jpeg     person810_bacteria_2719.jpeg\r\n",
      "person19_bacteria_61.jpeg     person811_bacteria_2721.jpeg\r\n",
      "person19_bacteria_62.jpeg     person813_bacteria_2723.jpeg\r\n",
      "person19_bacteria_63.jpeg     person813_bacteria_2724.jpeg\r\n",
      "person1_bacteria_1.jpeg       person814_bacteria_2725.jpeg\r\n",
      "person1_bacteria_2.jpeg       person815_bacteria_2726.jpeg\r\n",
      "person20_bacteria_64.jpeg     person816_bacteria_2727.jpeg\r\n",
      "person20_bacteria_66.jpeg     person817_bacteria_2728.jpeg\r\n",
      "person20_bacteria_67.jpeg     person818_bacteria_2729.jpeg\r\n",
      "person20_bacteria_69.jpeg     person819_bacteria_2730.jpeg\r\n",
      "person20_bacteria_70.jpeg     person81_bacteria_395.jpeg\r\n",
      "person21_bacteria_72.jpeg     person81_bacteria_396.jpeg\r\n",
      "person21_bacteria_73.jpeg     person81_bacteria_397.jpeg\r\n",
      "person22_bacteria_74.jpeg     person81_bacteria_398.jpeg\r\n",
      "person22_bacteria_76.jpeg     person820_bacteria_2731.jpeg\r\n",
      "person22_bacteria_77.jpeg     person825_bacteria_2736.jpeg\r\n",
      "person23_bacteria_100.jpeg    person826_bacteria_2737.jpeg\r\n",
      "person23_bacteria_101.jpeg    person827_bacteria_2738.jpeg\r\n",
      "person23_bacteria_102.jpeg    person829_bacteria_2740.jpeg\r\n",
      "person23_bacteria_103.jpeg    person82_bacteria_402.jpeg\r\n",
      "person23_bacteria_104.jpeg    person82_bacteria_403.jpeg\r\n",
      "person23_bacteria_105.jpeg    person82_bacteria_404.jpeg\r\n",
      "person23_bacteria_106.jpeg    person82_bacteria_405.jpeg\r\n",
      "person23_bacteria_107.jpeg    person830_bacteria_2741.jpeg\r\n",
      "person23_bacteria_78.jpeg     person831_bacteria_2742.jpeg\r\n",
      "person23_bacteria_79.jpeg     person832_bacteria_2743.jpeg\r\n",
      "person23_bacteria_80.jpeg     person834_bacteria_2748.jpeg\r\n",
      "person23_bacteria_81.jpeg     person835_bacteria_2749.jpeg\r\n",
      "person23_bacteria_82.jpeg     person835_bacteria_2750.jpeg\r\n",
      "person23_bacteria_83.jpeg     person836_bacteria_2752.jpeg\r\n",
      "person23_bacteria_84.jpeg     person837_bacteria_2753.jpeg\r\n",
      "person23_bacteria_85.jpeg     person837_bacteria_2754.jpeg\r\n",
      "person23_bacteria_86.jpeg     person839_bacteria_2757.jpeg\r\n",
      "person23_bacteria_87.jpeg     person83_bacteria_407.jpeg\r\n",
      "person23_bacteria_88.jpeg     person83_bacteria_409.jpeg\r\n",
      "person23_bacteria_89.jpeg     person83_bacteria_410.jpeg\r\n",
      "person23_bacteria_90.jpeg     person83_bacteria_411.jpeg\r\n",
      "person23_bacteria_91.jpeg     person83_bacteria_412.jpeg\r\n",
      "person23_bacteria_92.jpeg     person83_bacteria_414.jpeg\r\n",
      "person23_bacteria_93.jpeg     person840_bacteria_2758.jpeg\r\n",
      "person23_bacteria_94.jpeg     person840_bacteria_2759.jpeg\r\n",
      "person23_bacteria_95.jpeg     person841_bacteria_2760.jpeg\r\n",
      "person23_bacteria_96.jpeg     person841_bacteria_2761.jpeg\r\n",
      "person23_bacteria_97.jpeg     person842_bacteria_2762.jpeg\r\n",
      "person23_bacteria_98.jpeg     person843_bacteria_2763.jpeg\r\n",
      "person23_bacteria_99.jpeg     person846_bacteria_2766.jpeg\r\n",
      "person24_bacteria_108.jpeg    person847_bacteria_2767.jpeg\r\n",
      "person24_bacteria_109.jpeg    person848_bacteria_2769.jpeg\r\n",
      "person24_bacteria_110.jpeg    person849_bacteria_2770.jpeg\r\n",
      "person24_bacteria_111.jpeg    person850_bacteria_2771.jpeg\r\n",
      "person24_bacteria_112.jpeg    person853_bacteria_2774.jpeg\r\n",
      "person253_bacteria_1152.jpeg  person853_bacteria_2775.jpeg\r\n",
      "person253_bacteria_1153.jpeg  person854_bacteria_2776.jpeg\r\n",
      "person253_bacteria_1154.jpeg  person855_bacteria_2777.jpeg\r\n",
      "person253_bacteria_1155.jpeg  person858_bacteria_2780.jpeg\r\n",
      "person253_bacteria_1156.jpeg  person85_bacteria_417.jpeg\r\n",
      "person253_bacteria_1157.jpeg  person85_bacteria_419.jpeg\r\n",
      "person255_bacteria_1160.jpeg  person85_bacteria_421.jpeg\r\n",
      "person255_bacteria_1161.jpeg  person85_bacteria_422.jpeg\r\n",
      "person255_bacteria_1162.jpeg  person85_bacteria_423.jpeg\r\n",
      "person255_bacteria_1165.jpeg  person85_bacteria_424.jpeg\r\n",
      "person255_bacteria_1175.jpeg  person862_bacteria_2784.jpeg\r\n",
      "person255_bacteria_1182.jpeg  person863_bacteria_2785.jpeg\r\n",
      "person255_bacteria_1188.jpeg  person866_bacteria_2788.jpeg\r\n",
      "person256_bacteria_1189.jpeg  person867_bacteria_2789.jpeg\r\n",
      "person257_bacteria_1191.jpeg  person86_bacteria_428.jpeg\r\n",
      "person257_bacteria_1193.jpeg  person86_bacteria_429.jpeg\r\n",
      "person257_bacteria_1194.jpeg  person870_bacteria_2792.jpeg\r\n",
      "person257_bacteria_1195.jpeg  person871_bacteria_2793.jpeg\r\n",
      "person257_bacteria_1196.jpeg  person872_bacteria_2795.jpeg\r\n",
      "person257_bacteria_1197.jpeg  person873_bacteria_2796.jpeg\r\n",
      "person257_bacteria_1199.jpeg  person874_bacteria_2797.jpeg\r\n",
      "person257_bacteria_1200.jpeg  person875_bacteria_2798.jpeg\r\n",
      "person258_bacteria_1205.jpeg  person876_bacteria_2799.jpeg\r\n",
      "person258_bacteria_1206.jpeg  person877_bacteria_2800.jpeg\r\n",
      "person258_bacteria_1208.jpeg  person878_bacteria_2801.jpeg\r\n",
      "person258_bacteria_1210.jpeg  person87_bacteria_433.jpeg\r\n",
      "person258_bacteria_1212.jpeg  person87_bacteria_434.jpeg\r\n",
      "person258_bacteria_1214.jpeg  person880_bacteria_2804.jpeg\r\n",
      "person258_bacteria_1215.jpeg  person881_bacteria_2805.jpeg\r\n",
      "person258_bacteria_1216.jpeg  person882_bacteria_2806.jpeg\r\n",
      "person259_bacteria_1217.jpeg  person883_bacteria_2807.jpeg\r\n",
      "person259_bacteria_1219.jpeg  person884_bacteria_2808.jpeg\r\n",
      "person259_bacteria_1220.jpeg  person885_bacteria_2809.jpeg\r\n",
      "person25_bacteria_113.jpeg    person886_bacteria_2810.jpeg\r\n",
      "person25_bacteria_114.jpeg    person887_bacteria_2811.jpeg\r\n",
      "person25_bacteria_115.jpeg    person888_bacteria_2812.jpeg\r\n",
      "person25_bacteria_116.jpeg    person889_bacteria_2813.jpeg\r\n",
      "person25_bacteria_117.jpeg    person88_bacteria_437.jpeg\r\n",
      "person25_bacteria_118.jpeg    person88_bacteria_438.jpeg\r\n",
      "person25_bacteria_119.jpeg    person88_bacteria_439.jpeg\r\n",
      "person25_bacteria_120.jpeg    person890_bacteria_2814.jpeg\r\n",
      "person25_bacteria_121.jpeg    person892_bacteria_2817.jpeg\r\n",
      "person260_bacteria_1222.jpeg  person893_bacteria_2818.jpeg\r\n",
      "person260_bacteria_1223.jpeg  person894_bacteria_2819.jpeg\r\n",
      "person260_bacteria_1224.jpeg  person895_bacteria_2820.jpeg\r\n",
      "person261_bacteria_1225.jpeg  person896_bacteria_2821.jpeg\r\n",
      "person262_bacteria_1226.jpeg  person897_bacteria_2822.jpeg\r\n",
      "person263_bacteria_1227.jpeg  person898_bacteria_2823.jpeg\r\n",
      "person264_bacteria_1228.jpeg  person8_bacteria_37.jpeg\r\n",
      "person264_bacteria_1229.jpeg  person902_bacteria_2827.jpeg\r\n",
      "person264_bacteria_1231.jpeg  person903_bacteria_2828.jpeg\r\n",
      "person264_bacteria_1232.jpeg  person904_bacteria_2829.jpeg\r\n",
      "person264_bacteria_1233.jpeg  person905_bacteria_2830.jpeg\r\n",
      "person264_bacteria_1234.jpeg  person906_bacteria_2831.jpeg\r\n",
      "person265_bacteria_1235.jpeg  person907_bacteria_2832.jpeg\r\n",
      "person265_bacteria_1236.jpeg  person909_bacteria_2834.jpeg\r\n",
      "person266_bacteria_1238.jpeg  person90_bacteria_442.jpeg\r\n",
      "person266_bacteria_1239.jpeg  person90_bacteria_443.jpeg\r\n",
      "person266_bacteria_1240.jpeg  person911_bacteria_2836.jpeg\r\n",
      "person266_bacteria_1241.jpeg  person912_bacteria_2837.jpeg\r\n",
      "person266_bacteria_1242.jpeg  person913_bacteria_2838.jpeg\r\n",
      "person266_bacteria_1244.jpeg  person914_bacteria_2839.jpeg\r\n",
      "person266_bacteria_1245.jpeg  person916_bacteria_2841.jpeg\r\n",
      "person266_bacteria_1247.jpeg  person917_bacteria_2842.jpeg\r\n",
      "person266_bacteria_1248.jpeg  person918_bacteria_2843.jpeg\r\n",
      "person266_bacteria_1249.jpeg  person919_bacteria_2844.jpeg\r\n",
      "person267_bacteria_1250.jpeg  person91_bacteria_445.jpeg\r\n",
      "person267_bacteria_1251.jpeg  person91_bacteria_446.jpeg\r\n",
      "person267_bacteria_1252.jpeg  person91_bacteria_447.jpeg\r\n",
      "person267_bacteria_1253.jpeg  person91_bacteria_448.jpeg\r\n",
      "person26_bacteria_122.jpeg    person91_bacteria_449.jpeg\r\n",
      "person26_bacteria_123.jpeg    person920_bacteria_2845.jpeg\r\n",
      "person26_bacteria_124.jpeg    person921_bacteria_2846.jpeg\r\n",
      "person26_bacteria_126.jpeg    person922_bacteria_2847.jpeg\r\n",
      "person26_bacteria_127.jpeg    person923_bacteria_2848.jpeg\r\n",
      "person26_bacteria_128.jpeg    person924_bacteria_2849.jpeg\r\n",
      "person26_bacteria_129.jpeg    person925_bacteria_2850.jpeg\r\n",
      "person26_bacteria_130.jpeg    person927_bacteria_2852.jpeg\r\n",
      "person26_bacteria_131.jpeg    person929_bacteria_2854.jpeg\r\n",
      "person26_bacteria_132.jpeg    person92_bacteria_450.jpeg\r\n",
      "person26_bacteria_133.jpeg    person92_bacteria_451.jpeg\r\n",
      "person274_bacteria_1288.jpeg  person930_bacteria_2855.jpeg\r\n",
      "person274_bacteria_1289.jpeg  person931_bacteria_2856.jpeg\r\n",
      "person274_bacteria_1290.jpeg  person933_bacteria_2858.jpeg\r\n",
      "person275_bacteria_1291.jpeg  person934_bacteria_2859.jpeg\r\n",
      "person275_bacteria_1293.jpeg  person936_bacteria_2861.jpeg\r\n",
      "person275_bacteria_1294.jpeg  person937_bacteria_2862.jpeg\r\n",
      "person276_bacteria_1295.jpeg  person938_bacteria_2863.jpeg\r\n",
      "person276_bacteria_1296.jpeg  person939_bacteria_2864.jpeg\r\n",
      "person276_bacteria_1297.jpeg  person93_bacteria_453.jpeg\r\n",
      "person276_bacteria_1298.jpeg  person93_bacteria_454.jpeg\r\n",
      "person276_bacteria_1299.jpeg  person940_bacteria_2865.jpeg\r\n",
      "person277_bacteria_1300.jpeg  person942_bacteria_2867.jpeg\r\n",
      "person277_bacteria_1301.jpeg  person943_bacteria_2868.jpeg\r\n",
      "person277_bacteria_1302.jpeg  person944_bacteria_2869.jpeg\r\n",
      "person277_bacteria_1303.jpeg  person945_bacteria_2870.jpeg\r\n",
      "person277_bacteria_1304.jpeg  person946_bacteria_2871.jpeg\r\n",
      "person277_bacteria_1305.jpeg  person947_bacteria_2872.jpeg\r\n",
      "person277_bacteria_1306.jpeg  person949_bacteria_2874.jpeg\r\n",
      "person277_bacteria_1307.jpeg  person94_bacteria_456.jpeg\r\n",
      "person278_bacteria_1309.jpeg  person94_bacteria_457.jpeg\r\n",
      "person278_bacteria_1311.jpeg  person94_bacteria_458.jpeg\r\n",
      "person278_bacteria_1313.jpeg  person951_bacteria_2876.jpeg\r\n",
      "person278_bacteria_1314.jpeg  person952_bacteria_2877.jpeg\r\n",
      "person279_bacteria_1315.jpeg  person953_bacteria_2878.jpeg\r\n",
      "person279_bacteria_1316.jpeg  person954_bacteria_2879.jpeg\r\n",
      "person27_bacteria_135.jpeg    person955_bacteria_2880.jpeg\r\n",
      "person27_bacteria_136.jpeg    person956_bacteria_2881.jpeg\r\n",
      "person27_bacteria_137.jpeg    person957_bacteria_2882.jpeg\r\n",
      "person27_bacteria_138.jpeg    person958_bacteria_2883.jpeg\r\n",
      "person280_bacteria_1318.jpeg  person959_bacteria_2884.jpeg\r\n",
      "person280_bacteria_1320.jpeg  person95_bacteria_463.jpeg\r\n",
      "person280_bacteria_1321.jpeg  person960_bacteria_2885.jpeg\r\n",
      "person280_bacteria_1322.jpeg  person961_bacteria_2886.jpeg\r\n",
      "person281_bacteria_1323.jpeg  person962_bacteria_2887.jpeg\r\n",
      "person281_bacteria_1324.jpeg  person963_bacteria_2888.jpeg\r\n",
      "person281_bacteria_1325.jpeg  person964_bacteria_2889.jpeg\r\n",
      "person281_bacteria_1326.jpeg  person965_bacteria_2890.jpeg\r\n",
      "person281_bacteria_1327.jpeg  person966_bacteria_2891.jpeg\r\n",
      "person281_bacteria_1328.jpeg  person967_bacteria_2892.jpeg\r\n",
      "person281_bacteria_1329.jpeg  person968_bacteria_2893.jpeg\r\n",
      "person281_bacteria_1330.jpeg  person969_bacteria_2894.jpeg\r\n",
      "person281_bacteria_1331.jpeg  person96_bacteria_464.jpeg\r\n",
      "person281_bacteria_1332.jpeg  person96_bacteria_465.jpeg\r\n",
      "person281_bacteria_1333.jpeg  person96_bacteria_466.jpeg\r\n",
      "person287_bacteria_1354.jpeg  person970_bacteria_2895.jpeg\r\n",
      "person287_bacteria_1355.jpeg  person971_bacteria_2896.jpeg\r\n",
      "person28_bacteria_139.jpeg    person972_bacteria_2897.jpeg\r\n",
      "person28_bacteria_141.jpeg    person974_bacteria_2899.jpeg\r\n",
      "person28_bacteria_142.jpeg    person976_bacteria_2901.jpeg\r\n",
      "person28_bacteria_143.jpeg    person977_bacteria_2902.jpeg\r\n",
      "person290_bacteria_1372.jpeg  person978_bacteria_2904.jpeg\r\n",
      "person291_bacteria_1374.jpeg  person979_bacteria_2905.jpeg\r\n",
      "person291_bacteria_1376.jpeg  person97_bacteria_468.jpeg\r\n",
      "person291_bacteria_1377.jpeg  person980_bacteria_2906.jpeg\r\n",
      "person292_bacteria_1378.jpeg  person981_bacteria_2907.jpeg\r\n",
      "person293_bacteria_1379.jpeg  person981_bacteria_2908.jpeg\r\n",
      "person294_bacteria_1380.jpeg  person982_bacteria_2909.jpeg\r\n",
      "person294_bacteria_1381.jpeg  person983_bacteria_2910.jpeg\r\n",
      "person294_bacteria_1382.jpeg  person984_bacteria_2911.jpeg\r\n",
      "person294_bacteria_1383.jpeg  person985_bacteria_2912.jpeg\r\n",
      "person294_bacteria_1384.jpeg  person986_bacteria_2913.jpeg\r\n",
      "person294_bacteria_1385.jpeg  person987_bacteria_2914.jpeg\r\n",
      "person294_bacteria_1386.jpeg  person988_bacteria_2915.jpeg\r\n",
      "person294_bacteria_1388.jpeg  person990_bacteria_2917.jpeg\r\n",
      "person295_bacteria_1389.jpeg  person991_bacteria_2918.jpeg\r\n",
      "person295_bacteria_1390.jpeg  person992_bacteria_2919.jpeg\r\n",
      "person296_bacteria_1391.jpeg  person992_bacteria_2920.jpeg\r\n",
      "person296_bacteria_1392.jpeg  person993_bacteria_2921.jpeg\r\n",
      "person296_bacteria_1393.jpeg  person994_bacteria_2922.jpeg\r\n",
      "person296_bacteria_1394.jpeg  person995_bacteria_2923.jpeg\r\n",
      "person296_bacteria_1395.jpeg  person996_bacteria_2924.jpeg\r\n",
      "person296_bacteria_1396.jpeg  person997_bacteria_2926.jpeg\r\n",
      "person296_bacteria_1397.jpeg  person998_bacteria_2927.jpeg\r\n",
      "person297_bacteria_1400.jpeg  person998_bacteria_2928.jpeg\r\n",
      "person297_bacteria_1404.jpeg  person99_bacteria_473.jpeg\r\n",
      "person298_bacteria_1408.jpeg  person99_bacteria_474.jpeg\r\n",
      "person298_bacteria_1409.jpeg  person9_bacteria_38.jpeg\r\n",
      "person298_bacteria_1410.jpeg  person9_bacteria_39.jpeg\r\n",
      "person298_bacteria_1411.jpeg  person9_bacteria_40.jpeg\r\n",
      "person298_bacteria_1412.jpeg  person9_bacteria_41.jpeg\r\n",
      "person298_bacteria_1413.jpeg\r\n"
     ]
    }
   ],
   "source": [
    "! ls -a 'raw data/bacterial_pneumonia'"
   ]
  },
  {
   "cell_type": "code",
   "execution_count": 45,
   "id": "therapeutic-composer",
   "metadata": {
    "ExecuteTime": {
     "end_time": "2021-03-05T16:59:28.646533Z",
     "start_time": "2021-03-05T16:59:28.633685Z"
    }
   },
   "outputs": [],
   "source": [
    "labels=['viral_pneumonia', 'covid-19', 'bacterial_pneumonia', 'normal']\n",
    "\n",
    "def load_data():\n",
    "    X, y = [], []\n",
    "    \n",
    "    for label in labels:\n",
    "        path=os.path.join('raw data', label)\n",
    "        files=os.listdir(path)\n",
    "        print(label)\n",
    "        \n",
    "        for file_name in files:\n",
    "            file_path = os.path.join(path, file_name)\n",
    "            image = Image.open(file_path)\n",
    "            image = image.resize((256, 256))\n",
    "            #image = image.convert('1')\n",
    "            \n",
    "            X.append(np.array(image))\n",
    "            y.append(label)\n",
    "            \n",
    "    c = list(zip(X, y))\n",
    "    np.random.shuffle(c)\n",
    "    X, y = zip(*c)\n",
    "    return X, y"
   ]
  },
  {
   "cell_type": "code",
   "execution_count": null,
   "metadata": {},
   "outputs": [],
   "source": []
  },
  {
   "cell_type": "code",
   "execution_count": 46,
   "id": "piano-background",
   "metadata": {
    "ExecuteTime": {
     "end_time": "2021-03-05T17:02:14.631833Z",
     "start_time": "2021-03-05T16:59:44.774683Z"
    }
   },
   "outputs": [
    {
     "name": "stdout",
     "output_type": "stream",
     "text": [
      "viral_pneumonia\n",
      "covid-19\n",
      "bacterial_pneumonia\n",
      "normal\n"
     ]
    }
   ],
   "source": [
    "X, y = load_data();"
   ]
  },
  {
   "cell_type": "code",
   "execution_count": 47,
   "id": "relative-citizen",
   "metadata": {
    "ExecuteTime": {
     "end_time": "2021-03-05T17:02:23.492065Z",
     "start_time": "2021-03-05T17:02:23.479927Z"
    }
   },
   "outputs": [],
   "source": [
    "X_clean=[]\n",
    "y_clean=[]\n",
    "index=0\n",
    "\n",
    "for image in X:\n",
    "    if image.ndim ==2:\n",
    "        X_clean.append(image)\n",
    "        y_clean.append(y[index])\n",
    "\n",
    "    index+=1"
   ]
  },
  {
   "cell_type": "code",
   "execution_count": 48,
   "id": "regional-explorer",
   "metadata": {
    "ExecuteTime": {
     "end_time": "2021-03-05T17:02:37.711070Z",
     "start_time": "2021-03-05T17:02:37.280895Z"
    }
   },
   "outputs": [],
   "source": [
    "X= np.array(X_clean)"
   ]
  },
  {
   "cell_type": "code",
   "execution_count": 49,
   "id": "enclosed-header",
   "metadata": {
    "ExecuteTime": {
     "end_time": "2021-03-05T17:02:42.402486Z",
     "start_time": "2021-03-05T17:02:42.391893Z"
    }
   },
   "outputs": [],
   "source": [
    "y= np.array(y_clean)"
   ]
  },
  {
   "cell_type": "code",
   "execution_count": 50,
   "id": "strong-patrol",
   "metadata": {
    "ExecuteTime": {
     "end_time": "2021-03-05T17:02:46.354574Z",
     "start_time": "2021-03-05T17:02:46.339749Z"
    }
   },
   "outputs": [
    {
     "data": {
      "text/plain": [
       "5834"
      ]
     },
     "execution_count": 50,
     "metadata": {},
     "output_type": "execute_result"
    }
   ],
   "source": [
    "\n",
    "len(X_clean)"
   ]
  },
  {
   "cell_type": "code",
   "execution_count": 51,
   "id": "considered-tuition",
   "metadata": {
    "ExecuteTime": {
     "end_time": "2021-03-05T17:02:50.822641Z",
     "start_time": "2021-03-05T17:02:50.800054Z"
    }
   },
   "outputs": [
    {
     "data": {
      "text/plain": [
       "5834"
      ]
     },
     "execution_count": 51,
     "metadata": {},
     "output_type": "execute_result"
    }
   ],
   "source": [
    "len(y_clean)\n"
   ]
  },
  {
   "cell_type": "code",
   "execution_count": 53,
   "id": "round-foster",
   "metadata": {
    "ExecuteTime": {
     "end_time": "2021-03-05T17:04:47.657923Z",
     "start_time": "2021-03-05T17:04:39.669829Z"
    }
   },
   "outputs": [],
   "source": [
    "X= X/255"
   ]
  },
  {
   "cell_type": "code",
   "execution_count": 54,
   "id": "necessary-director",
   "metadata": {
    "ExecuteTime": {
     "end_time": "2021-03-05T17:04:52.327474Z",
     "start_time": "2021-03-05T17:04:51.753094Z"
    }
   },
   "outputs": [
    {
     "data": {
      "text/plain": [
       "<matplotlib.image.AxesImage at 0x143a0af70>"
      ]
     },
     "execution_count": 54,
     "metadata": {},
     "output_type": "execute_result"
    },
    {
     "data": {
      "image/png": "[encoded data removed]",
      "text/plain": [
       "<Figure size 432x288 with 1 Axes>"
      ]
     },
     "metadata": {
      "needs_background": "light"
     },
     "output_type": "display_data"
    }
   ],
   "source": [
    "plt.imshow(X[2])"
   ]
  },
  {
   "cell_type": "code",
   "execution_count": 55,
   "id": "objective-oracle",
   "metadata": {
    "ExecuteTime": {
     "end_time": "2021-03-05T17:05:10.534730Z",
     "start_time": "2021-03-05T17:05:10.318956Z"
    }
   },
   "outputs": [
    {
     "data": {
      "text/plain": [
       "LabelEncoder()"
      ]
     },
     "execution_count": 55,
     "metadata": {},
     "output_type": "execute_result"
    }
   ],
   "source": [
    "from sklearn import preprocessing\n",
    "le = preprocessing.LabelEncoder()\n",
    "le.fit(y)"
   ]
  },
  {
   "cell_type": "code",
   "execution_count": 56,
   "id": "bearing-carpet",
   "metadata": {
    "ExecuteTime": {
     "end_time": "2021-03-05T17:05:16.319848Z",
     "start_time": "2021-03-05T17:05:16.309696Z"
    }
   },
   "outputs": [
    {
     "data": {
      "text/plain": [
       "array(['bacterial_pneumonia', 'covid-19', 'normal', 'viral_pneumonia'],\n",
       "      dtype='<U19')"
      ]
     },
     "execution_count": 56,
     "metadata": {},
     "output_type": "execute_result"
    }
   ],
   "source": [
    "le.classes_"
   ]
  },
  {
   "cell_type": "code",
   "execution_count": 59,
   "id": "seventh-yahoo",
   "metadata": {
    "ExecuteTime": {
     "end_time": "2021-03-05T17:05:40.142651Z",
     "start_time": "2021-03-05T17:05:40.116779Z"
    }
   },
   "outputs": [
    {
     "ename": "ValueError",
     "evalue": "y contains previously unseen labels: [0, 1, 2, 3]",
     "output_type": "error",
     "traceback": [
      "\u001b[0;31m---------------------------------------------------------------------------\u001b[0m",
      "\u001b[0;31mValueError\u001b[0m                                Traceback (most recent call last)",
      "\u001b[0;32m<ipython-input-59-aa7c9b7ea66e>\u001b[0m in \u001b[0;36m<module>\u001b[0;34m\u001b[0m\n\u001b[0;32m----> 1\u001b[0;31m \u001b[0my_clean\u001b[0m\u001b[0;34m=\u001b[0m\u001b[0mle\u001b[0m\u001b[0;34m.\u001b[0m\u001b[0mtransform\u001b[0m\u001b[0;34m(\u001b[0m\u001b[0my\u001b[0m\u001b[0;34m)\u001b[0m\u001b[0;34m\u001b[0m\u001b[0;34m\u001b[0m\u001b[0m\n\u001b[0m",
      "\u001b[0;32m~/.pyenv/versions/3.8.6/envs/lewagon/lib/python3.8/site-packages/sklearn/preprocessing/_label.py\u001b[0m in \u001b[0;36mtransform\u001b[0;34m(self, y)\u001b[0m\n\u001b[1;32m    271\u001b[0m             \u001b[0;32mreturn\u001b[0m \u001b[0mnp\u001b[0m\u001b[0;34m.\u001b[0m\u001b[0marray\u001b[0m\u001b[0;34m(\u001b[0m\u001b[0;34m[\u001b[0m\u001b[0;34m]\u001b[0m\u001b[0;34m)\u001b[0m\u001b[0;34m\u001b[0m\u001b[0;34m\u001b[0m\u001b[0m\n\u001b[1;32m    272\u001b[0m \u001b[0;34m\u001b[0m\u001b[0m\n\u001b[0;32m--> 273\u001b[0;31m         \u001b[0m_\u001b[0m\u001b[0;34m,\u001b[0m \u001b[0my\u001b[0m \u001b[0;34m=\u001b[0m \u001b[0m_encode\u001b[0m\u001b[0;34m(\u001b[0m\u001b[0my\u001b[0m\u001b[0;34m,\u001b[0m \u001b[0muniques\u001b[0m\u001b[0;34m=\u001b[0m\u001b[0mself\u001b[0m\u001b[0;34m.\u001b[0m\u001b[0mclasses_\u001b[0m\u001b[0;34m,\u001b[0m \u001b[0mencode\u001b[0m\u001b[0;34m=\u001b[0m\u001b[0;32mTrue\u001b[0m\u001b[0;34m)\u001b[0m\u001b[0;34m\u001b[0m\u001b[0;34m\u001b[0m\u001b[0m\n\u001b[0m\u001b[1;32m    274\u001b[0m         \u001b[0;32mreturn\u001b[0m \u001b[0my\u001b[0m\u001b[0;34m\u001b[0m\u001b[0;34m\u001b[0m\u001b[0m\n\u001b[1;32m    275\u001b[0m \u001b[0;34m\u001b[0m\u001b[0m\n",
      "\u001b[0;32m~/.pyenv/versions/3.8.6/envs/lewagon/lib/python3.8/site-packages/sklearn/preprocessing/_label.py\u001b[0m in \u001b[0;36m_encode\u001b[0;34m(values, uniques, encode, check_unknown)\u001b[0m\n\u001b[1;32m    115\u001b[0m         \u001b[0;32mreturn\u001b[0m \u001b[0mres\u001b[0m\u001b[0;34m\u001b[0m\u001b[0;34m\u001b[0m\u001b[0m\n\u001b[1;32m    116\u001b[0m     \u001b[0;32melse\u001b[0m\u001b[0;34m:\u001b[0m\u001b[0;34m\u001b[0m\u001b[0;34m\u001b[0m\u001b[0m\n\u001b[0;32m--> 117\u001b[0;31m         return _encode_numpy(values, uniques, encode,\n\u001b[0m\u001b[1;32m    118\u001b[0m                              check_unknown=check_unknown)\n\u001b[1;32m    119\u001b[0m \u001b[0;34m\u001b[0m\u001b[0m\n",
      "\u001b[0;32m~/.pyenv/versions/3.8.6/envs/lewagon/lib/python3.8/site-packages/sklearn/preprocessing/_label.py\u001b[0m in \u001b[0;36m_encode_numpy\u001b[0;34m(values, uniques, encode, check_unknown)\u001b[0m\n\u001b[1;32m     47\u001b[0m             \u001b[0mdiff\u001b[0m \u001b[0;34m=\u001b[0m \u001b[0m_encode_check_unknown\u001b[0m\u001b[0;34m(\u001b[0m\u001b[0mvalues\u001b[0m\u001b[0;34m,\u001b[0m \u001b[0muniques\u001b[0m\u001b[0;34m)\u001b[0m\u001b[0;34m\u001b[0m\u001b[0;34m\u001b[0m\u001b[0m\n\u001b[1;32m     48\u001b[0m             \u001b[0;32mif\u001b[0m \u001b[0mdiff\u001b[0m\u001b[0;34m:\u001b[0m\u001b[0;34m\u001b[0m\u001b[0;34m\u001b[0m\u001b[0m\n\u001b[0;32m---> 49\u001b[0;31m                 raise ValueError(\"y contains previously unseen labels: %s\"\n\u001b[0m\u001b[1;32m     50\u001b[0m                                  % str(diff))\n\u001b[1;32m     51\u001b[0m         \u001b[0mencoded\u001b[0m \u001b[0;34m=\u001b[0m \u001b[0mnp\u001b[0m\u001b[0;34m.\u001b[0m\u001b[0msearchsorted\u001b[0m\u001b[0;34m(\u001b[0m\u001b[0muniques\u001b[0m\u001b[0;34m,\u001b[0m \u001b[0mvalues\u001b[0m\u001b[0;34m)\u001b[0m\u001b[0;34m\u001b[0m\u001b[0;34m\u001b[0m\u001b[0m\n",
      "\u001b[0;31mValueError\u001b[0m: y contains previously unseen labels: [0, 1, 2, 3]"
     ]
    }
   ],
   "source": [
    "y_clean=le.transform(y)"
   ]
  },
  {
   "cell_type": "code",
   "execution_count": null,
   "id": "criminal-quantity",
   "metadata": {
    "ExecuteTime": {
     "end_time": "2021-03-05T15:28:57.043886Z",
     "start_time": "2021-03-05T15:28:57.035467Z"
    }
   },
   "outputs": [],
   "source": [
    "np.unique(y_enc)"
   ]
  },
  {
   "cell_type": "code",
   "execution_count": null,
   "id": "protected-reduction",
   "metadata": {
    "ExecuteTime": {
     "end_time": "2021-03-05T17:05:55.634669Z",
     "start_time": "2021-03-05T17:05:55.601951Z"
    }
   },
   "outputs": [],
   "source": [
    "from tensorflow.keras.utils import to_categorical\n",
    "\n",
    "y_cat = to_categorical(y_clean)"
   ]
  },
  {
   "cell_type": "code",
   "execution_count": null,
   "id": "subjective-cigarette",
   "metadata": {
    "ExecuteTime": {
     "end_time": "2021-03-05T17:06:00.283514Z",
     "start_time": "2021-03-05T17:06:00.239240Z"
    }
   },
   "outputs": [],
   "source": [
    "y_cat"
   ]
  },
  {
   "cell_type": "code",
   "execution_count": null,
   "id": "cleared-philip",
   "metadata": {},
   "outputs": [],
   "source": []
  },
  {
   "cell_type": "markdown",
   "id": "aware-austria",
   "metadata": {},
   "source": [
    "## Split Data"
   ]
  },
  {
   "cell_type": "code",
   "execution_count": null,
   "id": "objective-clothing",
   "metadata": {
    "ExecuteTime": {
     "end_time": "2021-03-05T17:06:45.033933Z",
     "start_time": "2021-03-05T17:06:45.030006Z"
    }
   },
   "outputs": [],
   "source": [
    "from tensorflow.keras import models\n",
    "from tensorflow.keras import layers\n",
    "from sklearn.model_selection import train_test_split"
   ]
  },
  {
   "cell_type": "code",
   "execution_count": null,
   "id": "described-elite",
   "metadata": {
    "ExecuteTime": {
     "end_time": "2021-03-05T17:07:35.419005Z",
     "start_time": "2021-03-05T17:07:09.998999Z"
    }
   },
   "outputs": [],
   "source": [
    "# Train test split\n",
    "X_train, X_test, y_train, y_test = train_test_split(X_clean, y_cat, test_size=0.2 )"
   ]
  },
  {
   "cell_type": "code",
   "execution_count": null,
   "id": "temporal-tiffany",
   "metadata": {
    "ExecuteTime": {
     "end_time": "2021-03-05T17:07:51.310382Z",
     "start_time": "2021-03-05T17:07:50.683777Z"
    }
   },
   "outputs": [],
   "source": [
    "plt.imshow(X_train[2])"
   ]
  },
  {
   "cell_type": "code",
   "execution_count": null,
   "id": "opening-server",
   "metadata": {
    "ExecuteTime": {
     "end_time": "2021-03-05T17:11:13.143964Z",
     "start_time": "2021-03-05T17:11:13.117406Z"
    }
   },
   "outputs": [],
   "source": [
    "import pickle\n",
    "file = open('y_train', 'wb')\n",
    "\n",
    "# dump information to that file\n",
    "y_train = pickle.dump(y_train,file)\n",
    "\n",
    "# close the file\n",
    "file.close()"
   ]
  },
  {
   "cell_type": "code",
   "execution_count": null,
   "id": "valid-contractor",
   "metadata": {
    "ExecuteTime": {
     "end_time": "2021-03-05T17:11:30.607803Z",
     "start_time": "2021-03-05T17:11:30.600864Z"
    }
   },
   "outputs": [],
   "source": [
    "import pickle\n",
    "file = open('y_test', 'wb')\n",
    "\n",
    "# dump information to that file\n",
    "y_train = pickle.dump(y_test,file)\n",
    "\n",
    "# close the file\n",
    "file.close()"
   ]
  },
  {
   "cell_type": "code",
   "execution_count": null,
   "id": "intensive-uncle",
   "metadata": {
    "ExecuteTime": {
     "end_time": "2021-03-05T17:12:33.564710Z",
     "start_time": "2021-03-05T17:11:47.672278Z"
    }
   },
   "outputs": [],
   "source": [
    "import pickle\n",
    "file = open('X_train', 'wb')\n",
    "\n",
    "# dump information to that file\n",
    "y_train = pickle.dump(X_train,file)\n",
    "\n",
    "# close the file\n",
    "file.close()"
   ]
  },
  {
   "cell_type": "code",
   "execution_count": null,
   "id": "homeless-cannon",
   "metadata": {
    "ExecuteTime": {
     "end_time": "2021-03-05T17:13:39.486789Z",
     "start_time": "2021-03-05T17:13:31.742630Z"
    }
   },
   "outputs": [],
   "source": [
    "import pickle\n",
    "file = open('X_test', 'wb')\n",
    "\n",
    "# dump information to that file\n",
    "y_train = pickle.dump(X_test,file)\n",
    "\n",
    "# close the file\n",
    "file.close()"
   ]
  },
  {
   "cell_type": "code",
   "execution_count": null,
   "id": "ultimate-charles",
   "metadata": {},
   "outputs": [],
   "source": []
  },
  {
   "cell_type": "code",
   "execution_count": null,
   "id": "legal-drill",
   "metadata": {
    "ExecuteTime": {
     "start_time": "2021-03-05T15:57:50.354Z"
    }
   },
   "outputs": [],
   "source": [
    "X_experiment=np.stack([X_train]*3, axis=-1)"
   ]
  },
  {
   "cell_type": "code",
   "execution_count": null,
   "id": "upper-celebrity",
   "metadata": {},
   "outputs": [],
   "source": []
  },
  {
   "cell_type": "code",
   "execution_count": null,
   "id": "therapeutic-hungarian",
   "metadata": {
    "ExecuteTime": {
     "end_time": "2021-03-05T15:02:51.698782Z",
     "start_time": "2021-03-05T15:02:51.056342Z"
    }
   },
   "outputs": [],
   "source": [
    "plt.imshow(X_experiment[2])"
   ]
  },
  {
   "cell_type": "code",
   "execution_count": null,
   "id": "developed-deficit",
   "metadata": {
    "ExecuteTime": {
     "end_time": "2021-03-05T15:03:22.549328Z",
     "start_time": "2021-03-05T15:03:22.527365Z"
    }
   },
   "outputs": [],
   "source": [
    "X_experiment[2].shape"
   ]
  },
  {
   "cell_type": "markdown",
   "id": "efficient-share",
   "metadata": {
    "heading_collapsed": true
   },
   "source": [
    "## Expand"
   ]
  },
  {
   "cell_type": "code",
   "execution_count": null,
   "id": "favorite-badge",
   "metadata": {
    "ExecuteTime": {
     "end_time": "2021-03-05T12:22:48.781113Z",
     "start_time": "2021-03-05T12:22:48.761357Z"
    },
    "hidden": true
   },
   "outputs": [],
   "source": [
    "np.unique(y_train, return_counts=True)"
   ]
  },
  {
   "cell_type": "code",
   "execution_count": null,
   "id": "accompanied-philip",
   "metadata": {
    "ExecuteTime": {
     "end_time": "2021-03-05T12:22:57.000150Z",
     "start_time": "2021-03-05T12:22:56.837530Z"
    },
    "hidden": true
   },
   "outputs": [],
   "source": [
    "# from tensorflow.keras.backend import expand_dims\n",
    "\n",
    "# X_train_ex= expand_dims(X_train, axis=-1)\n",
    "# X_test_ex= expand_dims(X_test, axis=-1)\n",
    "\n",
    "# print(X_train_ex.shape)\n",
    "# print(X_test_ex.shape)"
   ]
  },
  {
   "cell_type": "code",
   "execution_count": null,
   "id": "possible-bankruptcy",
   "metadata": {
    "ExecuteTime": {
     "end_time": "2021-03-04T13:57:38.075854Z",
     "start_time": "2021-03-04T13:55:11.867198Z"
    },
    "hidden": true
   },
   "outputs": [],
   "source": [
    "# from skimage.color import gray2rgb\n",
    "\n",
    "# X_train_col = gray2rgb(X_train)\n",
    "# X_test_col = gray2rgb(X_test)"
   ]
  },
  {
   "cell_type": "code",
   "execution_count": null,
   "id": "federal-supervision",
   "metadata": {
    "ExecuteTime": {
     "end_time": "2021-03-04T13:58:05.817222Z",
     "start_time": "2021-03-04T13:58:05.640946Z"
    },
    "hidden": true
   },
   "outputs": [],
   "source": [
    "# X_test_col.shape"
   ]
  },
  {
   "cell_type": "markdown",
   "id": "fifth-satellite",
   "metadata": {
    "heading_collapsed": true
   },
   "source": [
    "## Model"
   ]
  },
  {
   "cell_type": "code",
   "execution_count": null,
   "id": "global-mouth",
   "metadata": {
    "ExecuteTime": {
     "end_time": "2021-03-05T15:04:09.348313Z",
     "start_time": "2021-03-05T15:04:09.331785Z"
    },
    "hidden": true
   },
   "outputs": [],
   "source": [
    "from tensorflow.keras import models\n",
    "from tensorflow.keras import layers\n",
    "from tensorflow.keras import callbacks\n",
    "import tensorflow as tf\n",
    "\n",
    "num_classes = 4\n",
    "def initialize_model():\n",
    "    model = tf.keras.Sequential([\n",
    "      layers.Conv2D(64, 3, activation='relu', input_shape=(256, 256, 3)),\n",
    "      layers.MaxPooling2D(),\n",
    "      layers.Conv2D(32, 3, activation='relu'),\n",
    "      layers.MaxPooling2D(),\n",
    "      layers.Conv2D(16, 3, activation='relu'),\n",
    "      layers.MaxPooling2D(),\n",
    "      layers.Conv2D(8, 3, activation='relu'),\n",
    "      layers.MaxPooling2D(),\n",
    "      layers.Flatten(),\n",
    "      layers.Dense(128, activation='relu'),\n",
    "      layers.Dense(4, activation='softmax')\n",
    "    ])\n",
    "    return model\n",
    "\n"
   ]
  },
  {
   "cell_type": "code",
   "execution_count": null,
   "id": "polyphonic-martin",
   "metadata": {
    "ExecuteTime": {
     "end_time": "2021-03-05T15:04:11.663508Z",
     "start_time": "2021-03-05T15:04:11.658850Z"
    },
    "hidden": true
   },
   "outputs": [],
   "source": [
    "from tensorflow.keras.losses import SparseCategoricalCrossentropy\n"
   ]
  },
  {
   "cell_type": "code",
   "execution_count": null,
   "id": "filled-mailing",
   "metadata": {
    "ExecuteTime": {
     "end_time": "2021-03-05T15:04:15.173670Z",
     "start_time": "2021-03-05T15:04:14.360487Z"
    },
    "hidden": true
   },
   "outputs": [],
   "source": [
    "model = initialize_model()\n",
    "\n",
    "\n",
    "model.compile(\n",
    "  optimizer='adam',\n",
    "  loss= 'categorical_crossentropy',\n",
    "  metrics=['accuracy'])"
   ]
  },
  {
   "cell_type": "raw",
   "id": "fancy-turkish",
   "metadata": {
    "hidden": true
   },
   "source": []
  },
  {
   "cell_type": "code",
   "execution_count": null,
   "id": "guilty-stanley",
   "metadata": {
    "ExecuteTime": {
     "end_time": "2021-03-05T13:31:44.426407Z",
     "start_time": "2021-03-05T12:25:03.089892Z"
    },
    "hidden": true
   },
   "outputs": [],
   "source": [
    "es = callbacks.EarlyStopping(patience=5, restore_best_weights=True)\n",
    "\n",
    "history=model.fit(X_train_ex, y_train,\n",
    "          batch_size=32,\n",
    "          epochs=100,\n",
    "          validation_split=0.2,\n",
    "          shuffle = True,\n",
    "          callbacks=[es])"
   ]
  },
  {
   "cell_type": "code",
   "execution_count": null,
   "id": "uniform-desert",
   "metadata": {
    "ExecuteTime": {
     "end_time": "2021-03-05T11:56:54.222347Z",
     "start_time": "2021-03-05T11:56:54.140236Z"
    },
    "hidden": true,
    "scrolled": true
   },
   "outputs": [],
   "source": [
    "def plot_history(history, title='', axs=None, exp_name=''):\n",
    "    if axs is not None:\n",
    "        ax1, ax2 = axs\n",
    "    else:\n",
    "        f, (ax1, ax2) = plt.subplots(1, 2, figsize=(12, 4))\n",
    "    if len(exp_name) > 0 and exp_name[0] != '_':\n",
    "        exp_name = '_' + exp_name\n",
    "    ax1.plot(history.history['loss'], label='train' + exp_name)\n",
    "    ax1.plot(history.history['val_loss'], label='val' + exp_name)\n",
    "    ax1.set_ylim(0., 2.2)\n",
    "    ax1.set_title('loss')\n",
    "    ax1.legend()\n",
    "    ax2.plot(history.history['accuracy'], label='train accuracy'  + exp_name)\n",
    "    ax2.plot(history.history['val_accuracy'], label='val accuracy'  + exp_name)\n",
    "    ax2.set_ylim(0.25, 1.)\n",
    "    ax2.set_title('Accuracy')\n",
    "    ax2.legend()\n",
    "    return (ax1, ax2)"
   ]
  },
  {
   "cell_type": "code",
   "execution_count": null,
   "id": "mineral-thailand",
   "metadata": {
    "ExecuteTime": {
     "end_time": "2021-03-05T11:57:08.713483Z",
     "start_time": "2021-03-05T11:57:07.732615Z"
    },
    "hidden": true
   },
   "outputs": [],
   "source": [
    "plot_history(history)\n",
    "plt.show()"
   ]
  },
  {
   "cell_type": "code",
   "execution_count": null,
   "id": "moved-pixel",
   "metadata": {
    "ExecuteTime": {
     "end_time": "2021-03-05T12:00:06.791138Z",
     "start_time": "2021-03-05T11:59:58.121344Z"
    },
    "hidden": true
   },
   "outputs": [],
   "source": [
    "from tensorflow.keras import models\n",
    "models.save_model(model, '/Users/macbookair/code/sarasiro/ChestXraydetection/models')"
   ]
  },
  {
   "cell_type": "code",
   "execution_count": null,
   "id": "undefined-criminal",
   "metadata": {
    "ExecuteTime": {
     "end_time": "2021-03-05T11:59:30.427032Z",
     "start_time": "2021-03-05T11:59:30.168738Z"
    },
    "hidden": true
   },
   "outputs": [],
   "source": [
    "!pwd"
   ]
  },
  {
   "cell_type": "code",
   "execution_count": null,
   "id": "editorial-bernard",
   "metadata": {
    "hidden": true
   },
   "outputs": [],
   "source": [
    "model.predict()"
   ]
  },
  {
   "cell_type": "markdown",
   "id": "superb-figure",
   "metadata": {},
   "source": [
    "# Transfer Learning"
   ]
  },
  {
   "cell_type": "code",
   "execution_count": null,
   "id": "honey-andrew",
   "metadata": {
    "ExecuteTime": {
     "end_time": "2021-03-05T15:40:11.971370Z",
     "start_time": "2021-03-05T15:36:03.388343Z"
    }
   },
   "outputs": [],
   "source": [
    "from tensorflow.keras.applications.vgg16 import preprocess_input\n",
    "\n",
    "X_trans=tf.keras.applications.vgg16.preprocess_input(\n",
    "    X_experiment, data_format=None\n",
    ")"
   ]
  },
  {
   "cell_type": "code",
   "execution_count": null,
   "id": "excellent-yemen",
   "metadata": {
    "ExecuteTime": {
     "end_time": "2021-03-05T15:41:20.562420Z",
     "start_time": "2021-03-05T15:41:20.473050Z"
    }
   },
   "outputs": [],
   "source": [
    "X_trans[0].max()"
   ]
  },
  {
   "cell_type": "code",
   "execution_count": null,
   "id": "industrial-basics",
   "metadata": {
    "ExecuteTime": {
     "end_time": "2021-03-05T15:42:09.010186Z",
     "start_time": "2021-03-05T15:42:08.826603Z"
    }
   },
   "outputs": [],
   "source": [
    "from tensorflow.keras.applications.vgg16 import VGG16\n",
    "from tensorflow.keras import layers, Sequential\n",
    "from tensorflow.keras import models\n",
    "\n",
    "\n",
    "def load_model():\n",
    "    model = VGG16(include_top=False, weights='imagenet', input_shape=(256, 256, 3))\n",
    "    return model"
   ]
  },
  {
   "cell_type": "code",
   "execution_count": null,
   "id": "bibliographic-bolivia",
   "metadata": {
    "ExecuteTime": {
     "end_time": "2021-03-05T15:42:12.632829Z",
     "start_time": "2021-03-05T15:42:10.881694Z"
    }
   },
   "outputs": [],
   "source": [
    "model=load_model()"
   ]
  },
  {
   "cell_type": "code",
   "execution_count": null,
   "id": "scientific-garbage",
   "metadata": {
    "ExecuteTime": {
     "end_time": "2021-03-05T15:42:16.162424Z",
     "start_time": "2021-03-05T15:42:16.153580Z"
    }
   },
   "outputs": [],
   "source": [
    "def set_nontrainable_layers(model):\n",
    "    model.trainable = False\n",
    "    return model"
   ]
  },
  {
   "cell_type": "code",
   "execution_count": null,
   "id": "extraordinary-frederick",
   "metadata": {
    "ExecuteTime": {
     "end_time": "2021-03-05T15:42:34.827523Z",
     "start_time": "2021-03-05T15:42:34.803990Z"
    }
   },
   "outputs": [],
   "source": [
    "set_nontrainable_layers(model)"
   ]
  },
  {
   "cell_type": "code",
   "execution_count": null,
   "id": "nutritional-denial",
   "metadata": {
    "ExecuteTime": {
     "end_time": "2021-03-05T15:42:40.535078Z",
     "start_time": "2021-03-05T15:42:40.524406Z"
    }
   },
   "outputs": [],
   "source": [
    "def add_last_layers(model):\n",
    "    base_model = load_model()\n",
    "    base_model = set_nontrainable_layers(base_model)\n",
    "    flattening_layer = layers.Flatten()\n",
    "    dense_layer = layers.Dense(500, activation='relu')\n",
    "    prediction_layer = layers.Dense(4, activation='softmax')\n",
    "    model = Sequential([\n",
    "    base_model,\n",
    "    flattening_layer,\n",
    "    dense_layer,\n",
    "    prediction_layer])\n",
    "    return model"
   ]
  },
  {
   "cell_type": "code",
   "execution_count": null,
   "id": "sticky-beach",
   "metadata": {
    "ExecuteTime": {
     "end_time": "2021-03-05T15:42:46.248230Z",
     "start_time": "2021-03-05T15:42:45.294406Z"
    }
   },
   "outputs": [],
   "source": [
    "model = add_last_layers(model)"
   ]
  },
  {
   "cell_type": "code",
   "execution_count": null,
   "id": "continent-things",
   "metadata": {
    "ExecuteTime": {
     "end_time": "2021-03-05T15:42:50.109130Z",
     "start_time": "2021-03-05T15:42:50.091752Z"
    }
   },
   "outputs": [],
   "source": [
    "from tensorflow.keras import optimizers\n",
    "from tensorflow.keras.optimizers import Adam\n",
    "opt = Adam(learning_rate=1e-4)\n",
    "\n",
    "def compile_model(model):\n",
    "    model.compile(loss='categorical_crossentropy',\n",
    "              optimizer=opt,\n",
    "              metrics=['accuracy'])\n",
    "    return model"
   ]
  },
  {
   "cell_type": "code",
   "execution_count": null,
   "id": "noble-bracelet",
   "metadata": {
    "ExecuteTime": {
     "end_time": "2021-03-05T15:42:53.110759Z",
     "start_time": "2021-03-05T15:42:53.105154Z"
    }
   },
   "outputs": [],
   "source": [
    "def build_model():\n",
    "    model=load_model()\n",
    "    model=add_last_layers(model)\n",
    "    model=compile_model(model)\n",
    "    return model\n",
    "\n"
   ]
  },
  {
   "cell_type": "code",
   "execution_count": null,
   "id": "protective-growing",
   "metadata": {
    "ExecuteTime": {
     "end_time": "2021-03-05T15:42:56.618184Z",
     "start_time": "2021-03-05T15:42:55.497236Z"
    }
   },
   "outputs": [],
   "source": [
    "model = build_model()"
   ]
  },
  {
   "cell_type": "code",
   "execution_count": null,
   "id": "leading-studio",
   "metadata": {},
   "outputs": [],
   "source": [
    "plt.imshow(X_norm[2])"
   ]
  },
  {
   "cell_type": "code",
   "execution_count": null,
   "id": "involved-county",
   "metadata": {},
   "outputs": [],
   "source": [
    "from tensorflow.keras.callbacks import EarlyStopping\n",
    "es = EarlyStopping(patience=5, restore_best_weights=True)"
   ]
  },
  {
   "cell_type": "code",
   "execution_count": null,
   "id": "actual-hebrew",
   "metadata": {},
   "outputs": [],
   "source": [
    "history = model.fit(X_model,y_cat,\n",
    "          batch_size=16,\n",
    "          epochs=50, validation_split=0.2, callbacks=[es])"
   ]
  },
  {
   "cell_type": "code",
   "execution_count": null,
   "id": "finished-hobby",
   "metadata": {},
   "outputs": [],
   "source": []
  }
 ],
 "metadata": {
  "kernelspec": {
   "display_name": "Python 3",
   "language": "python",
   "name": "python3"
  },
  "language_info": {
   "codemirror_mode": {
    "name": "ipython",
    "version": 3
   },
   "file_extension": ".py",
   "mimetype": "text/x-python",
   "name": "python",
   "nbconvert_exporter": "python",
   "pygments_lexer": "ipython3",
   "version": "3.8.6"
  },
  "toc": {
   "base_numbering": 1,
   "nav_menu": {},
   "number_sections": true,
   "sideBar": true,
   "skip_h1_title": false,
   "title_cell": "Table of Contents",
   "title_sidebar": "Contents",
   "toc_cell": false,
   "toc_position": {},
   "toc_section_display": true,
   "toc_window_display": false
  },
  "varInspector": {
   "cols": {
    "lenName": 16,
    "lenType": 16,
    "lenVar": 40
   },
   "kernels_config": {
    "python": {
     "delete_cmd_postfix": "",
     "delete_cmd_prefix": "del ",
     "library": "var_list.py",
     "varRefreshCmd": "print(var_dic_list())"
    },
    "r": {
     "delete_cmd_postfix": ") ",
     "delete_cmd_prefix": "rm(",
     "library": "var_list.r",
     "varRefreshCmd": "cat(var_dic_list()) "
    }
   },
   "position": {
    "height": "464.140625px",
    "left": "677.140625px",
    "right": "20px",
    "top": "-6.0625px",
    "width": "610.28125px"
   },
   "types_to_exclude": [
    "module",
    "function",
    "builtin_function_or_method",
    "instance",
    "_Feature"
   ],
   "window_display": true
  }
 },
 "nbformat": 4,
 "nbformat_minor": 5
}
