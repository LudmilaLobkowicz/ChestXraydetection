{
 "cells": [
  {
   "cell_type": "markdown",
   "id": "successful-fossil",
   "metadata": {},
   "source": [
    "# Models"
   ]
  },
  {
   "cell_type": "markdown",
   "id": "ideal-import",
   "metadata": {
    "ExecuteTime": {
     "end_time": "2021-03-04T13:12:51.382520Z",
     "start_time": "2021-03-04T13:12:51.303955Z"
    },
    "heading_collapsed": true
   },
   "source": [
    "## Params Table"
   ]
  },
  {
   "cell_type": "code",
   "execution_count": null,
   "id": "atmospheric-season",
   "metadata": {
    "ExecuteTime": {
     "end_time": "2021-03-05T12:04:04.801467Z",
     "start_time": "2021-03-05T12:04:04.729921Z"
    },
    "hidden": true
   },
   "outputs": [],
   "source": [
    "from IPython.display import HTML, display\n",
    "import tabulate\n",
    "\n",
    "table = [[\"Params\",\"Conv\",\"MaxPool\",\"Flatten\",\"Dense\", \"Dropout\", \"Final Dense\", \"Accuracy\",\"M.F1\",\"AUC\",\"Conf Matrix\"],\n",
    "         [\"Model_1\",\"3(32,3)\",3,1,\"1(128)\",0,1,0.8],\n",
    "         [\"Model_2\",3,3,1,1,0,1,0.8, 0.5],\n",
    "         [\"Model_3\",\"3p\",3,1,\"2(120 & 60)\",0.5,1,0.8],\n",
    "         [\"Model_4\",\"2p\",2,1,\"2(120 & 60)\",0.5,1,0.8],\n",
    "         [\"New_L\",2,2,1,2,1,1,0.8, 0.5],\n",
    "         [\"New_D\",2,2,1,2,1,1,0.8, 0.5],\n",
    "         [\"New_S\",2,2,1,2,1,1,0.8, 0.5]]\n",
    "\n",
    "display(HTML(tabulate.tabulate(table, tablefmt='html')))"
   ]
  },
  {
   "cell_type": "code",
   "execution_count": null,
   "id": "trying-efficiency",
   "metadata": {
    "ExecuteTime": {
     "end_time": "2021-03-05T12:04:04.822770Z",
     "start_time": "2021-03-05T12:04:04.807503Z"
    },
    "hidden": true
   },
   "outputs": [],
   "source": [
    " model = models.Sequential()\n",
    "    model.add(layers.Conv2D(32, (3, 3), padding='same', input_shape=(256, 256, 3), activation='relu'))\n",
    "    model.add(layers.MaxPooling2D(pool_size=(2, 2)))\n",
    "\n",
    "    model.add(layers.Conv2D(64, (2, 2), padding='same', activation='relu'))\n",
    "    model.add(layers.MaxPooling2D(pool_size=(2, 2)))\n",
    "\n",
    "    model.add(layers.Flatten())\n",
    "    model.add(layers.Dense(120, activation='relu'))\n",
    "    model.add(layers.Dense(60, activation='relu'))\n",
    "    model.add(layers.Dropout(0.5))\n",
    "    model.add(layers.Dense(4, activation='softmax'))"
   ]
  },
  {
   "cell_type": "markdown",
   "id": "ranging-watson",
   "metadata": {},
   "source": [
    "## Prep Data"
   ]
  },
  {
   "cell_type": "markdown",
   "id": "atomic-country",
   "metadata": {
    "ExecuteTime": {
     "end_time": "2021-03-04T13:26:38.180353Z",
     "start_time": "2021-03-04T13:26:38.130052Z"
    }
   },
   "source": [
    "### Load Variables"
   ]
  },
  {
   "cell_type": "code",
   "execution_count": null,
   "id": "complicated-quarterly",
   "metadata": {
    "ExecuteTime": {
     "end_time": "2021-03-05T12:04:04.867683Z",
     "start_time": "2021-03-05T12:04:04.729Z"
    }
   },
   "outputs": [],
   "source": [
    "# pickle.dumps(, protocol=None, *, fix_imports=True, buffer_callback=None)"
   ]
  },
  {
   "cell_type": "code",
   "execution_count": 1,
   "id": "later-karma",
   "metadata": {
    "ExecuteTime": {
     "end_time": "2021-03-05T16:59:26.165532Z",
     "start_time": "2021-03-05T16:59:19.893171Z"
    }
   },
   "outputs": [],
   "source": [
    "import os\n",
    "import numpy as np\n",
    "import pandas as pd\n",
    "from matplotlib.pyplot import imread\n",
    "import matplotlib.pyplot as plt\n",
    "from PIL import Image\n",
    "import PIL\n",
    "import tensorflow as tf\n",
    "import seaborn as sns\n",
    "from tensorflow.keras.utils import to_categorical\n",
    "from tqdm import tqdm"
   ]
  },
  {
   "cell_type": "code",
   "execution_count": 2,
   "id": "therapeutic-composer",
   "metadata": {
    "ExecuteTime": {
     "end_time": "2021-03-05T16:59:28.646533Z",
     "start_time": "2021-03-05T16:59:28.633685Z"
    }
   },
   "outputs": [],
   "source": [
    "labels=['viral_pneumonia', 'covid-19', 'bacterial_pneumonia', 'normal']\n",
    "\n",
    "def load_data():\n",
    "    X, y = [], []\n",
    "    \n",
    "    for label in labels:\n",
    "        path=os.path.join('raw_data', label)\n",
    "        files=os.listdir(path)\n",
    "        print(label)\n",
    "        \n",
    "        for file_name in files:\n",
    "            file_path = os.path.join(path, file_name)\n",
    "            image = Image.open(file_path)\n",
    "            image = image.resize((256, 256))\n",
    "            #image = image.convert('1')\n",
    "            \n",
    "            X.append(np.array(image))\n",
    "            y.append(label)\n",
    "            \n",
    "    c = list(zip(X, y))\n",
    "    np.random.shuffle(c)\n",
    "    X, y = zip(*c)\n",
    "    return X, y"
   ]
  },
  {
   "cell_type": "code",
   "execution_count": 3,
   "id": "piano-background",
   "metadata": {
    "ExecuteTime": {
     "end_time": "2021-03-05T17:02:14.631833Z",
     "start_time": "2021-03-05T16:59:44.774683Z"
    }
   },
   "outputs": [
    {
     "name": "stdout",
     "output_type": "stream",
     "text": [
      "viral_pneumonia\n",
      "covid-19\n",
      "bacterial_pneumonia\n",
      "normal\n"
     ]
    }
   ],
   "source": [
    "X, y = load_data();"
   ]
  },
  {
   "cell_type": "code",
   "execution_count": 4,
   "id": "relative-citizen",
   "metadata": {
    "ExecuteTime": {
     "end_time": "2021-03-05T17:02:23.492065Z",
     "start_time": "2021-03-05T17:02:23.479927Z"
    }
   },
   "outputs": [],
   "source": [
    "X_clean=[]\n",
    "y_clean=[]\n",
    "index=0\n",
    "\n",
    "for image in X:\n",
    "    if image.ndim ==2:\n",
    "        X_clean.append(image)\n",
    "        y_clean.append(y[index])\n",
    "\n",
    "    index+=1"
   ]
  },
  {
   "cell_type": "code",
   "execution_count": 5,
   "id": "regional-explorer",
   "metadata": {
    "ExecuteTime": {
     "end_time": "2021-03-05T17:02:37.711070Z",
     "start_time": "2021-03-05T17:02:37.280895Z"
    }
   },
   "outputs": [],
   "source": [
    "X_clean= np.array(X_clean)"
   ]
  },
  {
   "cell_type": "code",
   "execution_count": 6,
   "id": "enclosed-header",
   "metadata": {
    "ExecuteTime": {
     "end_time": "2021-03-05T17:02:42.402486Z",
     "start_time": "2021-03-05T17:02:42.391893Z"
    }
   },
   "outputs": [],
   "source": [
    "y_clean= np.array(y_clean)"
   ]
  },
  {
   "cell_type": "code",
   "execution_count": 7,
   "id": "strong-patrol",
   "metadata": {
    "ExecuteTime": {
     "end_time": "2021-03-05T17:02:46.354574Z",
     "start_time": "2021-03-05T17:02:46.339749Z"
    }
   },
   "outputs": [
    {
     "data": {
      "text/plain": [
       "5834"
      ]
     },
     "execution_count": 7,
     "metadata": {},
     "output_type": "execute_result"
    }
   ],
   "source": [
    "\n",
    "len(X_clean)"
   ]
  },
  {
   "cell_type": "code",
   "execution_count": 8,
   "id": "considered-tuition",
   "metadata": {
    "ExecuteTime": {
     "end_time": "2021-03-05T17:02:50.822641Z",
     "start_time": "2021-03-05T17:02:50.800054Z"
    }
   },
   "outputs": [
    {
     "data": {
      "text/plain": [
       "5834"
      ]
     },
     "execution_count": 8,
     "metadata": {},
     "output_type": "execute_result"
    }
   ],
   "source": [
    "len(y_clean)\n"
   ]
  },
  {
   "cell_type": "code",
   "execution_count": 9,
   "metadata": {},
   "outputs": [],
   "source": [
    "del X"
   ]
  },
  {
   "cell_type": "code",
   "execution_count": 10,
   "metadata": {},
   "outputs": [],
   "source": [
    "del(y)"
   ]
  },
  {
   "cell_type": "code",
   "execution_count": null,
   "id": "round-foster",
   "metadata": {
    "ExecuteTime": {
     "end_time": "2021-03-05T17:04:47.657923Z",
     "start_time": "2021-03-05T17:04:39.669829Z"
    }
   },
   "outputs": [],
   "source": [
    "#X_clean= X_clean/255"
   ]
  },
  {
   "cell_type": "code",
   "execution_count": 11,
   "id": "necessary-director",
   "metadata": {
    "ExecuteTime": {
     "end_time": "2021-03-05T17:04:52.327474Z",
     "start_time": "2021-03-05T17:04:51.753094Z"
    }
   },
   "outputs": [
    {
     "data": {
      "text/plain": [
       "<matplotlib.image.AxesImage at 0x14bdcb520>"
      ]
     },
     "execution_count": 11,
     "metadata": {},
     "output_type": "execute_result"
    },
    {
     "data": {
      "image/png": "[encoded data removed]",
      "text/plain": [
       "<Figure size 432x288 with 1 Axes>"
      ]
     },
     "metadata": {
      "needs_background": "light"
     },
     "output_type": "display_data"
    }
   ],
   "source": [
    "plt.imshow(X_clean[2])"
   ]
  },
  {
   "cell_type": "code",
   "execution_count": 12,
   "id": "objective-oracle",
   "metadata": {
    "ExecuteTime": {
     "end_time": "2021-03-05T17:05:10.534730Z",
     "start_time": "2021-03-05T17:05:10.318956Z"
    }
   },
   "outputs": [
    {
     "data": {
      "text/plain": [
       "LabelEncoder()"
      ]
     },
     "execution_count": 12,
     "metadata": {},
     "output_type": "execute_result"
    }
   ],
   "source": [
    "from sklearn import preprocessing\n",
    "le = preprocessing.LabelEncoder()\n",
    "le.fit(y_clean)"
   ]
  },
  {
   "cell_type": "code",
   "execution_count": 13,
   "id": "bearing-carpet",
   "metadata": {
    "ExecuteTime": {
     "end_time": "2021-03-05T17:05:16.319848Z",
     "start_time": "2021-03-05T17:05:16.309696Z"
    }
   },
   "outputs": [
    {
     "data": {
      "text/plain": [
       "array(['bacterial_pneumonia', 'covid-19', 'normal', 'viral_pneumonia'],\n",
       "      dtype='<U19')"
      ]
     },
     "execution_count": 13,
     "metadata": {},
     "output_type": "execute_result"
    }
   ],
   "source": [
    "le.classes_"
   ]
  },
  {
   "cell_type": "code",
   "execution_count": 14,
   "id": "seventh-yahoo",
   "metadata": {
    "ExecuteTime": {
     "end_time": "2021-03-05T17:05:40.142651Z",
     "start_time": "2021-03-05T17:05:40.116779Z"
    }
   },
   "outputs": [],
   "source": [
    "y_clean=le.transform(y_clean)"
   ]
  },
  {
   "cell_type": "code",
   "execution_count": 15,
   "id": "criminal-quantity",
   "metadata": {
    "ExecuteTime": {
     "end_time": "2021-03-05T15:28:57.043886Z",
     "start_time": "2021-03-05T15:28:57.035467Z"
    }
   },
   "outputs": [
    {
     "data": {
      "text/plain": [
       "array([0, 1, 2, 3])"
      ]
     },
     "execution_count": 15,
     "metadata": {},
     "output_type": "execute_result"
    }
   ],
   "source": [
    "np.unique(y_clean)"
   ]
  },
  {
   "cell_type": "code",
   "execution_count": 16,
   "id": "protected-reduction",
   "metadata": {
    "ExecuteTime": {
     "end_time": "2021-03-05T17:05:55.634669Z",
     "start_time": "2021-03-05T17:05:55.601951Z"
    }
   },
   "outputs": [],
   "source": [
    "from tensorflow.keras.utils import to_categorical\n",
    "\n",
    "y_cat = to_categorical(y_clean)"
   ]
  },
  {
   "cell_type": "code",
   "execution_count": 17,
   "id": "subjective-cigarette",
   "metadata": {
    "ExecuteTime": {
     "end_time": "2021-03-05T17:06:00.283514Z",
     "start_time": "2021-03-05T17:06:00.239240Z"
    }
   },
   "outputs": [
    {
     "data": {
      "text/plain": [
       "array([[1., 0., 0., 0.],\n",
       "       [0., 0., 1., 0.],\n",
       "       [0., 0., 0., 1.],\n",
       "       ...,\n",
       "       [0., 0., 1., 0.],\n",
       "       [1., 0., 0., 0.],\n",
       "       [0., 1., 0., 0.]], dtype=float32)"
      ]
     },
     "execution_count": 17,
     "metadata": {},
     "output_type": "execute_result"
    }
   ],
   "source": [
    "y_cat"
   ]
  },
  {
   "cell_type": "code",
   "execution_count": 18,
   "id": "cleared-philip",
   "metadata": {},
   "outputs": [],
   "source": [
    "del(y_clean)"
   ]
  },
  {
   "cell_type": "markdown",
   "id": "aware-austria",
   "metadata": {},
   "source": [
    "## Split Data"
   ]
  },
  {
   "cell_type": "code",
   "execution_count": 19,
   "id": "objective-clothing",
   "metadata": {
    "ExecuteTime": {
     "end_time": "2021-03-05T17:06:45.033933Z",
     "start_time": "2021-03-05T17:06:45.030006Z"
    }
   },
   "outputs": [],
   "source": [
    "from tensorflow.keras import models\n",
    "from tensorflow.keras import layers\n",
    "from sklearn.model_selection import train_test_split"
   ]
  },
  {
   "cell_type": "code",
   "execution_count": 20,
   "id": "described-elite",
   "metadata": {
    "ExecuteTime": {
     "end_time": "2021-03-05T17:07:35.419005Z",
     "start_time": "2021-03-05T17:07:09.998999Z"
    }
   },
   "outputs": [],
   "source": [
    "# Train test split\n",
    "X_train, X_test, y_train, y_test = train_test_split(X_clean, y_cat, test_size=0.2 )"
   ]
  },
  {
   "cell_type": "code",
   "execution_count": 21,
   "id": "temporal-tiffany",
   "metadata": {
    "ExecuteTime": {
     "end_time": "2021-03-05T17:07:51.310382Z",
     "start_time": "2021-03-05T17:07:50.683777Z"
    }
   },
   "outputs": [
    {
     "data": {
      "text/plain": [
       "<matplotlib.image.AxesImage at 0x14c521550>"
      ]
     },
     "execution_count": 21,
     "metadata": {},
     "output_type": "execute_result"
    },
    {
     "data": {
      "image/png": "[encoded data removed]",
      "text/plain": [
       "<Figure size 432x288 with 1 Axes>"
      ]
     },
     "metadata": {
      "needs_background": "light"
     },
     "output_type": "display_data"
    }
   ],
   "source": [
    "plt.imshow(X_train[2])"
   ]
  },
  {
   "cell_type": "code",
   "execution_count": 22,
   "id": "opening-server",
   "metadata": {
    "ExecuteTime": {
     "end_time": "2021-03-05T17:11:13.143964Z",
     "start_time": "2021-03-05T17:11:13.117406Z"
    }
   },
   "outputs": [],
   "source": [
    "import pickle\n",
    "file = open('y_train', 'wb')\n",
    "\n",
    "# dump information to that file\n",
    "y_train = pickle.dump(y_train,file)\n",
    "\n",
    "# close the file\n",
    "file.close()"
   ]
  },
  {
   "cell_type": "code",
   "execution_count": 23,
   "id": "valid-contractor",
   "metadata": {
    "ExecuteTime": {
     "end_time": "2021-03-05T17:11:30.607803Z",
     "start_time": "2021-03-05T17:11:30.600864Z"
    }
   },
   "outputs": [],
   "source": [
    "import pickle\n",
    "file = open('y_test', 'wb')\n",
    "\n",
    "# dump information to that file\n",
    "y_train = pickle.dump(y_test,file)\n",
    "\n",
    "# close the file\n",
    "file.close()"
   ]
  },
  {
   "cell_type": "code",
   "execution_count": 24,
   "id": "intensive-uncle",
   "metadata": {
    "ExecuteTime": {
     "end_time": "2021-03-05T17:12:33.564710Z",
     "start_time": "2021-03-05T17:11:47.672278Z"
    }
   },
   "outputs": [],
   "source": [
    "import pickle\n",
    "file = open('X_train', 'wb')\n",
    "\n",
    "# dump information to that file\n",
    "y_train = pickle.dump(X_train,file)\n",
    "\n",
    "# close the file\n",
    "file.close()"
   ]
  },
  {
   "cell_type": "code",
   "execution_count": 25,
   "id": "homeless-cannon",
   "metadata": {
    "ExecuteTime": {
     "end_time": "2021-03-05T17:13:39.486789Z",
     "start_time": "2021-03-05T17:13:31.742630Z"
    }
   },
   "outputs": [],
   "source": [
    "import pickle\n",
    "file = open('X_test', 'wb')\n",
    "\n",
    "# dump information to that file\n",
    "y_train = pickle.dump(X_test,file)\n",
    "\n",
    "# close the file\n",
    "file.close()"
   ]
  },
  {
   "cell_type": "code",
   "execution_count": null,
   "id": "ultimate-charles",
   "metadata": {},
   "outputs": [],
   "source": [
    "#y_train.size()"
   ]
  },
  {
   "cell_type": "code",
   "execution_count": null,
   "id": "legal-drill",
   "metadata": {
    "ExecuteTime": {
     "start_time": "2021-03-05T15:57:50.354Z"
    }
   },
   "outputs": [],
   "source": [
    "#X_experiment=np.stack([X_train]*3, axis=-1)"
   ]
  },
  {
   "cell_type": "code",
   "execution_count": null,
   "id": "upper-celebrity",
   "metadata": {},
   "outputs": [],
   "source": []
  },
  {
   "cell_type": "code",
   "execution_count": null,
   "id": "therapeutic-hungarian",
   "metadata": {
    "ExecuteTime": {
     "end_time": "2021-03-05T15:02:51.698782Z",
     "start_time": "2021-03-05T15:02:51.056342Z"
    }
   },
   "outputs": [],
   "source": [
    "#plt.imshow(X_experiment[2])"
   ]
  },
  {
   "cell_type": "code",
   "execution_count": null,
   "id": "developed-deficit",
   "metadata": {
    "ExecuteTime": {
     "end_time": "2021-03-05T15:03:22.549328Z",
     "start_time": "2021-03-05T15:03:22.527365Z"
    }
   },
   "outputs": [],
   "source": [
    "#X_experiment[2].shape"
   ]
  },
  {
   "cell_type": "markdown",
   "id": "efficient-share",
   "metadata": {
    "heading_collapsed": true
   },
   "source": [
    "## Expand"
   ]
  },
  {
   "cell_type": "code",
   "execution_count": null,
   "id": "favorite-badge",
   "metadata": {
    "ExecuteTime": {
     "end_time": "2021-03-05T12:22:48.781113Z",
     "start_time": "2021-03-05T12:22:48.761357Z"
    },
    "hidden": true
   },
   "outputs": [],
   "source": [
    "np.unique(y_train, return_counts=True)"
   ]
  },
  {
   "cell_type": "code",
   "execution_count": null,
   "id": "accompanied-philip",
   "metadata": {
    "ExecuteTime": {
     "end_time": "2021-03-05T12:22:57.000150Z",
     "start_time": "2021-03-05T12:22:56.837530Z"
    },
    "hidden": true
   },
   "outputs": [],
   "source": [
    "# from tensorflow.keras.backend import expand_dims\n",
    "\n",
    "# X_train_ex= expand_dims(X_train, axis=-1)\n",
    "# X_test_ex= expand_dims(X_test, axis=-1)\n",
    "\n",
    "# print(X_train_ex.shape)\n",
    "# print(X_test_ex.shape)"
   ]
  },
  {
   "cell_type": "code",
   "execution_count": null,
   "id": "possible-bankruptcy",
   "metadata": {
    "ExecuteTime": {
     "end_time": "2021-03-04T13:57:38.075854Z",
     "start_time": "2021-03-04T13:55:11.867198Z"
    },
    "hidden": true
   },
   "outputs": [],
   "source": [
    "# from skimage.color import gray2rgb\n",
    "\n",
    "# X_train_col = gray2rgb(X_train)\n",
    "# X_test_col = gray2rgb(X_test)"
   ]
  },
  {
   "cell_type": "code",
   "execution_count": null,
   "id": "federal-supervision",
   "metadata": {
    "ExecuteTime": {
     "end_time": "2021-03-04T13:58:05.817222Z",
     "start_time": "2021-03-04T13:58:05.640946Z"
    },
    "hidden": true
   },
   "outputs": [],
   "source": [
    "# X_test_col.shape"
   ]
  },
  {
   "cell_type": "markdown",
   "id": "fifth-satellite",
   "metadata": {
    "heading_collapsed": true
   },
   "source": [
    "## Model"
   ]
  },
  {
   "cell_type": "code",
   "execution_count": null,
   "id": "global-mouth",
   "metadata": {
    "ExecuteTime": {
     "end_time": "2021-03-05T15:04:09.348313Z",
     "start_time": "2021-03-05T15:04:09.331785Z"
    },
    "hidden": true
   },
   "outputs": [],
   "source": [
    "from tensorflow.keras import models\n",
    "from tensorflow.keras import layers\n",
    "from tensorflow.keras import callbacks\n",
    "import tensorflow as tf\n",
    "\n",
    "num_classes = 4\n",
    "def initialize_model():\n",
    "    model = tf.keras.Sequential([\n",
    "      layers.Conv2D(64, 3, activation='relu', input_shape=(256, 256, 3)),\n",
    "      layers.MaxPooling2D(),\n",
    "      layers.Conv2D(32, 3, activation='relu'),\n",
    "      layers.MaxPooling2D(),\n",
    "      layers.Conv2D(16, 3, activation='relu'),\n",
    "      layers.MaxPooling2D(),\n",
    "      layers.Conv2D(8, 3, activation='relu'),\n",
    "      layers.MaxPooling2D(),\n",
    "      layers.Flatten(),\n",
    "      layers.Dense(128, activation='relu'),\n",
    "      layers.Dense(4, activation='softmax')\n",
    "    ])\n",
    "    return model\n",
    "\n"
   ]
  },
  {
   "cell_type": "code",
   "execution_count": null,
   "id": "polyphonic-martin",
   "metadata": {
    "ExecuteTime": {
     "end_time": "2021-03-05T15:04:11.663508Z",
     "start_time": "2021-03-05T15:04:11.658850Z"
    },
    "hidden": true
   },
   "outputs": [],
   "source": [
    "from tensorflow.keras.losses import SparseCategoricalCrossentropy\n"
   ]
  },
  {
   "cell_type": "code",
   "execution_count": null,
   "id": "filled-mailing",
   "metadata": {
    "ExecuteTime": {
     "end_time": "2021-03-05T15:04:15.173670Z",
     "start_time": "2021-03-05T15:04:14.360487Z"
    },
    "hidden": true
   },
   "outputs": [],
   "source": [
    "model = initialize_model()\n",
    "\n",
    "\n",
    "model.compile(\n",
    "  optimizer='adam',\n",
    "  loss= 'categorical_crossentropy',\n",
    "  metrics=['accuracy'])"
   ]
  },
  {
   "cell_type": "raw",
   "id": "fancy-turkish",
   "metadata": {
    "hidden": true
   },
   "source": []
  },
  {
   "cell_type": "code",
   "execution_count": null,
   "id": "guilty-stanley",
   "metadata": {
    "ExecuteTime": {
     "end_time": "2021-03-05T13:31:44.426407Z",
     "start_time": "2021-03-05T12:25:03.089892Z"
    },
    "hidden": true
   },
   "outputs": [],
   "source": [
    "es = callbacks.EarlyStopping(patience=5, restore_best_weights=True)\n",
    "\n",
    "history=model.fit(X_train_ex, y_train,\n",
    "          batch_size=32,\n",
    "          epochs=100,\n",
    "          validation_split=0.2,\n",
    "          shuffle = True,\n",
    "          callbacks=[es])"
   ]
  },
  {
   "cell_type": "code",
   "execution_count": null,
   "id": "uniform-desert",
   "metadata": {
    "ExecuteTime": {
     "end_time": "2021-03-05T11:56:54.222347Z",
     "start_time": "2021-03-05T11:56:54.140236Z"
    },
    "hidden": true,
    "scrolled": true
   },
   "outputs": [],
   "source": [
    "def plot_history(history, title='', axs=None, exp_name=''):\n",
    "    if axs is not None:\n",
    "        ax1, ax2 = axs\n",
    "    else:\n",
    "        f, (ax1, ax2) = plt.subplots(1, 2, figsize=(12, 4))\n",
    "    if len(exp_name) > 0 and exp_name[0] != '_':\n",
    "        exp_name = '_' + exp_name\n",
    "    ax1.plot(history.history['loss'], label='train' + exp_name)\n",
    "    ax1.plot(history.history['val_loss'], label='val' + exp_name)\n",
    "    ax1.set_ylim(0., 2.2)\n",
    "    ax1.set_title('loss')\n",
    "    ax1.legend()\n",
    "    ax2.plot(history.history['accuracy'], label='train accuracy'  + exp_name)\n",
    "    ax2.plot(history.history['val_accuracy'], label='val accuracy'  + exp_name)\n",
    "    ax2.set_ylim(0.25, 1.)\n",
    "    ax2.set_title('Accuracy')\n",
    "    ax2.legend()\n",
    "    return (ax1, ax2)"
   ]
  },
  {
   "cell_type": "code",
   "execution_count": null,
   "id": "mineral-thailand",
   "metadata": {
    "ExecuteTime": {
     "end_time": "2021-03-05T11:57:08.713483Z",
     "start_time": "2021-03-05T11:57:07.732615Z"
    },
    "hidden": true
   },
   "outputs": [],
   "source": [
    "plot_history(history)\n",
    "plt.show()"
   ]
  },
  {
   "cell_type": "code",
   "execution_count": null,
   "id": "moved-pixel",
   "metadata": {
    "ExecuteTime": {
     "end_time": "2021-03-05T12:00:06.791138Z",
     "start_time": "2021-03-05T11:59:58.121344Z"
    },
    "hidden": true
   },
   "outputs": [],
   "source": [
    "from tensorflow.keras import models\n",
    "models.save_model(model, '/Users/macbookair/code/sarasiro/ChestXraydetection/models')"
   ]
  },
  {
   "cell_type": "code",
   "execution_count": null,
   "id": "undefined-criminal",
   "metadata": {
    "ExecuteTime": {
     "end_time": "2021-03-05T11:59:30.427032Z",
     "start_time": "2021-03-05T11:59:30.168738Z"
    },
    "hidden": true
   },
   "outputs": [],
   "source": [
    "!pwd"
   ]
  },
  {
   "cell_type": "code",
   "execution_count": null,
   "id": "editorial-bernard",
   "metadata": {
    "hidden": true
   },
   "outputs": [],
   "source": [
    "model.predict()"
   ]
  },
  {
   "cell_type": "markdown",
   "id": "superb-figure",
   "metadata": {},
   "source": [
    "# Transfer Learning"
   ]
  },
  {
   "cell_type": "code",
   "execution_count": null,
   "id": "honey-andrew",
   "metadata": {
    "ExecuteTime": {
     "end_time": "2021-03-05T15:40:11.971370Z",
     "start_time": "2021-03-05T15:36:03.388343Z"
    }
   },
   "outputs": [],
   "source": [
    "from tensorflow.keras.applications.vgg16 import preprocess_input\n",
    "\n",
    "X_trans=tf.keras.applications.vgg16.preprocess_input(\n",
    "    X_experiment, data_format=None\n",
    ")"
   ]
  },
  {
   "cell_type": "code",
   "execution_count": null,
   "id": "excellent-yemen",
   "metadata": {
    "ExecuteTime": {
     "end_time": "2021-03-05T15:41:20.562420Z",
     "start_time": "2021-03-05T15:41:20.473050Z"
    }
   },
   "outputs": [],
   "source": [
    "X_trans[0].max()"
   ]
  },
  {
   "cell_type": "code",
   "execution_count": null,
   "id": "industrial-basics",
   "metadata": {
    "ExecuteTime": {
     "end_time": "2021-03-05T15:42:09.010186Z",
     "start_time": "2021-03-05T15:42:08.826603Z"
    }
   },
   "outputs": [],
   "source": [
    "from tensorflow.keras.applications.vgg16 import VGG16\n",
    "from tensorflow.keras import layers, Sequential\n",
    "from tensorflow.keras import models\n",
    "\n",
    "\n",
    "def load_model():\n",
    "    model = VGG16(include_top=False, weights='imagenet', input_shape=(256, 256, 3))\n",
    "    return model"
   ]
  },
  {
   "cell_type": "code",
   "execution_count": null,
   "id": "bibliographic-bolivia",
   "metadata": {
    "ExecuteTime": {
     "end_time": "2021-03-05T15:42:12.632829Z",
     "start_time": "2021-03-05T15:42:10.881694Z"
    }
   },
   "outputs": [],
   "source": [
    "model=load_model()"
   ]
  },
  {
   "cell_type": "code",
   "execution_count": null,
   "id": "scientific-garbage",
   "metadata": {
    "ExecuteTime": {
     "end_time": "2021-03-05T15:42:16.162424Z",
     "start_time": "2021-03-05T15:42:16.153580Z"
    }
   },
   "outputs": [],
   "source": [
    "def set_nontrainable_layers(model):\n",
    "    model.trainable = False\n",
    "    return model"
   ]
  },
  {
   "cell_type": "code",
   "execution_count": null,
   "id": "extraordinary-frederick",
   "metadata": {
    "ExecuteTime": {
     "end_time": "2021-03-05T15:42:34.827523Z",
     "start_time": "2021-03-05T15:42:34.803990Z"
    }
   },
   "outputs": [],
   "source": [
    "set_nontrainable_layers(model)"
   ]
  },
  {
   "cell_type": "code",
   "execution_count": null,
   "id": "nutritional-denial",
   "metadata": {
    "ExecuteTime": {
     "end_time": "2021-03-05T15:42:40.535078Z",
     "start_time": "2021-03-05T15:42:40.524406Z"
    }
   },
   "outputs": [],
   "source": [
    "def add_last_layers(model):\n",
    "    base_model = load_model()\n",
    "    base_model = set_nontrainable_layers(base_model)\n",
    "    flattening_layer = layers.Flatten()\n",
    "    dense_layer = layers.Dense(500, activation='relu')\n",
    "    prediction_layer = layers.Dense(4, activation='softmax')\n",
    "    model = Sequential([\n",
    "    base_model,\n",
    "    flattening_layer,\n",
    "    dense_layer,\n",
    "    prediction_layer])\n",
    "    return model"
   ]
  },
  {
   "cell_type": "code",
   "execution_count": null,
   "id": "sticky-beach",
   "metadata": {
    "ExecuteTime": {
     "end_time": "2021-03-05T15:42:46.248230Z",
     "start_time": "2021-03-05T15:42:45.294406Z"
    }
   },
   "outputs": [],
   "source": [
    "model = add_last_layers(model)"
   ]
  },
  {
   "cell_type": "code",
   "execution_count": null,
   "id": "continent-things",
   "metadata": {
    "ExecuteTime": {
     "end_time": "2021-03-05T15:42:50.109130Z",
     "start_time": "2021-03-05T15:42:50.091752Z"
    }
   },
   "outputs": [],
   "source": [
    "from tensorflow.keras import optimizers\n",
    "from tensorflow.keras.optimizers import Adam\n",
    "opt = Adam(learning_rate=1e-4)\n",
    "\n",
    "def compile_model(model):\n",
    "    model.compile(loss='categorical_crossentropy',\n",
    "              optimizer=opt,\n",
    "              metrics=['accuracy'])\n",
    "    return model"
   ]
  },
  {
   "cell_type": "code",
   "execution_count": null,
   "id": "noble-bracelet",
   "metadata": {
    "ExecuteTime": {
     "end_time": "2021-03-05T15:42:53.110759Z",
     "start_time": "2021-03-05T15:42:53.105154Z"
    }
   },
   "outputs": [],
   "source": [
    "def build_model():\n",
    "    model=load_model()\n",
    "    model=add_last_layers(model)\n",
    "    model=compile_model(model)\n",
    "    return model\n",
    "\n"
   ]
  },
  {
   "cell_type": "code",
   "execution_count": null,
   "id": "protective-growing",
   "metadata": {
    "ExecuteTime": {
     "end_time": "2021-03-05T15:42:56.618184Z",
     "start_time": "2021-03-05T15:42:55.497236Z"
    }
   },
   "outputs": [],
   "source": [
    "model = build_model()"
   ]
  },
  {
   "cell_type": "code",
   "execution_count": null,
   "id": "leading-studio",
   "metadata": {},
   "outputs": [],
   "source": [
    "plt.imshow(X_norm[2])"
   ]
  },
  {
   "cell_type": "code",
   "execution_count": null,
   "id": "involved-county",
   "metadata": {},
   "outputs": [],
   "source": [
    "from tensorflow.keras.callbacks import EarlyStopping\n",
    "es = EarlyStopping(patience=5, restore_best_weights=True)"
   ]
  },
  {
   "cell_type": "code",
   "execution_count": null,
   "id": "actual-hebrew",
   "metadata": {},
   "outputs": [],
   "source": [
    "history = model.fit(X_model,y_cat,\n",
    "          batch_size=16,\n",
    "          epochs=50, validation_split=0.2, callbacks=[es])"
   ]
  },
  {
   "cell_type": "code",
   "execution_count": null,
   "id": "finished-hobby",
   "metadata": {},
   "outputs": [],
   "source": []
  }
 ],
 "metadata": {
  "kernelspec": {
   "display_name": "Python 3",
   "language": "python",
   "name": "python3"
  },
  "language_info": {
   "codemirror_mode": {
    "name": "ipython",
    "version": 3
   },
   "file_extension": ".py",
   "mimetype": "text/x-python",
   "name": "python",
   "nbconvert_exporter": "python",
   "pygments_lexer": "ipython3",
   "version": "3.8.6"
  },
  "toc": {
   "base_numbering": 1,
   "nav_menu": {},
   "number_sections": true,
   "sideBar": true,
   "skip_h1_title": false,
   "title_cell": "Table of Contents",
   "title_sidebar": "Contents",
   "toc_cell": false,
   "toc_position": {},
   "toc_section_display": true,
   "toc_window_display": false
  },
  "varInspector": {
   "cols": {
    "lenName": 16,
    "lenType": 16,
    "lenVar": 40
   },
   "kernels_config": {
    "python": {
     "delete_cmd_postfix": "",
     "delete_cmd_prefix": "del ",
     "library": "var_list.py",
     "varRefreshCmd": "print(var_dic_list())"
    },
    "r": {
     "delete_cmd_postfix": ") ",
     "delete_cmd_prefix": "rm(",
     "library": "var_list.r",
     "varRefreshCmd": "cat(var_dic_list()) "
    }
   },
   "position": {
    "height": "464.149px",
    "left": "1063.14px",
    "right": "20px",
    "top": "-23.0556px",
    "width": "610.278px"
   },
   "types_to_exclude": [
    "module",
    "function",
    "builtin_function_or_method",
    "instance",
    "_Feature"
   ],
   "window_display": true
  }
 },
 "nbformat": 4,
 "nbformat_minor": 5
}
