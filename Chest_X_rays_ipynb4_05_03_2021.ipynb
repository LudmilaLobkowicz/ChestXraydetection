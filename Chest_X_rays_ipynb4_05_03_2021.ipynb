{
  "nbformat": 4,
  "nbformat_minor": 0,
  "metadata": {
    "colab": {
      "name": "Chest_X_rays_ipynb4_05_03_2021.ipynb",
      "provenance": [],
      "collapsed_sections": []
    },
    "kernelspec": {
      "display_name": "Python 3",
      "language": "python",
      "name": "python3"
    },
    "language_info": {
      "codemirror_mode": {
        "name": "ipython",
        "version": 3
      },
      "file_extension": ".py",
      "mimetype": "text/x-python",
      "name": "python",
      "nbconvert_exporter": "python",
      "pygments_lexer": "ipython3",
      "version": "3.8.6"
    },
    "toc": {
      "base_numbering": 1,
      "nav_menu": {},
      "number_sections": true,
      "sideBar": true,
      "skip_h1_title": false,
      "title_cell": "Table of Contents",
      "title_sidebar": "Contents",
      "toc_cell": false,
      "toc_position": {},
      "toc_section_display": true,
      "toc_window_display": false
    },
    "accelerator": "GPU"
  },
  "cells": [
    {
      "cell_type": "markdown",
      "metadata": {
        "id": "-C5WmpZBRl7F"
      },
      "source": [
        "# X-ray challenge"
      ]
    },
    {
      "cell_type": "code",
      "metadata": {
        "colab": {
          "base_uri": "https://localhost:8080/"
        },
        "id": "aUp_4Rek728C",
        "outputId": "1c124f7f-2025-4c0e-e9e3-fe73315cd62d"
      },
      "source": [
        "from google.colab import drive\n",
        "drive.mount('/content/drive')"
      ],
      "execution_count": 1,
      "outputs": [
        {
          "output_type": "stream",
          "text": [
            "Drive already mounted at /content/drive; to attempt to forcibly remount, call drive.mount(\"/content/drive\", force_remount=True).\n"
          ],
          "name": "stdout"
        }
      ]
    },
    {
      "cell_type": "code",
      "metadata": {
        "id": "iarICb7msMwo",
        "colab": {
          "base_uri": "https://localhost:8080/"
        },
        "outputId": "d84a8b96-1db3-4703-e300-b9e1baddb916"
      },
      "source": [
        "%cd ./drive/MyDrive/raw_data\n"
      ],
      "execution_count": 2,
      "outputs": [
        {
          "output_type": "stream",
          "text": [
            "/content/drive/MyDrive/raw_data\n"
          ],
          "name": "stdout"
        }
      ]
    },
    {
      "cell_type": "code",
      "metadata": {
        "colab": {
          "base_uri": "https://localhost:8080/"
        },
        "id": "rxKOj1-csY4R",
        "outputId": "076348ad-b4b9-41b0-b159-6bd569a08a47"
      },
      "source": [
        "%ls\n"
      ],
      "execution_count": 3,
      "outputs": [
        {
          "output_type": "stream",
          "text": [
            "\u001b[0m\u001b[01;34mbacterial_pneumonia\u001b[0m/  \u001b[01;34mcovid-19\u001b[0m/  \u001b[01;34mnormal\u001b[0m/  \u001b[01;34mviral_pneumonia\u001b[0m/\n"
          ],
          "name": "stdout"
        }
      ]
    },
    {
      "cell_type": "code",
      "metadata": {
        "id": "WvcxiALQdOML"
      },
      "source": [
        "import numpy as np\n",
        "import os\n",
        "import PIL\n",
        "import PIL.Image\n",
        "import tensorflow as tf\n",
        "import tensorflow_datasets as tfds\n",
        "from matplotlib.pyplot import imread\n",
        "import pathlib"
      ],
      "execution_count": 4,
      "outputs": []
    },
    {
      "cell_type": "code",
      "metadata": {
        "colab": {
          "base_uri": "https://localhost:8080/"
        },
        "id": "DF3ML0Kd1N9n",
        "outputId": "51c44a9d-71ba-4b70-c0cb-b07b780f9fb9"
      },
      "source": [
        "print(tf.__version__)"
      ],
      "execution_count": 5,
      "outputs": [
        {
          "output_type": "stream",
          "text": [
            "2.4.1\n"
          ],
          "name": "stdout"
        }
      ]
    },
    {
      "cell_type": "code",
      "metadata": {
        "id": "XLxqQIcrT1JD"
      },
      "source": [
        "dataset_path = \"/content/drive/MyDrive/trainset _balanced\""
      ],
      "execution_count": 6,
      "outputs": []
    },
    {
      "cell_type": "code",
      "metadata": {
        "colab": {
          "base_uri": "https://localhost:8080/"
        },
        "id": "c2d_dQen1SVN",
        "outputId": "6386551c-0dcd-4056-caac-dda18e19d248"
      },
      "source": [
        "train_ds = tf.keras.preprocessing.image_dataset_from_directory(\n",
        "  dataset_path,\n",
        "  validation_split=0.2,\n",
        "  subset=\"training\",\n",
        "  seed=123,\n",
        "  image_size=(256, 256), \n",
        "  batch_size=32)"
      ],
      "execution_count": 7,
      "outputs": [
        {
          "output_type": "stream",
          "text": [
            "Found 3136 files belonging to 4 classes.\n",
            "Using 2509 files for training.\n"
          ],
          "name": "stdout"
        }
      ]
    },
    {
      "cell_type": "code",
      "metadata": {
        "id": "03k-PAbWMbUY",
        "colab": {
          "base_uri": "https://localhost:8080/"
        },
        "outputId": "51339950-76f1-4b9b-80a1-9c1e286d1060"
      },
      "source": [
        "train_ds"
      ],
      "execution_count": 8,
      "outputs": [
        {
          "output_type": "execute_result",
          "data": {
            "text/plain": [
              "<BatchDataset shapes: ((None, 256, 256, 3), (None,)), types: (tf.float32, tf.int32)>"
            ]
          },
          "metadata": {
            "tags": []
          },
          "execution_count": 8
        }
      ]
    },
    {
      "cell_type": "code",
      "metadata": {
        "id": "Tr1cgl1Qrr8l",
        "colab": {
          "base_uri": "https://localhost:8080/"
        },
        "outputId": "fbd11a12-dc9c-466c-faa1-9f22f27a459f"
      },
      "source": [
        "val_ds = tf.keras.preprocessing.image_dataset_from_directory(\n",
        "  dataset_path,\n",
        "  validation_split=0.2,\n",
        "  subset=\"validation\",\n",
        "  seed=123,\n",
        "  image_size=(256, 256),\n",
        "  batch_size=32)"
      ],
      "execution_count": 9,
      "outputs": [
        {
          "output_type": "stream",
          "text": [
            "Found 3136 files belonging to 4 classes.\n",
            "Using 627 files for validation.\n"
          ],
          "name": "stdout"
        }
      ]
    },
    {
      "cell_type": "code",
      "metadata": {
        "id": "KkuW-GN6S4Aq",
        "colab": {
          "base_uri": "https://localhost:8080/"
        },
        "outputId": "c7967874-d85d-42b7-c38d-7c0a5ced8eba"
      },
      "source": [
        "val_ds"
      ],
      "execution_count": 10,
      "outputs": [
        {
          "output_type": "execute_result",
          "data": {
            "text/plain": [
              "<BatchDataset shapes: ((None, 256, 256, 3), (None,)), types: (tf.float32, tf.int32)>"
            ]
          },
          "metadata": {
            "tags": []
          },
          "execution_count": 10
        }
      ]
    },
    {
      "cell_type": "code",
      "metadata": {
        "id": "FA6312cPti73",
        "colab": {
          "base_uri": "https://localhost:8080/"
        },
        "outputId": "3db777d9-cd93-4725-c99e-3abda5632c73"
      },
      "source": [
        "class_names = train_ds.class_names\n",
        "print(class_names)"
      ],
      "execution_count": 11,
      "outputs": [
        {
          "output_type": "stream",
          "text": [
            "['bacterial_pneumonia', 'covid-19', 'normal', 'viral_pneumonia']\n"
          ],
          "name": "stdout"
        }
      ]
    },
    {
      "cell_type": "code",
      "metadata": {
        "id": "qnLxnmsy6EQk",
        "colab": {
          "base_uri": "https://localhost:8080/"
        },
        "outputId": "971abe27-f01e-40cf-d645-7b9a6d76545b"
      },
      "source": [
        "for image_batch, labels_batch in train_ds:\n",
        "  print(image_batch.shape)\n",
        "  print(labels_batch.shape)\n",
        "  break\n"
      ],
      "execution_count": 12,
      "outputs": [
        {
          "output_type": "stream",
          "text": [
            "(32, 256, 256, 3)\n",
            "(32,)\n"
          ],
          "name": "stdout"
        }
      ]
    },
    {
      "cell_type": "code",
      "metadata": {
        "id": "pPV6ZC4K6Mj8"
      },
      "source": [
        "from tensorflow.keras import layers\n",
        "\n",
        "normalization_layer = tf.keras.layers.experimental.preprocessing.Rescaling(1./255)"
      ],
      "execution_count": 13,
      "outputs": []
    },
    {
      "cell_type": "code",
      "metadata": {
        "id": "tUCQiTt0klDf"
      },
      "source": [
        "#from tensorflow.keras.applications.vgg16 import preprocess_input\n",
        "\n",
        "#prepos_train_ds = train_ds.map(lambda x, y: (preprocess_input(x), y))\n",
        "#image_batch, labels_batch = next(iter(prepos_train_ds))\n",
        "#first_image = image_batch[0]\n",
        "# Notice the pixels values are now in `[0,1]`.\n",
        "#print(np.min(first_image), np.max(first_image)) \n"
      ],
      "execution_count": 14,
      "outputs": []
    },
    {
      "cell_type": "code",
      "metadata": {
        "id": "IdROctVz666U",
        "colab": {
          "base_uri": "https://localhost:8080/"
        },
        "outputId": "59893f6e-2c48-4b0a-883d-04c859775786"
      },
      "source": [
        "normalized_train_ds = train_ds.map(lambda x, y: (normalization_layer(x), y))\n",
        "image_batch, labels_batch = next(iter(normalized_train_ds))\n",
        "first_image = image_batch[0]\n",
        "# Notice the pixels values are now in `[0,1]`.\n",
        "print(np.min(first_image), np.max(first_image)) \n"
      ],
      "execution_count": 15,
      "outputs": [
        {
          "output_type": "stream",
          "text": [
            "0.0 0.89901817\n"
          ],
          "name": "stdout"
        }
      ]
    },
    {
      "cell_type": "code",
      "metadata": {
        "id": "mbtVe_kVaHEF",
        "colab": {
          "base_uri": "https://localhost:8080/"
        },
        "outputId": "2e87c91e-b65f-40c6-efb7-5a414c54fb81"
      },
      "source": [
        "normalized_train_ds"
      ],
      "execution_count": 16,
      "outputs": [
        {
          "output_type": "execute_result",
          "data": {
            "text/plain": [
              "<MapDataset shapes: ((None, 256, 256, 3), (None,)), types: (tf.float32, tf.int32)>"
            ]
          },
          "metadata": {
            "tags": []
          },
          "execution_count": 16
        }
      ]
    },
    {
      "cell_type": "code",
      "metadata": {
        "id": "M0ueiRUOaNRm",
        "colab": {
          "base_uri": "https://localhost:8080/"
        },
        "outputId": "0f0fcbd9-438b-4607-d295-7642a549b407"
      },
      "source": [
        "normalized_val_ds = val_ds.map(lambda x, y: (normalization_layer(x), y))\n",
        "image_batch_val, labels_batch_val = next(iter(normalized_val_ds))\n",
        "first_image_val = image_batch_val[0]\n",
        "# Notice the pixels values are now in `[0,1]`.\n",
        "print(np.min(first_image_val), np.max(first_image_val)) "
      ],
      "execution_count": 17,
      "outputs": [
        {
          "output_type": "stream",
          "text": [
            "0.0 0.99987084\n"
          ],
          "name": "stdout"
        }
      ]
    },
    {
      "cell_type": "code",
      "metadata": {
        "id": "fE6_OmBFFZil"
      },
      "source": [
        "#AUTOTUNE = tf.data.AUTOTUNE\n",
        "\n",
        "#train_ds = train_ds.cache().prefetch(buffer_size=AUTOTUNE)\n",
        "#val_ds = val_ds.cache().prefetch(buffer_size=AUTOTUNE)"
      ],
      "execution_count": 18,
      "outputs": []
    },
    {
      "cell_type": "code",
      "metadata": {
        "id": "FMXu5gYxki3Z"
      },
      "source": [
        "from tensorflow.keras import models\n",
        "from tensorflow.keras import layers \n",
        "\n",
        "num_classes = 4\n",
        "\n",
        "model = tf.keras.Sequential([\n",
        "    layers.experimental.preprocessing.Rescaling(1./255),\n",
        "    layers.Conv2D(filters = 32, kernel_size = (3, 3),activation='relu', input_shape= (256,256,3)),\n",
        "    layers.MaxPooling2D(pool_size= 2, strides=2),\n",
        "    layers.Conv2D(filters = 64, kernel_size = (3,3),activation='relu'),\n",
        "    layers.MaxPooling2D(pool_size = 2, strides=2),\n",
        "\n",
        "    layers.Dropout(0.5),\n",
        "    \n",
        "    layers.Flatten(),\n",
        "    layers.Dense(100, activation='relu'),\n",
        "    layers.Dropout(0.5),\n",
        "    layers.Dense(4, activation='softmax')\n",
        "])\n",
        "\n"
      ],
      "execution_count": 19,
      "outputs": []
    },
    {
      "cell_type": "code",
      "metadata": {
        "id": "-TZK2kw0T5G5"
      },
      "source": [
        "from tensorflow.keras import optimizers\n",
        "\n",
        "def compile_model(model):\n",
        "    model.compile(loss=tf.losses.SparseCategoricalCrossentropy(from_logits=True),\n",
        "                  optimizer='adam',\n",
        "                  metrics=['accuracy'])\n",
        "    return model"
      ],
      "execution_count": 20,
      "outputs": []
    },
    {
      "cell_type": "code",
      "metadata": {
        "id": "0B-TrMfBVxPL"
      },
      "source": [
        "from tensorflow.keras.callbacks import EarlyStopping\n",
        "es = EarlyStopping(patience=5, restore_best_weights=True)"
      ],
      "execution_count": 21,
      "outputs": []
    },
    {
      "cell_type": "code",
      "metadata": {
        "id": "fEIZq1yplCHa"
      },
      "source": [
        "model = compile_model(model)"
      ],
      "execution_count": 22,
      "outputs": []
    },
    {
      "cell_type": "code",
      "metadata": {
        "id": "W7QEj_B0XAx0",
        "colab": {
          "base_uri": "https://localhost:8080/"
        },
        "outputId": "fcaab4c6-77c6-4966-c29f-3c99f69e21e3"
      },
      "source": [
        "history = model.fit(normalized_train_ds,\n",
        "         batch_size=32,\n",
        "         epochs=100, validation_data=normalized_val_ds, callbacks=[es])"
      ],
      "execution_count": 23,
      "outputs": [
        {
          "output_type": "stream",
          "text": [
            "Epoch 1/100\n",
            "79/79 [==============================] - 42s 459ms/step - loss: 1.2925 - accuracy: 0.3670 - val_loss: 0.7578 - val_accuracy: 0.7002\n",
            "Epoch 2/100\n",
            "79/79 [==============================] - 38s 450ms/step - loss: 0.7093 - accuracy: 0.7013 - val_loss: 0.6042 - val_accuracy: 0.7528\n",
            "Epoch 3/100\n",
            "79/79 [==============================] - 38s 453ms/step - loss: 0.5761 - accuracy: 0.7692 - val_loss: 0.6014 - val_accuracy: 0.7815\n",
            "Epoch 4/100\n",
            "79/79 [==============================] - 37s 441ms/step - loss: 0.5635 - accuracy: 0.7697 - val_loss: 0.5406 - val_accuracy: 0.8006\n",
            "Epoch 5/100\n",
            "79/79 [==============================] - 37s 443ms/step - loss: 0.5099 - accuracy: 0.7965 - val_loss: 0.5537 - val_accuracy: 0.7815\n",
            "Epoch 6/100\n",
            "79/79 [==============================] - 37s 443ms/step - loss: 0.4949 - accuracy: 0.8018 - val_loss: 0.5218 - val_accuracy: 0.7959\n",
            "Epoch 7/100\n",
            "79/79 [==============================] - 37s 444ms/step - loss: 0.4491 - accuracy: 0.8159 - val_loss: 0.5151 - val_accuracy: 0.8102\n",
            "Epoch 8/100\n",
            "79/79 [==============================] - 37s 442ms/step - loss: 0.4409 - accuracy: 0.8407 - val_loss: 0.5215 - val_accuracy: 0.7927\n",
            "Epoch 9/100\n",
            "79/79 [==============================] - 38s 446ms/step - loss: 0.4373 - accuracy: 0.8294 - val_loss: 0.5120 - val_accuracy: 0.8038\n",
            "Epoch 10/100\n",
            "79/79 [==============================] - 38s 446ms/step - loss: 0.4057 - accuracy: 0.8361 - val_loss: 0.5076 - val_accuracy: 0.8102\n",
            "Epoch 11/100\n",
            "79/79 [==============================] - 38s 447ms/step - loss: 0.4040 - accuracy: 0.8450 - val_loss: 0.5079 - val_accuracy: 0.8102\n",
            "Epoch 12/100\n",
            "79/79 [==============================] - 38s 444ms/step - loss: 0.3893 - accuracy: 0.8556 - val_loss: 0.4917 - val_accuracy: 0.8054\n",
            "Epoch 13/100\n",
            "79/79 [==============================] - 38s 446ms/step - loss: 0.3595 - accuracy: 0.8680 - val_loss: 0.4944 - val_accuracy: 0.8102\n",
            "Epoch 14/100\n",
            "79/79 [==============================] - 38s 447ms/step - loss: 0.3659 - accuracy: 0.8537 - val_loss: 0.4914 - val_accuracy: 0.8070\n",
            "Epoch 15/100\n",
            "79/79 [==============================] - 38s 451ms/step - loss: 0.3601 - accuracy: 0.8627 - val_loss: 0.4738 - val_accuracy: 0.8198\n",
            "Epoch 16/100\n",
            "79/79 [==============================] - 39s 459ms/step - loss: 0.3614 - accuracy: 0.8482 - val_loss: 0.5251 - val_accuracy: 0.7990\n",
            "Epoch 17/100\n",
            "79/79 [==============================] - 39s 456ms/step - loss: 0.3529 - accuracy: 0.8650 - val_loss: 0.4856 - val_accuracy: 0.8118\n",
            "Epoch 18/100\n",
            "79/79 [==============================] - 38s 454ms/step - loss: 0.3495 - accuracy: 0.8628 - val_loss: 0.5104 - val_accuracy: 0.8102\n",
            "Epoch 19/100\n",
            "79/79 [==============================] - 38s 453ms/step - loss: 0.3466 - accuracy: 0.8694 - val_loss: 0.5009 - val_accuracy: 0.8070\n",
            "Epoch 20/100\n",
            "79/79 [==============================] - 37s 444ms/step - loss: 0.3166 - accuracy: 0.8714 - val_loss: 0.5089 - val_accuracy: 0.8086\n"
          ],
          "name": "stdout"
        }
      ]
    },
    {
      "cell_type": "code",
      "metadata": {
        "id": "hcZsSx4EN8HR"
      },
      "source": [
        "def plot_history(history, title='', axs=None, exp_name=\"\"):\n",
        "    if axs is not None:\n",
        "        ax1, ax2 = axs\n",
        "    else:\n",
        "        f, (ax1, ax2) = plt.subplots(1, 2, figsize=(12, 4))\n",
        "    \n",
        "    if len(exp_name) > 0 and exp_name[0] != '_':\n",
        "        exp_name = '_' + exp_name\n",
        "    ax1.plot(history.history['loss'], label='train' + exp_name)\n",
        "    ax1.plot(history.history['val_loss'], label='val' + exp_name)\n",
        "    ax1.set_ylim(0., 2.2)\n",
        "    ax1.set_title('loss')\n",
        "    ax1.legend()\n",
        "\n",
        "    ax2.plot(history.history['accuracy'], label='train accuracy'  + exp_name)\n",
        "    ax2.plot(history.history['val_accuracy'], label='val accuracy'  + exp_name)\n",
        "    ax2.set_ylim(0.25, 1.)\n",
        "    ax2.set_title('Accuracy')\n",
        "    ax2.legend()\n",
        "    return (ax1, ax2)"
      ],
      "execution_count": 59,
      "outputs": []
    },
    {
      "cell_type": "code",
      "metadata": {
        "id": "PuEOTfSbtxxd"
      },
      "source": [
        "import matplotlib.pyplot as plt"
      ],
      "execution_count": 60,
      "outputs": []
    },
    {
      "cell_type": "code",
      "metadata": {
        "id": "RVxc0PgnN-9R",
        "colab": {
          "base_uri": "https://localhost:8080/",
          "height": 254
        },
        "outputId": "157e4bc9-a5d5-4eb6-cb7f-113245955cbb"
      },
      "source": [
        "plot_history(history)\n",
        "plt.show()"
      ],
      "execution_count": 61,
      "outputs": [
        {
          "output_type": "display_data",
          "data": {
            "image/png": "[encoded data removed]",
            "text/plain": [
              "<Figure size 864x288 with 2 Axes>"
            ]
          },
          "metadata": {
            "tags": [],
            "needs_background": "light"
          }
        }
      ]
    },
    {
      "cell_type": "code",
      "metadata": {
        "id": "in5ykHu0R48C",
        "colab": {
          "base_uri": "https://localhost:8080/"
        },
        "outputId": "c505c9f0-6afc-4345-954a-4f7df4434d9c"
      },
      "source": [
        "from tensorflow.keras import models\n",
        "\n",
        "# Let's say that you have a `model`\n",
        "# You can save it :\n",
        "models.save_model(model, '/content/drive/MyDrive/models/model4')"
      ],
      "execution_count": 62,
      "outputs": [
        {
          "output_type": "stream",
          "text": [
            "INFO:tensorflow:Assets written to: /content/drive/MyDrive/models/model4/assets\n"
          ],
          "name": "stdout"
        }
      ]
    },
    {
      "cell_type": "code",
      "metadata": {
        "id": "Nkoh1GI5YttW"
      },
      "source": [
        "from tensorflow.keras import models\n",
        "loaded_model = models.load_model('/content/drive/MyDrive/models/model4')"
      ],
      "execution_count": 63,
      "outputs": []
    },
    {
      "cell_type": "code",
      "metadata": {
        "id": "G23BN-wvOCSw",
        "colab": {
          "base_uri": "https://localhost:8080/"
        },
        "outputId": "431ed4ab-099d-4b0d-a4dd-56eada0e7c6d"
      },
      "source": [
        "loaded_model"
      ],
      "execution_count": 64,
      "outputs": [
        {
          "output_type": "execute_result",
          "data": {
            "text/plain": [
              "<tensorflow.python.keras.engine.sequential.Sequential at 0x7f4ab7ee3dd0>"
            ]
          },
          "metadata": {
            "tags": []
          },
          "execution_count": 64
        }
      ]
    },
    {
      "cell_type": "code",
      "metadata": {
        "id": "vS42rEW5ON3g"
      },
      "source": [
        "dataset_path_test =\"/content/drive/MyDrive/testset\""
      ],
      "execution_count": 65,
      "outputs": []
    },
    {
      "cell_type": "code",
      "metadata": {
        "id": "9QMNICwxOKSz",
        "colab": {
          "base_uri": "https://localhost:8080/"
        },
        "outputId": "c9d9b936-2e2b-4d9f-e034-ab98950b2984"
      },
      "source": [
        "test_ds = tf.keras.preprocessing.image_dataset_from_directory(\n",
        "  dataset_path_test,\n",
        "  validation_split=0.2,\n",
        "  subset=\"training\",\n",
        "  seed=123,\n",
        "  image_size=(256, 256), \n",
        "  batch_size=32)"
      ],
      "execution_count": 66,
      "outputs": [
        {
          "output_type": "stream",
          "text": [
            "Found 1346 files belonging to 4 classes.\n",
            "Using 1077 files for training.\n"
          ],
          "name": "stdout"
        }
      ]
    },
    {
      "cell_type": "code",
      "metadata": {
        "id": "z4e3thjElxu3",
        "colab": {
          "base_uri": "https://localhost:8080/"
        },
        "outputId": "98d1cc02-d974-41ca-f9c7-64f423882853"
      },
      "source": [
        "normalized_test_ds = test_ds.map(lambda x, y: (normalization_layer(x), y))\n",
        "image_batch_test, labels_batch_test = next(iter(normalized_test_ds))\n",
        "first_image_test = image_batch_test[0]\n",
        "# Notice the pixels values are now in `[0,1]`.\n",
        "print(np.min(first_image_test), np.max(first_image_test)) "
      ],
      "execution_count": 67,
      "outputs": [
        {
          "output_type": "stream",
          "text": [
            "0.0 1.0\n"
          ],
          "name": "stdout"
        }
      ]
    },
    {
      "cell_type": "code",
      "metadata": {
        "id": "e-wS9eNCmLXW"
      },
      "source": [
        "#test_ds = test_ds.cache().prefetch(buffer_size=AUTOTUNE)"
      ],
      "execution_count": 33,
      "outputs": []
    },
    {
      "cell_type": "code",
      "metadata": {
        "id": "wY8oTWwLRQud",
        "colab": {
          "base_uri": "https://localhost:8080/"
        },
        "outputId": "c4f374b1-d8a6-4311-bbb7-17c84a667ecc"
      },
      "source": [
        "loaded_model.evaluate(normalized_test_ds, verbose=1)\n",
        "\n"
      ],
      "execution_count": 68,
      "outputs": [
        {
          "output_type": "stream",
          "text": [
            "34/34 [==============================] - 8s 197ms/step - loss: 0.8367 - accuracy: 0.7057\n"
          ],
          "name": "stdout"
        },
        {
          "output_type": "execute_result",
          "data": {
            "text/plain": [
              "[0.8367114067077637, 0.7056638598442078]"
            ]
          },
          "metadata": {
            "tags": []
          },
          "execution_count": 68
        }
      ]
    },
    {
      "cell_type": "code",
      "metadata": {
        "id": "TXhSBlw3o77X"
      },
      "source": [
        "labels = []\n",
        "#images = []\n",
        "for image, label in normalized_test_ds:\n",
        "  labels += list(np.array(label))\n",
        "  #"
      ],
      "execution_count": 69,
      "outputs": []
    },
    {
      "cell_type": "code",
      "metadata": {
        "id": "2EnS3w___Tsn"
      },
      "source": [
        "images = []\n",
        "for image, label in test_ds:\n",
        "  images += list(np.array(image))"
      ],
      "execution_count": 70,
      "outputs": []
    },
    {
      "cell_type": "code",
      "metadata": {
        "id": "uDhS7p54p7kq",
        "colab": {
          "base_uri": "https://localhost:8080/"
        },
        "outputId": "a363ac65-7311-4ddd-d2b5-8d94925237d5"
      },
      "source": [
        "np.array(labels).shape"
      ],
      "execution_count": 71,
      "outputs": [
        {
          "output_type": "execute_result",
          "data": {
            "text/plain": [
              "(1077,)"
            ]
          },
          "metadata": {
            "tags": []
          },
          "execution_count": 71
        }
      ]
    },
    {
      "cell_type": "code",
      "metadata": {
        "id": "La-SyHI3GFQU"
      },
      "source": [
        "y_true = np.array(labels)"
      ],
      "execution_count": 72,
      "outputs": []
    },
    {
      "cell_type": "code",
      "metadata": {
        "id": "zpdki_oKZkrI"
      },
      "source": [
        "predictions = loaded_model.predict(normalized_test_ds)"
      ],
      "execution_count": 73,
      "outputs": []
    },
    {
      "cell_type": "code",
      "metadata": {
        "id": "TQyKN4VyZzbb"
      },
      "source": [
        "y_pred = np.array([np.argmax(x) for x in predictions])"
      ],
      "execution_count": 74,
      "outputs": []
    },
    {
      "cell_type": "code",
      "metadata": {
        "colab": {
          "base_uri": "https://localhost:8080/"
        },
        "id": "11FhCkaXjxOn",
        "outputId": "a6243d30-c206-422d-aa80-3525f6b911a9"
      },
      "source": [
        "y_true"
      ],
      "execution_count": 75,
      "outputs": [
        {
          "output_type": "execute_result",
          "data": {
            "text/plain": [
              "array([3, 0, 2, ..., 2, 2, 3], dtype=int32)"
            ]
          },
          "metadata": {
            "tags": []
          },
          "execution_count": 75
        }
      ]
    },
    {
      "cell_type": "code",
      "metadata": {
        "id": "QmbxC44LtzRM"
      },
      "source": [
        "import numpy as np"
      ],
      "execution_count": 76,
      "outputs": []
    },
    {
      "cell_type": "code",
      "metadata": {
        "colab": {
          "base_uri": "https://localhost:8080/"
        },
        "id": "QVf3kBZcttLc",
        "outputId": "77e62f26-454c-431e-8ac1-b0d485d44de9"
      },
      "source": [
        "number_list = y_pred\n",
        "\n",
        "(unique, counts) = np.unique(number_list, return_counts=True)\n",
        "frequencies = np.asarray((unique, counts)).T\n",
        "\n",
        "print(frequencies)"
      ],
      "execution_count": 77,
      "outputs": [
        {
          "output_type": "stream",
          "text": [
            "[[  0 431]\n",
            " [  1 178]\n",
            " [  2 251]\n",
            " [  3 217]]\n"
          ],
          "name": "stdout"
        }
      ]
    },
    {
      "cell_type": "code",
      "metadata": {
        "colab": {
          "base_uri": "https://localhost:8080/"
        },
        "id": "J4jcblvWuB54",
        "outputId": "98d6115c-9716-4334-9084-a49c54131d9f"
      },
      "source": [
        "number_list = y_true\n",
        "\n",
        "(unique, counts) = np.unique(number_list, return_counts=True)\n",
        "frequencies = np.asarray((unique, counts)).T\n",
        "\n",
        "print(frequencies)"
      ],
      "execution_count": 78,
      "outputs": [
        {
          "output_type": "stream",
          "text": [
            "[[  0 444]\n",
            " [  1 154]\n",
            " [  2 231]\n",
            " [  3 248]]\n"
          ],
          "name": "stdout"
        }
      ]
    },
    {
      "cell_type": "code",
      "metadata": {
        "colab": {
          "base_uri": "https://localhost:8080/"
        },
        "id": "wyeRUn4rovMv",
        "outputId": "64ffc360-3705-4a68-8272-232536896045"
      },
      "source": [
        "class_names # 0, 1, 2, 3"
      ],
      "execution_count": 79,
      "outputs": [
        {
          "output_type": "execute_result",
          "data": {
            "text/plain": [
              "['bacterial_pneumonia', 'covid-19', 'normal', 'viral_pneumonia']"
            ]
          },
          "metadata": {
            "tags": []
          },
          "execution_count": 79
        }
      ]
    },
    {
      "cell_type": "code",
      "metadata": {
        "colab": {
          "base_uri": "https://localhost:8080/",
          "height": 241
        },
        "id": "j3FL44KLolmw",
        "outputId": "a040ed5c-88a6-4eb4-d4b7-f2b7df1eae7d"
      },
      "source": [
        "import matplotlib.pyplot as plt\n",
        "\n",
        "plt.figure(figsize=(10, 10))\n",
        "for images, labels in test_ds.take(1):\n",
        "  for i in range(3):\n",
        "    ax = plt.subplot(3, 3, i + 1)\n",
        "    plt.imshow(images[i].numpy().astype(\"uint8\"))\n",
        "    plt.title(class_names[labels[i]])\n",
        "plt.axis(\"off\")"
      ],
      "execution_count": 80,
      "outputs": [
        {
          "output_type": "execute_result",
          "data": {
            "text/plain": [
              "(-0.5, 255.5, 255.5, -0.5)"
            ]
          },
          "metadata": {
            "tags": []
          },
          "execution_count": 80
        },
        {
          "output_type": "display_data",
          "data": {
            "image/png": "[encoded data removed]",
            "text/plain": [
              "<Figure size 720x720 with 3 Axes>"
            ]
          },
          "metadata": {
            "tags": [],
            "needs_background": "light"
          }
        }
      ]
    },
    {
      "cell_type": "code",
      "metadata": {
        "id": "G0wZ9GuoowLD"
      },
      "source": [
        "# Y true 1                       #3                       #0\n",
        "# y pred 1                       #0                       #0\n",
        "#  'covid-19'.             'bacterial_pneumonia'.     'bacterial_pneumonia'"
      ],
      "execution_count": 47,
      "outputs": []
    },
    {
      "cell_type": "code",
      "metadata": {
        "colab": {
          "base_uri": "https://localhost:8080/",
          "height": 207
        },
        "id": "Kuql0qDupn0E",
        "outputId": "3f9cc668-6301-479f-a991-0ae5e6428077"
      },
      "source": [
        "import matplotlib.pyplot as plt\n",
        "\n",
        "plt.figure(figsize=(10, 10))\n",
        "for images, labels in normalized_test_ds.take(1):\n",
        "  for i in range(3):\n",
        "    ax = plt.subplot(3, 3, i + 1)\n",
        "    plt.imshow(images[i].numpy().astype(\"uint8\"))\n",
        "    plt.title(class_names[labels[i]])\n",
        "    plt.axis(\"off\")"
      ],
      "execution_count": 81,
      "outputs": [
        {
          "output_type": "display_data",
          "data": {
            "image/png": "[encoded data removed]",
            "text/plain": [
              "<Figure size 720x720 with 3 Axes>"
            ]
          },
          "metadata": {
            "tags": [],
            "needs_background": "light"
          }
        }
      ]
    },
    {
      "cell_type": "code",
      "metadata": {
        "id": "_kKCGLxWZ6ML"
      },
      "source": [
        "from sklearn.metrics import confusion_matrix"
      ],
      "execution_count": 82,
      "outputs": []
    },
    {
      "cell_type": "code",
      "metadata": {
        "id": "pUzxD34SZ1Qu"
      },
      "source": [
        "cm = confusion_matrix(y_true,y_pred, labels =)"
      ],
      "execution_count": 83,
      "outputs": []
    },
    {
      "cell_type": "code",
      "metadata": {
        "id": "WR3rocfAr_UX"
      },
      "source": [
        "from sklearn.metrics import plot_confusion_matrix\n",
        "from sklearn.metrics import classification_report, confusion_matrix\n",
        "import seaborn as sns"
      ],
      "execution_count": 84,
      "outputs": []
    },
    {
      "cell_type": "code",
      "metadata": {
        "id": "9-jJKewMZ3UV",
        "colab": {
          "base_uri": "https://localhost:8080/",
          "height": 282
        },
        "outputId": "17d1542b-5700-4353-ac82-5e4d4e6498d5"
      },
      "source": [
        "sns.heatmap(cm, annot=True)"
      ],
      "execution_count": 85,
      "outputs": [
        {
          "output_type": "execute_result",
          "data": {
            "text/plain": [
              "<matplotlib.axes._subplots.AxesSubplot at 0x7f4ab7d4fd50>"
            ]
          },
          "metadata": {
            "tags": []
          },
          "execution_count": 85
        },
        {
          "output_type": "display_data",
          "data": {
            "image/png": "[encoded data removed]",
            "text/plain": [
              "<Figure size 432x288 with 2 Axes>"
            ]
          },
          "metadata": {
            "tags": [],
            "needs_background": "light"
          }
        }
      ]
    },
    {
      "cell_type": "code",
      "metadata": {
        "id": "dE2mPal9Q9d9",
        "colab": {
          "base_uri": "https://localhost:8080/"
        },
        "outputId": "09cb041f-c4cc-4f1b-952b-01b5f67063c6"
      },
      "source": [
        "np.array_equal(y_true,y_pred)"
      ],
      "execution_count": 86,
      "outputs": [
        {
          "output_type": "execute_result",
          "data": {
            "text/plain": [
              "False"
            ]
          },
          "metadata": {
            "tags": []
          },
          "execution_count": 86
        }
      ]
    },
    {
      "cell_type": "code",
      "metadata": {
        "id": "xrMyaX07QxuO",
        "colab": {
          "base_uri": "https://localhost:8080/"
        },
        "outputId": "55d8f4a7-54dc-40fd-8e3a-14871a75c07c"
      },
      "source": [
        "np.not_equal(y_true,y_pred)"
      ],
      "execution_count": 87,
      "outputs": [
        {
          "output_type": "execute_result",
          "data": {
            "text/plain": [
              "array([ True, False,  True, ...,  True,  True,  True])"
            ]
          },
          "metadata": {
            "tags": []
          },
          "execution_count": 87
        }
      ]
    },
    {
      "cell_type": "code",
      "metadata": {
        "colab": {
          "base_uri": "https://localhost:8080/"
        },
        "id": "B5f7cLBxWuM5",
        "outputId": "00daa819-6f27-4ea9-914d-24377e2002d3"
      },
      "source": [
        "y_pred[1]"
      ],
      "execution_count": 88,
      "outputs": [
        {
          "output_type": "execute_result",
          "data": {
            "text/plain": [
              "0"
            ]
          },
          "metadata": {
            "tags": []
          },
          "execution_count": 88
        }
      ]
    },
    {
      "cell_type": "code",
      "metadata": {
        "colab": {
          "base_uri": "https://localhost:8080/"
        },
        "id": "USDwUS1XW7B0",
        "outputId": "f5332a8c-d6ed-48fd-81ae-d10413efb0c3"
      },
      "source": [
        "y_true[1]"
      ],
      "execution_count": 89,
      "outputs": [
        {
          "output_type": "execute_result",
          "data": {
            "text/plain": [
              "0"
            ]
          },
          "metadata": {
            "tags": []
          },
          "execution_count": 89
        }
      ]
    },
    {
      "cell_type": "code",
      "metadata": {
        "id": "TctxDjV7W9p8"
      },
      "source": [
        " from sklearn.metrics import classification_report"
      ],
      "execution_count": 90,
      "outputs": []
    },
    {
      "cell_type": "code",
      "metadata": {
        "colab": {
          "base_uri": "https://localhost:8080/"
        },
        "id": "EgmEVrYx-WR-",
        "outputId": "9fd0f159-25b5-4be1-e517-406addb63766"
      },
      "source": [
        "target_names =['bacterial_pneumonia', 'covid-19', 'normal', 'viral_pneumonia']\n",
        "print(classification_report(y_true, y_pred, target_names=target_names))"
      ],
      "execution_count": 91,
      "outputs": [
        {
          "output_type": "stream",
          "text": [
            "                     precision    recall  f1-score   support\n",
            "\n",
            "bacterial_pneumonia       0.42      0.40      0.41       444\n",
            "           covid-19       0.16      0.18      0.17       154\n",
            "             normal       0.24      0.26      0.25       231\n",
            "    viral_pneumonia       0.21      0.18      0.19       248\n",
            "\n",
            "           accuracy                           0.29      1077\n",
            "          macro avg       0.26      0.26      0.26      1077\n",
            "       weighted avg       0.29      0.29      0.29      1077\n",
            "\n"
          ],
          "name": "stdout"
        }
      ]
    }
  ]
}