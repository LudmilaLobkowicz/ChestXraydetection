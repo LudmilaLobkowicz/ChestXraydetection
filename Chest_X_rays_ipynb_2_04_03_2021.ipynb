{
  "nbformat": 4,
  "nbformat_minor": 0,
  "metadata": {
    "colab": {
      "name": "Chest_X_rays_ipynb_2_04_03_2021.ipynb",
      "provenance": [],
      "collapsed_sections": []
    },
    "kernelspec": {
      "display_name": "Python 3",
      "language": "python",
      "name": "python3"
    },
    "language_info": {
      "codemirror_mode": {
        "name": "ipython",
        "version": 3
      },
      "file_extension": ".py",
      "mimetype": "text/x-python",
      "name": "python",
      "nbconvert_exporter": "python",
      "pygments_lexer": "ipython3",
      "version": "3.8.6"
    },
    "toc": {
      "base_numbering": 1,
      "nav_menu": {},
      "number_sections": true,
      "sideBar": true,
      "skip_h1_title": false,
      "title_cell": "Table of Contents",
      "title_sidebar": "Contents",
      "toc_cell": false,
      "toc_position": {},
      "toc_section_display": true,
      "toc_window_display": false
    },
    "accelerator": "GPU"
  },
  "cells": [
    {
      "cell_type": "markdown",
      "metadata": {
        "id": "-C5WmpZBRl7F"
      },
      "source": [
        "# X-ray challenge"
      ]
    },
    {
      "cell_type": "code",
      "metadata": {
        "colab": {
          "base_uri": "https://localhost:8080/"
        },
        "id": "aUp_4Rek728C",
        "outputId": "e5cdd8bf-cd1a-46f3-da95-0afb2c1c4c1c"
      },
      "source": [
        "from google.colab import drive\n",
        "drive.mount('/content/drive')"
      ],
      "execution_count": null,
      "outputs": [
        {
          "output_type": "stream",
          "text": [
            "Drive already mounted at /content/drive; to attempt to forcibly remount, call drive.mount(\"/content/drive\", force_remount=True).\n"
          ],
          "name": "stdout"
        }
      ]
    },
    {
      "cell_type": "code",
      "metadata": {
        "colab": {
          "base_uri": "https://localhost:8080/"
        },
        "id": "iarICb7msMwo",
        "outputId": "c754db3d-9e4c-4b09-9f0c-cdbd7be8c022"
      },
      "source": [
        "%cd ./drive/MyDrive/raw_data\n"
      ],
      "execution_count": null,
      "outputs": [
        {
          "output_type": "stream",
          "text": [
            "/content/drive/MyDrive/raw_data\n"
          ],
          "name": "stdout"
        }
      ]
    },
    {
      "cell_type": "code",
      "metadata": {
        "colab": {
          "base_uri": "https://localhost:8080/"
        },
        "id": "rxKOj1-csY4R",
        "outputId": "48f5c65a-78ff-486b-b460-170ef1013459"
      },
      "source": [
        "%ls\n"
      ],
      "execution_count": null,
      "outputs": [
        {
          "output_type": "stream",
          "text": [
            "\u001b[0m\u001b[01;34mbacterial_pneumonia\u001b[0m/  \u001b[01;34mcovid-19\u001b[0m/  \u001b[01;34mnormal\u001b[0m/  \u001b[01;34mviral_pneumonia\u001b[0m/\n"
          ],
          "name": "stdout"
        }
      ]
    },
    {
      "cell_type": "code",
      "metadata": {
        "id": "WvcxiALQdOML"
      },
      "source": [
        "import numpy as np\n",
        "import os\n",
        "import PIL\n",
        "import PIL.Image\n",
        "import tensorflow as tf\n",
        "import tensorflow_datasets as tfds\n",
        "from matplotlib.pyplot import imread\n",
        "import pathlib"
      ],
      "execution_count": null,
      "outputs": []
    },
    {
      "cell_type": "code",
      "metadata": {
        "colab": {
          "base_uri": "https://localhost:8080/"
        },
        "id": "DF3ML0Kd1N9n",
        "outputId": "1967eadb-cc03-4cdd-bdf1-619312d5f6c5"
      },
      "source": [
        "print(tf.__version__)"
      ],
      "execution_count": null,
      "outputs": [
        {
          "output_type": "stream",
          "text": [
            "2.4.1\n"
          ],
          "name": "stdout"
        }
      ]
    },
    {
      "cell_type": "code",
      "metadata": {
        "id": "XLxqQIcrT1JD"
      },
      "source": [
        "dataset_path = \"/content/drive/MyDrive/trainset\""
      ],
      "execution_count": null,
      "outputs": []
    },
    {
      "cell_type": "code",
      "metadata": {
        "colab": {
          "base_uri": "https://localhost:8080/"
        },
        "id": "c2d_dQen1SVN",
        "outputId": "9910fa89-3f5a-4f5a-c270-f33a83ca88c7"
      },
      "source": [
        "train_ds = tf.keras.preprocessing.image_dataset_from_directory(\n",
        "  dataset_path,\n",
        "  validation_split=0.2,\n",
        "  subset=\"training\",\n",
        "  seed=123,\n",
        "  image_size=(256, 256), \n",
        "  batch_size=32)"
      ],
      "execution_count": null,
      "outputs": [
        {
          "output_type": "stream",
          "text": [
            "Found 5316 files belonging to 4 classes.\n",
            "Using 4253 files for training.\n"
          ],
          "name": "stdout"
        }
      ]
    },
    {
      "cell_type": "code",
      "metadata": {
        "id": "03k-PAbWMbUY",
        "colab": {
          "base_uri": "https://localhost:8080/"
        },
        "outputId": "f4b27b86-aefc-4e6e-eb77-e6c7063467b2"
      },
      "source": [
        "train_ds"
      ],
      "execution_count": null,
      "outputs": [
        {
          "output_type": "execute_result",
          "data": {
            "text/plain": [
              "<BatchDataset shapes: ((None, 256, 256, 3), (None,)), types: (tf.float32, tf.int32)>"
            ]
          },
          "metadata": {
            "tags": []
          },
          "execution_count": 8
        }
      ]
    },
    {
      "cell_type": "code",
      "metadata": {
        "id": "Tr1cgl1Qrr8l",
        "colab": {
          "base_uri": "https://localhost:8080/"
        },
        "outputId": "dd1b3e37-4bf9-4d7c-940e-d838695eede2"
      },
      "source": [
        "val_ds = tf.keras.preprocessing.image_dataset_from_directory(\n",
        "  dataset_path,\n",
        "  validation_split=0.2,\n",
        "  subset=\"validation\",\n",
        "  seed=123,\n",
        "  image_size=(256, 256),\n",
        "  batch_size=32)"
      ],
      "execution_count": null,
      "outputs": [
        {
          "output_type": "stream",
          "text": [
            "Found 5316 files belonging to 4 classes.\n",
            "Using 1063 files for validation.\n"
          ],
          "name": "stdout"
        }
      ]
    },
    {
      "cell_type": "code",
      "metadata": {
        "id": "KkuW-GN6S4Aq",
        "colab": {
          "base_uri": "https://localhost:8080/"
        },
        "outputId": "766209e2-d7d4-465e-c47c-bc1b84c7eea7"
      },
      "source": [
        "val_ds"
      ],
      "execution_count": null,
      "outputs": [
        {
          "output_type": "execute_result",
          "data": {
            "text/plain": [
              "<BatchDataset shapes: ((None, 256, 256, 3), (None,)), types: (tf.float32, tf.int32)>"
            ]
          },
          "metadata": {
            "tags": []
          },
          "execution_count": 10
        }
      ]
    },
    {
      "cell_type": "code",
      "metadata": {
        "id": "FA6312cPti73",
        "colab": {
          "base_uri": "https://localhost:8080/"
        },
        "outputId": "b6eef5e2-f1de-4cb8-f569-c2efc9eade8f"
      },
      "source": [
        "class_names = train_ds.class_names\n",
        "print(class_names)"
      ],
      "execution_count": null,
      "outputs": [
        {
          "output_type": "stream",
          "text": [
            "['bacterial_pneumonia', 'covid-19', 'normal', 'viral_pneumonia']\n"
          ],
          "name": "stdout"
        }
      ]
    },
    {
      "cell_type": "code",
      "metadata": {
        "id": "qnLxnmsy6EQk",
        "colab": {
          "base_uri": "https://localhost:8080/"
        },
        "outputId": "bf99ea15-1683-491c-8af4-2973c2069b52"
      },
      "source": [
        "for image_batch, labels_batch in train_ds:\n",
        "  print(image_batch.shape)\n",
        "  print(labels_batch.shape)\n",
        "  break\n"
      ],
      "execution_count": null,
      "outputs": [
        {
          "output_type": "stream",
          "text": [
            "(32, 256, 256, 3)\n",
            "(32,)\n"
          ],
          "name": "stdout"
        }
      ]
    },
    {
      "cell_type": "code",
      "metadata": {
        "id": "pPV6ZC4K6Mj8"
      },
      "source": [
        "from tensorflow.keras import layers\n",
        "\n",
        "normalization_layer = tf.keras.layers.experimental.preprocessing.Rescaling(1./255)"
      ],
      "execution_count": null,
      "outputs": []
    },
    {
      "cell_type": "code",
      "metadata": {
        "colab": {
          "base_uri": "https://localhost:8080/"
        },
        "id": "tUCQiTt0klDf",
        "outputId": "66c66c43-d2f5-4df4-cca4-508d8bda7d85"
      },
      "source": [
        "#from tensorflow.keras.applications.vgg16 import preprocess_input\n",
        "\n",
        "#prepos_train_ds = train_ds.map(lambda x, y: (preprocess_input(x), y))\n",
        "#image_batch, labels_batch = next(iter(prepos_train_ds))\n",
        "#first_image = image_batch[0]\n",
        "# Notice the pixels values are now in `[0,1]`.\n",
        "#print(np.min(first_image), np.max(first_image)) \n"
      ],
      "execution_count": null,
      "outputs": [
        {
          "output_type": "stream",
          "text": [
            "-123.68 150.54538\n"
          ],
          "name": "stdout"
        }
      ]
    },
    {
      "cell_type": "code",
      "metadata": {
        "id": "IdROctVz666U",
        "colab": {
          "base_uri": "https://localhost:8080/"
        },
        "outputId": "35e2771b-3190-48c7-966c-c143f3be6d42"
      },
      "source": [
        "normalized_train_ds = train_ds.map(lambda x, y: (normalization_layer(x), y))\n",
        "image_batch, labels_batch = next(iter(normalized_train_ds))\n",
        "first_image = image_batch[0]\n",
        "# Notice the pixels values are now in `[0,1]`.\n",
        "print(np.min(first_image), np.max(first_image)) \n"
      ],
      "execution_count": null,
      "outputs": [
        {
          "output_type": "stream",
          "text": [
            "5.1700372e-05 1.0\n"
          ],
          "name": "stdout"
        }
      ]
    },
    {
      "cell_type": "code",
      "metadata": {
        "id": "mbtVe_kVaHEF",
        "colab": {
          "base_uri": "https://localhost:8080/"
        },
        "outputId": "67fecbc5-1084-4ccd-fcb1-41d0a287c20e"
      },
      "source": [
        "normalized_train_ds"
      ],
      "execution_count": null,
      "outputs": [
        {
          "output_type": "execute_result",
          "data": {
            "text/plain": [
              "<MapDataset shapes: ((None, 256, 256, 3), (None,)), types: (tf.float32, tf.int32)>"
            ]
          },
          "metadata": {
            "tags": []
          },
          "execution_count": 15
        }
      ]
    },
    {
      "cell_type": "code",
      "metadata": {
        "id": "M0ueiRUOaNRm",
        "colab": {
          "base_uri": "https://localhost:8080/"
        },
        "outputId": "bf812d0e-53f7-4a75-a506-714926514e97"
      },
      "source": [
        "normalized_val_ds = val_ds.map(lambda x, y: (normalization_layer(x), y))\n",
        "image_batch_val, labels_batch_val = next(iter(normalized_val_ds))\n",
        "first_image_val = image_batch_val[0]\n",
        "# Notice the pixels values are now in `[0,1]`.\n",
        "print(np.min(first_image_val), np.max(first_image_val)) "
      ],
      "execution_count": null,
      "outputs": [
        {
          "output_type": "stream",
          "text": [
            "0.0032571233 1.0\n"
          ],
          "name": "stdout"
        }
      ]
    },
    {
      "cell_type": "code",
      "metadata": {
        "id": "fE6_OmBFFZil"
      },
      "source": [
        "#AUTOTUNE = tf.data.AUTOTUNE\n",
        "\n",
        "#train_ds = train_ds.cache().prefetch(buffer_size=AUTOTUNE)\n",
        "#val_ds = val_ds.cache().prefetch(buffer_size=AUTOTUNE)"
      ],
      "execution_count": null,
      "outputs": []
    },
    {
      "cell_type": "code",
      "metadata": {
        "id": "FMXu5gYxki3Z"
      },
      "source": [
        "from tensorflow.keras import models\n",
        "from tensorflow.keras import layers \n",
        "\n",
        "\n",
        "def initialize_model():\n",
        "    model = models.Sequential()\n",
        "    model.add(layers.Conv2D(32, (3, 3), padding='same', input_shape=(256, 256, 3), activation='relu'))\n",
        "    model.add(layers.MaxPooling2D(pool_size=(2, 2)))\n",
        "\n",
        "    model.add(layers.Conv2D(64, (2, 2), padding='same', activation='relu'))\n",
        "    model.add(layers.MaxPooling2D(pool_size=(2, 2)))\n",
        "    \n",
        "    model.add(layers.Conv2D(128, (3, 3), padding='same', activation='relu'))\n",
        "    model.add(layers.MaxPooling2D(pool_size=(3, 3)))\n",
        "\n",
        "    model.add(layers.Flatten())\n",
        "    model.add(layers.Dense(120, activation='relu'))\n",
        "    model.add(layers.Dense(60, activation='relu'))\n",
        "    model.add(layers.Dropout(0.5))\n",
        "    model.add(layers.Dense(4, activation='softmax'))\n",
        "    \n",
        "    return model"
      ],
      "execution_count": null,
      "outputs": []
    },
    {
      "cell_type": "code",
      "metadata": {
        "colab": {
          "base_uri": "https://localhost:8080/"
        },
        "id": "xlr0g3i5km--",
        "outputId": "2aabca53-3a27-4e92-a8e3-47977c1985d9"
      },
      "source": [
        "model = initialize_model()\n",
        "\n",
        "model.summary()"
      ],
      "execution_count": null,
      "outputs": [
        {
          "output_type": "stream",
          "text": [
            "Model: \"sequential_1\"\n",
            "_________________________________________________________________\n",
            "Layer (type)                 Output Shape              Param #   \n",
            "=================================================================\n",
            "conv2d_3 (Conv2D)            (None, 256, 256, 32)      896       \n",
            "_________________________________________________________________\n",
            "max_pooling2d_3 (MaxPooling2 (None, 128, 128, 32)      0         \n",
            "_________________________________________________________________\n",
            "conv2d_4 (Conv2D)            (None, 128, 128, 64)      8256      \n",
            "_________________________________________________________________\n",
            "max_pooling2d_4 (MaxPooling2 (None, 64, 64, 64)        0         \n",
            "_________________________________________________________________\n",
            "conv2d_5 (Conv2D)            (None, 64, 64, 128)       73856     \n",
            "_________________________________________________________________\n",
            "max_pooling2d_5 (MaxPooling2 (None, 21, 21, 128)       0         \n",
            "_________________________________________________________________\n",
            "flatten_1 (Flatten)          (None, 56448)             0         \n",
            "_________________________________________________________________\n",
            "dense_3 (Dense)              (None, 120)               6773880   \n",
            "_________________________________________________________________\n",
            "dense_4 (Dense)              (None, 60)                7260      \n",
            "_________________________________________________________________\n",
            "dropout_1 (Dropout)          (None, 60)                0         \n",
            "_________________________________________________________________\n",
            "dense_5 (Dense)              (None, 4)                 244       \n",
            "=================================================================\n",
            "Total params: 6,864,392\n",
            "Trainable params: 6,864,392\n",
            "Non-trainable params: 0\n",
            "_________________________________________________________________\n"
          ],
          "name": "stdout"
        }
      ]
    },
    {
      "cell_type": "code",
      "metadata": {
        "id": "t-DCxquLkrc-"
      },
      "source": [
        "from tensorflow.keras import optimizers\n",
        "\n",
        "def compile_model(model):\n",
        "    model.compile(loss=tf.losses.SparseCategoricalCrossentropy(from_logits=True),\n",
        "                  optimizer='adam',\n",
        "                  metrics=['accuracy','precision','F1'])\n",
        "    return model"
      ],
      "execution_count": null,
      "outputs": []
    },
    {
      "cell_type": "code",
      "metadata": {
        "id": "0B-TrMfBVxPL"
      },
      "source": [
        "from tensorflow.keras.callbacks import EarlyStopping\n",
        "es = EarlyStopping(patience=5, restore_best_weights=True)"
      ],
      "execution_count": null,
      "outputs": []
    },
    {
      "cell_type": "code",
      "metadata": {
        "id": "fEIZq1yplCHa"
      },
      "source": [
        "model = compile_model(model)"
      ],
      "execution_count": null,
      "outputs": []
    },
    {
      "cell_type": "code",
      "metadata": {
        "colab": {
          "base_uri": "https://localhost:8080/"
        },
        "id": "W7QEj_B0XAx0",
        "outputId": "674592a3-9459-45b7-da08-6963fce4a9ad"
      },
      "source": [
        "history = model.fit(normalized_train_ds,\n",
        "          batch_size=32,\n",
        "          epochs=100, validation_data=normalized_val_ds, callbacks=[es])"
      ],
      "execution_count": null,
      "outputs": [
        {
          "output_type": "stream",
          "text": [
            "Epoch 1/100\n",
            "133/133 [==============================] - 1295s 10s/step - loss: 1.1017 - accuracy: 0.5238 - val_loss: 0.5388 - val_accuracy: 0.7808\n",
            "Epoch 2/100\n",
            "133/133 [==============================] - 59s 429ms/step - loss: 0.5674 - accuracy: 0.7571 - val_loss: 0.5854 - val_accuracy: 0.7752\n",
            "Epoch 3/100\n",
            "133/133 [==============================] - 59s 425ms/step - loss: 0.5113 - accuracy: 0.7847 - val_loss: 0.5626 - val_accuracy: 0.7686\n",
            "Epoch 4/100\n",
            "133/133 [==============================] - 58s 423ms/step - loss: 0.4770 - accuracy: 0.7998 - val_loss: 0.5125 - val_accuracy: 0.8053\n",
            "Epoch 5/100\n",
            "133/133 [==============================] - 59s 426ms/step - loss: 0.4206 - accuracy: 0.8127 - val_loss: 0.5715 - val_accuracy: 0.7808\n",
            "Epoch 6/100\n",
            "133/133 [==============================] - 59s 425ms/step - loss: 0.3956 - accuracy: 0.8399 - val_loss: 0.5442 - val_accuracy: 0.7968\n",
            "Epoch 7/100\n",
            "133/133 [==============================] - 59s 429ms/step - loss: 0.3563 - accuracy: 0.8417 - val_loss: 0.5859 - val_accuracy: 0.7949\n",
            "Epoch 8/100\n",
            "133/133 [==============================] - 59s 426ms/step - loss: 0.3441 - accuracy: 0.8548 - val_loss: 0.6027 - val_accuracy: 0.7921\n",
            "Epoch 9/100\n",
            "133/133 [==============================] - 58s 424ms/step - loss: 0.3155 - accuracy: 0.8583 - val_loss: 0.7513 - val_accuracy: 0.7846\n"
          ],
          "name": "stdout"
        }
      ]
    },
    {
      "cell_type": "code",
      "metadata": {
        "id": "hcZsSx4EN8HR"
      },
      "source": [
        "def plot_history(history, title='', axs=None, exp_name=\"\"):\n",
        "    if axs is not None:\n",
        "        ax1, ax2 = axs\n",
        "    else:\n",
        "        f, (ax1, ax2) = plt.subplots(1, 2, figsize=(12, 4))\n",
        "    \n",
        "    if len(exp_name) > 0 and exp_name[0] != '_':\n",
        "        exp_name = '_' + exp_name\n",
        "    ax1.plot(history.history['loss'], label='train' + exp_name)\n",
        "    ax1.plot(history.history['val_loss'], label='val' + exp_name)\n",
        "    ax1.set_ylim(0., 2.2)\n",
        "    ax1.set_title('loss')\n",
        "    ax1.legend()\n",
        "\n",
        "    ax2.plot(history.history['accuracy'], label='train accuracy'  + exp_name)\n",
        "    ax2.plot(history.history['val_accuracy'], label='val accuracy'  + exp_name)\n",
        "    ax2.set_ylim(0.25, 1.)\n",
        "    ax2.set_title('Accuracy')\n",
        "    ax2.legend()\n",
        "    return (ax1, ax2)"
      ],
      "execution_count": null,
      "outputs": []
    },
    {
      "cell_type": "code",
      "metadata": {
        "id": "PuEOTfSbtxxd"
      },
      "source": [
        "import matplotlib.pyplot as plt"
      ],
      "execution_count": null,
      "outputs": []
    },
    {
      "cell_type": "code",
      "metadata": {
        "id": "RVxc0PgnN-9R",
        "colab": {
          "base_uri": "https://localhost:8080/",
          "height": 281
        },
        "outputId": "a8a9ab61-2ce3-417e-904a-42a7df009516"
      },
      "source": [
        "plot_history(history)\n",
        "plt.show()"
      ],
      "execution_count": null,
      "outputs": [
        {
          "output_type": "display_data",
          "data": {
            "image/png": "[encoded data removed]",
            "text/plain": [
              "<Figure size 864x288 with 2 Axes>"
            ]
          },
          "metadata": {
            "tags": [],
            "needs_background": "light"
          }
        }
      ]
    },
    {
      "cell_type": "code",
      "metadata": {
        "id": "in5ykHu0R48C",
        "colab": {
          "base_uri": "https://localhost:8080/",
          "height": 198
        },
        "outputId": "8214668c-d639-4276-f05f-4497d6726c34"
      },
      "source": [
        "from tensorflow.keras import models\n",
        "\n",
        "# Let's say that you have a `model`\n",
        "# You can save it :\n",
        "models.save_model(model, '/content/drive/MyDrive/models/my_model')"
      ],
      "execution_count": null,
      "outputs": [
        {
          "output_type": "error",
          "ename": "NameError",
          "evalue": "ignored",
          "traceback": [
            "\u001b[0;31m---------------------------------------------------------------------------\u001b[0m",
            "\u001b[0;31mNameError\u001b[0m                                 Traceback (most recent call last)",
            "\u001b[0;32m<ipython-input-5-0d3652920074>\u001b[0m in \u001b[0;36m<module>\u001b[0;34m()\u001b[0m\n\u001b[1;32m      3\u001b[0m \u001b[0;31m# Let's say that you have a `model`\u001b[0m\u001b[0;34m\u001b[0m\u001b[0;34m\u001b[0m\u001b[0;34m\u001b[0m\u001b[0m\n\u001b[1;32m      4\u001b[0m \u001b[0;31m# You can save it :\u001b[0m\u001b[0;34m\u001b[0m\u001b[0;34m\u001b[0m\u001b[0;34m\u001b[0m\u001b[0m\n\u001b[0;32m----> 5\u001b[0;31m \u001b[0mmodels\u001b[0m\u001b[0;34m.\u001b[0m\u001b[0msave_model\u001b[0m\u001b[0;34m(\u001b[0m\u001b[0mmodel\u001b[0m\u001b[0;34m,\u001b[0m \u001b[0;34m'/content/drive/MyDrive/models/my_model'\u001b[0m\u001b[0;34m)\u001b[0m\u001b[0;34m\u001b[0m\u001b[0;34m\u001b[0m\u001b[0m\n\u001b[0m",
            "\u001b[0;31mNameError\u001b[0m: name 'model' is not defined"
          ]
        }
      ]
    },
    {
      "cell_type": "code",
      "metadata": {
        "id": "Nkoh1GI5YttW"
      },
      "source": [
        "from tensorflow.keras import models\n",
        "loaded_model = models.load_model('/content/drive/MyDrive/models/my_model')"
      ],
      "execution_count": null,
      "outputs": []
    },
    {
      "cell_type": "code",
      "metadata": {
        "colab": {
          "base_uri": "https://localhost:8080/"
        },
        "id": "G23BN-wvOCSw",
        "outputId": "df661cb7-ab37-4cb4-c1d7-139eacbe65ee"
      },
      "source": [
        "loaded_model"
      ],
      "execution_count": null,
      "outputs": [
        {
          "output_type": "execute_result",
          "data": {
            "text/plain": [
              "<tensorflow.python.keras.engine.sequential.Sequential at 0x7efd4df8d990>"
            ]
          },
          "metadata": {
            "tags": []
          },
          "execution_count": 18
        }
      ]
    },
    {
      "cell_type": "code",
      "metadata": {
        "id": "vS42rEW5ON3g"
      },
      "source": [
        "dataset_path_test =\"/content/drive/MyDrive/testset\""
      ],
      "execution_count": null,
      "outputs": []
    },
    {
      "cell_type": "code",
      "metadata": {
        "colab": {
          "base_uri": "https://localhost:8080/"
        },
        "id": "9QMNICwxOKSz",
        "outputId": "cafd5e1d-bdb0-4e9b-c387-160cff49b2be"
      },
      "source": [
        "test_ds = tf.keras.preprocessing.image_dataset_from_directory(\n",
        "  dataset_path_test,\n",
        "  validation_split=0.2,\n",
        "  subset=\"training\",\n",
        "  seed=123,\n",
        "  image_size=(256, 256), \n",
        "  batch_size=32)"
      ],
      "execution_count": null,
      "outputs": [
        {
          "output_type": "stream",
          "text": [
            "Found 1346 files belonging to 4 classes.\n",
            "Using 1077 files for training.\n"
          ],
          "name": "stdout"
        }
      ]
    },
    {
      "cell_type": "code",
      "metadata": {
        "colab": {
          "base_uri": "https://localhost:8080/"
        },
        "id": "z4e3thjElxu3",
        "outputId": "9b46dc8c-0895-4d56-b3cc-1c6dd11f2404"
      },
      "source": [
        "normalized_test_ds = test_ds.map(lambda x, y: (normalization_layer(x), y))\n",
        "image_batch_test, labels_batch_test = next(iter(normalized_test_ds))\n",
        "first_image_test = image_batch_test[0]\n",
        "# Notice the pixels values are now in `[0,1]`.\n",
        "print(np.min(first_image_test), np.max(first_image_test)) "
      ],
      "execution_count": null,
      "outputs": [
        {
          "output_type": "stream",
          "text": [
            "0.0 1.0\n"
          ],
          "name": "stdout"
        }
      ]
    },
    {
      "cell_type": "code",
      "metadata": {
        "id": "wY8oTWwLRQud",
        "colab": {
          "base_uri": "https://localhost:8080/"
        },
        "outputId": "3ba93192-47eb-461d-ce5e-bd80ed67c008"
      },
      "source": [
        "loaded_model.evaluate(normalized_test_ds, verbose=1)\n",
        "\n"
      ],
      "execution_count": null,
      "outputs": [
        {
          "output_type": "stream",
          "text": [
            "34/34 [==============================] - 11s 206ms/step - loss: 0.7251 - accuracy: 0.7122\n"
          ],
          "name": "stdout"
        },
        {
          "output_type": "execute_result",
          "data": {
            "text/plain": [
              "[0.7251237630844116, 0.7121633887290955]"
            ]
          },
          "metadata": {
            "tags": []
          },
          "execution_count": 22
        }
      ]
    },
    {
      "cell_type": "code",
      "metadata": {
        "id": "TXhSBlw3o77X"
      },
      "source": [
        "labels = []\n",
        "images = []\n",
        "for image, label in normalized_test_ds:\n",
        "  labels += list(np.array(label))\n",
        "  images += list(np.array(image))"
      ],
      "execution_count": null,
      "outputs": []
    },
    {
      "cell_type": "code",
      "metadata": {
        "colab": {
          "base_uri": "https://localhost:8080/"
        },
        "id": "uDhS7p54p7kq",
        "outputId": "7c37a7d3-4b28-47b2-b8d9-ef942774ba0f"
      },
      "source": [
        "np.array(labels).shape"
      ],
      "execution_count": null,
      "outputs": [
        {
          "output_type": "execute_result",
          "data": {
            "text/plain": [
              "(1077,)"
            ]
          },
          "metadata": {
            "tags": []
          },
          "execution_count": 92
        }
      ]
    },
    {
      "cell_type": "code",
      "metadata": {
        "id": "La-SyHI3GFQU"
      },
      "source": [
        "y_true = np.array(labels)"
      ],
      "execution_count": 102,
      "outputs": []
    },
    {
      "cell_type": "code",
      "metadata": {
        "id": "HccOXd2JVLwl"
      },
      "source": [
        ""
      ],
      "execution_count": null,
      "outputs": []
    },
    {
      "cell_type": "code",
      "metadata": {
        "colab": {
          "base_uri": "https://localhost:8080/"
        },
        "id": "zpdki_oKZkrI",
        "outputId": "22f50e34-12a9-4ac2-a567-2f67323ed27f"
      },
      "source": [
        "predictions = loaded_model.predict_generator(normalized_test_ds)"
      ],
      "execution_count": null,
      "outputs": [
        {
          "output_type": "stream",
          "text": [
            "/usr/local/lib/python3.7/dist-packages/tensorflow/python/keras/engine/training.py:1905: UserWarning: `Model.predict_generator` is deprecated and will be removed in a future version. Please use `Model.predict`, which supports generators.\n",
            "  warnings.warn('`Model.predict_generator` is deprecated and '\n"
          ],
          "name": "stderr"
        }
      ]
    },
    {
      "cell_type": "code",
      "metadata": {
        "id": "TQyKN4VyZzbb"
      },
      "source": [
        "y_pred = np.array([np.argmax(x) for x in predictions])"
      ],
      "execution_count": 100,
      "outputs": []
    },
    {
      "cell_type": "code",
      "metadata": {
        "colab": {
          "base_uri": "https://localhost:8080/"
        },
        "id": "_RuTAidtFpOo",
        "outputId": "e7f6f36d-dfa5-4756-b367-8130520f2fe1"
      },
      "source": [
        "y_pred"
      ],
      "execution_count": 101,
      "outputs": [
        {
          "output_type": "execute_result",
          "data": {
            "text/plain": [
              "array([2, 0, 0, ..., 3, 0, 0])"
            ]
          },
          "metadata": {
            "tags": []
          },
          "execution_count": 101
        }
      ]
    },
    {
      "cell_type": "code",
      "metadata": {
        "id": "_kKCGLxWZ6ML"
      },
      "source": [
        "from sklearn.metrics import confusion_matrix"
      ],
      "execution_count": null,
      "outputs": []
    },
    {
      "cell_type": "code",
      "metadata": {
        "id": "pUzxD34SZ1Qu"
      },
      "source": [
        "cm = confusion_matrix(y_true,y_pred)"
      ],
      "execution_count": 103,
      "outputs": []
    },
    {
      "cell_type": "code",
      "metadata": {
        "id": "WR3rocfAr_UX"
      },
      "source": [
        "from sklearn.metrics import plot_confusion_matrix\n",
        "from sklearn.metrics import classification_report, confusion_matrix\n",
        "import seaborn as sns"
      ],
      "execution_count": 104,
      "outputs": []
    },
    {
      "cell_type": "code",
      "metadata": {
        "colab": {
          "base_uri": "https://localhost:8080/",
          "height": 377
        },
        "id": "9-jJKewMZ3UV",
        "outputId": "bd0f850f-13b2-4196-f228-727c595d5752"
      },
      "source": [
        "sns.heatmap(df_cm, annot=True)"
      ],
      "execution_count": 105,
      "outputs": [
        {
          "output_type": "execute_result",
          "data": {
            "text/plain": [
              "<matplotlib.axes._subplots.AxesSubplot at 0x7efb55cf5150>"
            ]
          },
          "metadata": {
            "tags": []
          },
          "execution_count": 105
        },
        {
          "output_type": "display_data",
          "data": {
            "image/png": "[encoded data removed]",
            "text/plain": [
              "<Figure size 432x288 with 2 Axes>"
            ]
          },
          "metadata": {
            "tags": [],
            "needs_background": "light"
          }
        }
      ]
    }
  ]
}