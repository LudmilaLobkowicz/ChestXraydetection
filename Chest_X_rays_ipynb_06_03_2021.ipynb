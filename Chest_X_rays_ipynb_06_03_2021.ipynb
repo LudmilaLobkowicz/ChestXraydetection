{
  "nbformat": 4,
  "nbformat_minor": 0,
  "metadata": {
    "accelerator": "GPU",
    "colab": {
      "name": "Chest_X_rays_ipynb_06_03_2021.ipynb",
      "provenance": [],
      "collapsed_sections": [],
      "toc_visible": true
    },
    "kernelspec": {
      "display_name": "Python 3",
      "language": "python",
      "name": "python3"
    },
    "language_info": {
      "codemirror_mode": {
        "name": "ipython",
        "version": 3
      },
      "file_extension": ".py",
      "mimetype": "text/x-python",
      "name": "python",
      "nbconvert_exporter": "python",
      "pygments_lexer": "ipython3",
      "version": "3.8.6"
    },
    "toc": {
      "base_numbering": 1,
      "nav_menu": {},
      "number_sections": true,
      "sideBar": true,
      "skip_h1_title": false,
      "title_cell": "Table of Contents",
      "title_sidebar": "Contents",
      "toc_cell": false,
      "toc_position": {},
      "toc_section_display": true,
      "toc_window_display": false
    },
    "varInspector": {
      "cols": {
        "lenName": 16,
        "lenType": 16,
        "lenVar": 40
      },
      "kernels_config": {
        "python": {
          "delete_cmd_postfix": "",
          "delete_cmd_prefix": "del ",
          "library": "var_list.py",
          "varRefreshCmd": "print(var_dic_list())"
        },
        "r": {
          "delete_cmd_postfix": ") ",
          "delete_cmd_prefix": "rm(",
          "library": "var_list.r",
          "varRefreshCmd": "cat(var_dic_list()) "
        }
      },
      "types_to_exclude": [
        "module",
        "function",
        "builtin_function_or_method",
        "instance",
        "_Feature"
      ],
      "window_display": false
    }
  },
  "cells": [
    {
      "cell_type": "markdown",
      "metadata": {
        "id": "-C5WmpZBRl7F"
      },
      "source": [
        "# X-ray challenge"
      ]
    },
    {
      "cell_type": "code",
      "metadata": {
        "colab": {
          "base_uri": "https://localhost:8080/"
        },
        "id": "aUp_4Rek728C",
        "outputId": "1cdb195c-31a7-4269-b539-0de48b3f88da"
      },
      "source": [
        "from google.colab import drive\n",
        "drive.mount('/content/drive')"
      ],
      "execution_count": 2,
      "outputs": [
        {
          "output_type": "stream",
          "text": [
            "Mounted at /content/drive\n"
          ],
          "name": "stdout"
        }
      ]
    },
    {
      "cell_type": "code",
      "metadata": {
        "colab": {
          "base_uri": "https://localhost:8080/"
        },
        "id": "iarICb7msMwo",
        "outputId": "b27bf9f4-c4bf-4ac8-e506-e50475c1b3cc"
      },
      "source": [
        "%cd ./drive/MyDrive/raw_data\n"
      ],
      "execution_count": 3,
      "outputs": [
        {
          "output_type": "stream",
          "text": [
            "/content/drive/MyDrive/raw_data\n"
          ],
          "name": "stdout"
        }
      ]
    },
    {
      "cell_type": "code",
      "metadata": {
        "colab": {
          "base_uri": "https://localhost:8080/"
        },
        "id": "rxKOj1-csY4R",
        "outputId": "f70ddd48-d67d-4f6d-9014-bcc5b6fb4096"
      },
      "source": [
        "%ls\n"
      ],
      "execution_count": 4,
      "outputs": [
        {
          "output_type": "stream",
          "text": [
            "\u001b[0m\u001b[01;34mbacterial_pneumonia\u001b[0m/  \u001b[01;34mcovid-19\u001b[0m/  \u001b[01;34mnormal\u001b[0m/  \u001b[01;34mviral_pneumonia\u001b[0m/\n"
          ],
          "name": "stdout"
        }
      ]
    },
    {
      "cell_type": "code",
      "metadata": {
        "id": "WvcxiALQdOML"
      },
      "source": [
        "import numpy as np\n",
        "import os\n",
        "import PIL\n",
        "import PIL.Image\n",
        "import tensorflow as tf\n",
        "import tensorflow_datasets as tfds\n",
        "from matplotlib.pyplot import imread\n",
        "import pathlib"
      ],
      "execution_count": 6,
      "outputs": []
    },
    {
      "cell_type": "code",
      "metadata": {
        "colab": {
          "base_uri": "https://localhost:8080/"
        },
        "id": "DF3ML0Kd1N9n",
        "outputId": "02dea2a3-c96f-462b-e34b-dde7f3632e0a"
      },
      "source": [
        "print(tf.__version__)"
      ],
      "execution_count": 5,
      "outputs": [
        {
          "output_type": "stream",
          "text": [
            "2.4.1\n"
          ],
          "name": "stdout"
        }
      ]
    },
    {
      "cell_type": "code",
      "metadata": {
        "id": "XLxqQIcrT1JD"
      },
      "source": [
        "dataset_path = \"/content/drive/MyDrive/trainset _balanced\""
      ],
      "execution_count": 6,
      "outputs": []
    },
    {
      "cell_type": "code",
      "metadata": {
        "colab": {
          "base_uri": "https://localhost:8080/"
        },
        "id": "c2d_dQen1SVN",
        "outputId": "977c6fcf-706d-4042-c0ca-e724d9e29d00"
      },
      "source": [
        "train_ds = tf.keras.preprocessing.image_dataset_from_directory(\n",
        "  dataset_path,\n",
        "  validation_split=0.2,\n",
        "  subset=\"training\",\n",
        "  seed=123,\n",
        "  image_size=(256, 256), \n",
        "  batch_size=32)"
      ],
      "execution_count": 7,
      "outputs": [
        {
          "output_type": "stream",
          "text": [
            "Found 3136 files belonging to 4 classes.\n",
            "Using 2509 files for training.\n"
          ],
          "name": "stdout"
        }
      ]
    },
    {
      "cell_type": "code",
      "metadata": {
        "colab": {
          "base_uri": "https://localhost:8080/"
        },
        "id": "03k-PAbWMbUY",
        "outputId": "b358db2e-a43f-415f-f1df-b3c94cd8e9ed"
      },
      "source": [
        "train_ds"
      ],
      "execution_count": 8,
      "outputs": [
        {
          "output_type": "execute_result",
          "data": {
            "text/plain": [
              "<BatchDataset shapes: ((None, 256, 256, 3), (None,)), types: (tf.float32, tf.int32)>"
            ]
          },
          "metadata": {
            "tags": []
          },
          "execution_count": 8
        }
      ]
    },
    {
      "cell_type": "code",
      "metadata": {
        "colab": {
          "base_uri": "https://localhost:8080/"
        },
        "id": "Tr1cgl1Qrr8l",
        "outputId": "72a5a9e7-0adb-45a1-e703-44de1b22f3ee"
      },
      "source": [
        "val_ds = tf.keras.preprocessing.image_dataset_from_directory(\n",
        "  dataset_path,\n",
        "  validation_split=0.2,\n",
        "  subset=\"validation\",\n",
        "  seed=123,\n",
        "  image_size=(256, 256),\n",
        "  batch_size=32)"
      ],
      "execution_count": 9,
      "outputs": [
        {
          "output_type": "stream",
          "text": [
            "Found 3136 files belonging to 4 classes.\n",
            "Using 627 files for validation.\n"
          ],
          "name": "stdout"
        }
      ]
    },
    {
      "cell_type": "code",
      "metadata": {
        "colab": {
          "base_uri": "https://localhost:8080/"
        },
        "id": "KkuW-GN6S4Aq",
        "outputId": "363879d6-6f25-4700-e4e5-7147009e6216"
      },
      "source": [
        "val_ds"
      ],
      "execution_count": 10,
      "outputs": [
        {
          "output_type": "execute_result",
          "data": {
            "text/plain": [
              "<BatchDataset shapes: ((None, 256, 256, 3), (None,)), types: (tf.float32, tf.int32)>"
            ]
          },
          "metadata": {
            "tags": []
          },
          "execution_count": 10
        }
      ]
    },
    {
      "cell_type": "code",
      "metadata": {
        "colab": {
          "base_uri": "https://localhost:8080/"
        },
        "id": "FA6312cPti73",
        "outputId": "4254a6f5-1814-4320-a83d-525d2eff31b5"
      },
      "source": [
        "class_names = train_ds.class_names\n",
        "print(class_names)"
      ],
      "execution_count": 11,
      "outputs": [
        {
          "output_type": "stream",
          "text": [
            "['bacterial_pneumonia', 'covid-19', 'normal', 'viral_pneumonia']\n"
          ],
          "name": "stdout"
        }
      ]
    },
    {
      "cell_type": "code",
      "metadata": {
        "colab": {
          "base_uri": "https://localhost:8080/"
        },
        "id": "qnLxnmsy6EQk",
        "outputId": "7d9a997f-7533-4196-f4a6-88d06bba6a2a"
      },
      "source": [
        "for image_batch, labels_batch in train_ds:\n",
        "  print(image_batch.shape)\n",
        "  print(labels_batch.shape)\n",
        "  break\n"
      ],
      "execution_count": 12,
      "outputs": [
        {
          "output_type": "stream",
          "text": [
            "(32, 256, 256, 3)\n",
            "(32,)\n"
          ],
          "name": "stdout"
        }
      ]
    },
    {
      "cell_type": "code",
      "metadata": {
        "id": "pPV6ZC4K6Mj8"
      },
      "source": [
        "from tensorflow.keras import layers\n",
        "\n",
        "normalization_layer = tf.keras.layers.experimental.preprocessing.Rescaling(1./255)"
      ],
      "execution_count": 7,
      "outputs": []
    },
    {
      "cell_type": "code",
      "metadata": {
        "id": "tUCQiTt0klDf"
      },
      "source": [
        "#from tensorflow.keras.applications.vgg16 import preprocess_input\n",
        "\n",
        "#prepos_train_ds = train_ds.map(lambda x, y: (preprocess_input(x), y))\n",
        "#image_batch, labels_batch = next(iter(prepos_train_ds))\n",
        "#first_image = image_batch[0]\n",
        "# Notice the pixels values are now in `[0,1]`.\n",
        "#print(np.min(first_image), np.max(first_image)) \n"
      ],
      "execution_count": null,
      "outputs": []
    },
    {
      "cell_type": "code",
      "metadata": {
        "colab": {
          "base_uri": "https://localhost:8080/"
        },
        "id": "IdROctVz666U",
        "outputId": "b13bb244-0d15-4d3e-e89a-ee0bdc7cb239"
      },
      "source": [
        "normalized_train_ds = train_ds.map(lambda x, y: (normalization_layer(x), y))\n",
        "image_batch, labels_batch = next(iter(normalized_train_ds))\n",
        "first_image = image_batch[0]\n",
        "# Notice the pixels values are now in `[0,1]`.\n",
        "print(np.min(first_image), np.max(first_image)) \n"
      ],
      "execution_count": 14,
      "outputs": [
        {
          "output_type": "stream",
          "text": [
            "0.0 0.89901817\n"
          ],
          "name": "stdout"
        }
      ]
    },
    {
      "cell_type": "code",
      "metadata": {
        "colab": {
          "base_uri": "https://localhost:8080/"
        },
        "id": "mbtVe_kVaHEF",
        "outputId": "e22dc6a6-20ff-4422-d501-6f37cd10b8b1"
      },
      "source": [
        "normalized_train_ds"
      ],
      "execution_count": 15,
      "outputs": [
        {
          "output_type": "execute_result",
          "data": {
            "text/plain": [
              "<MapDataset shapes: ((None, 256, 256, 3), (None,)), types: (tf.float32, tf.int32)>"
            ]
          },
          "metadata": {
            "tags": []
          },
          "execution_count": 15
        }
      ]
    },
    {
      "cell_type": "code",
      "metadata": {
        "colab": {
          "base_uri": "https://localhost:8080/"
        },
        "id": "M0ueiRUOaNRm",
        "outputId": "14d22721-cdd6-4a00-d2fd-957a5895d1dd"
      },
      "source": [
        "normalized_val_ds = val_ds.map(lambda x, y: (normalization_layer(x), y))\n",
        "image_batch_val, labels_batch_val = next(iter(normalized_val_ds))\n",
        "first_image_val = image_batch_val[0]\n",
        "# Notice the pixels values are now in `[0,1]`.\n",
        "print(np.min(first_image_val), np.max(first_image_val)) "
      ],
      "execution_count": 16,
      "outputs": [
        {
          "output_type": "stream",
          "text": [
            "0.0 0.99987084\n"
          ],
          "name": "stdout"
        }
      ]
    },
    {
      "cell_type": "code",
      "metadata": {
        "id": "fE6_OmBFFZil"
      },
      "source": [
        "#AUTOTUNE = tf.data.AUTOTUNE\n",
        "\n",
        "#train_ds = train_ds.cache().prefetch(buffer_size=AUTOTUNE)\n",
        "#val_ds = val_ds.cache().prefetch(buffer_size=AUTOTUNE)"
      ],
      "execution_count": null,
      "outputs": []
    },
    {
      "cell_type": "code",
      "metadata": {
        "id": "FMXu5gYxki3Z"
      },
      "source": [
        "from tensorflow.keras import models\n",
        "from tensorflow.keras import layers \n",
        "\n",
        "num_classes = 4\n",
        "\n",
        "model = tf.keras.Sequential([\n",
        "  layers.Conv2D(32, 3, activation='relu'),\n",
        "  layers.MaxPooling2D(),\n",
        "  layers.Conv2D(32, 3, activation='relu'),\n",
        "  layers.MaxPooling2D(),\n",
        "  layers.Conv2D(32, 3, activation='relu'),\n",
        "  layers.MaxPooling2D(),\n",
        "  layers.Flatten(),\n",
        "  layers.Dense(128, activation='relu'),\n",
        "  layers.Dense(num_classes)\n",
        "])"
      ],
      "execution_count": 17,
      "outputs": []
    },
    {
      "cell_type": "code",
      "metadata": {
        "id": "-TZK2kw0T5G5"
      },
      "source": [
        "from tensorflow.keras import optimizers\n",
        "\n",
        "def compile_model(model):\n",
        "    model.compile(loss=tf.losses.SparseCategoricalCrossentropy(from_logits=True),\n",
        "                  optimizer='adam',\n",
        "                  metrics=['accuracy'])\n",
        "    return model"
      ],
      "execution_count": 18,
      "outputs": []
    },
    {
      "cell_type": "code",
      "metadata": {
        "id": "0B-TrMfBVxPL"
      },
      "source": [
        "from tensorflow.keras.callbacks import EarlyStopping\n",
        "es = EarlyStopping(patience=5, restore_best_weights=True)"
      ],
      "execution_count": 19,
      "outputs": []
    },
    {
      "cell_type": "code",
      "metadata": {
        "id": "fEIZq1yplCHa"
      },
      "source": [
        "model = compile_model(model)"
      ],
      "execution_count": 20,
      "outputs": []
    },
    {
      "cell_type": "code",
      "metadata": {
        "colab": {
          "base_uri": "https://localhost:8080/"
        },
        "id": "W7QEj_B0XAx0",
        "outputId": "f82fee21-41df-4877-9ebc-87824a8538f4"
      },
      "source": [
        "history = model.fit(normalized_train_ds,\n",
        "         batch_size=32,\n",
        "         epochs=100, validation_data=normalized_val_ds, callbacks=[es])"
      ],
      "execution_count": 21,
      "outputs": [
        {
          "output_type": "stream",
          "text": [
            "Epoch 1/100\n",
            "79/79 [==============================] - 576s 7s/step - loss: 1.1959 - accuracy: 0.5323 - val_loss: 0.4973 - val_accuracy: 0.8038\n",
            "Epoch 2/100\n",
            "79/79 [==============================] - 36s 430ms/step - loss: 0.4047 - accuracy: 0.8447 - val_loss: 0.5389 - val_accuracy: 0.7927\n",
            "Epoch 3/100\n",
            "79/79 [==============================] - 36s 431ms/step - loss: 0.3749 - accuracy: 0.8632 - val_loss: 0.4669 - val_accuracy: 0.7959\n",
            "Epoch 4/100\n",
            "79/79 [==============================] - 36s 429ms/step - loss: 0.3225 - accuracy: 0.8777 - val_loss: 0.4570 - val_accuracy: 0.8214\n",
            "Epoch 5/100\n",
            "79/79 [==============================] - 36s 425ms/step - loss: 0.2478 - accuracy: 0.9096 - val_loss: 0.4387 - val_accuracy: 0.8278\n",
            "Epoch 6/100\n",
            "79/79 [==============================] - 36s 427ms/step - loss: 0.2252 - accuracy: 0.9123 - val_loss: 0.4459 - val_accuracy: 0.8325\n",
            "Epoch 7/100\n",
            "79/79 [==============================] - 36s 427ms/step - loss: 0.1857 - accuracy: 0.9287 - val_loss: 0.4542 - val_accuracy: 0.8246\n",
            "Epoch 8/100\n",
            "79/79 [==============================] - 36s 429ms/step - loss: 0.1591 - accuracy: 0.9371 - val_loss: 0.4743 - val_accuracy: 0.8485\n",
            "Epoch 9/100\n",
            "79/79 [==============================] - 36s 424ms/step - loss: 0.1251 - accuracy: 0.9513 - val_loss: 0.4837 - val_accuracy: 0.8501\n",
            "Epoch 10/100\n",
            "79/79 [==============================] - 36s 425ms/step - loss: 0.1455 - accuracy: 0.9498 - val_loss: 0.5586 - val_accuracy: 0.8421\n"
          ],
          "name": "stdout"
        }
      ]
    },
    {
      "cell_type": "code",
      "metadata": {
        "id": "hcZsSx4EN8HR"
      },
      "source": [
        "def plot_history(history, title='', axs=None, exp_name=\"\"):\n",
        "    if axs is not None:\n",
        "        ax1, ax2 = axs\n",
        "    else:\n",
        "        f, (ax1, ax2) = plt.subplots(1, 2, figsize=(12, 4))\n",
        "    \n",
        "    if len(exp_name) > 0 and exp_name[0] != '_':\n",
        "        exp_name = '_' + exp_name\n",
        "    ax1.plot(history.history['loss'], label='train' + exp_name)\n",
        "    ax1.plot(history.history['val_loss'], label='val' + exp_name)\n",
        "    ax1.set_ylim(0., 2.2)\n",
        "    ax1.set_title('loss')\n",
        "    ax1.legend()\n",
        "\n",
        "    ax2.plot(history.history['accuracy'], label='train accuracy'  + exp_name)\n",
        "    ax2.plot(history.history['val_accuracy'], label='val accuracy'  + exp_name)\n",
        "    ax2.set_ylim(0.25, 1.)\n",
        "    ax2.set_title('Accuracy')\n",
        "    ax2.legend()\n",
        "    return (ax1, ax2)"
      ],
      "execution_count": 22,
      "outputs": []
    },
    {
      "cell_type": "code",
      "metadata": {
        "id": "PuEOTfSbtxxd"
      },
      "source": [
        "import matplotlib.pyplot as plt"
      ],
      "execution_count": 24,
      "outputs": []
    },
    {
      "cell_type": "code",
      "metadata": {
        "colab": {
          "base_uri": "https://localhost:8080/",
          "height": 281
        },
        "id": "RVxc0PgnN-9R",
        "outputId": "c8de1098-6e0a-43be-b2d5-ddde7da37812"
      },
      "source": [
        "plot_history(history)\n",
        "plt.show()"
      ],
      "execution_count": 25,
      "outputs": [
        {
          "output_type": "display_data",
          "data": {
            "image/png": "[encoded data removed]",
            "text/plain": [
              "<Figure size 864x288 with 2 Axes>"
            ]
          },
          "metadata": {
            "tags": [],
            "needs_background": "light"
          }
        }
      ]
    },
    {
      "cell_type": "code",
      "metadata": {
        "colab": {
          "base_uri": "https://localhost:8080/"
        },
        "id": "in5ykHu0R48C",
        "outputId": "95e814c6-e3d7-49dc-9c3c-61f4ab66df7c"
      },
      "source": [
        "from tensorflow.keras import models\n",
        "\n",
        "# Let's say that you have a `model`\n",
        "# You can save it :\n",
        "models.save_model(model, '/content/drive/MyDrive/models/my_model')"
      ],
      "execution_count": 26,
      "outputs": [
        {
          "output_type": "stream",
          "text": [
            "INFO:tensorflow:Assets written to: /content/drive/MyDrive/models/my_model/assets\n"
          ],
          "name": "stdout"
        }
      ]
    },
    {
      "cell_type": "code",
      "metadata": {
        "id": "Nkoh1GI5YttW"
      },
      "source": [
        "from tensorflow.keras import models\n",
        "loaded_model = models.load_model('/content/drive/MyDrive/models/my_model')"
      ],
      "execution_count": 8,
      "outputs": []
    },
    {
      "cell_type": "code",
      "metadata": {
        "colab": {
          "base_uri": "https://localhost:8080/"
        },
        "id": "G23BN-wvOCSw",
        "outputId": "ad1b29c8-9eb2-4314-e0c6-8ac40dfde730"
      },
      "source": [
        "loaded_model"
      ],
      "execution_count": 9,
      "outputs": [
        {
          "output_type": "execute_result",
          "data": {
            "text/plain": [
              "<tensorflow.python.keras.engine.sequential.Sequential at 0x7f486fd217d0>"
            ]
          },
          "metadata": {
            "tags": []
          },
          "execution_count": 9
        }
      ]
    },
    {
      "cell_type": "code",
      "metadata": {
        "id": "vS42rEW5ON3g"
      },
      "source": [
        "dataset_path_test =\"/content/drive/MyDrive/testset_balanced\""
      ],
      "execution_count": 10,
      "outputs": []
    },
    {
      "cell_type": "code",
      "metadata": {
        "colab": {
          "base_uri": "https://localhost:8080/"
        },
        "id": "9QMNICwxOKSz",
        "outputId": "bee88542-ff7a-40a9-af01-ab5a57be246b"
      },
      "source": [
        "test_ds = tf.keras.preprocessing.image_dataset_from_directory(\n",
        "  dataset_path_test,\n",
        "  validation_split=0.2,\n",
        "  subset=\"training\",\n",
        "  seed=123,\n",
        "  image_size=(256, 256), \n",
        "  batch_size=32)"
      ],
      "execution_count": 11,
      "outputs": [
        {
          "output_type": "stream",
          "text": [
            "Found 809 files belonging to 4 classes.\n",
            "Using 648 files for training.\n"
          ],
          "name": "stdout"
        }
      ]
    },
    {
      "cell_type": "code",
      "metadata": {
        "colab": {
          "base_uri": "https://localhost:8080/"
        },
        "id": "z4e3thjElxu3",
        "outputId": "6309bae6-c24f-4ec8-d71d-315ef47e0c49"
      },
      "source": [
        "normalized_test_ds = test_ds.map(lambda x, y: (normalization_layer(x), y))\n",
        "image_batch_test, labels_batch_test = next(iter(normalized_test_ds))\n",
        "first_image_test = image_batch_test[0]\n",
        "# Notice the pixels values are now in `[0,1]`.\n",
        "print(np.min(first_image_test), np.max(first_image_test)) "
      ],
      "execution_count": 12,
      "outputs": [
        {
          "output_type": "stream",
          "text": [
            "0.0 1.0\n"
          ],
          "name": "stdout"
        }
      ]
    },
    {
      "cell_type": "code",
      "metadata": {
        "id": "e-wS9eNCmLXW"
      },
      "source": [
        "#test_ds = test_ds.cache().prefetch(buffer_size=AUTOTUNE)"
      ],
      "execution_count": null,
      "outputs": []
    },
    {
      "cell_type": "code",
      "metadata": {
        "colab": {
          "base_uri": "https://localhost:8080/"
        },
        "id": "wY8oTWwLRQud",
        "outputId": "7f0f98ff-a52f-4a9e-f3bd-78c84bae645c"
      },
      "source": [
        "loaded_model.evaluate(normalized_test_ds, verbose=1)\n",
        "\n"
      ],
      "execution_count": 13,
      "outputs": [
        {
          "output_type": "stream",
          "text": [
            "21/21 [==============================] - 102s 4s/step - loss: 0.5306 - accuracy: 0.8056\n"
          ],
          "name": "stdout"
        },
        {
          "output_type": "execute_result",
          "data": {
            "text/plain": [
              "[0.5306134819984436, 0.8055555820465088]"
            ]
          },
          "metadata": {
            "tags": []
          },
          "execution_count": 13
        }
      ]
    },
    {
      "cell_type": "code",
      "metadata": {
        "id": "TXhSBlw3o77X"
      },
      "source": [
        "labels = []\n",
        "images = []\n",
        "for image, label in normalized_test_ds:\n",
        "  labels += list(np.array(label))\n",
        "  images += list(np.array(image))"
      ],
      "execution_count": 16,
      "outputs": []
    },
    {
      "cell_type": "code",
      "metadata": {
        "colab": {
          "base_uri": "https://localhost:8080/"
        },
        "id": "uDhS7p54p7kq",
        "outputId": "e54d2803-48d8-46f5-c9eb-2b67e25d728d"
      },
      "source": [
        "np.array(labels).shape"
      ],
      "execution_count": 17,
      "outputs": [
        {
          "output_type": "execute_result",
          "data": {
            "text/plain": [
              "(648,)"
            ]
          },
          "metadata": {
            "tags": []
          },
          "execution_count": 17
        }
      ]
    },
    {
      "cell_type": "code",
      "metadata": {
        "id": "La-SyHI3GFQU"
      },
      "source": [
        "y_true = np.array(labels)"
      ],
      "execution_count": 18,
      "outputs": []
    },
    {
      "cell_type": "code",
      "metadata": {
        "id": "zpdki_oKZkrI"
      },
      "source": [
        "predictions = loaded_model.predict(normalized_test_ds)"
      ],
      "execution_count": 19,
      "outputs": []
    },
    {
      "cell_type": "code",
      "metadata": {
        "id": "TQyKN4VyZzbb"
      },
      "source": [
        "y_pred = np.array([np.argmax(x) for x in predictions])"
      ],
      "execution_count": 20,
      "outputs": []
    },
    {
      "cell_type": "code",
      "metadata": {
        "colab": {
          "base_uri": "https://localhost:8080/"
        },
        "id": "11FhCkaXjxOn",
        "outputId": "f0b13128-f43a-480b-8dbf-635ad845c2ac"
      },
      "source": [
        "y_true"
      ],
      "execution_count": 21,
      "outputs": [
        {
          "output_type": "execute_result",
          "data": {
            "text/plain": [
              "array([1, 0, 2, 1, 2, 2, 2, 2, 0, 3, 2, 0, 2, 3, 0, 2, 2, 2, 2, 3, 3, 2,\n",
              "       0, 2, 1, 3, 0, 1, 2, 3, 2, 0, 3, 0, 0, 0, 3, 0, 1, 3, 0, 2, 2, 1,\n",
              "       0, 2, 3, 1, 3, 2, 3, 1, 2, 1, 1, 2, 0, 1, 3, 1, 3, 1, 0, 0, 2, 3,\n",
              "       1, 0, 3, 1, 2, 0, 0, 0, 1, 1, 0, 3, 3, 1, 0, 0, 0, 1, 3, 3, 0, 2,\n",
              "       2, 2, 3, 0, 1, 2, 0, 2, 2, 0, 0, 1, 1, 1, 0, 3, 1, 1, 3, 2, 0, 3,\n",
              "       3, 3, 1, 1, 3, 0, 3, 0, 3, 3, 2, 3, 3, 1, 2, 3, 1, 1, 1, 0, 0, 0,\n",
              "       0, 0, 3, 0, 3, 3, 1, 3, 3, 3, 0, 2, 1, 2, 0, 1, 1, 0, 1, 0, 2, 3,\n",
              "       2, 1, 0, 0, 0, 0, 0, 2, 3, 1, 1, 1, 1, 3, 1, 2, 0, 1, 1, 3, 1, 0,\n",
              "       3, 3, 2, 1, 1, 2, 1, 2, 2, 1, 1, 2, 2, 3, 0, 1, 1, 0, 0, 0, 3, 1,\n",
              "       1, 1, 3, 1, 1, 1, 2, 2, 0, 0, 3, 0, 0, 3, 3, 3, 0, 3, 0, 0, 2, 3,\n",
              "       0, 3, 0, 2, 0, 1, 3, 0, 2, 1, 1, 0, 2, 3, 2, 2, 3, 1, 2, 3, 0, 3,\n",
              "       1, 2, 1, 1, 3, 2, 0, 2, 1, 1, 2, 0, 0, 2, 2, 0, 2, 1, 3, 3, 0, 3,\n",
              "       2, 1, 2, 1, 2, 2, 3, 0, 1, 0, 2, 0, 2, 3, 0, 1, 3, 3, 1, 3, 2, 3,\n",
              "       0, 0, 1, 3, 2, 1, 0, 2, 3, 0, 0, 1, 0, 1, 3, 1, 1, 2, 0, 0, 1, 0,\n",
              "       0, 1, 2, 0, 2, 2, 2, 0, 2, 1, 1, 0, 0, 2, 2, 1, 0, 3, 1, 2, 3, 0,\n",
              "       0, 2, 1, 1, 3, 2, 3, 3, 3, 0, 0, 3, 3, 1, 1, 3, 0, 1, 2, 2, 2, 0,\n",
              "       3, 2, 3, 0, 3, 3, 3, 2, 3, 3, 3, 1, 3, 2, 0, 3, 3, 1, 0, 0, 3, 1,\n",
              "       1, 1, 2, 3, 0, 3, 2, 2, 3, 3, 2, 0, 0, 2, 2, 0, 0, 3, 0, 0, 2, 3,\n",
              "       3, 2, 3, 1, 0, 1, 2, 0, 1, 1, 0, 3, 0, 3, 0, 0, 3, 1, 2, 2, 2, 3,\n",
              "       1, 0, 1, 3, 2, 3, 1, 3, 2, 0, 3, 3, 2, 2, 2, 3, 3, 3, 1, 1, 3, 1,\n",
              "       3, 1, 0, 0, 2, 2, 1, 3, 2, 2, 3, 2, 0, 2, 0, 1, 2, 2, 2, 1, 2, 0,\n",
              "       3, 1, 0, 1, 1, 2, 3, 3, 3, 1, 1, 0, 2, 3, 2, 3, 0, 3, 2, 0, 3, 0,\n",
              "       3, 1, 0, 3, 1, 3, 1, 0, 2, 2, 3, 2, 1, 1, 2, 2, 1, 2, 2, 0, 1, 3,\n",
              "       1, 1, 0, 1, 1, 3, 2, 1, 3, 3, 2, 3, 1, 3, 0, 3, 2, 1, 2, 1, 1, 0,\n",
              "       1, 3, 1, 3, 3, 2, 1, 1, 0, 2, 0, 1, 3, 2, 2, 1, 3, 1, 1, 2, 3, 0,\n",
              "       2, 2, 3, 2, 3, 3, 2, 2, 3, 1, 0, 1, 0, 3, 0, 1, 0, 2, 0, 1, 1, 1,\n",
              "       0, 2, 0, 1, 2, 1, 2, 2, 0, 2, 0, 1, 3, 0, 1, 0, 3, 2, 3, 0, 0, 3,\n",
              "       1, 0, 0, 2, 0, 2, 1, 0, 2, 2, 1, 0, 3, 3, 3, 3, 1, 0, 0, 0, 2, 2,\n",
              "       2, 2, 3, 3, 2, 0, 1, 1, 1, 2, 3, 3, 1, 0, 1, 1, 3, 1, 1, 3, 0, 0,\n",
              "       2, 3, 0, 1, 2, 3, 3, 0, 3, 2], dtype=int32)"
            ]
          },
          "metadata": {
            "tags": []
          },
          "execution_count": 21
        }
      ]
    },
    {
      "cell_type": "code",
      "metadata": {
        "id": "QmbxC44LtzRM"
      },
      "source": [
        "import numpy as np"
      ],
      "execution_count": 22,
      "outputs": []
    },
    {
      "cell_type": "code",
      "metadata": {
        "colab": {
          "base_uri": "https://localhost:8080/"
        },
        "id": "QVf3kBZcttLc",
        "outputId": "263904f7-15ab-47fa-a5f9-345bea5e509b"
      },
      "source": [
        "number_list = y_pred\n",
        "\n",
        "(unique, counts) = np.unique(number_list, return_counts=True)\n",
        "frequencies = np.asarray((unique, counts)).T\n",
        "\n",
        "print(frequencies)"
      ],
      "execution_count": 23,
      "outputs": [
        {
          "output_type": "stream",
          "text": [
            "[[  0 188]\n",
            " [  1 161]\n",
            " [  2 200]\n",
            " [  3  99]]\n"
          ],
          "name": "stdout"
        }
      ]
    },
    {
      "cell_type": "code",
      "metadata": {
        "colab": {
          "base_uri": "https://localhost:8080/"
        },
        "id": "J4jcblvWuB54",
        "outputId": "8f7a635b-5b4e-45c5-9c3e-9725e7cc9be7"
      },
      "source": [
        "number_list = y_true\n",
        "\n",
        "(unique, counts) = np.unique(number_list, return_counts=True)\n",
        "frequencies = np.asarray((unique, counts)).T\n",
        "\n",
        "print(frequencies)"
      ],
      "execution_count": 24,
      "outputs": [
        {
          "output_type": "stream",
          "text": [
            "[[  0 162]\n",
            " [  1 162]\n",
            " [  2 158]\n",
            " [  3 166]]\n"
          ],
          "name": "stdout"
        }
      ]
    },
    {
      "cell_type": "code",
      "metadata": {
        "id": "wyeRUn4rovMv"
      },
      "source": [
        "#class_names # 0, 1, 2, 3"
      ],
      "execution_count": 26,
      "outputs": []
    },
    {
      "cell_type": "code",
      "metadata": {
        "colab": {
          "base_uri": "https://localhost:8080/",
          "height": 241
        },
        "id": "j3FL44KLolmw",
        "outputId": "b81db2d0-d27c-4bf2-d5e0-c23516c9da7e"
      },
      "source": [
        "import matplotlib.pyplot as plt\n",
        "\n",
        "plt.figure(figsize=(10, 10))\n",
        "for images, labels in test_ds.take(1):\n",
        "  for i in range(3):\n",
        "    ax = plt.subplot(3, 3, i + 1)\n",
        "    plt.imshow(images[i].numpy().astype(\"uint8\"))\n",
        "    plt.title(class_names[labels[i]])\n",
        "plt.axis(\"off\")"
      ],
      "execution_count": null,
      "outputs": [
        {
          "output_type": "execute_result",
          "data": {
            "text/plain": [
              "(-0.5, 255.5, 255.5, -0.5)"
            ]
          },
          "metadata": {
            "tags": []
          },
          "execution_count": 50
        },
        {
          "output_type": "display_data",
          "data": {
            "image/png": "[encoded data removed]",
            "text/plain": [
              "<Figure size 720x720 with 3 Axes>"
            ]
          },
          "metadata": {
            "tags": [],
            "needs_background": "light"
          }
        }
      ]
    },
    {
      "cell_type": "code",
      "metadata": {
        "id": "G0wZ9GuoowLD"
      },
      "source": [
        "# Y true 1                       #3                       #0\n",
        "# y pred 1                       #0                       #0\n",
        "#  'covid-19'.             'bacterial_pneumonia'.     'bacterial_pneumonia'"
      ],
      "execution_count": null,
      "outputs": []
    },
    {
      "cell_type": "code",
      "metadata": {
        "colab": {
          "base_uri": "https://localhost:8080/",
          "height": 207
        },
        "id": "Kuql0qDupn0E",
        "outputId": "6394f8ce-f1d3-4dd8-d13a-0332ec83b83c"
      },
      "source": [
        "import matplotlib.pyplot as plt\n",
        "\n",
        "plt.figure(figsize=(10, 10))\n",
        "for images, labels in normalized_test_ds.take(1):\n",
        "  for i in range(3):\n",
        "    ax = plt.subplot(3, 3, i + 1)\n",
        "    plt.imshow(images[i].numpy().astype(\"uint8\"))\n",
        "    plt.title(class_names[labels[i]])\n",
        "    plt.axis(\"off\")"
      ],
      "execution_count": null,
      "outputs": [
        {
          "output_type": "display_data",
          "data": {
            "image/png": "[encoded data removed]",
            "text/plain": [
              "<Figure size 720x720 with 3 Axes>"
            ]
          },
          "metadata": {
            "tags": [],
            "needs_background": "light"
          }
        }
      ]
    },
    {
      "cell_type": "code",
      "metadata": {
        "id": "_kKCGLxWZ6ML"
      },
      "source": [
        "from sklearn.metrics import confusion_matrix"
      ],
      "execution_count": 27,
      "outputs": []
    },
    {
      "cell_type": "code",
      "metadata": {
        "id": "pUzxD34SZ1Qu"
      },
      "source": [
        "cm = confusion_matrix(y_true,y_pred)"
      ],
      "execution_count": 28,
      "outputs": []
    },
    {
      "cell_type": "code",
      "metadata": {
        "id": "WR3rocfAr_UX"
      },
      "source": [
        "from sklearn.metrics import plot_confusion_matrix\n",
        "from sklearn.metrics import classification_report, confusion_matrix\n",
        "import seaborn as sns"
      ],
      "execution_count": 29,
      "outputs": []
    },
    {
      "cell_type": "code",
      "metadata": {
        "colab": {
          "base_uri": "https://localhost:8080/",
          "height": 282
        },
        "id": "9-jJKewMZ3UV",
        "outputId": "8ffd7823-dfc8-4a36-a0de-d053a9ddef93"
      },
      "source": [
        "sns.heatmap(cm, annot=True)"
      ],
      "execution_count": 30,
      "outputs": [
        {
          "output_type": "execute_result",
          "data": {
            "text/plain": [
              "<matplotlib.axes._subplots.AxesSubplot at 0x7f48220a2610>"
            ]
          },
          "metadata": {
            "tags": []
          },
          "execution_count": 30
        },
        {
          "output_type": "display_data",
          "data": {
            "image/png": "[encoded data removed]",
            "text/plain": [
              "<Figure size 432x288 with 2 Axes>"
            ]
          },
          "metadata": {
            "tags": [],
            "needs_background": "light"
          }
        }
      ]
    },
    {
      "cell_type": "code",
      "metadata": {
        "id": "TctxDjV7W9p8"
      },
      "source": [
        " from sklearn.metrics import classification_report"
      ],
      "execution_count": 33,
      "outputs": []
    },
    {
      "cell_type": "code",
      "metadata": {
        "colab": {
          "base_uri": "https://localhost:8080/"
        },
        "id": "EgmEVrYx-WR-",
        "outputId": "a36b52dc-4b84-46a7-df85-74d046dfad77"
      },
      "source": [
        "target_names =['bacterial_pneumonia', 'covid-19', 'normal', 'viral_pneumonia']\n",
        "print(classification_report(y_true, y_pred, target_names=target_names))"
      ],
      "execution_count": 34,
      "outputs": [
        {
          "output_type": "stream",
          "text": [
            "                     precision    recall  f1-score   support\n",
            "\n",
            "bacterial_pneumonia       0.21      0.25      0.23       162\n",
            "           covid-19       0.25      0.25      0.25       162\n",
            "             normal       0.26      0.32      0.28       158\n",
            "    viral_pneumonia       0.29      0.17      0.22       166\n",
            "\n",
            "           accuracy                           0.25       648\n",
            "          macro avg       0.25      0.25      0.25       648\n",
            "       weighted avg       0.25      0.25      0.24       648\n",
            "\n"
          ],
          "name": "stdout"
        }
      ]
    },
    {
      "cell_type": "code",
      "metadata": {
        "id": "5Lfjn83M_5Wj"
      },
      "source": [
        ""
      ],
      "execution_count": null,
      "outputs": []
    }
  ]
}