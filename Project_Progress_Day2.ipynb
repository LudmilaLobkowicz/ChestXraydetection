{
 "cells": [
  {
   "cell_type": "markdown",
   "metadata": {},
   "source": [
    "# X-ray challenge"
   ]
  },
  {
   "cell_type": "code",
   "execution_count": 1,
   "metadata": {},
   "outputs": [],
   "source": [
    "import matplotlib.pyplot as plt\n",
    "%matplotlib inline"
   ]
  },
  {
   "cell_type": "code",
   "execution_count": null,
   "metadata": {},
   "outputs": [],
   "source": [
    "from tensorflow.keras.utils import to_categorical\n",
    "from tqdm import tqdm\n",
    "import numpy as np\n",
    "import os\n",
    "from PIL import Image\n"
   ]
  },
  {
   "cell_type": "markdown",
   "metadata": {},
   "source": [
    "# Baseline model"
   ]
  },
  {
   "cell_type": "markdown",
   "metadata": {},
   "source": [
    "Number of images per group\n",
    "\n",
    "- Normal : 1443 images\n",
    "- Bacterial Pneumonia : 2727 images \n",
    "- Viral Pneumonia : 1512 images \n",
    "- COVID-19 : 980 images"
   ]
  },
  {
   "cell_type": "markdown",
   "metadata": {},
   "source": [
    "If you were always counting the majority score from the entire\n",
    "\n",
    "Y = 2727      \n",
    "N = 3935          \n",
    "\n",
    "Majority =  2727 /(2727+3935) = 0.41\n"
   ]
  },
  {
   "cell_type": "markdown",
   "metadata": {},
   "source": [
    "Baseline accuracy = 41%"
   ]
  },
  {
   "cell_type": "markdown",
   "metadata": {},
   "source": [
    "# Data exploration"
   ]
  },
  {
   "cell_type": "markdown",
   "metadata": {},
   "source": [
    "Images within folders had differing dimensions and sizes locally:\n",
    "\n",
    "-  X_viral : 215 of 1512(14% dataset) have 3 vs 2 dimensions, 215 have sizes of 916608 vs  65536(256x256))\n",
    "\n",
    "- X_bacterial : 412 of 2727 (15.1% dataset) have 3 vs 2 dimensions,  have sizes of 916608 vs  65536(256x256))\n",
    "\n",
    "- X_covid : 153  of 980 (15,6% dataset) have 3 vs 2 dimensions,  have sizes of 916608 vs  65536(256x256))\n",
    "\n",
    "- X_normal : 48 of 1443 (3.3% dataset) have 3 vs 2 dimensions, 215 have sizes of 916608 vs  65536(256x256))"
   ]
  },
  {
   "cell_type": "markdown",
   "metadata": {},
   "source": [
    "# Data preprocessing"
   ]
  },
  {
   "cell_type": "markdown",
   "metadata": {},
   "source": [
    "## Locally"
   ]
  },
  {
   "cell_type": "markdown",
   "metadata": {},
   "source": [
    "- to begin with drop all images with dim of 3 and different size to 65536 \n",
    "\n",
    "- One- hot encode categories\n",
    "- concatenating the dataset\n",
    "\n",
    "\n",
    "- split train/test/val set"
   ]
  },
  {
   "cell_type": "markdown",
   "metadata": {},
   "source": [
    "To do: \n",
    "\n",
    "- reshape dim of 3 and different size to 65536\n",
    "- concatenating the dataset\n",
    "- split train/test/val set"
   ]
  },
  {
   "cell_type": "markdown",
   "metadata": {},
   "source": [
    "## Google Colab"
   ]
  },
  {
   "cell_type": "markdown",
   "metadata": {},
   "source": [
    "- Train and Test set was split manually\n",
    "- Train and validation set was split by the method : tf.keras.preprocessing.image_dataset_from_directory\n",
    "- Normalization of train and val ds"
   ]
  },
  {
   "cell_type": "markdown",
   "metadata": {},
   "source": [
    "# Modelling Approaches"
   ]
  },
  {
   "cell_type": "markdown",
   "metadata": {},
   "source": [
    "## Locally"
   ]
  },
  {
   "cell_type": "markdown",
   "metadata": {},
   "source": [
    "To do: \n",
    "\n",
    "- train model"
   ]
  },
  {
   "cell_type": "markdown",
   "metadata": {},
   "source": [
    "## Google Colab"
   ]
  },
  {
   "cell_type": "markdown",
   "metadata": {},
   "source": [
    "1st"
   ]
  },
  {
   "cell_type": "markdown",
   "metadata": {},
   "source": [
    "num_classes = 4\n",
    "\n",
    "model = tf.keras.Sequential([\n",
    "  layers.experimental.preprocessing.Rescaling(1./255),\n",
    "  layers.Conv2D(32, 3, activation='relu'),\n",
    "  layers.MaxPooling2D(),\n",
    "  layers.Conv2D(32, 3, activation='relu'),\n",
    "  layers.MaxPooling2D(),\n",
    "  layers.Conv2D(32, 3, activation='relu'),\n",
    "  layers.MaxPooling2D(),\n",
    "  layers.Flatten(),\n",
    "  layers.Dense(128, activation='relu'),\n",
    "  layers.Dense(num_classes)\n",
    "])"
   ]
  },
  {
   "cell_type": "markdown",
   "metadata": {},
   "source": [
    "model.compile(\n",
    "  optimizer='adam',\n",
    "  loss= tf.losses.SparseCategoricalCrossentropy(from_logits=True),\n",
    "  metrics=['accuracy'])"
   ]
  },
  {
   "cell_type": "markdown",
   "metadata": {},
   "source": [
    "from tensorflow.keras import callbacks\n",
    "\n",
    "es = callbacks.EarlyStopping(patience=5, restore_best_weights=True)"
   ]
  },
  {
   "cell_type": "markdown",
   "metadata": {},
   "source": [
    "model.fit(normalized_train_ds,\n",
    "          batch_size=32,\n",
    "          epochs=100,\n",
    "          validation_data=normalized_val_ds,\n",
    "          callbacks=[es])"
   ]
  },
  {
   "cell_type": "markdown",
   "metadata": {},
   "source": [
    "52s 373ms/step - loss: 0.3546 - accuracy: 0.8389 - val_loss: 0.5709 - val_accuracy: 0.7977"
   ]
  },
  {
   "cell_type": "markdown",
   "metadata": {},
   "source": [
    "from tensorflow.keras import models\n",
    "\n",
    "models.save_model(model, '/content/drive/MyDrive/models/my_model')"
   ]
  },
  {
   "cell_type": "markdown",
   "metadata": {},
   "source": [
    "## Ideas To improve model: \n",
    "\n",
    "- look at loss function of val and trainset and look at accuracy while training \n",
    "\n",
    "- try transfer learning: from tensorflow.keras.applications.vgg16 import VGG16\n",
    "\n",
    "def load_model():\n",
    "    model = VGG16(weights=\"imagenet\", include_top=False, input_shape=X_train[0].shape)\n",
    "    return model\n",
    "- data augmentation\n",
    "\n",
    "-  grid search on all the hyper-parameters: learning_rate, batch_size, data augmentation etc\n",
    "\n"
   ]
  }
 ],
 "metadata": {
  "kernelspec": {
   "display_name": "Python 3",
   "language": "python",
   "name": "python3"
  },
  "language_info": {
   "codemirror_mode": {
    "name": "ipython",
    "version": 3
   },
   "file_extension": ".py",
   "mimetype": "text/x-python",
   "name": "python",
   "nbconvert_exporter": "python",
   "pygments_lexer": "ipython3",
   "version": "3.8.6"
  },
  "toc": {
   "base_numbering": 1,
   "nav_menu": {},
   "number_sections": true,
   "sideBar": true,
   "skip_h1_title": false,
   "title_cell": "Table of Contents",
   "title_sidebar": "Contents",
   "toc_cell": false,
   "toc_position": {},
   "toc_section_display": true,
   "toc_window_display": false
  }
 },
 "nbformat": 4,
 "nbformat_minor": 4
}
