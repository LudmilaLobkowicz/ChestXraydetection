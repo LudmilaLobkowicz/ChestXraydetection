{
 "cells": [
  {
   "cell_type": "code",
   "execution_count": 6,
   "id": "disciplinary-fitting",
   "metadata": {
    "ExecuteTime": {
     "end_time": "2021-03-02T17:15:48.746945Z",
     "start_time": "2021-03-02T17:15:48.736400Z"
    }
   },
   "outputs": [],
   "source": [
    "# tf.expand_dims(X[0], -1).shape"
   ]
  },
  {
   "cell_type": "code",
   "execution_count": 2,
   "id": "pediatric-apparatus",
   "metadata": {
    "ExecuteTime": {
     "end_time": "2021-03-02T16:56:34.495103Z",
     "start_time": "2021-03-02T16:56:34.489192Z"
    }
   },
   "outputs": [],
   "source": [
    "#from sklearn.model_selection import train_test_split\n",
    "#X_train, X_test, y_train, y_test = train_test_split(X,y, test_size=0.3, random_state=0)"
   ]
  },
  {
   "cell_type": "code",
   "execution_count": 3,
   "id": "constant-material",
   "metadata": {
    "ExecuteTime": {
     "end_time": "2021-03-02T16:57:07.423589Z",
     "start_time": "2021-03-02T16:57:07.417034Z"
    }
   },
   "outputs": [],
   "source": [
    "#from tensorflow.keras import layers\n",
    "\n",
    "#normalization_layer = tf.keras.layers.experimental.preprocessing.Rescaling(1./255)"
   ]
  },
  {
   "cell_type": "code",
   "execution_count": 4,
   "id": "hungry-guest",
   "metadata": {
    "ExecuteTime": {
     "end_time": "2021-03-02T16:57:28.482368Z",
     "start_time": "2021-03-02T16:57:28.476707Z"
    }
   },
   "outputs": [],
   "source": [
    "# normalized_ds = train_ds.map(lambda x, y: (normalization_layer(x), y))\n",
    "# image_batch, labels_batch = next(iter(normalized_ds))\n",
    "# first_image = image_batch[0]\n",
    "# # Notice the pixels values are now in `[0,1]`.\n",
    "# print(np.min(first_image), np.max(first_image)) "
   ]
  },
  {
   "cell_type": "code",
   "execution_count": 5,
   "id": "secret-worry",
   "metadata": {
    "ExecuteTime": {
     "end_time": "2021-03-02T16:57:50.067039Z",
     "start_time": "2021-03-02T16:57:50.059597Z"
    }
   },
   "outputs": [],
   "source": [
    "# X.shape\n",
    "#normalise & dimensions\n",
    "#val split in the fit"
   ]
  },
  {
   "cell_type": "code",
   "execution_count": 7,
   "id": "superior-pearl",
   "metadata": {
    "ExecuteTime": {
     "end_time": "2021-03-02T17:15:54.707039Z",
     "start_time": "2021-03-02T17:15:54.701345Z"
    }
   },
   "outputs": [],
   "source": [
    "# def load_flowers_data(loading_method):\n",
    "    \n",
    "#     classes = {'daisy':0, 'dandelion':1, 'rose':2}\n",
    "#     imgs = []\n",
    "#     labels = []\n",
    "#     for (cl, i) in classes.items():\n",
    "#         images_path = [elt for elt in os.listdir(os.path.join(data_path, cl)) if elt.find('.jpg')>0]\n",
    "#         for img in tqdm(images_path[:300]):\n",
    "#             path = os.path.join(data_path, cl, img)\n",
    "#             if os.path.exists(path):\n",
    "#                 image = Image.open(path)\n",
    "#                 image = image.resize((256, 256))\n",
    "#                 imgs.append(np.array(image))\n",
    "#                 labels.append(i)\n",
    "\n",
    "#     X = np.array(imgs)\n",
    "#     num_classes = len(set(labels))\n",
    "#     y = to_categorical(labels, num_classes)\n",
    "\n",
    "#     # Finally we shuffle:\n",
    "#     p = np.random.permutation(len(X))\n",
    "#     X, y = X[p], y[p]\n",
    "\n",
    "#     first_split = int(len(imgs) /6.)\n",
    "#     second_split = first_split + int(len(imgs) * 0.2)\n",
    "#     X_test, X_val, X_train = X[:first_split], X[first_split:second_split], X[second_split:]\n",
    "#     y_test, y_val, y_train = y[:first_split], y[first_split:second_split], y[second_split:]\n",
    "    \n",
    "#     return X_train, y_train, X_val, y_val, X_test, y_test, num_classes\n",
    "\n",
    "\n"
   ]
  },
  {
   "cell_type": "code",
   "execution_count": null,
   "id": "diverse-camcorder",
   "metadata": {},
   "outputs": [],
   "source": []
  }
 ],
 "metadata": {
  "kernelspec": {
   "display_name": "Python 3",
   "language": "python",
   "name": "python3"
  },
  "language_info": {
   "codemirror_mode": {
    "name": "ipython",
    "version": 3
   },
   "file_extension": ".py",
   "mimetype": "text/x-python",
   "name": "python",
   "nbconvert_exporter": "python",
   "pygments_lexer": "ipython3",
   "version": "3.8.6"
  },
  "toc": {
   "base_numbering": 1,
   "nav_menu": {},
   "number_sections": true,
   "sideBar": true,
   "skip_h1_title": false,
   "title_cell": "Table of Contents",
   "title_sidebar": "Contents",
   "toc_cell": false,
   "toc_position": {},
   "toc_section_display": true,
   "toc_window_display": false
  }
 },
 "nbformat": 4,
 "nbformat_minor": 5
}
