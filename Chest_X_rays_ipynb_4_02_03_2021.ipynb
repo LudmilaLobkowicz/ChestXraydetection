{
  "nbformat": 4,
  "nbformat_minor": 0,
  "metadata": {
    "colab": {
      "name": "Chest_X_rays_ipynb_4_02_03_2021.ipynb",
      "provenance": [],
      "collapsed_sections": []
    },
    "kernelspec": {
      "display_name": "Python 3",
      "language": "python",
      "name": "python3"
    },
    "language_info": {
      "codemirror_mode": {
        "name": "ipython",
        "version": 3
      },
      "file_extension": ".py",
      "mimetype": "text/x-python",
      "name": "python",
      "nbconvert_exporter": "python",
      "pygments_lexer": "ipython3",
      "version": "3.8.6"
    },
    "toc": {
      "base_numbering": 1,
      "nav_menu": {},
      "number_sections": true,
      "sideBar": true,
      "skip_h1_title": false,
      "title_cell": "Table of Contents",
      "title_sidebar": "Contents",
      "toc_cell": false,
      "toc_position": {},
      "toc_section_display": true,
      "toc_window_display": false
    },
    "accelerator": "GPU"
  },
  "cells": [
    {
      "cell_type": "markdown",
      "metadata": {
        "id": "-C5WmpZBRl7F"
      },
      "source": [
        "# X-ray challenge"
      ]
    },
    {
      "cell_type": "code",
      "metadata": {
        "colab": {
          "base_uri": "https://localhost:8080/"
        },
        "id": "aUp_4Rek728C",
        "outputId": "118cc22b-aa9c-4a3a-a8af-7283c4346aa8"
      },
      "source": [
        "from google.colab import drive\n",
        "drive.mount('/content/drive')"
      ],
      "execution_count": 1,
      "outputs": [
        {
          "output_type": "stream",
          "text": [
            "Mounted at /content/drive\n"
          ],
          "name": "stdout"
        }
      ]
    },
    {
      "cell_type": "code",
      "metadata": {
        "colab": {
          "base_uri": "https://localhost:8080/"
        },
        "id": "iarICb7msMwo",
        "outputId": "bf26efe6-9a35-402d-9048-ea2a9a6eb092"
      },
      "source": [
        "%cd ./drive/MyDrive/raw_data\n"
      ],
      "execution_count": 2,
      "outputs": [
        {
          "output_type": "stream",
          "text": [
            "/content/drive/MyDrive/raw_data\n"
          ],
          "name": "stdout"
        }
      ]
    },
    {
      "cell_type": "code",
      "metadata": {
        "colab": {
          "base_uri": "https://localhost:8080/"
        },
        "id": "rxKOj1-csY4R",
        "outputId": "76560293-466c-4bab-9b00-0cd042359a19"
      },
      "source": [
        "%ls\n"
      ],
      "execution_count": 3,
      "outputs": [
        {
          "output_type": "stream",
          "text": [
            "\u001b[0m\u001b[01;34mbacterial_pneumonia\u001b[0m/  \u001b[01;34mcovid-19\u001b[0m/  \u001b[01;34mnormal\u001b[0m/  \u001b[01;34mviral_pneumonia\u001b[0m/\n"
          ],
          "name": "stdout"
        }
      ]
    },
    {
      "cell_type": "code",
      "metadata": {
        "id": "WvcxiALQdOML"
      },
      "source": [
        "import numpy as np\n",
        "import os\n",
        "import PIL\n",
        "import PIL.Image\n",
        "import tensorflow as tf\n",
        "import tensorflow_datasets as tfds\n",
        "from matplotlib.pyplot import imread\n",
        "import pathlib"
      ],
      "execution_count": 4,
      "outputs": []
    },
    {
      "cell_type": "code",
      "metadata": {
        "colab": {
          "base_uri": "https://localhost:8080/"
        },
        "id": "DF3ML0Kd1N9n",
        "outputId": "9464fbce-c8b7-4cc9-adee-0f61440a61e0"
      },
      "source": [
        "print(tf.__version__)"
      ],
      "execution_count": 5,
      "outputs": [
        {
          "output_type": "stream",
          "text": [
            "2.4.1\n"
          ],
          "name": "stdout"
        }
      ]
    },
    {
      "cell_type": "code",
      "metadata": {
        "id": "XLxqQIcrT1JD"
      },
      "source": [
        "dataset_path = \"/content/drive/MyDrive/trainset\""
      ],
      "execution_count": 8,
      "outputs": []
    },
    {
      "cell_type": "code",
      "metadata": {
        "colab": {
          "base_uri": "https://localhost:8080/"
        },
        "id": "c2d_dQen1SVN",
        "outputId": "d4a37ae9-6d98-4587-a62c-69ef57823e9c"
      },
      "source": [
        "train_ds = tf.keras.preprocessing.image_dataset_from_directory(\n",
        "  dataset_path,\n",
        "  validation_split=0.2,\n",
        "  subset=\"training\",\n",
        "  seed=123,\n",
        "  image_size=(256, 256), \n",
        "  batch_size=32)"
      ],
      "execution_count": 9,
      "outputs": [
        {
          "output_type": "stream",
          "text": [
            "Found 5316 files belonging to 4 classes.\n",
            "Using 4253 files for training.\n"
          ],
          "name": "stdout"
        }
      ]
    },
    {
      "cell_type": "code",
      "metadata": {
        "id": "03k-PAbWMbUY",
        "colab": {
          "base_uri": "https://localhost:8080/"
        },
        "outputId": "fe32af88-ad7f-4129-ad8b-d1a7569abf86"
      },
      "source": [
        "train_ds"
      ],
      "execution_count": 10,
      "outputs": [
        {
          "output_type": "execute_result",
          "data": {
            "text/plain": [
              "<BatchDataset shapes: ((None, 256, 256, 3), (None,)), types: (tf.float32, tf.int32)>"
            ]
          },
          "metadata": {
            "tags": []
          },
          "execution_count": 10
        }
      ]
    },
    {
      "cell_type": "code",
      "metadata": {
        "id": "Tr1cgl1Qrr8l",
        "colab": {
          "base_uri": "https://localhost:8080/"
        },
        "outputId": "7116e515-1934-4d91-c9ef-8faf50aeecdc"
      },
      "source": [
        "val_ds = tf.keras.preprocessing.image_dataset_from_directory(\n",
        "  dataset_path,\n",
        "  validation_split=0.2,\n",
        "  subset=\"validation\",\n",
        "  seed=123,\n",
        "  image_size=(256, 256),\n",
        "  batch_size=32)"
      ],
      "execution_count": 11,
      "outputs": [
        {
          "output_type": "stream",
          "text": [
            "Found 5316 files belonging to 4 classes.\n",
            "Using 1063 files for validation.\n"
          ],
          "name": "stdout"
        }
      ]
    },
    {
      "cell_type": "code",
      "metadata": {
        "id": "KkuW-GN6S4Aq",
        "colab": {
          "base_uri": "https://localhost:8080/"
        },
        "outputId": "0b90a15a-8056-4c99-f0e8-bc2838e2a049"
      },
      "source": [
        "val_ds"
      ],
      "execution_count": 12,
      "outputs": [
        {
          "output_type": "execute_result",
          "data": {
            "text/plain": [
              "<BatchDataset shapes: ((None, 256, 256, 3), (None,)), types: (tf.float32, tf.int32)>"
            ]
          },
          "metadata": {
            "tags": []
          },
          "execution_count": 12
        }
      ]
    },
    {
      "cell_type": "code",
      "metadata": {
        "id": "FA6312cPti73",
        "colab": {
          "base_uri": "https://localhost:8080/"
        },
        "outputId": "17dd2853-271f-4a00-f24d-d33aff2214b5"
      },
      "source": [
        "class_names = train_ds.class_names\n",
        "print(class_names)"
      ],
      "execution_count": 13,
      "outputs": [
        {
          "output_type": "stream",
          "text": [
            "['bacterial_pneumonia', 'covid-19', 'normal', 'viral_pneumonia']\n"
          ],
          "name": "stdout"
        }
      ]
    },
    {
      "cell_type": "code",
      "metadata": {
        "id": "qnLxnmsy6EQk",
        "colab": {
          "base_uri": "https://localhost:8080/"
        },
        "outputId": "28518e92-292f-4dde-d0f3-87c41c6edf4d"
      },
      "source": [
        "for image_batch, labels_batch in train_ds:\n",
        "  print(image_batch.shape)\n",
        "  print(labels_batch.shape)\n",
        "  break\n"
      ],
      "execution_count": 14,
      "outputs": [
        {
          "output_type": "stream",
          "text": [
            "(32, 256, 256, 3)\n",
            "(32,)\n"
          ],
          "name": "stdout"
        }
      ]
    },
    {
      "cell_type": "code",
      "metadata": {
        "id": "pPV6ZC4K6Mj8"
      },
      "source": [
        "from tensorflow.keras import layers\n",
        "\n",
        "normalization_layer = tf.keras.layers.experimental.preprocessing.Rescaling(1./255)"
      ],
      "execution_count": 15,
      "outputs": []
    },
    {
      "cell_type": "code",
      "metadata": {
        "colab": {
          "base_uri": "https://localhost:8080/"
        },
        "id": "tUCQiTt0klDf",
        "outputId": "66c66c43-d2f5-4df4-cca4-508d8bda7d85"
      },
      "source": [
        "#from tensorflow.keras.applications.vgg16 import preprocess_input\n",
        "\n",
        "#prepos_train_ds = train_ds.map(lambda x, y: (preprocess_input(x), y))\n",
        "#image_batch, labels_batch = next(iter(prepos_train_ds))\n",
        "#first_image = image_batch[0]\n",
        "# Notice the pixels values are now in `[0,1]`.\n",
        "#print(np.min(first_image), np.max(first_image)) \n"
      ],
      "execution_count": 46,
      "outputs": [
        {
          "output_type": "stream",
          "text": [
            "-123.68 150.54538\n"
          ],
          "name": "stdout"
        }
      ]
    },
    {
      "cell_type": "code",
      "metadata": {
        "id": "IdROctVz666U",
        "colab": {
          "base_uri": "https://localhost:8080/"
        },
        "outputId": "b986868a-238f-47bd-8653-2c2f96393782"
      },
      "source": [
        "normalized_train_ds = train_ds.map(lambda x, y: (normalization_layer(x), y))\n",
        "image_batch, labels_batch = next(iter(normalized_train_ds))\n",
        "first_image = image_batch[0]\n",
        "# Notice the pixels values are now in `[0,1]`.\n",
        "print(np.min(first_image), np.max(first_image)) \n"
      ],
      "execution_count": 16,
      "outputs": [
        {
          "output_type": "stream",
          "text": [
            "5.1700372e-05 1.0\n"
          ],
          "name": "stdout"
        }
      ]
    },
    {
      "cell_type": "code",
      "metadata": {
        "id": "mbtVe_kVaHEF",
        "colab": {
          "base_uri": "https://localhost:8080/"
        },
        "outputId": "4ebacf28-e01f-4550-e7c7-83f95d9312e7"
      },
      "source": [
        "normalized_train_ds"
      ],
      "execution_count": 17,
      "outputs": [
        {
          "output_type": "execute_result",
          "data": {
            "text/plain": [
              "<MapDataset shapes: ((None, 256, 256, 3), (None,)), types: (tf.float32, tf.int32)>"
            ]
          },
          "metadata": {
            "tags": []
          },
          "execution_count": 17
        }
      ]
    },
    {
      "cell_type": "code",
      "metadata": {
        "id": "M0ueiRUOaNRm",
        "colab": {
          "base_uri": "https://localhost:8080/"
        },
        "outputId": "64053897-9fbf-41ff-e592-46fe808da3c2"
      },
      "source": [
        "normalized_val_ds = val_ds.map(lambda x, y: (normalization_layer(x), y))\n",
        "image_batch_val, labels_batch_val = next(iter(normalized_val_ds))\n",
        "first_image_val = image_batch_val[0]\n",
        "# Notice the pixels values are now in `[0,1]`.\n",
        "print(np.min(first_image_val), np.max(first_image_val)) "
      ],
      "execution_count": 17,
      "outputs": [
        {
          "output_type": "stream",
          "text": [
            "0.0032571233 1.0\n"
          ],
          "name": "stdout"
        }
      ]
    },
    {
      "cell_type": "code",
      "metadata": {
        "id": "fE6_OmBFFZil"
      },
      "source": [
        "#AUTOTUNE = tf.data.AUTOTUNE\n",
        "\n",
        "#train_ds = train_ds.cache().prefetch(buffer_size=AUTOTUNE)\n",
        "#val_ds = val_ds.cache().prefetch(buffer_size=AUTOTUNE)"
      ],
      "execution_count": null,
      "outputs": []
    },
    {
      "cell_type": "code",
      "metadata": {
        "id": "FMXu5gYxki3Z"
      },
      "source": [
        "from tensorflow.keras import models\n",
        "from tensorflow.keras import layers \n",
        "\n",
        "\n",
        "def initialize_model():\n",
        "    model = models.Sequential()\n",
        "    model.add(layers.Conv2D(32, (3, 3), padding='same', input_shape=(256, 256, 3), activation='relu'))\n",
        "    model.add(layers.MaxPooling2D(pool_size=(2, 2)))\n",
        "\n",
        "    model.add(layers.Conv2D(64, (2, 2), padding='same', activation='relu'))\n",
        "    model.add(layers.MaxPooling2D(pool_size=(2, 2)))\n",
        "    \n",
        "    model.add(layers.Conv2D(128, (3, 3), padding='same', activation='relu'))\n",
        "    model.add(layers.MaxPooling2D(pool_size=(3, 3)))\n",
        "\n",
        "    model.add(layers.Flatten())\n",
        "    model.add(layers.Dense(120, activation='relu'))\n",
        "    model.add(layers.Dense(60, activation='relu'))\n",
        "    model.add(layers.Dropout(0.5))\n",
        "    model.add(layers.Dense(4, activation='softmax'))\n",
        "    \n",
        "    return model"
      ],
      "execution_count": 24,
      "outputs": []
    },
    {
      "cell_type": "code",
      "metadata": {
        "colab": {
          "base_uri": "https://localhost:8080/"
        },
        "id": "xlr0g3i5km--",
        "outputId": "2aabca53-3a27-4e92-a8e3-47977c1985d9"
      },
      "source": [
        "model = initialize_model()\n",
        "\n",
        "model.summary()"
      ],
      "execution_count": 25,
      "outputs": [
        {
          "output_type": "stream",
          "text": [
            "Model: \"sequential_1\"\n",
            "_________________________________________________________________\n",
            "Layer (type)                 Output Shape              Param #   \n",
            "=================================================================\n",
            "conv2d_3 (Conv2D)            (None, 256, 256, 32)      896       \n",
            "_________________________________________________________________\n",
            "max_pooling2d_3 (MaxPooling2 (None, 128, 128, 32)      0         \n",
            "_________________________________________________________________\n",
            "conv2d_4 (Conv2D)            (None, 128, 128, 64)      8256      \n",
            "_________________________________________________________________\n",
            "max_pooling2d_4 (MaxPooling2 (None, 64, 64, 64)        0         \n",
            "_________________________________________________________________\n",
            "conv2d_5 (Conv2D)            (None, 64, 64, 128)       73856     \n",
            "_________________________________________________________________\n",
            "max_pooling2d_5 (MaxPooling2 (None, 21, 21, 128)       0         \n",
            "_________________________________________________________________\n",
            "flatten_1 (Flatten)          (None, 56448)             0         \n",
            "_________________________________________________________________\n",
            "dense_3 (Dense)              (None, 120)               6773880   \n",
            "_________________________________________________________________\n",
            "dense_4 (Dense)              (None, 60)                7260      \n",
            "_________________________________________________________________\n",
            "dropout_1 (Dropout)          (None, 60)                0         \n",
            "_________________________________________________________________\n",
            "dense_5 (Dense)              (None, 4)                 244       \n",
            "=================================================================\n",
            "Total params: 6,864,392\n",
            "Trainable params: 6,864,392\n",
            "Non-trainable params: 0\n",
            "_________________________________________________________________\n"
          ],
          "name": "stdout"
        }
      ]
    },
    {
      "cell_type": "code",
      "metadata": {
        "id": "t-DCxquLkrc-"
      },
      "source": [
        "from tensorflow.keras import optimizers\n",
        "\n",
        "def compile_model(model):\n",
        "    model.compile(loss=tf.losses.SparseCategoricalCrossentropy(from_logits=True),\n",
        "                  optimizer='adam',\n",
        "                  metrics=['accuracy'])\n",
        "    return model"
      ],
      "execution_count": 26,
      "outputs": []
    },
    {
      "cell_type": "code",
      "metadata": {
        "id": "0B-TrMfBVxPL"
      },
      "source": [
        "from tensorflow.keras.callbacks import EarlyStopping\n",
        "es = EarlyStopping(patience=5, restore_best_weights=True)"
      ],
      "execution_count": 27,
      "outputs": []
    },
    {
      "cell_type": "code",
      "metadata": {
        "id": "fEIZq1yplCHa"
      },
      "source": [
        "model = compile_model(model)"
      ],
      "execution_count": 28,
      "outputs": []
    },
    {
      "cell_type": "code",
      "metadata": {
        "colab": {
          "base_uri": "https://localhost:8080/"
        },
        "id": "W7QEj_B0XAx0",
        "outputId": "674592a3-9459-45b7-da08-6963fce4a9ad"
      },
      "source": [
        "history = model.fit(normalized_train_ds,\n",
        "          batch_size=32,\n",
        "          epochs=100, validation_data=normalized_val_ds, callbacks=[es])"
      ],
      "execution_count": 29,
      "outputs": [
        {
          "output_type": "stream",
          "text": [
            "Epoch 1/100\n",
            "133/133 [==============================] - 1295s 10s/step - loss: 1.1017 - accuracy: 0.5238 - val_loss: 0.5388 - val_accuracy: 0.7808\n",
            "Epoch 2/100\n",
            "133/133 [==============================] - 59s 429ms/step - loss: 0.5674 - accuracy: 0.7571 - val_loss: 0.5854 - val_accuracy: 0.7752\n",
            "Epoch 3/100\n",
            "133/133 [==============================] - 59s 425ms/step - loss: 0.5113 - accuracy: 0.7847 - val_loss: 0.5626 - val_accuracy: 0.7686\n",
            "Epoch 4/100\n",
            "133/133 [==============================] - 58s 423ms/step - loss: 0.4770 - accuracy: 0.7998 - val_loss: 0.5125 - val_accuracy: 0.8053\n",
            "Epoch 5/100\n",
            "133/133 [==============================] - 59s 426ms/step - loss: 0.4206 - accuracy: 0.8127 - val_loss: 0.5715 - val_accuracy: 0.7808\n",
            "Epoch 6/100\n",
            "133/133 [==============================] - 59s 425ms/step - loss: 0.3956 - accuracy: 0.8399 - val_loss: 0.5442 - val_accuracy: 0.7968\n",
            "Epoch 7/100\n",
            "133/133 [==============================] - 59s 429ms/step - loss: 0.3563 - accuracy: 0.8417 - val_loss: 0.5859 - val_accuracy: 0.7949\n",
            "Epoch 8/100\n",
            "133/133 [==============================] - 59s 426ms/step - loss: 0.3441 - accuracy: 0.8548 - val_loss: 0.6027 - val_accuracy: 0.7921\n",
            "Epoch 9/100\n",
            "133/133 [==============================] - 58s 424ms/step - loss: 0.3155 - accuracy: 0.8583 - val_loss: 0.7513 - val_accuracy: 0.7846\n"
          ],
          "name": "stdout"
        }
      ]
    },
    {
      "cell_type": "code",
      "metadata": {
        "id": "hcZsSx4EN8HR"
      },
      "source": [
        "def plot_history(history, title='', axs=None, exp_name=\"\"):\n",
        "    if axs is not None:\n",
        "        ax1, ax2 = axs\n",
        "    else:\n",
        "        f, (ax1, ax2) = plt.subplots(1, 2, figsize=(12, 4))\n",
        "    \n",
        "    if len(exp_name) > 0 and exp_name[0] != '_':\n",
        "        exp_name = '_' + exp_name\n",
        "    ax1.plot(history.history['loss'], label='train' + exp_name)\n",
        "    ax1.plot(history.history['val_loss'], label='val' + exp_name)\n",
        "    ax1.set_ylim(0., 2.2)\n",
        "    ax1.set_title('loss')\n",
        "    ax1.legend()\n",
        "\n",
        "    ax2.plot(history.history['accuracy'], label='train accuracy'  + exp_name)\n",
        "    ax2.plot(history.history['val_accuracy'], label='val accuracy'  + exp_name)\n",
        "    ax2.set_ylim(0.25, 1.)\n",
        "    ax2.set_title('Accuracy')\n",
        "    ax2.legend()\n",
        "    return (ax1, ax2)"
      ],
      "execution_count": 30,
      "outputs": []
    },
    {
      "cell_type": "code",
      "metadata": {
        "id": "PuEOTfSbtxxd"
      },
      "source": [
        "import matplotlib.pyplot as plt"
      ],
      "execution_count": 32,
      "outputs": []
    },
    {
      "cell_type": "code",
      "metadata": {
        "id": "RVxc0PgnN-9R",
        "colab": {
          "base_uri": "https://localhost:8080/",
          "height": 281
        },
        "outputId": "a8a9ab61-2ce3-417e-904a-42a7df009516"
      },
      "source": [
        "plot_history(history)\n",
        "plt.show()"
      ],
      "execution_count": 33,
      "outputs": [
        {
          "output_type": "display_data",
          "data": {
            "image/png": "[encoded data removed]",
            "text/plain": [
              "<Figure size 864x288 with 2 Axes>"
            ]
          },
          "metadata": {
            "tags": [],
            "needs_background": "light"
          }
        }
      ]
    },
    {
      "cell_type": "code",
      "metadata": {
        "id": "in5ykHu0R48C"
      },
      "source": [
        "from tensorflow.keras import models\n",
        "\n",
        "# Let's say that you have a `model`\n",
        "# You can save it :\n",
        "models.save_model(model, '/content/drive/MyDrive/models/my_model')"
      ],
      "execution_count": null,
      "outputs": []
    },
    {
      "cell_type": "code",
      "metadata": {
        "id": "Nkoh1GI5YttW"
      },
      "source": [
        "# and you can load it somewhere else :\n",
        "#loaded_model = models.load_model('my_model')"
      ],
      "execution_count": null,
      "outputs": []
    },
    {
      "cell_type": "code",
      "metadata": {
        "id": "wY8oTWwLRQud"
      },
      "source": [
        "#res = model.evaluate(X_test, y_test, verbose=0)\n",
        "\n",
        "#print(f'The accuracy is of {res[1]*100:.3f}% compared to a chance level of {1./len(labels)*100} %')"
      ],
      "execution_count": null,
      "outputs": []
    }
  ]
}